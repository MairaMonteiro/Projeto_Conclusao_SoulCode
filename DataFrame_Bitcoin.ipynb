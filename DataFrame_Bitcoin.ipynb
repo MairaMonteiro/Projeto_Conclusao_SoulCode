{
  "nbformat": 4,
  "nbformat_minor": 0,
  "metadata": {
    "colab": {
      "name": "ProjetoFinal_Grupo02_Bitcoin.ipynb",
      "provenance": [],
      "collapsed_sections": [],
      "include_colab_link": true
    },
    "kernelspec": {
      "display_name": "Python 3",
      "name": "python3"
    },
    "language_info": {
      "name": "python"
    }
  },
  "cells": [
    {
      "cell_type": "markdown",
      "metadata": {
        "id": "view-in-github",
        "colab_type": "text"
      },
      "source": [
        "<a href=\"https://colab.research.google.com/github/ewertonsilvag/Projeto_Conclusao_SoulCode/blob/main/DataFrame_Bitcoin.ipynb\" target=\"_parent\"><img src=\"https://colab.research.google.com/assets/colab-badge.svg\" alt=\"Open In Colab\"/></a>"
      ]
    },
    {
      "cell_type": "markdown",
      "metadata": {
        "id": "q5lrdlvt14-1"
      },
      "source": [
        "\n",
        "\n",
        "# **Conexão com o Google Cloud Storage**\n",
        "\n",
        "\n"
      ]
    },
    {
      "cell_type": "code",
      "metadata": {
        "id": "sacnOec5dqvC"
      },
      "source": [
        "#Importação de biblioteca para autenticar conexão com GCP e criação de variáveis\n",
        "from google.colab import auth\n",
        "\n",
        "project_id = 'projeto-grupo2-economia'\n",
        "bucket_name = 'economia-dados-g2'\n",
        "\n",
        "auth.authenticate_user()"
      ],
      "execution_count": null,
      "outputs": []
    },
    {
      "cell_type": "code",
      "metadata": {
        "colab": {
          "base_uri": "https://localhost:8080/"
        },
        "id": "uwmrlu3nducK",
        "outputId": "b59358d9-c402-49f4-eaba-c36d0809c0d8"
      },
      "source": [
        "!gcloud config set project {project_id}"
      ],
      "execution_count": null,
      "outputs": [
        {
          "output_type": "stream",
          "name": "stdout",
          "text": [
            "Updated property [core/project].\n"
          ]
        }
      ]
    },
    {
      "cell_type": "code",
      "metadata": {
        "id": "pR84qF452kTT",
        "colab": {
          "base_uri": "https://localhost:8080/"
        },
        "outputId": "943f2eb4-fc4e-42c8-9dbb-384c20330a7d"
      },
      "source": [
        "#Enviando os dados brutos para o Bucket\n",
        "\n",
        "#!gsutil cp /content/drive/MyDrive/Economia/bitcoin.json gs://{bucket_name}/entrada/"
      ],
      "execution_count": null,
      "outputs": [
        {
          "output_type": "stream",
          "name": "stdout",
          "text": [
            "Copying file:///content/drive/MyDrive/Economia/bitcoin.json [Content-Type=application/json]...\n",
            "/ [1 files][986.6 KiB/986.6 KiB]                                                \n",
            "Operation completed over 1 objects/986.6 KiB.                                    \n"
          ]
        }
      ]
    },
    {
      "cell_type": "code",
      "metadata": {
        "colab": {
          "base_uri": "https://localhost:8080/"
        },
        "id": "U8xpEqsT2nR0",
        "outputId": "09de0238-12e4-46a7-9c8c-a13dc675a029"
      },
      "source": [
        "#Download dos dados parea área de trabalho local \n",
        "!gsutil cp gs://{bucket_name}/entrada/bitcoin.json /content/"
      ],
      "execution_count": null,
      "outputs": [
        {
          "output_type": "stream",
          "name": "stdout",
          "text": [
            "Copying gs://economia-dados-g2/entrada/bitcoin.json...\n",
            "/ [1 files][986.6 KiB/986.6 KiB]                                                \n",
            "Operation completed over 1 objects/986.6 KiB.                                    \n"
          ]
        }
      ]
    },
    {
      "cell_type": "markdown",
      "metadata": {
        "id": "OFdN7WTI1l0F"
      },
      "source": [
        "# **Pandas**"
      ]
    },
    {
      "cell_type": "markdown",
      "metadata": {
        "id": "zwcMFN3n2qeX"
      },
      "source": [
        "## Importação de bibliotecas"
      ]
    },
    {
      "cell_type": "code",
      "metadata": {
        "id": "tDP9oXcA1kJE"
      },
      "source": [
        "import pandas as pd"
      ],
      "execution_count": null,
      "outputs": []
    },
    {
      "cell_type": "markdown",
      "metadata": {
        "id": "wPRpFer722gS"
      },
      "source": [
        ""
      ]
    },
    {
      "cell_type": "code",
      "metadata": {
        "colab": {
          "base_uri": "https://localhost:8080/"
        },
        "id": "aSMSZdK22lL_",
        "outputId": "f93f597d-689e-4756-c4af-c15f3d2326a1"
      },
      "source": [
        "#Abrindo o arquivo json\n",
        "df = pd.read_json(\"/content/bitcoin.json\")\n",
        "df"
      ],
      "execution_count": null,
      "outputs": [
        {
          "output_type": "execute_result",
          "data": {
            "text/html": [
              "<div>\n",
              "<style scoped>\n",
              "    .dataframe tbody tr th:only-of-type {\n",
              "        vertical-align: middle;\n",
              "    }\n",
              "\n",
              "    .dataframe tbody tr th {\n",
              "        vertical-align: top;\n",
              "    }\n",
              "\n",
              "    .dataframe thead th {\n",
              "        text-align: right;\n",
              "    }\n",
              "</style>\n",
              "<table border=\"1\" class=\"dataframe\">\n",
              "  <thead>\n",
              "    <tr style=\"text-align: right;\">\n",
              "      <th></th>\n",
              "      <th>SNo</th>\n",
              "      <th>Name</th>\n",
              "      <th>Symbol</th>\n",
              "      <th>Date</th>\n",
              "      <th>High</th>\n",
              "      <th>Low</th>\n",
              "      <th>Open</th>\n",
              "      <th>Close</th>\n",
              "      <th>Volume</th>\n",
              "      <th>Marketcap</th>\n",
              "    </tr>\n",
              "  </thead>\n",
              "  <tbody>\n",
              "    <tr>\n",
              "      <th>0</th>\n",
              "      <td>1</td>\n",
              "      <td>Bitcoin</td>\n",
              "      <td>BTC</td>\n",
              "      <td>2013-04-29 23:59:59</td>\n",
              "      <td>147.488007</td>\n",
              "      <td>134.000000</td>\n",
              "      <td>134.444000</td>\n",
              "      <td>144.539993</td>\n",
              "      <td>0.000000e+00</td>\n",
              "      <td>1.603769e+09</td>\n",
              "    </tr>\n",
              "    <tr>\n",
              "      <th>1</th>\n",
              "      <td>2</td>\n",
              "      <td>Bitcoin</td>\n",
              "      <td>BTC</td>\n",
              "      <td>2013-04-30 23:59:59</td>\n",
              "      <td>146.929993</td>\n",
              "      <td>134.050003</td>\n",
              "      <td>144.000000</td>\n",
              "      <td>139.000000</td>\n",
              "      <td>0.000000e+00</td>\n",
              "      <td>1.542813e+09</td>\n",
              "    </tr>\n",
              "    <tr>\n",
              "      <th>2</th>\n",
              "      <td>3</td>\n",
              "      <td>Bitcoin</td>\n",
              "      <td>BTC</td>\n",
              "      <td>2013-05-01 23:59:59</td>\n",
              "      <td>139.889999</td>\n",
              "      <td>107.720001</td>\n",
              "      <td>139.000000</td>\n",
              "      <td>116.989998</td>\n",
              "      <td>0.000000e+00</td>\n",
              "      <td>1.298955e+09</td>\n",
              "    </tr>\n",
              "    <tr>\n",
              "      <th>3</th>\n",
              "      <td>4</td>\n",
              "      <td>Bitcoin</td>\n",
              "      <td>BTC</td>\n",
              "      <td>2013-05-02 23:59:59</td>\n",
              "      <td>125.599998</td>\n",
              "      <td>92.281898</td>\n",
              "      <td>116.379997</td>\n",
              "      <td>105.209999</td>\n",
              "      <td>0.000000e+00</td>\n",
              "      <td>1.168517e+09</td>\n",
              "    </tr>\n",
              "    <tr>\n",
              "      <th>4</th>\n",
              "      <td>5</td>\n",
              "      <td>Bitcoin</td>\n",
              "      <td>BTC</td>\n",
              "      <td>2013-05-03 23:59:59</td>\n",
              "      <td>108.127998</td>\n",
              "      <td>79.099998</td>\n",
              "      <td>106.250000</td>\n",
              "      <td>97.750000</td>\n",
              "      <td>0.000000e+00</td>\n",
              "      <td>1.085995e+09</td>\n",
              "    </tr>\n",
              "    <tr>\n",
              "      <th>...</th>\n",
              "      <td>...</td>\n",
              "      <td>...</td>\n",
              "      <td>...</td>\n",
              "      <td>...</td>\n",
              "      <td>...</td>\n",
              "      <td>...</td>\n",
              "      <td>...</td>\n",
              "      <td>...</td>\n",
              "      <td>...</td>\n",
              "      <td>...</td>\n",
              "    </tr>\n",
              "    <tr>\n",
              "      <th>2986</th>\n",
              "      <td>2987</td>\n",
              "      <td>Bitcoin</td>\n",
              "      <td>BTC</td>\n",
              "      <td>2021-07-02 23:59:59</td>\n",
              "      <td>33939.588699</td>\n",
              "      <td>32770.680780</td>\n",
              "      <td>33549.600177</td>\n",
              "      <td>33897.048590</td>\n",
              "      <td>3.872897e+10</td>\n",
              "      <td>6.354508e+11</td>\n",
              "    </tr>\n",
              "    <tr>\n",
              "      <th>2987</th>\n",
              "      <td>2988</td>\n",
              "      <td>Bitcoin</td>\n",
              "      <td>BTC</td>\n",
              "      <td>2021-07-03 23:59:59</td>\n",
              "      <td>34909.259899</td>\n",
              "      <td>33402.696536</td>\n",
              "      <td>33854.421362</td>\n",
              "      <td>34668.548402</td>\n",
              "      <td>2.438396e+10</td>\n",
              "      <td>6.499397e+11</td>\n",
              "    </tr>\n",
              "    <tr>\n",
              "      <th>2988</th>\n",
              "      <td>2989</td>\n",
              "      <td>Bitcoin</td>\n",
              "      <td>BTC</td>\n",
              "      <td>2021-07-04 23:59:59</td>\n",
              "      <td>35937.567147</td>\n",
              "      <td>34396.477458</td>\n",
              "      <td>34665.564866</td>\n",
              "      <td>35287.779766</td>\n",
              "      <td>2.492431e+10</td>\n",
              "      <td>6.615748e+11</td>\n",
              "    </tr>\n",
              "    <tr>\n",
              "      <th>2989</th>\n",
              "      <td>2990</td>\n",
              "      <td>Bitcoin</td>\n",
              "      <td>BTC</td>\n",
              "      <td>2021-07-05 23:59:59</td>\n",
              "      <td>35284.344430</td>\n",
              "      <td>33213.661034</td>\n",
              "      <td>35284.344430</td>\n",
              "      <td>33746.002456</td>\n",
              "      <td>2.672155e+10</td>\n",
              "      <td>6.326962e+11</td>\n",
              "    </tr>\n",
              "    <tr>\n",
              "      <th>2990</th>\n",
              "      <td>2991</td>\n",
              "      <td>Bitcoin</td>\n",
              "      <td>BTC</td>\n",
              "      <td>2021-07-06 23:59:59</td>\n",
              "      <td>35038.536363</td>\n",
              "      <td>33599.916169</td>\n",
              "      <td>33723.509655</td>\n",
              "      <td>34235.193451</td>\n",
              "      <td>2.650126e+10</td>\n",
              "      <td>6.418992e+11</td>\n",
              "    </tr>\n",
              "  </tbody>\n",
              "</table>\n",
              "<p>2991 rows × 10 columns</p>\n",
              "</div>"
            ],
            "text/plain": [
              "       SNo     Name Symbol  ...         Close        Volume     Marketcap\n",
              "0        1  Bitcoin    BTC  ...    144.539993  0.000000e+00  1.603769e+09\n",
              "1        2  Bitcoin    BTC  ...    139.000000  0.000000e+00  1.542813e+09\n",
              "2        3  Bitcoin    BTC  ...    116.989998  0.000000e+00  1.298955e+09\n",
              "3        4  Bitcoin    BTC  ...    105.209999  0.000000e+00  1.168517e+09\n",
              "4        5  Bitcoin    BTC  ...     97.750000  0.000000e+00  1.085995e+09\n",
              "...    ...      ...    ...  ...           ...           ...           ...\n",
              "2986  2987  Bitcoin    BTC  ...  33897.048590  3.872897e+10  6.354508e+11\n",
              "2987  2988  Bitcoin    BTC  ...  34668.548402  2.438396e+10  6.499397e+11\n",
              "2988  2989  Bitcoin    BTC  ...  35287.779766  2.492431e+10  6.615748e+11\n",
              "2989  2990  Bitcoin    BTC  ...  33746.002456  2.672155e+10  6.326962e+11\n",
              "2990  2991  Bitcoin    BTC  ...  34235.193451  2.650126e+10  6.418992e+11\n",
              "\n",
              "[2991 rows x 10 columns]"
            ]
          },
          "metadata": {},
          "execution_count": 8
        }
      ]
    },
    {
      "cell_type": "markdown",
      "metadata": {
        "id": "hD1VqR2d7dfc"
      },
      "source": [
        "## Limpeza e Tratamento de Dados"
      ]
    },
    {
      "cell_type": "code",
      "metadata": {
        "colab": {
          "base_uri": "https://localhost:8080/"
        },
        "id": "oxxnrVBu2j7D",
        "outputId": "c9d8e3f4-25f3-42d1-bf1a-6434f0a6dc99"
      },
      "source": [
        "df.dtypes"
      ],
      "execution_count": null,
      "outputs": [
        {
          "output_type": "execute_result",
          "data": {
            "text/plain": [
              "SNo                   int64\n",
              "Name                 object\n",
              "Symbol               object\n",
              "Date         datetime64[ns]\n",
              "High                float64\n",
              "Low                 float64\n",
              "Open                float64\n",
              "Close               float64\n",
              "Volume              float64\n",
              "Marketcap           float64\n",
              "dtype: object"
            ]
          },
          "metadata": {},
          "execution_count": 9
        }
      ]
    },
    {
      "cell_type": "code",
      "metadata": {
        "id": "R-zMQ6tf3V0b"
      },
      "source": [
        "#Tradução dos nomes de colunas para o português\n",
        "#Comentário - 01\n",
        "\n",
        "df.rename(columns={\n",
        "    'SNo':'Id',\n",
        "    'Symbol':'Sigla',\n",
        "    'Date':'Data',\n",
        "    'Name':'Moeda',\n",
        "    'Open':'Preco_Abertura',\n",
        "    'Close':'Preco_Fechamento',\n",
        "    'Low':'Menor_Preco',\n",
        "    'High':'Maior_Preco',\n",
        "    'Volume':'Volume',\n",
        "    'Marketcap':'Capitalizacao_Mercado'\n",
        "}, inplace=True)"
      ],
      "execution_count": null,
      "outputs": []
    },
    {
      "cell_type": "code",
      "metadata": {
        "colab": {
          "base_uri": "https://localhost:8080/"
        },
        "id": "rc3qtzMGLqPD",
        "outputId": "b9b0a940-81ed-4784-e849-597f5a5fabea"
      },
      "source": [
        "#Verificação de \"Null\"\n",
        "df.isnull().sum()"
      ],
      "execution_count": null,
      "outputs": [
        {
          "output_type": "execute_result",
          "data": {
            "text/plain": [
              "Id                       0\n",
              "Moeda                    0\n",
              "Sigla                    0\n",
              "Data                     0\n",
              "Maior_Preco              0\n",
              "Menor_Preco              0\n",
              "Preco_Abertura           0\n",
              "Preco_Fechamento         0\n",
              "Volume                   0\n",
              "Capitalizacao_Mercado    0\n",
              "dtype: int64"
            ]
          },
          "metadata": {},
          "execution_count": 11
        }
      ]
    },
    {
      "cell_type": "code",
      "metadata": {
        "colab": {
          "base_uri": "https://localhost:8080/"
        },
        "id": "dZ43HXIPORUR",
        "outputId": "7d3fce5a-dc18-4150-95b8-347d16aaea10"
      },
      "source": [
        "#Verificação de \"Na\"\n",
        "df.isna().sum()"
      ],
      "execution_count": null,
      "outputs": [
        {
          "output_type": "execute_result",
          "data": {
            "text/plain": [
              "Id                       0\n",
              "Moeda                    0\n",
              "Sigla                    0\n",
              "Data                     0\n",
              "Maior_Preco              0\n",
              "Menor_Preco              0\n",
              "Preco_Abertura           0\n",
              "Preco_Fechamento         0\n",
              "Volume                   0\n",
              "Capitalizacao_Mercado    0\n",
              "dtype: int64"
            ]
          },
          "metadata": {},
          "execution_count": 12
        }
      ]
    },
    {
      "cell_type": "code",
      "metadata": {
        "id": "9heNMeEwUHYW"
      },
      "source": [
        "#Retirando as horas, normalizando a data \n",
        "\n",
        "df['Data'] = pd.to_datetime(df['Data']).dt.normalize()"
      ],
      "execution_count": null,
      "outputs": []
    },
    {
      "cell_type": "code",
      "metadata": {
        "colab": {
          "base_uri": "https://localhost:8080/"
        },
        "id": "SK39YfQQMqP7",
        "outputId": "35b73d94-9f9f-4fcc-97d1-d2bfa993ec50"
      },
      "source": [
        "#Formatar Float para exibir apenas duas casa depois da vírgula\n",
        "#Comentário -02\n",
        "\n",
        "pd.options.display.float_format = '{:,.2f}'.format\n",
        "df"
      ],
      "execution_count": null,
      "outputs": [
        {
          "output_type": "execute_result",
          "data": {
            "text/html": [
              "<div>\n",
              "<style scoped>\n",
              "    .dataframe tbody tr th:only-of-type {\n",
              "        vertical-align: middle;\n",
              "    }\n",
              "\n",
              "    .dataframe tbody tr th {\n",
              "        vertical-align: top;\n",
              "    }\n",
              "\n",
              "    .dataframe thead th {\n",
              "        text-align: right;\n",
              "    }\n",
              "</style>\n",
              "<table border=\"1\" class=\"dataframe\">\n",
              "  <thead>\n",
              "    <tr style=\"text-align: right;\">\n",
              "      <th></th>\n",
              "      <th>Id</th>\n",
              "      <th>Moeda</th>\n",
              "      <th>Sigla</th>\n",
              "      <th>Data</th>\n",
              "      <th>Maior_Preco</th>\n",
              "      <th>Menor_Preco</th>\n",
              "      <th>Preco_Abertura</th>\n",
              "      <th>Preco_Fechamento</th>\n",
              "      <th>Volume</th>\n",
              "      <th>Capitalizacao_Mercado</th>\n",
              "    </tr>\n",
              "  </thead>\n",
              "  <tbody>\n",
              "    <tr>\n",
              "      <th>0</th>\n",
              "      <td>1</td>\n",
              "      <td>Bitcoin</td>\n",
              "      <td>BTC</td>\n",
              "      <td>2013-04-29</td>\n",
              "      <td>147.49</td>\n",
              "      <td>134.00</td>\n",
              "      <td>134.44</td>\n",
              "      <td>144.54</td>\n",
              "      <td>0.00</td>\n",
              "      <td>1,603,768,864.50</td>\n",
              "    </tr>\n",
              "    <tr>\n",
              "      <th>1</th>\n",
              "      <td>2</td>\n",
              "      <td>Bitcoin</td>\n",
              "      <td>BTC</td>\n",
              "      <td>2013-04-30</td>\n",
              "      <td>146.93</td>\n",
              "      <td>134.05</td>\n",
              "      <td>144.00</td>\n",
              "      <td>139.00</td>\n",
              "      <td>0.00</td>\n",
              "      <td>1,542,813,125.00</td>\n",
              "    </tr>\n",
              "    <tr>\n",
              "      <th>2</th>\n",
              "      <td>3</td>\n",
              "      <td>Bitcoin</td>\n",
              "      <td>BTC</td>\n",
              "      <td>2013-05-01</td>\n",
              "      <td>139.89</td>\n",
              "      <td>107.72</td>\n",
              "      <td>139.00</td>\n",
              "      <td>116.99</td>\n",
              "      <td>0.00</td>\n",
              "      <td>1,298,954,593.75</td>\n",
              "    </tr>\n",
              "    <tr>\n",
              "      <th>3</th>\n",
              "      <td>4</td>\n",
              "      <td>Bitcoin</td>\n",
              "      <td>BTC</td>\n",
              "      <td>2013-05-02</td>\n",
              "      <td>125.60</td>\n",
              "      <td>92.28</td>\n",
              "      <td>116.38</td>\n",
              "      <td>105.21</td>\n",
              "      <td>0.00</td>\n",
              "      <td>1,168,517,495.25</td>\n",
              "    </tr>\n",
              "    <tr>\n",
              "      <th>4</th>\n",
              "      <td>5</td>\n",
              "      <td>Bitcoin</td>\n",
              "      <td>BTC</td>\n",
              "      <td>2013-05-03</td>\n",
              "      <td>108.13</td>\n",
              "      <td>79.10</td>\n",
              "      <td>106.25</td>\n",
              "      <td>97.75</td>\n",
              "      <td>0.00</td>\n",
              "      <td>1,085,995,168.75</td>\n",
              "    </tr>\n",
              "    <tr>\n",
              "      <th>...</th>\n",
              "      <td>...</td>\n",
              "      <td>...</td>\n",
              "      <td>...</td>\n",
              "      <td>...</td>\n",
              "      <td>...</td>\n",
              "      <td>...</td>\n",
              "      <td>...</td>\n",
              "      <td>...</td>\n",
              "      <td>...</td>\n",
              "      <td>...</td>\n",
              "    </tr>\n",
              "    <tr>\n",
              "      <th>2986</th>\n",
              "      <td>2987</td>\n",
              "      <td>Bitcoin</td>\n",
              "      <td>BTC</td>\n",
              "      <td>2021-07-02</td>\n",
              "      <td>33,939.59</td>\n",
              "      <td>32,770.68</td>\n",
              "      <td>33,549.60</td>\n",
              "      <td>33,897.05</td>\n",
              "      <td>38,728,974,942.25</td>\n",
              "      <td>635,450,784,106.09</td>\n",
              "    </tr>\n",
              "    <tr>\n",
              "      <th>2987</th>\n",
              "      <td>2988</td>\n",
              "      <td>Bitcoin</td>\n",
              "      <td>BTC</td>\n",
              "      <td>2021-07-03</td>\n",
              "      <td>34,909.26</td>\n",
              "      <td>33,402.70</td>\n",
              "      <td>33,854.42</td>\n",
              "      <td>34,668.55</td>\n",
              "      <td>24,383,958,643.26</td>\n",
              "      <td>649,939,701,346.23</td>\n",
              "    </tr>\n",
              "    <tr>\n",
              "      <th>2988</th>\n",
              "      <td>2989</td>\n",
              "      <td>Bitcoin</td>\n",
              "      <td>BTC</td>\n",
              "      <td>2021-07-04</td>\n",
              "      <td>35,937.57</td>\n",
              "      <td>34,396.48</td>\n",
              "      <td>34,665.56</td>\n",
              "      <td>35,287.78</td>\n",
              "      <td>24,924,307,911.11</td>\n",
              "      <td>661,574,836,314.86</td>\n",
              "    </tr>\n",
              "    <tr>\n",
              "      <th>2989</th>\n",
              "      <td>2990</td>\n",
              "      <td>Bitcoin</td>\n",
              "      <td>BTC</td>\n",
              "      <td>2021-07-05</td>\n",
              "      <td>35,284.34</td>\n",
              "      <td>33,213.66</td>\n",
              "      <td>35,284.34</td>\n",
              "      <td>33,746.00</td>\n",
              "      <td>26,721,554,282.07</td>\n",
              "      <td>632,696,207,199.70</td>\n",
              "    </tr>\n",
              "    <tr>\n",
              "      <th>2990</th>\n",
              "      <td>2991</td>\n",
              "      <td>Bitcoin</td>\n",
              "      <td>BTC</td>\n",
              "      <td>2021-07-06</td>\n",
              "      <td>35,038.54</td>\n",
              "      <td>33,599.92</td>\n",
              "      <td>33,723.51</td>\n",
              "      <td>34,235.19</td>\n",
              "      <td>26,501,259,869.76</td>\n",
              "      <td>641,899,161,593.76</td>\n",
              "    </tr>\n",
              "  </tbody>\n",
              "</table>\n",
              "<p>2991 rows × 10 columns</p>\n",
              "</div>"
            ],
            "text/plain": [
              "        Id    Moeda  ...            Volume Capitalizacao_Mercado\n",
              "0        1  Bitcoin  ...              0.00      1,603,768,864.50\n",
              "1        2  Bitcoin  ...              0.00      1,542,813,125.00\n",
              "2        3  Bitcoin  ...              0.00      1,298,954,593.75\n",
              "3        4  Bitcoin  ...              0.00      1,168,517,495.25\n",
              "4        5  Bitcoin  ...              0.00      1,085,995,168.75\n",
              "...    ...      ...  ...               ...                   ...\n",
              "2986  2987  Bitcoin  ... 38,728,974,942.25    635,450,784,106.09\n",
              "2987  2988  Bitcoin  ... 24,383,958,643.26    649,939,701,346.23\n",
              "2988  2989  Bitcoin  ... 24,924,307,911.11    661,574,836,314.86\n",
              "2989  2990  Bitcoin  ... 26,721,554,282.07    632,696,207,199.70\n",
              "2990  2991  Bitcoin  ... 26,501,259,869.76    641,899,161,593.76\n",
              "\n",
              "[2991 rows x 10 columns]"
            ]
          },
          "metadata": {},
          "execution_count": 14
        }
      ]
    },
    {
      "cell_type": "code",
      "metadata": {
        "id": "hJVg9BfHNpCe",
        "colab": {
          "base_uri": "https://localhost:8080/"
        },
        "outputId": "be31c80e-73d5-4c90-aa55-59d4d45291ea"
      },
      "source": [
        "df.dtypes"
      ],
      "execution_count": null,
      "outputs": [
        {
          "output_type": "execute_result",
          "data": {
            "text/plain": [
              "Id                                int64\n",
              "Moeda                            object\n",
              "Sigla                            object\n",
              "Data                     datetime64[ns]\n",
              "Maior_Preco                     float64\n",
              "Menor_Preco                     float64\n",
              "Preco_Abertura                  float64\n",
              "Preco_Fechamento                float64\n",
              "Volume                          float64\n",
              "Capitalizacao_Mercado           float64\n",
              "dtype: object"
            ]
          },
          "metadata": {},
          "execution_count": 15
        }
      ]
    },
    {
      "cell_type": "markdown",
      "metadata": {
        "id": "BJT7-p5RC5SN"
      },
      "source": [
        "##Plotagem"
      ]
    },
    {
      "cell_type": "markdown",
      "metadata": {
        "id": "UyV28nABCTXg"
      },
      "source": [
        "### Criando minidataframe para plotagem 1 (Preço Fechamento mar de 2018)"
      ]
    },
    {
      "cell_type": "code",
      "metadata": {
        "id": "wfe54gfu2jRJ"
      },
      "source": [
        "colunas_plotagem1 = ['Data','Preco_Fechamento']"
      ],
      "execution_count": null,
      "outputs": []
    },
    {
      "cell_type": "code",
      "metadata": {
        "id": "jUBH75Go-6hR"
      },
      "source": [
        "df2=df.filter(items=colunas_plotagem1)"
      ],
      "execution_count": null,
      "outputs": []
    },
    {
      "cell_type": "code",
      "metadata": {
        "id": "dOg84l51-_YS"
      },
      "source": [
        "df3 = df2.query(\"Data >= '2018-03-01' & Data <= '2018-03-31'\")"
      ],
      "execution_count": null,
      "outputs": []
    },
    {
      "cell_type": "markdown",
      "metadata": {
        "id": "S1_yg9yQIfu-"
      },
      "source": [
        "### Criando minidataframe para plotagem 2 (Preço Fechamento mar de 2019)"
      ]
    },
    {
      "cell_type": "code",
      "metadata": {
        "id": "TIw4H49VIwO7"
      },
      "source": [
        "colunas_plotagem2 = ['Data','Preco_Fechamento']"
      ],
      "execution_count": null,
      "outputs": []
    },
    {
      "cell_type": "code",
      "metadata": {
        "id": "Ar48emVSI1In"
      },
      "source": [
        "df4=df.filter(items=colunas_plotagem2)"
      ],
      "execution_count": null,
      "outputs": []
    },
    {
      "cell_type": "code",
      "metadata": {
        "id": "A7A2jElsI50j"
      },
      "source": [
        "df5 = df4.query(\"Data >= '2019-03-01' & Data <= '2019-03-31'\")"
      ],
      "execution_count": null,
      "outputs": []
    },
    {
      "cell_type": "markdown",
      "metadata": {
        "id": "NnmKWv1dd8x6"
      },
      "source": [
        "### CriandoMinidataframe para plotagem 3 (Preco_Fechamento mar 2020)\n",
        "\n",
        "\n"
      ]
    },
    {
      "cell_type": "code",
      "metadata": {
        "id": "KOX2eaYOeL2O"
      },
      "source": [
        "colunas_plotagem3 = ['Data','Preco_Fechamento']"
      ],
      "execution_count": null,
      "outputs": []
    },
    {
      "cell_type": "code",
      "metadata": {
        "id": "iBg-BGOGeL2P"
      },
      "source": [
        "df6=df.filter(items=colunas_plotagem3)"
      ],
      "execution_count": null,
      "outputs": []
    },
    {
      "cell_type": "code",
      "metadata": {
        "id": "oLZ0u4reeL2P"
      },
      "source": [
        "df7 = df2.query(\"Data >= '2020-03-01' & Data <= '2020-03-31'\")"
      ],
      "execution_count": null,
      "outputs": []
    },
    {
      "cell_type": "markdown",
      "metadata": {
        "id": "TWo9YQyneR46"
      },
      "source": [
        ""
      ]
    },
    {
      "cell_type": "markdown",
      "metadata": {
        "id": "-D8ZXbL8eScu"
      },
      "source": [
        "### CriandoMinidataframe para plotagem 4(Preco_Fechamento mar 2021)"
      ]
    },
    {
      "cell_type": "code",
      "metadata": {
        "id": "vwMIt5QVeScu"
      },
      "source": [
        "colunas_plotagem4 = ['Data','Preco_Fechamento']"
      ],
      "execution_count": null,
      "outputs": []
    },
    {
      "cell_type": "code",
      "metadata": {
        "id": "JTZbmnuieScv"
      },
      "source": [
        "df8=df.filter(items=colunas_plotagem4)"
      ],
      "execution_count": null,
      "outputs": []
    },
    {
      "cell_type": "code",
      "metadata": {
        "id": "AetQO0ZseScv"
      },
      "source": [
        "df9 = df2.query(\"Data >= '2021-03-01' & Data <= '2021-03-31'\")"
      ],
      "execution_count": null,
      "outputs": []
    },
    {
      "cell_type": "markdown",
      "metadata": {
        "id": "R0SpsRgRIKJI"
      },
      "source": [
        "###Plotagens"
      ]
    },
    {
      "cell_type": "code",
      "metadata": {
        "colab": {
          "base_uri": "https://localhost:8080/",
          "height": 277
        },
        "id": "8Hx4NWMdCMte",
        "outputId": "fcfd22ef-8fd3-4878-d4ce-01e3d94ee90f"
      },
      "source": [
        "#Preço de Fechamento do bitcoin no mês de março de 2018\n",
        "df3.plot(x='Data',y='Preco_Fechamento',kind='line',figsize=(10, 3))"
      ],
      "execution_count": null,
      "outputs": [
        {
          "output_type": "execute_result",
          "data": {
            "text/plain": [
              "<matplotlib.axes._subplots.AxesSubplot at 0x7f6e2fe1c690>"
            ]
          },
          "metadata": {},
          "execution_count": 28
        },
        {
          "output_type": "display_data",
          "data": {
            "image/png": "[encoded data removed]",
            "text/plain": [
              "<Figure size 720x216 with 1 Axes>"
            ]
          },
          "metadata": {
            "needs_background": "light"
          }
        }
      ]
    },
    {
      "cell_type": "code",
      "metadata": {
        "colab": {
          "base_uri": "https://localhost:8080/",
          "height": 277
        },
        "id": "10Rw9aioKUHm",
        "outputId": "fb59d614-5f55-4bc4-a6b6-d2abf2560ee4"
      },
      "source": [
        "#Preço de Fechamento do bitcoin no mês de março de 2019\n",
        "df5.plot(x='Data',y='Preco_Fechamento',kind='line',figsize=(10, 3))"
      ],
      "execution_count": null,
      "outputs": [
        {
          "output_type": "execute_result",
          "data": {
            "text/plain": [
              "<matplotlib.axes._subplots.AxesSubplot at 0x7f6e2fe51550>"
            ]
          },
          "metadata": {},
          "execution_count": 29
        },
        {
          "output_type": "display_data",
          "data": {
            "image/png": "[encoded data removed]",
            "text/plain": [
              "<Figure size 720x216 with 1 Axes>"
            ]
          },
          "metadata": {
            "needs_background": "light"
          }
        }
      ]
    },
    {
      "cell_type": "code",
      "metadata": {
        "colab": {
          "base_uri": "https://localhost:8080/",
          "height": 277
        },
        "id": "v9PzZxmKe3TD",
        "outputId": "baa4e387-b89c-402b-99e7-199275538e9d"
      },
      "source": [
        "#Preço de Fechamento do bitcoin no mês de março de 2019\n",
        "df7.plot(x='Data',y='Preco_Fechamento',kind='line',figsize=(10, 3))"
      ],
      "execution_count": null,
      "outputs": [
        {
          "output_type": "execute_result",
          "data": {
            "text/plain": [
              "<matplotlib.axes._subplots.AxesSubplot at 0x7f6e2fdfde90>"
            ]
          },
          "metadata": {},
          "execution_count": 30
        },
        {
          "output_type": "display_data",
          "data": {
            "image/png": "[encoded data removed]",
            "text/plain": [
              "<Figure size 720x216 with 1 Axes>"
            ]
          },
          "metadata": {
            "needs_background": "light"
          }
        }
      ]
    },
    {
      "cell_type": "code",
      "metadata": {
        "colab": {
          "base_uri": "https://localhost:8080/",
          "height": 277
        },
        "id": "DMxgs_9Je4wv",
        "outputId": "58f0f6f0-2398-4f8b-f64a-3733466a9460"
      },
      "source": [
        "#Preço de Fechamento do bitcoin no mês de março de 2019\n",
        "df9.plot(x='Data',y='Preco_Fechamento',kind='line',figsize=(10, 3))"
      ],
      "execution_count": null,
      "outputs": [
        {
          "output_type": "execute_result",
          "data": {
            "text/plain": [
              "<matplotlib.axes._subplots.AxesSubplot at 0x7f6e2fdba550>"
            ]
          },
          "metadata": {},
          "execution_count": 31
        },
        {
          "output_type": "display_data",
          "data": {
            "image/png": "[encoded data removed]",
            "text/plain": [
              "<Figure size 720x216 with 1 Axes>"
            ]
          },
          "metadata": {
            "needs_background": "light"
          }
        }
      ]
    },
    {
      "cell_type": "markdown",
      "metadata": {
        "id": "Tvx4pHwHC9hZ"
      },
      "source": [
        "## Load para Bucket GCP "
      ]
    },
    {
      "cell_type": "code",
      "metadata": {
        "id": "pCpTX7g1P1An"
      },
      "source": [
        "#Transformando os dados em csv para facilitar tratamento dos dados\n",
        "#Comwentário - 03\n",
        "\n",
        "df.to_csv(\"/content/bitcoin_pandas.csv\", index=False)"
      ],
      "execution_count": null,
      "outputs": []
    },
    {
      "cell_type": "code",
      "metadata": {
        "colab": {
          "base_uri": "https://localhost:8080/"
        },
        "id": "wBZ-N5Oo3gOr",
        "outputId": "15e3c560-dea3-42e3-c125-2eaa96f06e34"
      },
      "source": [
        "#Enviando tabela em csv para a cloud\n",
        "!gsutil cp /content/bitcoin_pandas.csv gs://{bucket_name}/saida/dados_pandas/"
      ],
      "execution_count": null,
      "outputs": [
        {
          "output_type": "stream",
          "name": "stdout",
          "text": [
            "Copying file:///content/bitcoin_pandas.csv [Content-Type=text/csv]...\n",
            "/ [1 files][347.1 KiB/347.1 KiB]                                                \n",
            "Operation completed over 1 objects/347.1 KiB.                                    \n"
          ]
        }
      ]
    },
    {
      "cell_type": "markdown",
      "metadata": {
        "id": "6Uqp8ng8YPHw"
      },
      "source": [
        "# **pySpark**"
      ]
    },
    {
      "cell_type": "code",
      "metadata": {
        "colab": {
          "base_uri": "https://localhost:8080/"
        },
        "id": "eI3BdDIeC2jl",
        "outputId": "b0b13bcc-ffe9-4eda-f3aa-1593892384f3"
      },
      "source": [
        "#Download da tabela normalizada com Pandas\n",
        "!gsutil cp gs://{bucket_name}/saida/dados_pandas/bitcoin_pandas.csv /content/dados_pyspark/bitcoin_pandas.csv"
      ],
      "execution_count": null,
      "outputs": [
        {
          "output_type": "stream",
          "name": "stdout",
          "text": [
            "Copying gs://economia-dados-g2/saida/dados_pandas/bitcoin_pandas.csv...\n",
            "/ [0 files][    0.0 B/347.1 KiB]                                                \r/ [1 files][347.1 KiB/347.1 KiB]                                                \r\n",
            "Operation completed over 1 objects/347.1 KiB.                                    \n"
          ]
        }
      ]
    },
    {
      "cell_type": "markdown",
      "metadata": {
        "id": "1qgzsqGl6feb"
      },
      "source": [
        "## Instalação de pySpark e importação de bibliotecas"
      ]
    },
    {
      "cell_type": "code",
      "metadata": {
        "colab": {
          "base_uri": "https://localhost:8080/"
        },
        "id": "OziA_nesHCZS",
        "outputId": "7b5df4e8-54d3-4eb8-ed28-28db50d15a51"
      },
      "source": [
        "pip install pyspark"
      ],
      "execution_count": null,
      "outputs": [
        {
          "output_type": "stream",
          "name": "stdout",
          "text": [
            "Collecting pyspark\n",
            "  Downloading pyspark-3.2.0.tar.gz (281.3 MB)\n",
            "\u001b[K     |████████████████████████████████| 281.3 MB 35 kB/s \n",
            "\u001b[?25hCollecting py4j==0.10.9.2\n",
            "  Downloading py4j-0.10.9.2-py2.py3-none-any.whl (198 kB)\n",
            "\u001b[K     |████████████████████████████████| 198 kB 49.8 MB/s \n",
            "\u001b[?25hBuilding wheels for collected packages: pyspark\n",
            "  Building wheel for pyspark (setup.py) ... \u001b[?25l\u001b[?25hdone\n",
            "  Created wheel for pyspark: filename=pyspark-3.2.0-py2.py3-none-any.whl size=281805912 sha256=71ad8b5af803eafeaeec353255e926b5709f42e36ba0099be75b05ae95249b3d\n",
            "  Stored in directory: /root/.cache/pip/wheels/0b/de/d2/9be5d59d7331c6c2a7c1b6d1a4f463ce107332b1ecd4e80718\n",
            "Successfully built pyspark\n",
            "Installing collected packages: py4j, pyspark\n",
            "Successfully installed py4j-0.10.9.2 pyspark-3.2.0\n"
          ]
        }
      ]
    },
    {
      "cell_type": "code",
      "metadata": {
        "id": "hhYcXmH6HKKH"
      },
      "source": [
        "import pyspark.sql.functions as F\n",
        "from pyspark.sql import SparkSession\n",
        "from pyspark.sql.window import Window\n",
        "from pyspark.sql.types import StructField, StructType, StringType, IntegerType, DateType, DoubleType\n",
        "import datetime"
      ],
      "execution_count": null,
      "outputs": []
    },
    {
      "cell_type": "code",
      "metadata": {
        "id": "nbx39HknHkQs"
      },
      "source": [
        "#Configuração do SparkSession\n",
        "#Comentário - 05\n",
        "\n",
        "spark = (\n",
        "    SparkSession.builder\n",
        "    .master(\"local\")\n",
        "    .appName(\"bitcoin\")\n",
        "    .config(\"spark.ui.port\", \"5040\")\n",
        "    .getOrCreate()\n",
        ")"
      ],
      "execution_count": null,
      "outputs": []
    },
    {
      "cell_type": "code",
      "metadata": {
        "colab": {
          "base_uri": "https://localhost:8080/"
        },
        "id": "Db4AFXbWH4Nk",
        "outputId": "1c08d7c6-d372-420e-ee9b-dee0bc7e8f1a"
      },
      "source": [
        "spark"
      ],
      "execution_count": null,
      "outputs": [
        {
          "output_type": "execute_result",
          "data": {
            "text/html": [
              "\n",
              "            <div>\n",
              "                <p><b>SparkSession - in-memory</b></p>\n",
              "                \n",
              "        <div>\n",
              "            <p><b>SparkContext</b></p>\n",
              "\n",
              "            <p><a href=\"http://87b9b23c8cbd:5040\">Spark UI</a></p>\n",
              "\n",
              "            <dl>\n",
              "              <dt>Version</dt>\n",
              "                <dd><code>v3.2.0</code></dd>\n",
              "              <dt>Master</dt>\n",
              "                <dd><code>local</code></dd>\n",
              "              <dt>AppName</dt>\n",
              "                <dd><code>bitcoin</code></dd>\n",
              "            </dl>\n",
              "        </div>\n",
              "        \n",
              "            </div>\n",
              "        "
            ],
            "text/plain": [
              "<pyspark.sql.session.SparkSession at 0x7f130c993c10>"
            ]
          },
          "metadata": {},
          "execution_count": 38
        }
      ]
    },
    {
      "cell_type": "markdown",
      "metadata": {
        "id": "jPw3-rda4Mv-"
      },
      "source": [
        ""
      ]
    },
    {
      "cell_type": "markdown",
      "metadata": {
        "id": "pwR2cQXG4dsW"
      },
      "source": [
        "## Verificação do Dataframe"
      ]
    },
    {
      "cell_type": "code",
      "metadata": {
        "colab": {
          "base_uri": "https://localhost:8080/"
        },
        "id": "0UNKoPm9mbnK",
        "outputId": "42192969-12fc-4ee2-fb7d-ef99ce0a182c"
      },
      "source": [
        "#Personalização da Schema e importação do DataFrame\n",
        "#Comentário - 06\n",
        "\n",
        "customSchema = StructType([\n",
        "  StructField(\"Id\", IntegerType(), True),                      \n",
        "  StructField(\"Moeda\", StringType(), True),\n",
        "  StructField(\"Sigla\", StringType(), True),\n",
        "  StructField(\"Data\", DateType(), True),\n",
        "  StructField(\"Maior_Preco\", DoubleType(), True),\n",
        "  StructField(\"Menor_Preco\", DoubleType(), True),\n",
        "  StructField(\"Preco_Abertura\", DoubleType(), True),\n",
        "  StructField(\"Preco_Fechamento\", DoubleType(), True),\n",
        "  StructField(\"Volume\", DoubleType(), True),\n",
        "  StructField(\"Capitalizacao_Mercado\", DoubleType(), True)\n",
        "])\n",
        "\n",
        "df = spark.read.load(\"/content/dados_pyspark/bitcoin_pandas.csv\", format=\"csv\", header=True, schema=customSchema)\n",
        "\n",
        "df.show(5)\n",
        "df.dtypes"
      ],
      "execution_count": null,
      "outputs": [
        {
          "output_type": "stream",
          "name": "stdout",
          "text": [
            "+---+-------+-----+----------+------------------+------------------+------------------+------------------+------+---------------------+\n",
            "| Id|  Moeda|Sigla|      Data|       Maior_Preco|       Menor_Preco|    Preco_Abertura|  Preco_Fechamento|Volume|Capitalizacao_Mercado|\n",
            "+---+-------+-----+----------+------------------+------------------+------------------+------------------+------+---------------------+\n",
            "|  1|Bitcoin|  BTC|2013-04-29|147.48800659179688|             134.0|134.44400024414062| 144.5399932861328|   0.0|       1.6037688645E9|\n",
            "|  2|Bitcoin|  BTC|2013-04-30|146.92999267578125| 134.0500030517578|             144.0|             139.0|   0.0|        1.542813125E9|\n",
            "|  3|Bitcoin|  BTC|2013-05-01|139.88999938964844|107.72000122070312|             139.0|116.98999786376953|   0.0|      1.29895459375E9|\n",
            "|  4|Bitcoin|  BTC|2013-05-02| 125.5999984741211| 92.28189849853516|116.37999725341797|105.20999908447266|   0.0|      1.16851749525E9|\n",
            "|  5|Bitcoin|  BTC|2013-05-03|108.12799835205078|  79.0999984741211|            106.25|             97.75|   0.0|      1.08599516875E9|\n",
            "+---+-------+-----+----------+------------------+------------------+------------------+------------------+------+---------------------+\n",
            "only showing top 5 rows\n",
            "\n"
          ]
        },
        {
          "output_type": "execute_result",
          "data": {
            "text/plain": [
              "[('Id', 'int'),\n",
              " ('Moeda', 'string'),\n",
              " ('Sigla', 'string'),\n",
              " ('Data', 'date'),\n",
              " ('Maior_Preco', 'double'),\n",
              " ('Menor_Preco', 'double'),\n",
              " ('Preco_Abertura', 'double'),\n",
              " ('Preco_Fechamento', 'double'),\n",
              " ('Volume', 'double'),\n",
              " ('Capitalizacao_Mercado', 'double')]"
            ]
          },
          "metadata": {},
          "execution_count": 39
        }
      ]
    },
    {
      "cell_type": "code",
      "metadata": {
        "colab": {
          "base_uri": "https://localhost:8080/"
        },
        "id": "7_c1H7C4zR4t",
        "outputId": "e3e35d58-617d-4388-e9f7-2718fc975ef1"
      },
      "source": [
        "#Verificação das colunas\n",
        "df.printSchema()"
      ],
      "execution_count": null,
      "outputs": [
        {
          "output_type": "stream",
          "name": "stdout",
          "text": [
            "root\n",
            " |-- Id: integer (nullable = true)\n",
            " |-- Moeda: string (nullable = true)\n",
            " |-- Sigla: string (nullable = true)\n",
            " |-- Data: date (nullable = true)\n",
            " |-- Maior_Preco: double (nullable = true)\n",
            " |-- Menor_Preco: double (nullable = true)\n",
            " |-- Preco_Abertura: double (nullable = true)\n",
            " |-- Preco_Fechamento: double (nullable = true)\n",
            " |-- Volume: double (nullable = true)\n",
            " |-- Capitalizacao_Mercado: double (nullable = true)\n",
            "\n"
          ]
        }
      ]
    },
    {
      "cell_type": "markdown",
      "metadata": {
        "id": "83AQ6jhH4msO"
      },
      "source": [
        "## Criação de colunas"
      ]
    },
    {
      "cell_type": "code",
      "metadata": {
        "id": "y7Wrd_fV9vrG",
        "colab": {
          "base_uri": "https://localhost:8080/"
        },
        "outputId": "cf5bec36-e0d9-4a6c-d4a7-06dd6a0417a9"
      },
      "source": [
        "df = df.withColumn(\"Valorizou_No_Dia\", F.when(F.col(\"Preco_Fechamento\") > F.col(\"Preco_Abertura\"), \\\n",
        "                                              F.lit(\"SIM\")).otherwise(\"NAO\"))\n",
        "\n",
        "df.show(10)"
      ],
      "execution_count": null,
      "outputs": [
        {
          "output_type": "stream",
          "name": "stdout",
          "text": [
            "+---+-------+-----+----------+------------------+------------------+------------------+------------------+------+---------------------+----------------+\n",
            "| Id|  Moeda|Sigla|      Data|       Maior_Preco|       Menor_Preco|    Preco_Abertura|  Preco_Fechamento|Volume|Capitalizacao_Mercado|Valorizou_No_Dia|\n",
            "+---+-------+-----+----------+------------------+------------------+------------------+------------------+------+---------------------+----------------+\n",
            "|  1|Bitcoin|  BTC|2013-04-29|147.48800659179688|             134.0|134.44400024414062| 144.5399932861328|   0.0|       1.6037688645E9|             SIM|\n",
            "|  2|Bitcoin|  BTC|2013-04-30|146.92999267578125| 134.0500030517578|             144.0|             139.0|   0.0|        1.542813125E9|             NAO|\n",
            "|  3|Bitcoin|  BTC|2013-05-01|139.88999938964844|107.72000122070312|             139.0|116.98999786376953|   0.0|      1.29895459375E9|             NAO|\n",
            "|  4|Bitcoin|  BTC|2013-05-02| 125.5999984741211| 92.28189849853516|116.37999725341797|105.20999908447266|   0.0|      1.16851749525E9|             NAO|\n",
            "|  5|Bitcoin|  BTC|2013-05-03|108.12799835205078|  79.0999984741211|            106.25|             97.75|   0.0|      1.08599516875E9|             NAO|\n",
            "|  6|Bitcoin|  BTC|2013-05-04|             115.0|              92.5|  98.0999984741211|             112.5|   0.0|       1.2503165625E9|             SIM|\n",
            "|  7|Bitcoin|  BTC|2013-05-05|118.80000305175781|107.14299774169922| 112.9000015258789|115.91000366210938|   0.0|       1.2886931755E9|             SIM|\n",
            "|  8|Bitcoin|  BTC|2013-05-06|124.66300201416016|106.63999938964844| 115.9800033569336|112.30000305175781|   0.0|         1.24902306E9|             NAO|\n",
            "|  9|Bitcoin|  BTC|2013-05-07|113.44400024414062| 97.69999694824219|            112.25|             111.5|   0.0|          1.2405936E9|             NAO|\n",
            "| 10|Bitcoin|  BTC|2013-05-08|115.77999877929688| 109.5999984741211| 109.5999984741211|113.56600189208984|   0.0|      1.26404920215E9|             SIM|\n",
            "+---+-------+-----+----------+------------------+------------------+------------------+------------------+------+---------------------+----------------+\n",
            "only showing top 10 rows\n",
            "\n"
          ]
        }
      ]
    },
    {
      "cell_type": "code",
      "metadata": {
        "id": "B4T3XEEVfKpk",
        "colab": {
          "base_uri": "https://localhost:8080/"
        },
        "outputId": "ccbb8ea9-7a27-4f4d-a7f8-132af313c6fb"
      },
      "source": [
        "df = df.withColumn(\"Variacao_Preco\", F.col(\"Preco_Fechamento\")-F.col(\"Preco_Abertura\"))\n",
        "\n",
        "df.show(5)"
      ],
      "execution_count": null,
      "outputs": [
        {
          "output_type": "stream",
          "name": "stdout",
          "text": [
            "+---+-------+-----+----------+------------------+------------------+------------------+------------------+------+---------------------+----------------+-------------------+\n",
            "| Id|  Moeda|Sigla|      Data|       Maior_Preco|       Menor_Preco|    Preco_Abertura|  Preco_Fechamento|Volume|Capitalizacao_Mercado|Valorizou_No_Dia|     Variacao_Preco|\n",
            "+---+-------+-----+----------+------------------+------------------+------------------+------------------+------+---------------------+----------------+-------------------+\n",
            "|  1|Bitcoin|  BTC|2013-04-29|147.48800659179688|             134.0|134.44400024414062| 144.5399932861328|   0.0|       1.6037688645E9|             SIM| 10.095993041992188|\n",
            "|  2|Bitcoin|  BTC|2013-04-30|146.92999267578125| 134.0500030517578|             144.0|             139.0|   0.0|        1.542813125E9|             NAO|               -5.0|\n",
            "|  3|Bitcoin|  BTC|2013-05-01|139.88999938964844|107.72000122070312|             139.0|116.98999786376953|   0.0|      1.29895459375E9|             NAO| -22.01000213623047|\n",
            "|  4|Bitcoin|  BTC|2013-05-02| 125.5999984741211| 92.28189849853516|116.37999725341797|105.20999908447266|   0.0|      1.16851749525E9|             NAO|-11.169998168945312|\n",
            "|  5|Bitcoin|  BTC|2013-05-03|108.12799835205078|  79.0999984741211|            106.25|             97.75|   0.0|      1.08599516875E9|             NAO|               -8.5|\n",
            "+---+-------+-----+----------+------------------+------------------+------------------+------------------+------+---------------------+----------------+-------------------+\n",
            "only showing top 5 rows\n",
            "\n"
          ]
        }
      ]
    },
    {
      "cell_type": "code",
      "metadata": {
        "colab": {
          "base_uri": "https://localhost:8080/"
        },
        "id": "Y-LOZaGffLTE",
        "outputId": "434a16bb-9cfb-4086-be00-05e55aad9b0b"
      },
      "source": [
        "df.printSchema()"
      ],
      "execution_count": null,
      "outputs": [
        {
          "output_type": "stream",
          "name": "stdout",
          "text": [
            "root\n",
            " |-- Id: integer (nullable = true)\n",
            " |-- Moeda: string (nullable = true)\n",
            " |-- Sigla: string (nullable = true)\n",
            " |-- Data: date (nullable = true)\n",
            " |-- Maior_Preco: double (nullable = true)\n",
            " |-- Menor_Preco: double (nullable = true)\n",
            " |-- Preco_Abertura: double (nullable = true)\n",
            " |-- Preco_Fechamento: double (nullable = true)\n",
            " |-- Volume: double (nullable = true)\n",
            " |-- Capitalizacao_Mercado: double (nullable = true)\n",
            " |-- Valorizou_No_Dia: string (nullable = false)\n",
            " |-- Variacao_Preco: double (nullable = true)\n",
            "\n"
          ]
        }
      ]
    },
    {
      "cell_type": "markdown",
      "metadata": {
        "id": "YX1JNII_4sFg"
      },
      "source": [
        "## Consultas para insights"
      ]
    },
    {
      "cell_type": "code",
      "metadata": {
        "id": "hsEt9kuPwqMt",
        "colab": {
          "base_uri": "https://localhost:8080/"
        },
        "outputId": "0d5dbe2b-cad7-4583-f3a9-ee31732a44b1"
      },
      "source": [
        "#Verificando o maior preço registrado\n",
        "df.select(F.max(\"Maior_Preco\").alias(\"Maior_Preco_Registrado\")).show()"
      ],
      "execution_count": null,
      "outputs": [
        {
          "output_type": "stream",
          "name": "stdout",
          "text": [
            "+----------------------+\n",
            "|Maior_Preco_Registrado|\n",
            "+----------------------+\n",
            "|         64863.0989077|\n",
            "+----------------------+\n",
            "\n"
          ]
        }
      ]
    },
    {
      "cell_type": "code",
      "metadata": {
        "colab": {
          "base_uri": "https://localhost:8080/"
        },
        "id": "v2nudt0gM2lY",
        "outputId": "0a94f528-9626-4129-f822-437cb4237eb4"
      },
      "source": [
        "#Verificando o menor preço registrado\n",
        "df.select(F.col(\"Data\"), F.col(\"Menor_Preco\")).orderBy(\"Menor_Preco\").show(1)"
      ],
      "execution_count": null,
      "outputs": [
        {
          "output_type": "stream",
          "name": "stdout",
          "text": [
            "+----------+----------------+\n",
            "|      Data|     Menor_Preco|\n",
            "+----------+----------------+\n",
            "|2013-07-05|65.5260009765625|\n",
            "+----------+----------------+\n",
            "only showing top 1 row\n",
            "\n"
          ]
        }
      ]
    },
    {
      "cell_type": "code",
      "metadata": {
        "colab": {
          "base_uri": "https://localhost:8080/"
        },
        "id": "iMibhZ_eNQkA",
        "outputId": "6771ce3c-9f03-445e-b459-66888b6966c8"
      },
      "source": [
        "#Verificando o menor preço registrado\n",
        "df.select(F.col(\"Data\"), F.col(\"Maior_Preco\")).orderBy(\"Maior_Preco\").show(1)"
      ],
      "execution_count": null,
      "outputs": [
        {
          "output_type": "stream",
          "name": "stdout",
          "text": [
            "+----------+-----------------+\n",
            "|      Data|      Maior_Preco|\n",
            "+----------+-----------------+\n",
            "|2013-07-07|74.56109619140625|\n",
            "+----------+-----------------+\n",
            "only showing top 1 row\n",
            "\n"
          ]
        }
      ]
    },
    {
      "cell_type": "code",
      "metadata": {
        "id": "BZeKNRmINTnp",
        "colab": {
          "base_uri": "https://localhost:8080/"
        },
        "outputId": "7fd2e480-8f37-46c5-8e00-9a1940335e87"
      },
      "source": [
        "#Informações sobrw a variação de preços, começando pelas maiores variações negativas\n",
        "df.select(F.col(\"Data\"), F.col(\"Preco_Abertura\"), F.col(\"Preco_Fechamento\"), \\\n",
        "          F.col(\"Variacao_Preco\")).orderBy(\"Variacao_Preco\").show(10)"
      ],
      "execution_count": null,
      "outputs": [
        {
          "output_type": "stream",
          "name": "stdout",
          "text": [
            "+----------+--------------+----------------+-------------------+\n",
            "|      Data|Preco_Abertura|Preco_Fechamento|     Variacao_Preco|\n",
            "+----------+--------------+----------------+-------------------+\n",
            "|2021-05-12|56714.53316738|  49150.53387514| -7563.999292240005|\n",
            "|2021-05-19|42944.97544731|   37002.4404659| -5942.534981409997|\n",
            "|2021-02-23|54204.92975578|  48824.42686909| -5380.502886690003|\n",
            "|2021-01-21|35549.39740902|  30825.69850603|     -4723.69890299|\n",
            "|2021-04-18|60701.88609331|  56216.18500243|     -4485.70109088|\n",
            "|2021-06-21|35641.14606474|  31676.69373254|-3964.4523322000023|\n",
            "|2021-05-04|57214.17876121|  53333.53775274|-3880.6410084700037|\n",
            "|2021-03-15| 59267.4290492|  55907.20022619| -3360.228823010002|\n",
            "|2021-02-22|57532.73886407|  54207.31906543| -3325.419798640003|\n",
            "|2021-05-21|40596.94832252|  37304.69067136|-3292.2576511600055|\n",
            "+----------+--------------+----------------+-------------------+\n",
            "only showing top 10 rows\n",
            "\n"
          ]
        }
      ]
    },
    {
      "cell_type": "code",
      "metadata": {
        "id": "5J09rK_89usT",
        "colab": {
          "base_uri": "https://localhost:8080/"
        },
        "outputId": "f4502479-4def-4334-9f0e-cf91ec504b5f"
      },
      "source": [
        "#Informações importantes sobre a moeda em dias que terminou valorizada\n",
        "df.select(F.col(\"Data\"), F.col(\"Sigla\"), F.col(\"Preco_Abertura\"), F.col(\"Preco_Fechamento\"), \\\n",
        "          F.col(\"Variacao_Preco\"),F.col(\"Valorizou_No_Dia\")).filter(F.col(\"Valorizou_No_Dia\") \\\n",
        "          == \"SIM\").show()"
      ],
      "execution_count": null,
      "outputs": [
        {
          "output_type": "stream",
          "name": "stdout",
          "text": [
            "+----------+-----+------------------+------------------+------------------+----------------+\n",
            "|      Data|Sigla|    Preco_Abertura|  Preco_Fechamento|    Variacao_Preco|Valorizou_No_Dia|\n",
            "+----------+-----+------------------+------------------+------------------+----------------+\n",
            "|2013-04-29|  BTC|134.44400024414062| 144.5399932861328|10.095993041992188|             SIM|\n",
            "|2013-05-04|  BTC|  98.0999984741211|             112.5|14.400001525878906|             SIM|\n",
            "|2013-05-05|  BTC| 112.9000015258789|115.91000366210938|3.0100021362304688|             SIM|\n",
            "|2013-05-08|  BTC| 109.5999984741211|113.56600189208984|  3.96600341796875|             SIM|\n",
            "|2013-05-10|  BTC|112.79900360107422|117.19999694824219| 4.400993347167969|             SIM|\n",
            "|2013-05-13|  BTC|114.81999969482422| 117.9800033569336| 3.160003662109375|             SIM|\n",
            "|2013-05-15|  BTC| 111.4000015258789|114.22000122070312|2.8199996948242188|             SIM|\n",
            "|2013-05-16|  BTC|114.22000122070312|118.76000213623047| 4.540000915527344|             SIM|\n",
            "|2013-05-17|  BTC|118.20999908447266|123.01499938964844| 4.805000305175781|             SIM|\n",
            "|2013-05-21|  BTC| 122.0199966430664|122.87999725341797|0.8600006103515625|             SIM|\n",
            "|2013-05-22|  BTC|122.88999938964844|123.88899993896484|0.9990005493164062|             SIM|\n",
            "|2013-05-23|  BTC|123.80000305175781|126.69999694824219| 2.899993896484375|             SIM|\n",
            "|2013-05-24|  BTC|126.30000305175781| 133.1999969482422| 6.899993896484375|             SIM|\n",
            "|2013-05-26|  BTC|131.98599243164062|133.47999572753906|1.4940032958984375|             SIM|\n",
            "|2013-05-29|  BTC|             129.0| 132.3000030517578|3.3000030517578125|             SIM|\n",
            "|2013-05-31|  BTC| 128.7989959716797|             129.0|0.2010040283203125|             SIM|\n",
            "|2013-06-01|  BTC|128.81500244140625| 129.3000030517578|0.4850006103515625|             SIM|\n",
            "|2013-06-04|  BTC|120.73699951171875|121.41999816894531|0.6829986572265625|             SIM|\n",
            "|2013-06-05|  BTC| 121.4000015258789| 121.6500015258789|              0.25|             SIM|\n",
            "|2013-06-10|  BTC|100.43699645996094| 106.3499984741211| 5.913002014160156|             SIM|\n",
            "+----------+-----+------------------+------------------+------------------+----------------+\n",
            "only showing top 20 rows\n",
            "\n"
          ]
        }
      ]
    },
    {
      "cell_type": "code",
      "metadata": {
        "id": "TwZj8_8p5ws0",
        "colab": {
          "base_uri": "https://localhost:8080/"
        },
        "outputId": "0e62ed6d-33c2-41c5-e99b-3a4ebf953b4c"
      },
      "source": [
        "#Informações importantes sobre a moeda em dias que terminou desvalorizada\n",
        "df.select(F.col(\"Data\"), F.col(\"Sigla\"), F.col(\"Preco_Abertura\"),\\\n",
        "          F.col(\"Preco_Fechamento\"), F.col(\"Variacao_Preco\"), F.col(\"Valorizou_No_Dia\"))\\\n",
        "          .filter(F.col(\"Valorizou_No_Dia\") == \"NAO\").show(10)"
      ],
      "execution_count": null,
      "outputs": [
        {
          "output_type": "stream",
          "name": "stdout",
          "text": [
            "+----------+-----+------------------+------------------+-------------------+----------------+\n",
            "|      Data|Sigla|    Preco_Abertura|  Preco_Fechamento|     Variacao_Preco|Valorizou_No_Dia|\n",
            "+----------+-----+------------------+------------------+-------------------+----------------+\n",
            "|2013-04-30|  BTC|             144.0|             139.0|               -5.0|             NAO|\n",
            "|2013-05-01|  BTC|             139.0|116.98999786376953| -22.01000213623047|             NAO|\n",
            "|2013-05-02|  BTC|116.37999725341797|105.20999908447266|-11.169998168945312|             NAO|\n",
            "|2013-05-03|  BTC|            106.25|             97.75|               -8.5|             NAO|\n",
            "|2013-05-06|  BTC| 115.9800033569336|112.30000305175781|-3.6800003051757812|             NAO|\n",
            "|2013-05-07|  BTC|            112.25|             111.5|              -0.75|             NAO|\n",
            "|2013-05-09|  BTC|113.19999694824219|112.66999816894531| -0.529998779296875|             NAO|\n",
            "|2013-05-11|  BTC|117.69999694824219|115.24299621582031| -2.457000732421875|             NAO|\n",
            "|2013-05-12|  BTC|115.63999938964844|             115.0|-0.6399993896484375|             NAO|\n",
            "|2013-05-14|  BTC| 117.9800033569336|             111.5| -6.480003356933594|             NAO|\n",
            "+----------+-----+------------------+------------------+-------------------+----------------+\n",
            "only showing top 10 rows\n",
            "\n"
          ]
        }
      ]
    },
    {
      "cell_type": "code",
      "metadata": {
        "id": "rwyk1sB66A5i"
      },
      "source": [
        "#Backup\n",
        "bitcoin_df = df"
      ],
      "execution_count": null,
      "outputs": []
    },
    {
      "cell_type": "markdown",
      "metadata": {
        "id": "ZE48QYx6Y3CB"
      },
      "source": [
        "##  Load para Bucket GCP "
      ]
    },
    {
      "cell_type": "code",
      "metadata": {
        "id": "aTuQRy9MDhF0"
      },
      "source": [
        "# convertendo Spark_df para Pandas_df\n",
        "bitcoin_df_pd = df.toPandas()"
      ],
      "execution_count": null,
      "outputs": []
    },
    {
      "cell_type": "code",
      "metadata": {
        "id": "hrrN4k3k66vs"
      },
      "source": [
        "#salvando Spark to Pandas no drive\n",
        "bitcoin_df_pd.to_csv(\"/content/dados_pyspark/bitcoin_pyspark.csv\", index = False)"
      ],
      "execution_count": null,
      "outputs": []
    },
    {
      "cell_type": "code",
      "metadata": {
        "id": "b0awz36oo9sN",
        "colab": {
          "base_uri": "https://localhost:8080/"
        },
        "outputId": "cf449f64-8a2b-42de-efbb-df058867a2bd"
      },
      "source": [
        "#Envio de dados para o bucket\n",
        "!gsutil cp /content/dados_pyspark/bitcoin_pyspark.csv gs://{bucket_name}/saida/dados_pyspark/"
      ],
      "execution_count": null,
      "outputs": [
        {
          "output_type": "stream",
          "name": "stdout",
          "text": [
            "Copying file:///content/dados_pyspark/bitcoin_pyspark.csv [Content-Type=text/csv]...\n",
            "/ [1 files][409.8 KiB/409.8 KiB]                                                \n",
            "Operation completed over 1 objects/409.8 KiB.                                    \n"
          ]
        }
      ]
    },
    {
      "cell_type": "markdown",
      "metadata": {
        "id": "0rMaqdO6Xe5e"
      },
      "source": [
        "# **SparkSQL**"
      ]
    },
    {
      "cell_type": "code",
      "metadata": {
        "id": "8ylAVyfwAmL8",
        "colab": {
          "base_uri": "https://localhost:8080/"
        },
        "outputId": "aa631d80-9b61-49ca-d6c6-d21f851ccc86"
      },
      "source": [
        "#Download de arquivos do bucket  \n",
        "!gsutil cp gs://{bucket_name}/saida/dados_pyspark/bitcoin_pyspark.csv  /content/dados_sparksql/bitcoin_spark_sql.csv "
      ],
      "execution_count": null,
      "outputs": [
        {
          "output_type": "stream",
          "name": "stdout",
          "text": [
            "Copying gs://economia-dados-g2/saida/dados_pyspark/bitcoin_pyspark.csv...\n",
            "/ [0 files][    0.0 B/409.8 KiB]                                                \r/ [1 files][409.8 KiB/409.8 KiB]                                                \r\n",
            "Operation completed over 1 objects/409.8 KiB.                                    \n"
          ]
        }
      ]
    },
    {
      "cell_type": "markdown",
      "metadata": {
        "id": "dsJXh-Zm9wOD"
      },
      "source": [
        "## Criação da Tabela Bitcoin"
      ]
    },
    {
      "cell_type": "code",
      "metadata": {
        "id": "jesQZteBXeT6"
      },
      "source": [
        "df_sql = (spark\n",
        "          .read\n",
        "          .format(\"csv\")\n",
        "          .option(\"header\",\"true\")\n",
        "          .option(\"inferschema\", \"true\")\n",
        "          .option(\"delimiter\", \",\")\n",
        "          .load(\"/content/dados_sparksql/bitcoin_spark_sql.csv\")\n",
        "          .createOrReplaceTempView(\"tabela_bitcoin\"))"
      ],
      "execution_count": null,
      "outputs": []
    },
    {
      "cell_type": "markdown",
      "metadata": {
        "id": "9MU27b01995g"
      },
      "source": [
        "## Descrição dos tipos de dados da Tabela"
      ]
    },
    {
      "cell_type": "code",
      "metadata": {
        "id": "OnO-3DWUysmu",
        "colab": {
          "base_uri": "https://localhost:8080/"
        },
        "outputId": "b2875ba8-c3b7-4dbb-be92-f7367476f684"
      },
      "source": [
        "spark.sql(\n",
        "'''\n",
        "describe tabela_bitcoin\n",
        "'''\n",
        ").show()"
      ],
      "execution_count": null,
      "outputs": [
        {
          "output_type": "stream",
          "name": "stdout",
          "text": [
            "+--------------------+---------+-------+\n",
            "|            col_name|data_type|comment|\n",
            "+--------------------+---------+-------+\n",
            "|                  Id|      int|   null|\n",
            "|               Moeda|   string|   null|\n",
            "|               Sigla|   string|   null|\n",
            "|                Data|   string|   null|\n",
            "|         Maior_Preco|   double|   null|\n",
            "|         Menor_Preco|   double|   null|\n",
            "|      Preco_Abertura|   double|   null|\n",
            "|    Preco_Fechamento|   double|   null|\n",
            "|              Volume|   double|   null|\n",
            "|Capitalizacao_Mer...|   double|   null|\n",
            "|    Valorizou_No_Dia|   string|   null|\n",
            "|      Variacao_Preco|   double|   null|\n",
            "+--------------------+---------+-------+\n",
            "\n"
          ]
        }
      ]
    },
    {
      "cell_type": "markdown",
      "metadata": {
        "id": "UBuF4dNR_grJ"
      },
      "source": [
        "## Consultas"
      ]
    },
    {
      "cell_type": "code",
      "metadata": {
        "id": "lUlfynmx5Ysk",
        "colab": {
          "base_uri": "https://localhost:8080/"
        },
        "outputId": "3e387800-474b-49f9-9dbb-298fff7f1c8c"
      },
      "source": [
        "#verificando a data inicial dos registros e data final\n",
        "spark.sql('''\n",
        "SELECT MIN(Data) AS Data_Inicial, MAX(Data) AS Data_Final\n",
        "FROM tabela_bitcoin\n",
        "''').show()"
      ],
      "execution_count": null,
      "outputs": [
        {
          "output_type": "stream",
          "name": "stdout",
          "text": [
            "+------------+----------+\n",
            "|Data_Inicial|Data_Final|\n",
            "+------------+----------+\n",
            "|  2013-04-29|2021-07-06|\n",
            "+------------+----------+\n",
            "\n"
          ]
        }
      ]
    },
    {
      "cell_type": "code",
      "metadata": {
        "id": "cXTLXMkC0D8z",
        "colab": {
          "base_uri": "https://localhost:8080/"
        },
        "outputId": "cb700be0-c46a-47a9-e02f-5c72bf7ae494"
      },
      "source": [
        "#Quantidades de dias que a Moeda estava valorizada ao fim do dia\n",
        "spark.sql('''\n",
        "SELECT COUNT(Valorizou_No_Dia) AS Qtd_Dias_Valorizada\n",
        "FROM tabela_bitcoin\n",
        "WHERE Valorizou_No_Dia == \"SIM\"\n",
        "''').show()"
      ],
      "execution_count": null,
      "outputs": [
        {
          "output_type": "stream",
          "name": "stdout",
          "text": [
            "+-------------------+\n",
            "|Qtd_Dias_Valorizada|\n",
            "+-------------------+\n",
            "|               1609|\n",
            "+-------------------+\n",
            "\n"
          ]
        }
      ]
    },
    {
      "cell_type": "code",
      "metadata": {
        "id": "0aEymWg_4GdG",
        "colab": {
          "base_uri": "https://localhost:8080/"
        },
        "outputId": "3e5ffdb0-c7c3-4266-e393-0ba56843d6fe"
      },
      "source": [
        "#Quantidades de dias que a Moeda estava não valorizada ao fim do dia\n",
        "spark.sql('''\n",
        "SELECT COUNT(Valorizou_No_Dia) AS Qtd_Dias_Valorizada\n",
        "FROM tabela_bitcoin\n",
        "WHERE Valorizou_No_Dia == \"NAO\"\n",
        "''').show()"
      ],
      "execution_count": null,
      "outputs": [
        {
          "output_type": "stream",
          "name": "stdout",
          "text": [
            "+-------------------+\n",
            "|Qtd_Dias_Valorizada|\n",
            "+-------------------+\n",
            "|               1382|\n",
            "+-------------------+\n",
            "\n"
          ]
        }
      ]
    },
    {
      "cell_type": "code",
      "metadata": {
        "id": "fnMBKUBK3Uep",
        "colab": {
          "base_uri": "https://localhost:8080/"
        },
        "outputId": "4a636865-e19e-498a-d12d-96085c3f6185"
      },
      "source": [
        "#Infomações sobre os dias em que a Moeda estava valorizada ao fim do dia\n",
        "\n",
        "spark.sql('''\n",
        "SELECT Data, Maior_Preco, Menor_Preco, Preco_Abertura, Preco_Fechamento, Variacao_Preco\n",
        "FROM tabela_bitcoin\n",
        "WHERE Valorizou_No_Dia == \"SIM\"\n",
        "''').show()"
      ],
      "execution_count": null,
      "outputs": [
        {
          "output_type": "stream",
          "name": "stdout",
          "text": [
            "+----------+------------------+------------------+------------------+------------------+------------------+\n",
            "|      Data|       Maior_Preco|       Menor_Preco|    Preco_Abertura|  Preco_Fechamento|    Variacao_Preco|\n",
            "+----------+------------------+------------------+------------------+------------------+------------------+\n",
            "|2013-04-29|147.48800659179688|             134.0|134.44400024414062| 144.5399932861328|10.095993041992188|\n",
            "|2013-05-04|             115.0|              92.5|  98.0999984741211|             112.5|14.400001525878906|\n",
            "|2013-05-05|118.80000305175781|107.14299774169922| 112.9000015258789|115.91000366210938|3.0100021362304688|\n",
            "|2013-05-08|115.77999877929688| 109.5999984741211| 109.5999984741211|113.56600189208984|  3.96600341796875|\n",
            "|2013-05-10|             122.0| 111.5510025024414|112.79900360107422|117.19999694824219| 4.400993347167969|\n",
            "|2013-05-13| 118.6989974975586|             114.5|114.81999969482422| 117.9800033569336| 3.160003662109375|\n",
            "|2013-05-15|115.80999755859375|             103.5| 111.4000015258789|114.22000122070312|2.8199996948242188|\n",
            "|2013-05-16|118.76000213623047|112.19999694824219|114.22000122070312|118.76000213623047| 4.540000915527344|\n",
            "|2013-05-17|125.30000305175781|116.57099914550781|118.20999908447266|123.01499938964844| 4.805000305175781|\n",
            "|2013-05-21|             123.0|121.20999908447266| 122.0199966430664|122.87999725341797|0.8600006103515625|\n",
            "|2013-05-22| 124.0009994506836|             122.0|122.88999938964844|123.88899993896484|0.9990005493164062|\n",
            "|2013-05-23|126.93399810791016| 123.0999984741211|123.80000305175781|126.69999694824219| 2.899993896484375|\n",
            "|2013-05-24|133.85000610351562|125.71900177001953|126.30000305175781| 133.1999969482422| 6.899993896484375|\n",
            "|2013-05-26|             136.0|130.61500549316406|131.98599243164062|133.47999572753906|1.4940032958984375|\n",
            "|2013-05-29|132.58999633789062|127.66200256347656|             129.0| 132.3000030517578|3.3000030517578125|\n",
            "|2013-05-31|129.89999389648438| 126.4000015258789| 128.7989959716797|             129.0|0.2010040283203125|\n",
            "|2013-06-01|129.77999877929688| 127.1989974975586|128.81500244140625| 129.3000030517578|0.4850006103515625|\n",
            "|2013-06-04|123.83999633789062| 119.0999984741211|120.73699951171875|121.41999816894531|0.6829986572265625|\n",
            "|2013-06-05|123.46900177001953|119.89900207519531| 121.4000015258789| 121.6500015258789|              0.25|\n",
            "|2013-06-10|110.10099792480469| 95.00199890136719|100.43699645996094| 106.3499984741211| 5.913002014160156|\n",
            "+----------+------------------+------------------+------------------+------------------+------------------+\n",
            "only showing top 20 rows\n",
            "\n"
          ]
        }
      ]
    },
    {
      "cell_type": "code",
      "metadata": {
        "id": "hodjKgUk5wtW",
        "colab": {
          "base_uri": "https://localhost:8080/"
        },
        "outputId": "06f379a5-a42a-445d-d37e-ebf721196cc9"
      },
      "source": [
        "#Informações sobre os dias em que a moeda fechou o dia a mais de 60000 dólares\n",
        "spark.sql('''\n",
        "SELECT * \n",
        "FROM tabela_bitcoin\n",
        "WHERE Preco_Fechamento > 60000\n",
        "ORDER BY Data ASC\n",
        "''').show()"
      ],
      "execution_count": null,
      "outputs": [
        {
          "output_type": "stream",
          "name": "stdout",
          "text": [
            "+----+-------+-----+----------+--------------+--------------+--------------+----------------+-----------------+---------------------+----------------+-------------------+\n",
            "|  Id|  Moeda|Sigla|      Data|   Maior_Preco|   Menor_Preco|Preco_Abertura|Preco_Fechamento|           Volume|Capitalizacao_Mercado|Valorizou_No_Dia|     Variacao_Preco|\n",
            "+----+-------+-----+----------+--------------+--------------+--------------+----------------+-----------------+---------------------+----------------+-------------------+\n",
            "|2876|Bitcoin|  BTC|2021-03-13|61683.86401412|56217.97238151|57343.37024739|  61243.08476552|6.066982981423E10|  1.14236915866694E12|             SIM|      3899.71451813|\n",
            "|2905|Bitcoin|  BTC|2021-04-11|60790.55531507|59289.79563078|59846.23078558|  60204.96491379|4.628025258042E10|  1.12463584877545E12|             SIM|  358.7341282099951|\n",
            "|2907|Bitcoin|  BTC|2021-04-13|63742.28333718|59869.95629306|59890.01779033|  63503.45793019|6.998345436184E10|  1.18636404414027E12|             SIM|  3613.440139860002|\n",
            "|2908|Bitcoin|  BTC|2021-04-14| 64863.0989077|61554.79669042|63523.75486927|  63109.69593464|7.745177968704E10|  1.17906109398042E12|             NAO|-414.05893462999666|\n",
            "|2909|Bitcoin|  BTC|2021-04-15|63821.67219266|62208.96436559|63075.19622093|  63314.01084504|6.095438157931E10|  1.18294549274441E12|             SIM| 238.81462410999666|\n",
            "|2910|Bitcoin|  BTC|2021-04-16|63594.72091303|60222.53207871|63258.50517438|  61572.78960116|8.429300746797E10|  1.15045715673961E12|             NAO|-1685.7155732199972|\n",
            "|2911|Bitcoin|  BTC|2021-04-17|62572.17605057|60361.35217909|61529.92099734|  60683.82123331|6.613875919801E10|  1.13388247923677E12|             NAO| -846.0997640299975|\n",
            "+----+-------+-----+----------+--------------+--------------+--------------+----------------+-----------------+---------------------+----------------+-------------------+\n",
            "\n"
          ]
        }
      ]
    },
    {
      "cell_type": "code",
      "metadata": {
        "id": "Fq1Zmaru-Zwx",
        "colab": {
          "base_uri": "https://localhost:8080/"
        },
        "outputId": "bf383fbe-542f-4871-a0c3-00278cdb934b"
      },
      "source": [
        "#Informações sobre os dias em que a moeda fechou o dia a menos de 100 dólares\n",
        "spark.sql('''\n",
        "SELECT * \n",
        "FROM tabela_bitcoin\n",
        "WHERE Preco_Fechamento < 100\n",
        "ORDER BY Data ASC\n",
        "''').show()"
      ],
      "execution_count": null,
      "outputs": [
        {
          "output_type": "stream",
          "name": "stdout",
          "text": [
            "+---+-------+-----+----------+------------------+-----------------+------------------+-----------------+------+---------------------+----------------+--------------------+\n",
            "| Id|  Moeda|Sigla|      Data|       Maior_Preco|      Menor_Preco|    Preco_Abertura| Preco_Fechamento|Volume|Capitalizacao_Mercado|Valorizou_No_Dia|      Variacao_Preco|\n",
            "+---+-------+-----+----------+------------------+-----------------+------------------+-----------------+------+---------------------+----------------+--------------------+\n",
            "|  5|Bitcoin|  BTC|2013-05-03|108.12799835205078| 79.0999984741211|            106.25|            97.75|   0.0|      1.08599516875E9|             NAO|                -8.5|\n",
            "| 47|Bitcoin|  BTC|2013-06-14|104.69999694824219|             98.0| 103.9489974975586|99.97889709472656|   0.0|      1.12870929208E9|             NAO| -3.9701004028320312|\n",
            "| 48|Bitcoin|  BTC|2013-06-15|103.69999694824219|             98.0|             100.0|99.98809814453125|   0.0|      1.12924560378E9|             NAO|   -0.01190185546875|\n",
            "| 49|Bitcoin|  BTC|2013-06-16| 101.5999984741211|98.94660186767578| 99.80000305175781|99.51000213623047|   0.0|      1.12430627175E9|             NAO|-0.29000091552734375|\n",
            "| 61|Bitcoin|  BTC|2013-06-28|101.73699951171875|92.33300018310547|101.73699951171875|94.64920043945312|   0.0|      1.07388745697E9|             NAO|  -7.087799072265625|\n",
            "| 62|Bitcoin|  BTC|2013-06-29| 99.98999786376953|             93.0| 94.66000366210938|94.99400329589844|   0.0|      1.07819852395E9|             SIM|  0.3339996337890625|\n",
            "| 63|Bitcoin|  BTC|2013-06-30| 98.12229919433594|94.22229766845703|  94.9990005493164|96.61399841308594|   0.0|      1.09695777135E9|             SIM|  1.6149978637695312|\n",
            "| 64|Bitcoin|  BTC|2013-07-01| 97.66490173339844|86.29720306396484| 97.51000213623047|88.05000305175781|   0.0|      1.00006529625E9|             NAO|  -9.459999084472656|\n",
            "| 65|Bitcoin|  BTC|2013-07-02| 92.30000305175781|87.51000213623047| 88.05000305175781|90.13400268554688|   0.0|      1.02408222785E9|             SIM|  2.0839996337890625|\n",
            "| 66|Bitcoin|  BTC|2013-07-03|   90.981201171875|76.97920227050781| 90.40499877929688|77.52999877929688|   0.0|        8.812331155E8|             NAO|             -12.875|\n",
            "| 67|Bitcoin|  BTC|2013-07-04|  83.1050033569336|             72.0| 78.88999938964844|80.52580261230469|   0.0|        9.156186089E8|             SIM|    1.63580322265625|\n",
            "| 68|Bitcoin|  BTC|2013-07-05|              80.0| 65.5260009765625| 79.98999786376953|68.43099975585938|   0.0|      7.78411178875E8|             NAO| -11.558998107910156|\n",
            "| 69|Bitcoin|  BTC|2013-07-06|              75.0|66.81999969482422| 68.50499725341797|70.27729797363281|   0.0|       7.9974161854E8|             SIM|  1.7723007202148438|\n",
            "| 70|Bitcoin|  BTC|2013-07-07| 74.56109619140625|66.62000274658203|  68.7490005493164|74.56109619140625|   0.0|      8.48838978923E8|             SIM|   5.812095642089844|\n",
            "| 71|Bitcoin|  BTC|2013-07-08|              80.0| 72.5999984741211|              76.5|76.51599884033203|   0.0|        8.714579401E8|             SIM| 0.01599884033203125|\n",
            "| 72|Bitcoin|  BTC|2013-07-09| 78.30000305175781| 72.5199966430664|              76.0|76.69400024414062|   0.0|       8.7384184925E8|             SIM|   0.694000244140625|\n",
            "| 73|Bitcoin|  BTC|2013-07-10|              87.0|76.19999694824219| 76.72000122070312|86.76000213623047|   0.0|         9.88957719E8|             SIM|  10.040000915527344|\n",
            "| 74|Bitcoin|  BTC|2013-07-11| 90.27999877929688|85.07990264892578|              88.0| 88.9800033569336|   0.0|       1.0146500625E9|             SIM|  0.9800033569335938|\n",
            "| 75|Bitcoin|  BTC|2013-07-12|             104.0|88.16600036621094| 88.97899627685547|93.59490203857422|   0.0|      1.06763468443E9|             SIM|    4.61590576171875|\n",
            "| 76|Bitcoin|  BTC|2013-07-13|             98.25|88.06220245361328| 93.98989868164062|98.13390350341797|   0.0|      1.11979611951E9|             SIM|   4.144004821777344|\n",
            "+---+-------+-----+----------+------------------+-----------------+------------------+-----------------+------+---------------------+----------------+--------------------+\n",
            "only showing top 20 rows\n",
            "\n"
          ]
        }
      ]
    },
    {
      "cell_type": "code",
      "metadata": {
        "colab": {
          "base_uri": "https://localhost:8080/"
        },
        "id": "2UukDrCFiPWI",
        "outputId": "822d866d-58dd-4028-a144-5a033f7d28db"
      },
      "source": [
        "#Informações de 2020\n",
        "spark.sql('''\n",
        "SELECT * \n",
        "FROM tabela_bitcoin\n",
        "WHERE Data LIKE \"2020%\"\n",
        "''').show(5)"
      ],
      "execution_count": null,
      "outputs": [
        {
          "output_type": "stream",
          "name": "stdout",
          "text": [
            "+----+-------+-----+----------+-------------+-------------+--------------+----------------+-------------------+---------------------+-------------------+----------------+\n",
            "|  Id|  Moeda|Sigla|      Data|  Maior_Preco|  Menor_Preco|Preco_Abertura|Preco_Fechamento|             Volume|Capitalizacao_Mercado|     Variacao_Preco|Valorizou_No_Dia|\n",
            "+----+-------+-----+----------+-------------+-------------+--------------+----------------+-------------------+---------------------+-------------------+----------------+\n",
            "|2439|Bitcoin|  BTC|2020-01-01|7254.33061134|7174.94415256| 7194.89197053|   7200.17439274|1.85656649967884E10|  1.30580829149587E11|  5.282422209999822|             SIM|\n",
            "|2440|Bitcoin|  BTC|2020-01-02|7212.15525252|6935.26997193| 7202.55112207|   6985.47000061|2.08020834653292E10|  1.26699395235204E11|-217.08112145999985|             NAO|\n",
            "|2441|Bitcoin|  BTC|2020-01-03|7413.71509934|6914.99590793|  6984.4286123|   7344.88418341|2.81114810319377E10|  1.33233444755489E11| 360.45557111000016|             SIM|\n",
            "|2442|Bitcoin|  BTC|2020-01-04|7427.38579435| 7309.5140117| 7345.37527527|   7410.65656642|1.84442712747607E10|  1.34442464030264E11|  65.28129114999956|             SIM|\n",
            "|2443|Bitcoin|  BTC|2020-01-05|7544.49687224| 7400.5355609| 7410.45169373|   7411.31732676|1.97250740945446E10|  1.34469548249076E11| 0.8656330299991168|             SIM|\n",
            "+----+-------+-----+----------+-------------+-------------+--------------+----------------+-------------------+---------------------+-------------------+----------------+\n",
            "only showing top 5 rows\n",
            "\n"
          ]
        }
      ]
    },
    {
      "cell_type": "code",
      "metadata": {
        "id": "Eu4dyzy8Ahs8",
        "colab": {
          "base_uri": "https://localhost:8080/"
        },
        "outputId": "ba1fab2c-5eb3-47ba-f689-a171c202091e"
      },
      "source": [
        "#Informações de 2020-03\n",
        "spark.sql('''\n",
        "SELECT * \n",
        "FROM tabela_bitcoin\n",
        "WHERE Data LIKE \"2020-03%\"\n",
        "''').show()"
      ],
      "execution_count": null,
      "outputs": [
        {
          "output_type": "stream",
          "name": "stdout",
          "text": [
            "+----+-------+-----+----------+-------------+-------------+--------------+----------------+-------------------+---------------------+-------------------+----------------+\n",
            "|  Id|  Moeda|Sigla|      Data|  Maior_Preco|  Menor_Preco|Preco_Abertura|Preco_Fechamento|             Volume|Capitalizacao_Mercado|     Variacao_Preco|Valorizou_No_Dia|\n",
            "+----+-------+-----+----------+-------------+-------------+--------------+----------------+-------------------+---------------------+-------------------+----------------+\n",
            "|2499|Bitcoin|  BTC|2020-03-01|8726.79676016|8471.21262606|  8599.7583441|   8562.45405008|3.53491643001413E10|  1.56238987739907E11| -37.30429402000118|             NAO|\n",
            "|2500|Bitcoin|  BTC|2020-03-02|8921.30839546|8532.63094465| 8563.26425933|   8869.67031078|4.28576744088765E10|  1.61861167745164E11|  306.4060514499997|             SIM|\n",
            "|2501|Bitcoin|  BTC|2020-03-03|8901.59868323|8704.99029396| 8865.38796487|   8787.78645576|4.23867158205577E10|  1.60383579416238E11| -77.60150910999982|             NAO|\n",
            "|2502|Bitcoin|  BTC|2020-03-04|8843.36574975|8712.43181192| 8788.54218625|   8755.24589461|3.47467063681467E10|  1.59807857328088E11| -33.29629164000107|             NAO|\n",
            "|2503|Bitcoin|  BTC|2020-03-05|9142.05429624|8757.25403405| 8760.28504049|   9078.76279174|3.96980545974259E10|  1.65731679917865E11| 318.47775125000044|             SIM|\n",
            "|2504|Bitcoin|  BTC|2020-03-06|9167.69579623|9032.07958273| 9078.30852906|   9122.54557333|4.08268856509438E10|  1.66548261959532E11| 44.237044270001206|             SIM|\n",
            "|2505|Bitcoin|  BTC|2020-03-07|9163.22109566|8890.74417157| 9121.60053553|    8909.9536515|3.62169303696665E10|  1.62684945902611E11|-211.64688403000036|             NAO|\n",
            "|2506|Bitcoin|  BTC|2020-03-08|8914.34415498|8105.25280434| 8908.20601509|   8108.11629101|3.99731021205682E10|  1.48060284561061E11| -800.0897240799995|             NAO|\n",
            "|2507|Bitcoin|  BTC|2020-03-09|8177.79322362|7690.09818591| 8111.14639164|    7923.6447033|4.69369958081849E10|  1.44706353758487E11|-187.50168833999942|             NAO|\n",
            "|2508|Bitcoin|  BTC|2020-03-10| 8136.9452227|7814.76324378|  7922.1470416|   7909.72939346|4.22139409936104E10|  1.44465567734489E11|-12.417648139999983|             NAO|\n",
            "|2509|Bitcoin|  BTC|2020-03-11|7950.81435628|7642.81243049| 7910.08980669|   7911.43012933|3.86827626046366E10|  1.44508402670563E11| 1.3403226400005224|             SIM|\n",
            "|2510|Bitcoin|  BTC|2020-03-12|7929.11601884|4860.35383012| 7913.61638784|   4970.78790105|5.39803572430501E10|   9.0804613600616E10|     -2942.82848679|             NAO|\n",
            "|2511|Bitcoin|  BTC|2020-03-13|5838.11493749|4106.98075029| 5017.83083939|   5563.70689169|7.41567720749603E10|  1.01644613038335E11|  545.8760523000001|             SIM|\n",
            "|2512|Bitcoin|  BTC|2020-03-14|5625.22650517|5125.06934725| 5573.07764952|   5200.36626392|3.61545060075848E10|  9.50149819439861E10|-372.71138559999963|             NAO|\n",
            "|2513|Bitcoin|  BTC|2020-03-15|5836.64500618|5169.28339052| 5201.06668673|   5392.31488002| 3.3997889638762E10|   9.8530059889968E10| 191.24819329000002|             SIM|\n",
            "|2514|Bitcoin|  BTC|2020-03-16|5385.22952159|4575.35788665| 5385.22952159|   5014.47997748|4.53680264296205E10|  9.16334788504746E10|      -370.74954411|             NAO|\n",
            "|2515|Bitcoin|  BTC|2020-03-17|5371.34851644|4981.90941273|  5002.5781383|   5225.62919259|3.86226429352466E10|    9.549994118334E10| 223.05105428999923|             SIM|\n",
            "|2516|Bitcoin|  BTC|2020-03-18|5331.83385967| 5069.3361519|  5227.1136885|   5238.43857664|3.78788010163368E10|  9.57407155288542E10|  11.32488814000044|             SIM|\n",
            "|2517|Bitcoin|  BTC|2020-03-19|6329.73594838|5236.96875288|  5245.4166032|   6191.19295222|5.10007317974328E10|  1.13162079955697E11|  945.7763490199995|             SIM|\n",
            "|2518|Bitcoin|  BTC|2020-03-20|6844.26152806|5865.78196437| 6191.65372133|   6198.77820508|5.44429761025119E10|  1.13309245860002E11|  7.124483749999854|             SIM|\n",
            "+----+-------+-----+----------+-------------+-------------+--------------+----------------+-------------------+---------------------+-------------------+----------------+\n",
            "only showing top 20 rows\n",
            "\n"
          ]
        }
      ]
    },
    {
      "cell_type": "code",
      "metadata": {
        "id": "pBf1II-oztpV",
        "colab": {
          "base_uri": "https://localhost:8080/"
        },
        "outputId": "39eb0e25-f730-4c5d-e040-3db3c5e41ced"
      },
      "source": [
        "#Verificando as maiores variações de Preço de Abertura e Fechamento, começando com as maiores positivas\n",
        "\n",
        "spark.sql('''\n",
        "SELECT Variacao_Preco, Preco_Abertura, Preco_Fechamento, Data\n",
        "FROM tabela_bitcoin \n",
        "ORDER BY Variacao_Preco DESC\n",
        "''').show()"
      ],
      "execution_count": null,
      "outputs": [
        {
          "output_type": "stream",
          "name": "stdout",
          "text": [
            "+------------------+---------------+----------------+----------+\n",
            "|    Variacao_Preco| Preco_Abertura|Preco_Fechamento|      Data|\n",
            "+------------------+---------------+----------------+----------+\n",
            "| 7309.636429489998| 38886.82728995|  46196.46371944|2021-02-08|\n",
            "|     4943.96242435| 49077.79236302|  54021.75478737|2021-04-26|\n",
            "| 4471.738318240001| 45159.50305253|  49631.24137077|2021-03-01|\n",
            "| 4212.152397079997| 51675.98128513|  55888.13368221|2021-02-19|\n",
            "|4181.5137619399975| 53568.66358369|  57750.17734563|2021-04-30|\n",
            "| 4171.841186879996| 53252.16476125|  57424.00594813|2021-05-05|\n",
            "|4029.0685544299995| 36753.66970802|  40782.73826245|2021-05-20|\n",
            "|     4005.61506923|   34700.363568|  38705.97863723|2021-05-24|\n",
            "|     3928.14363531| 33416.97785088|  37345.12148619|2021-06-09|\n",
            "|     3899.71451813| 57343.37024739|  61243.08476552|2021-03-13|\n",
            "|    3633.599609375|14266.099609375|  17899.69921875|2017-12-07|\n",
            "| 3613.440139860002| 59890.01779033|  63503.45793019|2021-04-13|\n",
            "|3542.0707562499956| 35555.79014042|  39097.86089667|2021-06-13|\n",
            "| 3454.303636079996|  51683.0100897|  55137.31372578|2021-03-26|\n",
            "| 3401.239818730006| 33915.11958124|  37316.35939997|2021-01-13|\n",
            "|3025.0545414100015|  30441.0418168|  33466.09635821|2021-01-28|\n",
            "| 3010.619583340005| 44898.71161149|  47909.33119483|2021-02-11|\n",
            "| 2941.731103539998| 49207.27643233|  52149.00753587|2021-02-17|\n",
            "|2810.7498770899983|   34013.614533|  36824.36441009|2021-01-06|\n",
            "|     2750.81210508| 29376.45583414|  32127.26793922|2021-01-02|\n",
            "+------------------+---------------+----------------+----------+\n",
            "only showing top 20 rows\n",
            "\n"
          ]
        }
      ]
    },
    {
      "cell_type": "markdown",
      "metadata": {
        "id": "B6M9rTzS0l8G"
      },
      "source": [
        "# **ApacheBeam**"
      ]
    },
    {
      "cell_type": "code",
      "metadata": {
        "id": "Qdbvrxb00la7"
      },
      "source": [
        "pip install apache-beam[interactive]"
      ],
      "execution_count": null,
      "outputs": []
    },
    {
      "cell_type": "code",
      "metadata": {
        "id": "rKHftAMM0qNr"
      },
      "source": [
        "import apache_beam as beam"
      ],
      "execution_count": null,
      "outputs": []
    },
    {
      "cell_type": "code",
      "metadata": {
        "id": "R4RSE61d0z9a"
      },
      "source": [
        "#Pipeline de resultados da tabela bitcoin após p\n",
        "p1 = beam.Pipeline ()\n",
        "\n",
        "ethereum = (\n",
        "    p1\n",
        "    |'Extrair os dados' >> beam.io.ReadFromText('/content/dados_pyspark/bitcoin_pyspark.csv', skip_header_lines= 0)\n",
        "    |'Separador' >> beam.Map(lambda record: record.split(','))\n",
        "    |'Saida de dados' >> beam.Map(print)\n",
        "    #|'Gravar resultados'>> beam.io.WriterToText('bitcoin_pyspark.txt')\n",
        ")\n",
        "p1.run()"
      ],
      "execution_count": null,
      "outputs": []
    },
    {
      "cell_type": "markdown",
      "metadata": {
        "id": "w4EwOOQe5Np9"
      },
      "source": [
        ""
      ]
    }
  ]
}