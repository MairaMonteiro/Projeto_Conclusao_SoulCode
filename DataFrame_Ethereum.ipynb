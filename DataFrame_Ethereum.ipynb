{
  "nbformat": 4,
  "nbformat_minor": 0,
  "metadata": {
    "colab": {
      "name": "ProjetoFinal_Ethereum_Ewerton.ipynb",
      "provenance": [],
      "collapsed_sections": [
        "XuYc1rB1KsVr",
        "UyV28nABCTXg",
        "S1_yg9yQIfu-",
        "nAFWx9F_MCk-",
        "rtzaHjU_Mld4",
        "R0SpsRgRIKJI",
        "ab0kxGYc_XYX",
        "lIOEb20AbQHW"
      ],
      "include_colab_link": true
    },
    "kernelspec": {
      "name": "python3",
      "display_name": "Python 3"
    },
    "language_info": {
      "name": "python"
    }
  },
  "cells": [
    {
      "cell_type": "markdown",
      "metadata": {
        "id": "view-in-github",
        "colab_type": "text"
      },
      "source": [
        "<a href=\"https://colab.research.google.com/github/ewertonsilvag/Projeto_Conclusao_SoulCode/blob/main/DataFrame_Ethereum.ipynb\" target=\"_parent\"><img src=\"https://colab.research.google.com/assets/colab-badge.svg\" alt=\"Open In Colab\"/></a>"
      ]
    },
    {
      "cell_type": "markdown",
      "metadata": {
        "id": "4rVHBwY35wLo"
      },
      "source": [
        " # Conexão GCP para ingestão dos dados\n",
        "\n",
        " #### autenticação de acesso a bucket GCP para INGESTÃO dos dados "
      ]
    },
    {
      "cell_type": "code",
      "metadata": {
        "id": "kpSC2ret5tSi"
      },
      "source": [
        "#Importando biblioteca para autenticar conexão com GCP\n",
        "\n",
        "from google.colab import auth"
      ],
      "execution_count": null,
      "outputs": []
    },
    {
      "cell_type": "code",
      "metadata": {
        "id": "jlxVoRMx77Th"
      },
      "source": [
        "project_id = 'projeto-grupo2-economia'\n",
        "bucket_name = 'economia-dados-g2'\n",
        "\n",
        "auth.authenticate_user()"
      ],
      "execution_count": null,
      "outputs": []
    },
    {
      "cell_type": "code",
      "metadata": {
        "id": "8ZswI9yR_Gtm",
        "colab": {
          "base_uri": "https://localhost:8080/"
        },
        "outputId": "14a898b6-8930-4a51-9e19-fdbf55a043d1"
      },
      "source": [
        "!gcloud config set project {project_id}"
      ],
      "execution_count": null,
      "outputs": [
        {
          "output_type": "stream",
          "name": "stdout",
          "text": [
            "Updated property [core/project].\n"
          ]
        }
      ]
    },
    {
      "cell_type": "code",
      "metadata": {
        "id": "KRzymjxu_HNh"
      },
      "source": [
        "#Enviando o DATASET bruto para o bucket de entrada \n",
        "\n",
        "#!gsutil cp /content/drive/MyDrive/ProjetoFinal/crypto/ethereum.json gs://{bucket_name}/entrada/Ethereum_Bruto.json"
      ],
      "execution_count": null,
      "outputs": []
    },
    {
      "cell_type": "code",
      "metadata": {
        "id": "cs2w8rFS9CF8"
      },
      "source": [
        "#Download dos dados para o Drive para usar no Colab\n",
        "\n",
        "#!gsutil cp gs://{bucket_name}/entrada/Ethereum_Bruto.json /content/drive/MyDrive/ProjetoFinal/crypto/ethereum_entrada.json"
      ],
      "execution_count": null,
      "outputs": []
    },
    {
      "cell_type": "markdown",
      "metadata": {
        "id": "nG9-N2F4zO2r"
      },
      "source": [
        "# Pandas"
      ]
    },
    {
      "cell_type": "markdown",
      "metadata": {
        "id": "5iDwqYoLK3sw"
      },
      "source": [
        "#### Instalação e importação de bibliotecas"
      ]
    },
    {
      "cell_type": "code",
      "metadata": {
        "id": "MFNo5tS6tmpS"
      },
      "source": [
        "#Importando a biblioteca\n",
        "\n",
        "import pandas as pd"
      ],
      "execution_count": null,
      "outputs": []
    },
    {
      "cell_type": "code",
      "metadata": {
        "id": "v37RnXc_tqOS"
      },
      "source": [
        "#Ingestão dos dados\n",
        "\n",
        "df = pd.read_json('/content/drive/MyDrive/ProjetoFinal/crypto/ethereum_entrada.json')\n",
        "df"
      ],
      "execution_count": null,
      "outputs": []
    },
    {
      "cell_type": "markdown",
      "metadata": {
        "id": "pZZ4PoyS8qcd"
      },
      "source": [
        "#### Limpeza e Tratamento de Dados"
      ]
    },
    {
      "cell_type": "code",
      "metadata": {
        "id": "yii0-QVVt4Bw"
      },
      "source": [
        "#Renomeando todas as colunas traduzindo-as para o português\n",
        "#Comentário -01\n",
        "\n",
        "df.rename(columns={\n",
        "    'SNo':'Id',\n",
        "    'Symbol':'Sigla',\n",
        "    'Date':'Data',\n",
        "    'Name':'Moeda',\n",
        "    'Open':'Preco_Abertura',\n",
        "    'Close':'Preco_Fechamento',\n",
        "    'Low':'Menor_Preco',\n",
        "    'High':'Maior_Preco',\n",
        "    'Volume':'Volume',\n",
        "    'Marketcap':'Capitalizacao_Mercado'\n",
        "}, inplace=True)"
      ],
      "execution_count": null,
      "outputs": []
    },
    {
      "cell_type": "code",
      "metadata": {
        "id": "dtCgWOwuuANM"
      },
      "source": [
        "#Verificando se todas as alterações foram feitas e os tipos de dados das colunas\n",
        "\n",
        "df.dtypes"
      ],
      "execution_count": null,
      "outputs": []
    },
    {
      "cell_type": "code",
      "metadata": {
        "id": "phJekp6auPbN"
      },
      "source": [
        "#Verificando a presença de nulos no dataset\n",
        "df.isnull().sum()"
      ],
      "execution_count": null,
      "outputs": []
    },
    {
      "cell_type": "code",
      "metadata": {
        "id": "8ohNxcpqfncC"
      },
      "source": [
        "df"
      ],
      "execution_count": null,
      "outputs": []
    },
    {
      "cell_type": "code",
      "metadata": {
        "id": "kFYGA3H-N8V9"
      },
      "source": [
        "#Tranformando a visualização dos valores para melhor compreensão com duas casas decimais\n",
        "#Comentário -02\n",
        "\n",
        "pd.options.display.float_format = '{:,.2f}'.format\n"
      ],
      "execution_count": null,
      "outputs": []
    },
    {
      "cell_type": "code",
      "metadata": {
        "id": "Z5xgTXq096Ns"
      },
      "source": [
        "#Verificando se os dados contidos na coluna Id são únicos para usá-lo como meu index\n",
        "df.Id.is_unique"
      ],
      "execution_count": null,
      "outputs": []
    },
    {
      "cell_type": "code",
      "metadata": {
        "id": "85E0PG67uWMy"
      },
      "source": [
        "#Após a confirmação de cima, aqui está sendo colocada a coluna Id como index\n",
        "df.set_index('Id', inplace=True)"
      ],
      "execution_count": null,
      "outputs": []
    },
    {
      "cell_type": "code",
      "metadata": {
        "id": "wlwBv3dJj9EE"
      },
      "source": [
        "#Normalizando a data tirando as horas\n",
        "\n",
        "df['Data'] = pd.to_datetime(df['Data']).dt.normalize()"
      ],
      "execution_count": null,
      "outputs": []
    },
    {
      "cell_type": "code",
      "metadata": {
        "id": "w7bmLzNIuxXD"
      },
      "source": [
        "#Verificando se o dataset ta ok\n",
        "df"
      ],
      "execution_count": null,
      "outputs": []
    },
    {
      "cell_type": "markdown",
      "metadata": {
        "id": "XuYc1rB1KsVr"
      },
      "source": [
        "## Plotagem"
      ]
    },
    {
      "cell_type": "markdown",
      "metadata": {
        "id": "UyV28nABCTXg"
      },
      "source": [
        "### Criando minidataframe para plotagem 1 (Preço Fechamento mar de 2018)"
      ]
    },
    {
      "cell_type": "code",
      "metadata": {
        "id": "pZ3Cqqg8vOYi"
      },
      "source": [
        "#Comentário -04"
      ],
      "execution_count": null,
      "outputs": []
    },
    {
      "cell_type": "code",
      "metadata": {
        "id": "wfe54gfu2jRJ"
      },
      "source": [
        "colunas_selecionadas_plotagem = ['Data','Preco_Fechamento']"
      ],
      "execution_count": null,
      "outputs": []
    },
    {
      "cell_type": "code",
      "metadata": {
        "id": "jUBH75Go-6hR"
      },
      "source": [
        "df1=df.filter(items=colunas_selecionadas_plotagem)"
      ],
      "execution_count": null,
      "outputs": []
    },
    {
      "cell_type": "code",
      "metadata": {
        "id": "dOg84l51-_YS"
      },
      "source": [
        "df1 = df1.query(\"Data >= '2018-03-01' & Data <= '2018-03-31'\")"
      ],
      "execution_count": null,
      "outputs": []
    },
    {
      "cell_type": "code",
      "metadata": {
        "id": "bBHPRO0M3GKc"
      },
      "source": [
        "df1"
      ],
      "execution_count": null,
      "outputs": []
    },
    {
      "cell_type": "markdown",
      "metadata": {
        "id": "S1_yg9yQIfu-"
      },
      "source": [
        "### Criando minidataframe para plotagem 2 (Preço Fechamento mar de 2019)"
      ]
    },
    {
      "cell_type": "code",
      "metadata": {
        "id": "TIw4H49VIwO7"
      },
      "source": [
        "colunas_selecionadas_plotagem2 = ['Data','Preco_Fechamento']"
      ],
      "execution_count": null,
      "outputs": []
    },
    {
      "cell_type": "code",
      "metadata": {
        "id": "Ar48emVSI1In"
      },
      "source": [
        "df2=df.filter(items=colunas_selecionadas_plotagem2)"
      ],
      "execution_count": null,
      "outputs": []
    },
    {
      "cell_type": "code",
      "metadata": {
        "id": "A7A2jElsI50j"
      },
      "source": [
        "df2 = df2.query(\"Data >= '2019-03-01' & Data <= '2019-03-31'\")"
      ],
      "execution_count": null,
      "outputs": []
    },
    {
      "cell_type": "markdown",
      "metadata": {
        "id": "nAFWx9F_MCk-"
      },
      "source": [
        "### Criando minidataframe para plotagem 3 (Preço Fechamento mar de 2020)"
      ]
    },
    {
      "cell_type": "code",
      "metadata": {
        "id": "z_gELtCkMCk-"
      },
      "source": [
        "colunas_selecionadas_plotagem3 = ['Data','Preco_Fechamento']"
      ],
      "execution_count": null,
      "outputs": []
    },
    {
      "cell_type": "code",
      "metadata": {
        "id": "uiOsx16KMCk_"
      },
      "source": [
        "df3=df.filter(items=colunas_selecionadas_plotagem3)"
      ],
      "execution_count": null,
      "outputs": []
    },
    {
      "cell_type": "code",
      "metadata": {
        "id": "V6lwTbosMCk_"
      },
      "source": [
        "df3 = df3.query(\"Data >= '2020-03-01' & Data <= '2020-03-31'\")"
      ],
      "execution_count": null,
      "outputs": []
    },
    {
      "cell_type": "markdown",
      "metadata": {
        "id": "rtzaHjU_Mld4"
      },
      "source": [
        "### Criando minidataframe para plotagem 4 (Preço Fechamento mar de 2021)"
      ]
    },
    {
      "cell_type": "code",
      "metadata": {
        "id": "1vJwgow3Mld4"
      },
      "source": [
        "colunas_selecionadas_plotagem4 = ['Data','Preco_Fechamento']"
      ],
      "execution_count": null,
      "outputs": []
    },
    {
      "cell_type": "code",
      "metadata": {
        "id": "m9X7AWEyMld5"
      },
      "source": [
        "df4=df.filter(items=colunas_selecionadas_plotagem4)"
      ],
      "execution_count": null,
      "outputs": []
    },
    {
      "cell_type": "code",
      "metadata": {
        "id": "F4yALarYMld5"
      },
      "source": [
        "df4 = df4.query(\"Data >= '2021-03-01' & Data <= '2021-03-31'\")"
      ],
      "execution_count": null,
      "outputs": []
    },
    {
      "cell_type": "markdown",
      "metadata": {
        "id": "R0SpsRgRIKJI"
      },
      "source": [
        "###Plotagens"
      ]
    },
    {
      "cell_type": "code",
      "metadata": {
        "colab": {
          "base_uri": "https://localhost:8080/",
          "height": 277
        },
        "id": "8Hx4NWMdCMte",
        "outputId": "76a0c9dc-d93b-4e9f-a88c-863f220d931b"
      },
      "source": [
        "#Preço de Fechamento da ethereum no mês de março de 2018\n",
        "#Comentário -05\n",
        "\n",
        "df1.plot(x='Data',y='Preco_Fechamento',kind='line',figsize=(10, 3))\n"
      ],
      "execution_count": null,
      "outputs": [
        {
          "output_type": "execute_result",
          "data": {
            "text/plain": [
              "<matplotlib.axes._subplots.AxesSubplot at 0x7f329c098b10>"
            ]
          },
          "metadata": {},
          "execution_count": 66
        },
        {
          "output_type": "display_data",
          "data": {
            "image/png": "[encoded data removed]",
            "text/plain": [
              "<Figure size 720x216 with 1 Axes>"
            ]
          },
          "metadata": {
            "needs_background": "light"
          }
        }
      ]
    },
    {
      "cell_type": "code",
      "metadata": {
        "colab": {
          "base_uri": "https://localhost:8080/",
          "height": 277
        },
        "id": "10Rw9aioKUHm",
        "outputId": "091c1b7d-ed19-4f82-c230-7a1147b66194"
      },
      "source": [
        "#Preço de Fechamento da ethereum no mês de março de 2019\n",
        "df2.plot(x='Data',y='Preco_Fechamento',kind='line',figsize=(10, 3))"
      ],
      "execution_count": null,
      "outputs": [
        {
          "output_type": "execute_result",
          "data": {
            "text/plain": [
              "<matplotlib.axes._subplots.AxesSubplot at 0x7fb10c05c6d0>"
            ]
          },
          "metadata": {},
          "execution_count": 48
        },
        {
          "output_type": "display_data",
          "data": {
            "image/png": "[encoded data removed]",
            "text/plain": [
              "<Figure size 720x216 with 1 Axes>"
            ]
          },
          "metadata": {
            "needs_background": "light"
          }
        }
      ]
    },
    {
      "cell_type": "code",
      "metadata": {
        "colab": {
          "base_uri": "https://localhost:8080/",
          "height": 277
        },
        "id": "ht_KTymcKZgN",
        "outputId": "573c9b34-dc3d-41cd-ae89-7d2fb48f127b"
      },
      "source": [
        "#Preço de Fechamento da ethereum no mês de março de 2020\n",
        "df3.plot(x='Data',y='Preco_Fechamento',kind='line',figsize=(10, 3))"
      ],
      "execution_count": null,
      "outputs": [
        {
          "output_type": "execute_result",
          "data": {
            "text/plain": [
              "<matplotlib.axes._subplots.AxesSubplot at 0x7fb10be44c10>"
            ]
          },
          "metadata": {},
          "execution_count": 73
        },
        {
          "output_type": "display_data",
          "data": {
            "image/png": "[encoded data removed]",
            "text/plain": [
              "<Figure size 720x216 with 1 Axes>"
            ]
          },
          "metadata": {
            "needs_background": "light"
          }
        }
      ]
    },
    {
      "cell_type": "code",
      "metadata": {
        "colab": {
          "base_uri": "https://localhost:8080/",
          "height": 277
        },
        "id": "5DFkVOK0Nvas",
        "outputId": "98b71d12-793b-4e45-faa7-1d19b12ef528"
      },
      "source": [
        "#Preço de Fechamento da ethereum no mês de março de 2021\n",
        "df4.plot(x='Data',y='Preco_Fechamento',kind='line',figsize=(10, 3))"
      ],
      "execution_count": null,
      "outputs": [
        {
          "output_type": "execute_result",
          "data": {
            "text/plain": [
              "<matplotlib.axes._subplots.AxesSubplot at 0x7fb10bd757d0>"
            ]
          },
          "metadata": {},
          "execution_count": 74
        },
        {
          "output_type": "display_data",
          "data": {
            "image/png": "[encoded data removed]",
            "text/plain": [
              "<Figure size 720x216 with 1 Axes>"
            ]
          },
          "metadata": {
            "needs_background": "light"
          }
        }
      ]
    },
    {
      "cell_type": "markdown",
      "metadata": {
        "id": "ab0kxGYc_XYX"
      },
      "source": [
        "## Load do dataset no GCP"
      ]
    },
    {
      "cell_type": "code",
      "metadata": {
        "id": "QukKvZVY96zB"
      },
      "source": [
        "#Transformando os dados em csv e salvando no Drive\n",
        "#Comentário -03\n",
        "\n",
        "#df.to_csv(\"/content/drive/MyDrive/ProjetoFinal/crypto/ethereum_pandas.csv\", index=True)"
      ],
      "execution_count": null,
      "outputs": []
    },
    {
      "cell_type": "code",
      "metadata": {
        "id": "Af5G7NrYQahu"
      },
      "source": [
        "#Enviando tabela em csv para a cloud\n",
        "\n",
        "#!gsutil cp /content/drive/MyDrive/ProjetoFinal/crypto/ethereum_pandas.csv gs://{bucket_name}/saida/dados_pandas/"
      ],
      "execution_count": null,
      "outputs": []
    },
    {
      "cell_type": "markdown",
      "metadata": {
        "id": "kpwIKGaPzCIv"
      },
      "source": [
        "# Pyspark"
      ]
    },
    {
      "cell_type": "markdown",
      "metadata": {
        "id": "lIOEb20AbQHW"
      },
      "source": [
        "##Configurações e instalações"
      ]
    },
    {
      "cell_type": "code",
      "metadata": {
        "id": "7Jd9Dl_GTBrj"
      },
      "source": [
        "#Download da tabela normalizada com Pandas\n",
        "\n",
        "#!gsutil cp gs://{bucket_name}/saida/dados_pandas/ethereum_pandas.csv /content/drive/MyDrive/ProjetoFinal/crypto/ethereum_pandas_tratada.csv"
      ],
      "execution_count": null,
      "outputs": []
    },
    {
      "cell_type": "code",
      "metadata": {
        "id": "ZnAdE_fLj-Ea",
        "colab": {
          "base_uri": "https://localhost:8080/"
        },
        "outputId": "bdb650a5-d94f-497a-e2fb-8d3bb0baf66c"
      },
      "source": [
        "#Instalando o pyspark\n",
        "!pip install pyspark"
      ],
      "execution_count": null,
      "outputs": [
        {
          "output_type": "stream",
          "name": "stdout",
          "text": [
            "Requirement already satisfied: pyspark in /usr/local/lib/python3.7/dist-packages (3.2.0)\n",
            "Requirement already satisfied: py4j==0.10.9.2 in /usr/local/lib/python3.7/dist-packages (from pyspark) (0.10.9.2)\n"
          ]
        }
      ]
    },
    {
      "cell_type": "code",
      "metadata": {
        "id": "lchyMxkwkHB2"
      },
      "source": [
        "#Importando as bibliotecas necessárias\n",
        "\n",
        "from pyspark.sql import SparkSession\n",
        "import pyspark.sql.functions as F\n",
        "from pyspark.sql.types import StructType, StructField, StringType, IntegerType, DateType, FloatType, DoubleType\n",
        "from pyspark.sql.window import Window\n",
        "from pyspark.sql.functions import *\n"
      ],
      "execution_count": null,
      "outputs": []
    },
    {
      "cell_type": "code",
      "metadata": {
        "id": "e86o7FdtncHD",
        "colab": {
          "base_uri": "https://localhost:8080/"
        },
        "outputId": "6932cbf7-c676-422e-b1a7-bde0d55afed6"
      },
      "source": [
        "#Configurando nosso SparkSession\n",
        "#Comentário -05\n",
        "\n",
        "spark = (SparkSession.builder\\\n",
        "        .master(\"local\")\\\n",
        "        .appName(\"dataframe.ethereum\")\\\n",
        "        .config(\"spark.ui.port\", \"4050\")\\\n",
        "        .getOrCreate())\n",
        "spark"
      ],
      "execution_count": null,
      "outputs": [
        {
          "output_type": "execute_result",
          "data": {
            "text/html": [
              "\n",
              "            <div>\n",
              "                <p><b>SparkSession - in-memory</b></p>\n",
              "                \n",
              "        <div>\n",
              "            <p><b>SparkContext</b></p>\n",
              "\n",
              "            <p><a href=\"http://fd91eda90248:4050\">Spark UI</a></p>\n",
              "\n",
              "            <dl>\n",
              "              <dt>Version</dt>\n",
              "                <dd><code>v3.2.0</code></dd>\n",
              "              <dt>Master</dt>\n",
              "                <dd><code>local</code></dd>\n",
              "              <dt>AppName</dt>\n",
              "                <dd><code>dataframe.ethereum</code></dd>\n",
              "            </dl>\n",
              "        </div>\n",
              "        \n",
              "            </div>\n",
              "        "
            ],
            "text/plain": [
              "<pyspark.sql.session.SparkSession at 0x7f7fb2455650>"
            ]
          },
          "metadata": {},
          "execution_count": 12
        }
      ]
    },
    {
      "cell_type": "code",
      "metadata": {
        "id": "b7SyLNqhn2Sj"
      },
      "source": [
        "# Montando a estrutura do DataFrame \n",
        "#Comentário -06\n",
        "\n",
        "schema= StructType([\n",
        "    StructField('Id',IntegerType(),True),\n",
        "    StructField('Moeda',StringType(),True),                \n",
        "    StructField('Sigla',StringType(),True),\n",
        "    StructField('Data',DateType(),True),\n",
        "    StructField('Maior_Preco',FloatType(),True),\n",
        "    StructField('Menor_Preco',FloatType(),True),\n",
        "    StructField('Preco_Abertura',FloatType(),True),\n",
        "    StructField('Preco_Fechamento',FloatType(),True),\n",
        "    StructField('Volume',FloatType(),True),\n",
        "    StructField('Capitalizacao_Mercado',FloatType(),True)])\n",
        "\n",
        "local=('/content/drive/MyDrive/ProjetoFinal/crypto/ethereum_pandas_tratada.csv')\n",
        "df_ethereum = spark.read.load(local, format=\"csv\", header=\"true\", sep=',', schema=schema)"
      ],
      "execution_count": null,
      "outputs": []
    },
    {
      "cell_type": "code",
      "metadata": {
        "id": "S4BHfCswQiaw",
        "colab": {
          "base_uri": "https://localhost:8080/"
        },
        "outputId": "96543df0-c86e-4f7b-f080-38e644c07cdf"
      },
      "source": [
        "#Verificando os tipos de dados da coluna\n",
        "\n",
        "df_ethereum.printSchema()"
      ],
      "execution_count": null,
      "outputs": [
        {
          "output_type": "stream",
          "name": "stdout",
          "text": [
            "root\n",
            " |-- Id: integer (nullable = true)\n",
            " |-- Moeda: string (nullable = true)\n",
            " |-- Sigla: string (nullable = true)\n",
            " |-- Data: date (nullable = true)\n",
            " |-- Maior_Preco: float (nullable = true)\n",
            " |-- Menor_Preco: float (nullable = true)\n",
            " |-- Preco_Abertura: float (nullable = true)\n",
            " |-- Preco_Fechamento: float (nullable = true)\n",
            " |-- Volume: float (nullable = true)\n",
            " |-- Capitalizacao_Mercado: float (nullable = true)\n",
            "\n"
          ]
        }
      ]
    },
    {
      "cell_type": "markdown",
      "metadata": {
        "id": "14gSPlx6AoOQ"
      },
      "source": [
        "## Extraindo insights "
      ]
    },
    {
      "cell_type": "markdown",
      "metadata": {
        "id": "Gc109BMCQsok"
      },
      "source": [
        "Verificando todo o DataFrame"
      ]
    },
    {
      "cell_type": "code",
      "metadata": {
        "id": "1dN2ROdlENIY"
      },
      "source": [
        "df_ethereum.show()"
      ],
      "execution_count": null,
      "outputs": []
    },
    {
      "cell_type": "markdown",
      "metadata": {
        "id": "PblZHdqKfGZe"
      },
      "source": [
        "Criando uma nova coluna verificando os dias que a moeda fechou em alta ou não"
      ]
    },
    {
      "cell_type": "code",
      "metadata": {
        "id": "fRxPu3IMEN6q"
      },
      "source": [
        "df_ethereum1 = (df_ethereum.withColumn(\"Valorizou_No_Dia\", \n",
        "       F.when(F.col(\"Preco_Fechamento\") > F.col(\"Preco_Abertura\"), F.lit(\"SIM\"))\n",
        "        .otherwise(\"NAO\")))\n",
        "df_ethereum1.show()"
      ],
      "execution_count": null,
      "outputs": []
    },
    {
      "cell_type": "markdown",
      "metadata": {
        "id": "LavoupeZh38C"
      },
      "source": [
        "Selecionando apenas as datas em que o preço de fechamento foi maior do que o da abertura"
      ]
    },
    {
      "cell_type": "code",
      "metadata": {
        "colab": {
          "base_uri": "https://localhost:8080/"
        },
        "id": "IziQakdwf-cs",
        "outputId": "4b48e299-0d78-4d3f-800a-286447e30288"
      },
      "source": [
        "df_ethereum1.select(F.col('Data'),F.col('Sigla'),F.col('Preco_Abertura'),F.col('Preco_Fechamento')).filter(F.col('Valorizou_No_Dia')== 'SIM').show(10)"
      ],
      "execution_count": null,
      "outputs": [
        {
          "output_type": "stream",
          "name": "stdout",
          "text": [
            "+----------+-----+--------------+----------------+\n",
            "|      Data|Sigla|Preco_Abertura|Preco_Fechamento|\n",
            "+----------+-----+--------------+----------------+\n",
            "|2015-08-11|  ETH|      0.708087|         1.06786|\n",
            "|2015-08-12|  ETH|       1.05875|         1.21744|\n",
            "|2015-08-13|  ETH|       1.22224|         1.82767|\n",
            "|2015-08-14|  ETH|       1.81092|         1.82787|\n",
            "|2015-08-19|  ETH|       1.16693|         1.25886|\n",
            "|2015-08-20|  ETH|       1.25118|         1.46492|\n",
            "|2015-08-26|  ETH|       1.13279|         1.15998|\n",
            "|2015-08-28|  ETH|       1.14766|         1.19138|\n",
            "|2015-08-30|  ETH|       1.18299|         1.31927|\n",
            "|2015-08-31|  ETH|       1.32138|         1.35824|\n",
            "+----------+-----+--------------+----------------+\n",
            "only showing top 10 rows\n",
            "\n"
          ]
        }
      ]
    },
    {
      "cell_type": "markdown",
      "metadata": {
        "id": "Zwk9y_5Q0hU8"
      },
      "source": [
        "Verificando a média geral dos maiores preços da moeda "
      ]
    },
    {
      "cell_type": "code",
      "metadata": {
        "colab": {
          "base_uri": "https://localhost:8080/"
        },
        "id": "iQ6DgXBhquS4",
        "outputId": "6347d4fb-7db8-44ab-a233-9991c1fd4cd8"
      },
      "source": [
        "df_ethereum1.groupby().mean(\"Maior_Preco\").show()\n"
      ],
      "execution_count": null,
      "outputs": [
        {
          "output_type": "stream",
          "name": "stdout",
          "text": [
            "+-----------------+\n",
            "| avg(Maior_Preco)|\n",
            "+-----------------+\n",
            "|398.2585684068501|\n",
            "+-----------------+\n",
            "\n"
          ]
        }
      ]
    },
    {
      "cell_type": "markdown",
      "metadata": {
        "id": "C0fMiERT0MrF"
      },
      "source": [
        "Selecionando o maior preço da Ethereum entre o intervalo de data do dataframe"
      ]
    },
    {
      "cell_type": "code",
      "metadata": {
        "colab": {
          "base_uri": "https://localhost:8080/"
        },
        "id": "xAUpJkihrIOG",
        "outputId": "d157fd47-9c34-45e4-a6a9-d5240cde2048"
      },
      "source": [
        "df_ethereum1.select(F.max(F.col(\"Maior_Preco\"))).show(truncate=False)\n"
      ],
      "execution_count": null,
      "outputs": [
        {
          "output_type": "stream",
          "name": "stdout",
          "text": [
            "+----------------+\n",
            "|max(Maior_Preco)|\n",
            "+----------------+\n",
            "|4362.3506       |\n",
            "+----------------+\n",
            "\n"
          ]
        }
      ]
    },
    {
      "cell_type": "markdown",
      "metadata": {
        "id": "B0sXUDQEQFt5"
      },
      "source": [
        "Selecionando o menor preço da Ethereum entre o intervalo de data do dataframe"
      ]
    },
    {
      "cell_type": "code",
      "metadata": {
        "colab": {
          "base_uri": "https://localhost:8080/"
        },
        "id": "vu_UO4E6I0uM",
        "outputId": "f2ba69cc-ba54-42a3-d281-4af4e2181e11"
      },
      "source": [
        "df_ethereum1.select(F.min(F.col(\"Menor_Preco\"))).show(truncate=False)\n"
      ],
      "execution_count": null,
      "outputs": [
        {
          "output_type": "stream",
          "name": "stdout",
          "text": [
            "+------------------+\n",
            "|min(Menor_Preco)  |\n",
            "+------------------+\n",
            "|0.4208970069885254|\n",
            "+------------------+\n",
            "\n"
          ]
        }
      ]
    },
    {
      "cell_type": "markdown",
      "metadata": {
        "id": "4MaBlzvQ2AXF"
      },
      "source": [
        "Selecionando algumas colunas filtrando pela nova coluna criada com base na valorização"
      ]
    },
    {
      "cell_type": "code",
      "metadata": {
        "colab": {
          "base_uri": "https://localhost:8080/"
        },
        "id": "xM2FeGlrIJ15",
        "outputId": "ae9c4114-6036-4618-fdd3-fb8301803914"
      },
      "source": [
        "df_ethereum_valorizacao = df_ethereum1.select(F.col(\"Data\"),F.col(\"Sigla\"),F.col(\"Preco_Abertura\"),F.col(\"Preco_Fechamento\"),F.col(\"Valorizou_No_Dia\")).filter(F.col(\"Valorizou_No_Dia\") == \"SIM\").show(10)"
      ],
      "execution_count": null,
      "outputs": [
        {
          "output_type": "stream",
          "name": "stdout",
          "text": [
            "+----------+-----+------------------+------------------+----------------+\n",
            "|      Data|Sigla|    Preco_Abertura|  Preco_Fechamento|Valorizou_No_Dia|\n",
            "+----------+-----+------------------+------------------+----------------+\n",
            "|2015-08-11|  ETH|0.7080870270729065|1.0678600072860718|             SIM|\n",
            "|2015-08-12|  ETH| 1.058750033378601|1.2174400091171265|             SIM|\n",
            "|2015-08-13|  ETH|1.2222399711608887|1.8276699781417847|             SIM|\n",
            "|2015-08-14|  ETH| 1.810920000076294|1.8278700113296509|             SIM|\n",
            "|2015-08-19|  ETH|1.1669299602508545|1.2588599920272827|             SIM|\n",
            "|2015-08-20|  ETH|1.2511800527572632|1.4649200439453125|             SIM|\n",
            "|2015-08-26|  ETH| 1.132789969444275| 1.159980058670044|             SIM|\n",
            "|2015-08-28|  ETH|1.1476600170135498|1.1913800239562988|             SIM|\n",
            "|2015-08-30|  ETH|1.1829899549484253|1.3192700147628784|             SIM|\n",
            "|2015-08-31|  ETH|1.3213800191879272| 1.358240008354187|             SIM|\n",
            "+----------+-----+------------------+------------------+----------------+\n",
            "only showing top 10 rows\n",
            "\n"
          ]
        }
      ]
    },
    {
      "cell_type": "markdown",
      "metadata": {
        "id": "zdVKyLh4ZJ5L"
      },
      "source": [
        "## Load para o GCP e Drive"
      ]
    },
    {
      "cell_type": "code",
      "metadata": {
        "id": "y7mexOXGZXKk"
      },
      "source": [
        "#Convertendo Spark_df para Pandas_df\n",
        "df_ethereum_pd = df_ethereum.toPandas()\n"
      ],
      "execution_count": null,
      "outputs": []
    },
    {
      "cell_type": "code",
      "metadata": {
        "id": "ICnFsEyMZorp"
      },
      "source": [
        "#Salvando Spark to Pandas no Drive\n",
        "\n",
        "df_ethereum_pd.to_csv('/content/drive/MyDrive/ProjetoFinal/crypto/ethereum_pyspark.csv', index = False)"
      ],
      "execution_count": null,
      "outputs": []
    },
    {
      "cell_type": "code",
      "metadata": {
        "colab": {
          "base_uri": "https://localhost:8080/"
        },
        "id": "Ld8ubTOKfFr0",
        "outputId": "8b39ad03-e692-4fbc-9454-0435872d1f83"
      },
      "source": [
        "#Envio de dados para o bucket\n",
        "!gsutil cp /content/drive/MyDrive/ProjetoFinal/crypto/ethereum_pyspark.csv gs://{bucket_name}/saida/dados_pyspark/"
      ],
      "execution_count": null,
      "outputs": [
        {
          "output_type": "stream",
          "name": "stdout",
          "text": [
            "Copying file:///content/drive/MyDrive/ProjetoFinal/crypto/ethereum_pyspark.csv [Content-Type=text/csv]...\n",
            "/ [1 files][254.2 KiB/254.2 KiB]                                                \n",
            "Operation completed over 1 objects/254.2 KiB.                                    \n"
          ]
        }
      ]
    },
    {
      "cell_type": "markdown",
      "metadata": {
        "id": "1mbTYJ7QIob9"
      },
      "source": [
        "# SparkSQL"
      ]
    },
    {
      "cell_type": "markdown",
      "metadata": {
        "id": "uldVRhXrm-wW"
      },
      "source": [
        "## Ingestão e configurações"
      ]
    },
    {
      "cell_type": "code",
      "metadata": {
        "colab": {
          "base_uri": "https://localhost:8080/"
        },
        "id": "vWTJgjdggN1P",
        "outputId": "be94593f-a805-467a-ad99-7e9b6b33077e"
      },
      "source": [
        "#!gsutil cp gs://{bucket_name}/saida/dados_pyspark/ethereum_pyspark.csv /content/drive/MyDrive/ProjetoFinal/crypto/ethereum_spark_sql.csv "
      ],
      "execution_count": null,
      "outputs": [
        {
          "output_type": "stream",
          "name": "stdout",
          "text": [
            "BadRequestException: 400 Invalid bucket name: '{bucket_name}'\n"
          ]
        }
      ]
    },
    {
      "cell_type": "code",
      "metadata": {
        "id": "6q_n8Q7wIsAa"
      },
      "source": [
        "df_ethereum_sql = (spark\n",
        "                .read\n",
        "                .format(\"csv\")\n",
        "                .option(\"header\",\"true\")\n",
        "                .option(\"inferschema\", \"true\")\n",
        "                .option(\"delimiter\", \",\")\n",
        "                .load(\"/content/drive/MyDrive/ProjetoFinal/crypto/ethereum_spark_sql.csv\")\n",
        "                .createOrReplaceTempView(\"tabela_ethereum\"))"
      ],
      "execution_count": null,
      "outputs": []
    },
    {
      "cell_type": "code",
      "metadata": {
        "id": "sdu5hKTwQaqx"
      },
      "source": [
        "#Identificando as colunas e os tipos de dados do DataFrame\n",
        "spark.sql(\n",
        "'''\n",
        "describe tabela_ethereum'''\n",
        ").show()"
      ],
      "execution_count": null,
      "outputs": []
    },
    {
      "cell_type": "markdown",
      "metadata": {
        "id": "xXwlosiDnFJ4"
      },
      "source": [
        "## Consultas"
      ]
    },
    {
      "cell_type": "code",
      "metadata": {
        "id": "O0YCsNN3WkFI",
        "colab": {
          "base_uri": "https://localhost:8080/"
        },
        "outputId": "fb2bd067-5ca8-4ea4-ffdd-fe1abfcb9655"
      },
      "source": [
        "#Mostrando todas as colunas do DataFrame\n",
        "\n",
        "spark.sql('''SELECT * FROM tabela_ethereum''').show()"
      ],
      "execution_count": null,
      "outputs": [
        {
          "output_type": "stream",
          "name": "stdout",
          "text": [
            "+---+--------+-----+----------+------------------+------------------+------------------+------------------+---------+---------------------+\n",
            "| Id|   Moeda|Sigla|      Data|       Maior_Preco|       Menor_Preco|    Preco_Abertura|  Preco_Fechamento|   Volume|Capitalizacao_Mercado|\n",
            "+---+--------+-----+----------+------------------+------------------+------------------+------------------+---------+---------------------+\n",
            "|  1|Ethereum|  ETH|2015-08-08|2.7988100051879883|0.7147250175476074| 2.793760061264038|0.7533249855041504| 674188.0|      4.54868942408E7|\n",
            "|  2|Ethereum|  ETH|2015-08-09|0.8798099756240845| 0.629190981388092|0.7061359882354736|0.7018970251083374| 532170.0|      4.23995734991E7|\n",
            "|  3|Ethereum|  ETH|2015-08-10|0.7298539876937866|0.6365460157394409|0.7139890193939209|0.7084479928016663| 405283.0|      4.28183643945E7|\n",
            "|  4|Ethereum|  ETH|2015-08-11| 1.131410002708435|0.6632350087165833|0.7080870270729065|1.0678600072860718|1463100.0|      6.45692884328E7|\n",
            "|  5|Ethereum|  ETH|2015-08-12|1.2899399995803833|0.8836079835891724| 1.058750033378601|1.2174400091171265|2150620.0|      7.36450109863E7|\n",
            "|  6|Ethereum|  ETH|2015-08-13|1.9650700092315674|1.1719900369644165|1.2222399711608887|1.8276699781417847|4068680.0|      1.10607191674E8|\n",
            "|  7|Ethereum|  ETH|2015-08-14|2.2618799209594727|1.7547500133514404| 1.810920000076294|1.8278700113296509|4637030.0|      1.10672321811E8|\n",
            "|  8|Ethereum|  ETH|2015-08-15|1.8772399425506592|1.5709799528121948|1.8028899431228638|1.6888999938964844|2554360.0|      1.02303608467E8|\n",
            "|  9|Ethereum|  ETH|2015-08-16|1.6952400207519531|1.0898100137710571|1.6843500137329102|1.5660300254821777|3550790.0|      9.49010053503E7|\n",
            "| 10|Ethereum|  ETH|2015-08-17|1.5811899900436401|1.1853400468826294|1.5811899900436401|1.2036099433898926|1942830.0|      8.72953665007E7|\n",
            "| 11|Ethereum|  ETH|2015-08-18|1.3311599493026733| 1.087049961090088|1.2152999639511108| 1.087049961090088|1485680.0|       7.8868413078E7|\n",
            "| 12|Ethereum|  ETH|2015-08-19|1.3179899454116821|1.1669299602508545|1.1669299602508545|1.2588599920272827|1486240.0|      9.13663914393E7|\n",
            "| 13|Ethereum|  ETH|2015-08-20|1.5333000421524048| 1.248329997062683|1.2511800527572632|1.4649200439453125|2843760.0|      1.06351420178E8|\n",
            "| 14|Ethereum|  ETH|2015-08-21|1.5564199686050415|1.3528000116348267|1.4775199890136719|1.3952900171279907|2020970.0|      1.01331855597E8|\n",
            "| 15|Ethereum|  ETH|2015-08-22|1.4764100313186646| 1.352679967880249|1.3962899446487427|  1.37923002243042| 948310.0|      1.00201825662E8|\n",
            "| 16|Ethereum|  ETH|2015-08-23|1.4097000360488892|1.2977700233459473|             1.375|1.3525899648666382|1589300.0|      9.83003513461E7|\n",
            "| 17|Ethereum|  ETH|2015-08-24| 1.362779974937439|1.2312699556350708|1.3455899953842163|1.2312699556350708| 924920.0|      8.95152565525E7|\n",
            "| 18|Ethereum|  ETH|2015-08-25| 1.241819977760315|1.1286499500274658|1.2286100387573242|1.1401900053024292|1307180.0|      8.29226329052E7|\n",
            "| 19|Ethereum|  ETH|2015-08-26|1.2024799585342407|1.0618300437927246| 1.132789969444275| 1.159980058670044|1056750.0|      8.43909235384E7|\n",
            "| 20|Ethereum|  ETH|2015-08-27| 1.188830018043518|1.1372900009155273|1.1698100566864014|1.1476999521255493| 686662.0|      8.35245853858E7|\n",
            "+---+--------+-----+----------+------------------+------------------+------------------+------------------+---------+---------------------+\n",
            "only showing top 20 rows\n",
            "\n"
          ]
        }
      ]
    },
    {
      "cell_type": "code",
      "metadata": {
        "id": "S_YplcvCQc4f",
        "colab": {
          "base_uri": "https://localhost:8080/"
        },
        "outputId": "55a14993-eb5b-4e32-a870-19c924e74281"
      },
      "source": [
        "#verificando a data inicial e final dos registros \n",
        "\n",
        "spark.sql('''SELECT MIN(Data) AS Data_Inicial,\n",
        "MAX(Data) AS Data_Final\n",
        "FROM tabela_ethereum\n",
        "''').show()"
      ],
      "execution_count": null,
      "outputs": [
        {
          "output_type": "stream",
          "name": "stdout",
          "text": [
            "+------------+----------+\n",
            "|Data_Inicial|Data_Final|\n",
            "+------------+----------+\n",
            "|  2015-08-08|2021-07-06|\n",
            "+------------+----------+\n",
            "\n"
          ]
        }
      ]
    },
    {
      "cell_type": "code",
      "metadata": {
        "colab": {
          "base_uri": "https://localhost:8080/"
        },
        "id": "BNzqCzSKhHaL",
        "outputId": "ba4d148b-16ca-4332-d2e9-38385287306a"
      },
      "source": [
        "#verificando a maior e a menor capitalizção já registrada entre 08-08-2015 a 06-07-2021\n",
        "+------------+----------\n",
        "\n",
        "spark.sql('''SELECT MIN(Capitalizacao_Mercado) AS Capitalizacao_Minima,\n",
        "MAX(Capitalizacao_Mercado) AS Capitalizacao_Maxima\n",
        "FROM tabela_ethereum\n",
        "''').show()"
      ],
      "execution_count": null,
      "outputs": [
        {
          "output_type": "stream",
          "name": "stdout",
          "text": [
            "+--------------------+--------------------+\n",
            "|Capitalizacao_Minima|Capitalizacao_Maxima|\n",
            "+--------------------+--------------------+\n",
            "|     3.22136261748E7|  4.8288190049093E11|\n",
            "+--------------------+--------------------+\n",
            "\n"
          ]
        }
      ]
    },
    {
      "cell_type": "code",
      "metadata": {
        "id": "h7swjdRHQyW1"
      },
      "source": [
        "#Preço de fechamento da ethereum na data de 01-03-2020 até 31-03-2020\n",
        "\n",
        "spark.sql(''' SELECT Moeda, Data, Preco_Fechamento\n",
        "FROM tabela_ethereum\n",
        "WHERE Data LIKE \"2020-03%\" \n",
        "''').show(31)"
      ],
      "execution_count": null,
      "outputs": []
    },
    {
      "cell_type": "code",
      "metadata": {
        "id": "ax8WLG4gs8mf"
      },
      "source": [
        "#Mostrando as datas onde o preço de fechamento foi maior que o de abertura\n",
        "spark.sql(''' SELECT Sigla, Data, Preco_Fechamento\n",
        "FROM tabela_ethereum\n",
        "WHERE Preco_Fechamento > Preco_Abertura\n",
        "''').show()"
      ],
      "execution_count": null,
      "outputs": []
    },
    {
      "cell_type": "code",
      "metadata": {
        "id": "_5_OR-3Iulnq"
      },
      "source": [
        "#Mostrando os dados da ethereum na data 01/01/2020\n",
        "spark.sql('''SELECT * FROM tabela_ethereum \n",
        "WHERE Data LIKE '2020-01-01'\n",
        "''').show()"
      ],
      "execution_count": null,
      "outputs": []
    },
    {
      "cell_type": "code",
      "metadata": {
        "colab": {
          "base_uri": "https://localhost:8080/"
        },
        "id": "ziB7TuXXv3N5",
        "outputId": "c8fc57d6-2a04-496b-ee2f-234a2bb1ba1c"
      },
      "source": [
        "#Verificando as datas onde a ethereum teve os maiores preços\n",
        "\n",
        "spark.sql(''' SELECT Sigla, Data, Maior_Preco\n",
        "FROM tabela_ethereum\n",
        "ORDER BY Maior_Preco DESC\n",
        "''').show()"
      ],
      "execution_count": null,
      "outputs": [
        {
          "output_type": "stream",
          "name": "stdout",
          "text": [
            "+-----+----------+-------------+\n",
            "|Sigla|      Data|  Maior_Preco|\n",
            "+-----+----------+-------------+\n",
            "|  ETH|2021-05-12| 4362.3505418|\n",
            "|  ETH|2021-05-10|4197.47327657|\n",
            "|  ETH|2021-05-11|4178.20881516|\n",
            "|  ETH|2021-05-14|4171.01696316|\n",
            "|  ETH|2021-05-15|4129.18552263|\n",
            "|  ETH|2021-05-13| 4032.5635388|\n",
            "|  ETH|2021-05-09|  3981.259091|\n",
            "|  ETH|2021-05-08|3950.16493281|\n",
            "|  ETH|2021-05-16|3878.89597502|\n",
            "|  ETH|2021-05-06| 3598.8958895|\n",
            "|  ETH|2021-05-17| 3587.7656099|\n",
            "|  ETH|2021-05-07|      3573.29|\n",
            "|  ETH|2021-05-18|3562.46515966|\n",
            "|  ETH|2021-05-05|3541.46264636|\n",
            "|  ETH|2021-05-04|3523.58582135|\n",
            "|  ETH|2021-05-03| 3450.0378763|\n",
            "|  ETH|2021-05-19|3437.93578796|\n",
            "|  ETH|2021-05-20|2993.14518268|\n",
            "|  ETH|2021-05-02|2984.89188214|\n",
            "|  ETH|2021-05-01|2951.44095688|\n",
            "+-----+----------+-------------+\n",
            "only showing top 20 rows\n",
            "\n"
          ]
        }
      ]
    },
    {
      "cell_type": "code",
      "metadata": {
        "id": "pEtGaf0IzxaL",
        "colab": {
          "base_uri": "https://localhost:8080/"
        },
        "outputId": "152080d4-7947-49a1-a2cf-1badd0149d49"
      },
      "source": [
        "#Mostrando as datas onde foram registrados os menores preços para a ethereum\n",
        "spark.sql(''' SELECT Sigla, Data, Menor_Preco\n",
        "FROM tabela_ethereum\n",
        "ORDER BY Menor_Preco\n",
        "''').show()"
      ],
      "execution_count": null,
      "outputs": [
        {
          "output_type": "stream",
          "name": "stdout",
          "text": [
            "+-----+----------+-------------------+\n",
            "|Sigla|      Data|        Menor_Preco|\n",
            "+-----+----------+-------------------+\n",
            "|  ETH|2015-10-21| 0.4208970069885254|\n",
            "|  ETH|2015-10-22| 0.4209910035133362|\n",
            "|  ETH|2015-10-20|0.43164798617362976|\n",
            "|  ETH|2015-10-19|0.48099398612976074|\n",
            "|  ETH|2015-10-14|0.48397400975227356|\n",
            "|  ETH|2015-10-23| 0.5042840242385864|\n",
            "|  ETH|2015-10-18| 0.5128610134124756|\n",
            "|  ETH|2015-10-15| 0.5147299766540527|\n",
            "|  ETH|2015-10-24| 0.5186880230903625|\n",
            "|  ETH|2015-10-16| 0.5225329995155334|\n",
            "|  ETH|2015-10-17| 0.5269610285758972|\n",
            "|  ETH|2015-09-28| 0.5570619702339172|\n",
            "|  ETH|2015-09-29| 0.5583459734916687|\n",
            "|  ETH|2015-10-25| 0.5613830089569092|\n",
            "|  ETH|2015-10-08| 0.5919709801673889|\n",
            "|  ETH|2015-10-26| 0.5970979928970337|\n",
            "|  ETH|2015-10-13| 0.5992140173912048|\n",
            "|  ETH|2015-10-07| 0.6024230122566223|\n",
            "|  ETH|2015-10-06| 0.6062300205230713|\n",
            "|  ETH|2015-10-11| 0.6183350086212158|\n",
            "+-----+----------+-------------------+\n",
            "only showing top 20 rows\n",
            "\n"
          ]
        }
      ]
    },
    {
      "cell_type": "code",
      "metadata": {
        "colab": {
          "base_uri": "https://localhost:8080/"
        },
        "id": "os4A634e2EHf",
        "outputId": "e4ae1a3c-7ef7-4935-eb2c-9fe58b24bd0b"
      },
      "source": [
        "spark.sql(''' SELECT Sigla, Data, Capitalizacao_Mercado\n",
        "FROM tabela_ethereum\n",
        "ORDER BY Capitalizacao_Mercado DESC\n",
        "''').show()"
      ],
      "execution_count": null,
      "outputs": [
        {
          "output_type": "stream",
          "name": "stdout",
          "text": [
            "+-----+----------+---------------------+\n",
            "|Sigla|      Data|Capitalizacao_Mercado|\n",
            "+-----+----------+---------------------+\n",
            "|  ETH|2021-05-11|   4.8288190049093E11|\n",
            "|  ETH|2021-05-14|   4.7266357078842E11|\n",
            "|  ETH|2021-05-10|   4.5776121980687E11|\n",
            "|  ETH|2021-05-09|   4.5499199490007E11|\n",
            "|  ETH|2021-05-08|   4.5190565009371E11|\n",
            "|  ETH|2021-05-12|   4.3858507567354E11|\n",
            "|  ETH|2021-05-13|   4.3044528230128E11|\n",
            "|  ETH|2021-05-15|   4.2161909068282E11|\n",
            "|  ETH|2021-05-16|    4.158015349619E11|\n",
            "|  ETH|2021-05-05|     4.07777080466E11|\n",
            "|  ETH|2021-05-06|   4.0413139479206E11|\n",
            "|  ETH|2021-05-07|   4.0346570289742E11|\n",
            "|  ETH|2021-05-03|   3.9706978647946E11|\n",
            "|  ETH|2021-05-18|   3.9185029526305E11|\n",
            "|  ETH|2021-05-17|   3.8048284386521E11|\n",
            "|  ETH|2021-05-04|   3.7657739957376E11|\n",
            "|  ETH|2021-05-02|   3.4159313388594E11|\n",
            "|  ETH|2021-05-01|   3.4084044435406E11|\n",
            "|  ETH|2021-05-26|   3.3519648564587E11|\n",
            "|  ETH|2021-06-03|   3.3160813310108E11|\n",
            "+-----+----------+---------------------+\n",
            "only showing top 20 rows\n",
            "\n"
          ]
        }
      ]
    },
    {
      "cell_type": "markdown",
      "metadata": {
        "id": "WowJKBBG4se6"
      },
      "source": [
        "# ApacheBeam"
      ]
    },
    {
      "cell_type": "code",
      "metadata": {
        "id": "YcG7FXu84yGM"
      },
      "source": [
        "pip install apache-beam[interactive]"
      ],
      "execution_count": null,
      "outputs": []
    },
    {
      "cell_type": "code",
      "metadata": {
        "id": "TjZA8OoY4yyS"
      },
      "source": [
        "import apache_beam as beam"
      ],
      "execution_count": null,
      "outputs": []
    },
    {
      "cell_type": "code",
      "metadata": {
        "id": "Vp4-Ndqz5rN4"
      },
      "source": [
        "p1 = beam.Pipeline ()\n",
        "\n",
        "ethereum = (\n",
        "    p1\n",
        "    |'Extrair os dados' >> beam.io.ReadFromText('/content/drive/MyDrive/ProjetoFinal/crypto/ethereum_pyspark.csv', skip_header_lines= 0)\n",
        "    |'Separador' >> beam.Map(lambda record: record.split(','))\n",
        "    |'Saida de dados' >> beam.Map(print)\n",
        "    #|'Gravar resultados'>> beam.io.WriterToText('resultado_ethereum.txt')\n",
        ")\n",
        "p1.run()"
      ],
      "execution_count": null,
      "outputs": []
    },
    {
      "cell_type": "code",
      "metadata": {
        "colab": {
          "base_uri": "https://localhost:8080/"
        },
        "id": "dqrIl--EIzzb",
        "outputId": "b0ee3b45-db39-4639-8393-d1150278eef4"
      },
      "source": [
        "p2 = beam.Pipeline()\n",
        "\n",
        "ethereum_data = (\n",
        "    p2\n",
        "    |'Extrair os dados' >> beam.io.ReadFromText('/content/drive/MyDrive/ProjetoFinal/crypto/ethereum_pyspark.csv', skip_header_lines= 0)\n",
        "    |'Separador' >> beam.Map(lambda record: record.split(','))\n",
        "    |'Data da consulta' >> beam.Filter(lambda record : (record[3]) == '2020-05-31') #selecionando na coluna Data = 31 DE MAIO DE 2020\n",
        "    |'Agregação de colunas' >> beam.Map(lambda record: (record[1], float(record[7]))) #selecionando o preço de fechamento da referida data\n",
        "    |'Saída de Dados' >> beam.Map(print)\n",
        " \n",
        ")\n",
        "p2.run()\n"
      ],
      "execution_count": null,
      "outputs": [
        {
          "output_type": "stream",
          "name": "stderr",
          "text": [
            "WARNING:root:Make sure that locally built Python SDK docker image has Python 3.7 interpreter.\n"
          ]
        },
        {
          "output_type": "stream",
          "name": "stdout",
          "text": [
            "('Ethereum', 230.975700856)\n"
          ]
        },
        {
          "output_type": "execute_result",
          "data": {
            "text/plain": [
              "<apache_beam.runners.portability.fn_api_runner.fn_runner.RunnerResult at 0x7f0796ce0050>"
            ]
          },
          "metadata": {},
          "execution_count": 4
        }
      ]
    }
  ]
}