{
  "nbformat": 4,
  "nbformat_minor": 0,
  "metadata": {
    "colab": {
      "name": "ProjetoFinal_G2Economia_Patricia",
      "provenance": [],
      "collapsed_sections": [
        "N0hC2t4URFds",
        "LkXp1M_ueCSd",
        "iLFGGHRc70J4",
        "39SbHvmjr5u4"
      ],
      "include_colab_link": true
    },
    "kernelspec": {
      "name": "python3",
      "display_name": "Python 3"
    },
    "language_info": {
      "name": "python"
    }
  },
  "cells": [
    {
      "cell_type": "markdown",
      "metadata": {
        "id": "view-in-github",
        "colab_type": "text"
      },
      "source": [
        "<a href=\"https://colab.research.google.com/github/ewertonsilvag/Projeto_Conclusao_SoulCode/blob/main/DataFrame_MercadoAcoes.ipynb\" target=\"_parent\"><img src=\"https://colab.research.google.com/assets/colab-badge.svg\" alt=\"Open In Colab\"/></a>"
      ]
    },
    {
      "cell_type": "markdown",
      "metadata": {
        "id": "4rVHBwY35wLo"
      },
      "source": [
        " # Conexão GCP para ingestão dos dados\n",
        "\n",
        " #### autenticação de acesso a bucket GCP para INGESTÃO dos dados "
      ]
    },
    {
      "cell_type": "code",
      "metadata": {
        "id": "kpSC2ret5tSi"
      },
      "source": [
        "#Importando biblioteca para autenticar conexão com GCP e criação de variáveis\n",
        "\n",
        "from google.colab import auth"
      ],
      "execution_count": null,
      "outputs": []
    },
    {
      "cell_type": "code",
      "metadata": {
        "id": "jlxVoRMx77Th"
      },
      "source": [
        "project_id = \"projeto-grupo2-economia\"\n",
        "bucket_name = \"economia-dados-g2\""
      ],
      "execution_count": null,
      "outputs": []
    },
    {
      "cell_type": "code",
      "metadata": {
        "id": "I7WBvTqE79op"
      },
      "source": [
        "auth.authenticate_user()"
      ],
      "execution_count": null,
      "outputs": []
    },
    {
      "cell_type": "code",
      "metadata": {
        "colab": {
          "base_uri": "https://localhost:8080/"
        },
        "id": "8ZswI9yR_Gtm",
        "outputId": "03499e4b-099f-43cc-b83e-24a08a0476de"
      },
      "source": [
        "!gcloud config set project {project_id}"
      ],
      "execution_count": null,
      "outputs": [
        {
          "output_type": "stream",
          "name": "stdout",
          "text": [
            "Updated property [core/project].\n"
          ]
        }
      ]
    },
    {
      "cell_type": "code",
      "metadata": {
        "colab": {
          "base_uri": "https://localhost:8080/"
        },
        "id": "6i7ctXIjafd9",
        "outputId": "a7474044-c0ef-46dc-9682-28105a3663e2"
      },
      "source": [
        "from google.colab import drive\n",
        "drive.mount('/content/drive')"
      ],
      "execution_count": null,
      "outputs": [
        {
          "output_type": "stream",
          "name": "stdout",
          "text": [
            "Mounted at /content/drive\n"
          ]
        }
      ]
    },
    {
      "cell_type": "code",
      "metadata": {
        "colab": {
          "base_uri": "https://localhost:8080/"
        },
        "id": "KRzymjxu_HNh",
        "outputId": "98ab1729-e87e-48c6-83c3-0cb108859a70"
      },
      "source": [
        "#upload do dataset bruto direto para o bucket no folder 'entrada'\n",
        "!gsutil cp /content/drive/MyDrive/dados/PROJETO_FINAL/AcoesBruto.csv gs://{bucket_name}/entrada/Acoes_Bruto.csv"
      ],
      "execution_count": null,
      "outputs": [
        {
          "output_type": "stream",
          "name": "stdout",
          "text": [
            "Copying file:///content/drive/MyDrive/dados/PROJETO_FINAL/AcoesBruto.csv [Content-Type=text/csv]...\n",
            "|\n",
            "Operation completed over 1 objects/42.0 MiB.                                     \n"
          ]
        }
      ]
    },
    {
      "cell_type": "markdown",
      "metadata": {
        "id": "lnrQ-eZPOjjK"
      },
      "source": [
        "#PANDAS\n",
        "\n",
        "### Operações com PANDAS (limpezas , transformações e normalizações) "
      ]
    },
    {
      "cell_type": "code",
      "metadata": {
        "id": "C6AxbCy7pZSL"
      },
      "source": [
        "pip install pandera"
      ],
      "execution_count": null,
      "outputs": []
    },
    {
      "cell_type": "markdown",
      "metadata": {
        "id": "pN_oDVM3PICZ"
      },
      "source": [
        "### importando as bibliotecas"
      ]
    },
    {
      "cell_type": "code",
      "metadata": {
        "id": "Gf6YfxtMpw16"
      },
      "source": [
        "import pandas as pd\n",
        "import pandera as pa"
      ],
      "execution_count": null,
      "outputs": []
    },
    {
      "cell_type": "markdown",
      "metadata": {
        "id": "YUxZSW86PLe_"
      },
      "source": [
        "### ingestão dos dados da Bucket GCP "
      ]
    },
    {
      "cell_type": "code",
      "metadata": {
        "colab": {
          "base_uri": "https://localhost:8080/"
        },
        "id": "sTAcR4dhG_XR",
        "outputId": "1a6ae08e-d74a-4cf9-a141-ab6e8f7f0bad"
      },
      "source": [
        "!gsutil cp gs://{bucket_name}/entrada/Acoes_Bruto.csv /content/drive/MyDrive/dados/PROJETO_FINAL/AcoesBruto.csv"
      ],
      "execution_count": null,
      "outputs": [
        {
          "output_type": "stream",
          "name": "stdout",
          "text": [
            "Copying gs://economia-dados-g2/entrada/Acoes_Bruto.csv...\n",
            "- [1 files][ 42.0 MiB/ 42.0 MiB]                                                \n",
            "Operation completed over 1 objects/42.0 MiB.                                     \n"
          ]
        }
      ]
    },
    {
      "cell_type": "code",
      "metadata": {
        "id": "-9AASuRxp2ga"
      },
      "source": [
        "#montando o dataframe em formato .csv\n",
        "#comentario - 01\n",
        "df_acoes = pd.read_csv(r\"/content/drive/MyDrive/dados/PROJETO_FINAL/AcoesBruto.csv\", \n",
        "                       sep=';', encoding='ISO8859-1', \n",
        "                       parse_dates=['ref.date'],\n",
        "                       dayfirst=True, decimal=',')"
      ],
      "execution_count": null,
      "outputs": []
    },
    {
      "cell_type": "markdown",
      "metadata": {
        "id": "N0hC2t4URFds"
      },
      "source": [
        "### backup dados entrada no bucket GCP \n",
        "#### usando chave acesso ServiceAccount\n",
        "\n",
        "\n"
      ]
    },
    {
      "cell_type": "code",
      "metadata": {
        "id": "HcLnMHvca6LO"
      },
      "source": [
        "#from google.cloud import storage\n",
        "#import os\n",
        "#from io import StringIO"
      ],
      "execution_count": null,
      "outputs": []
    },
    {
      "cell_type": "code",
      "metadata": {
        "id": "gHBVMf6xbDvu"
      },
      "source": [
        "#os.environ['GOOGLE_APPLICATION_CREDENTIALS'] = '/content/drive/MyDrive/dados/PROJETO_FINAL/chave_acessoGCP/projeto-final-grupo2-economia-608c2b8dd031.json'"
      ],
      "execution_count": null,
      "outputs": []
    },
    {
      "cell_type": "code",
      "metadata": {
        "id": "41IRV-jaRSaZ"
      },
      "source": [
        "#client = storage.Client()\n",
        "#bucket = client.get_bucket('g2economia-dados')  \n",
        "#bucket.blob('entrada/df_acoes_Bruto.csv').upload_from_string(df_acoes.to_csv(), 'text/csv')"
      ],
      "execution_count": null,
      "outputs": []
    },
    {
      "cell_type": "code",
      "metadata": {
        "id": "dkjaAjK7D4Gc"
      },
      "source": [
        ""
      ],
      "execution_count": null,
      "outputs": []
    },
    {
      "cell_type": "markdown",
      "metadata": {
        "id": "K2yBaSHbb63N"
      },
      "source": [
        "### verificações iniciais sobre a estrutura do dataframe"
      ]
    },
    {
      "cell_type": "code",
      "metadata": {
        "id": "a5upxXJvQYQM",
        "colab": {
          "base_uri": "https://localhost:8080/",
          "height": 601
        },
        "outputId": "2738f437-11d9-47b0-f3b5-08f01c97fd8b"
      },
      "source": [
        "df_acoes"
      ],
      "execution_count": null,
      "outputs": [
        {
          "output_type": "execute_result",
          "data": {
            "text/html": [
              "<div>\n",
              "<style scoped>\n",
              "    .dataframe tbody tr th:only-of-type {\n",
              "        vertical-align: middle;\n",
              "    }\n",
              "\n",
              "    .dataframe tbody tr th {\n",
              "        vertical-align: top;\n",
              "    }\n",
              "\n",
              "    .dataframe thead th {\n",
              "        text-align: right;\n",
              "    }\n",
              "</style>\n",
              "<table border=\"1\" class=\"dataframe\">\n",
              "  <thead>\n",
              "    <tr style=\"text-align: right;\">\n",
              "      <th></th>\n",
              "      <th>price.open</th>\n",
              "      <th>price.high</th>\n",
              "      <th>price.low</th>\n",
              "      <th>price.close</th>\n",
              "      <th>volume</th>\n",
              "      <th>price.adjusted</th>\n",
              "      <th>ref.date</th>\n",
              "      <th>ticker</th>\n",
              "      <th>ret.adjusted.prices</th>\n",
              "      <th>ret.closing.prices</th>\n",
              "      <th>Empresa</th>\n",
              "      <th>Setor</th>\n",
              "      <th>Subsetor</th>\n",
              "      <th>Tipo</th>\n",
              "      <th>Classificação</th>\n",
              "    </tr>\n",
              "  </thead>\n",
              "  <tbody>\n",
              "    <tr>\n",
              "      <th>0</th>\n",
              "      <td>14.94</td>\n",
              "      <td>15.16</td>\n",
              "      <td>14.70</td>\n",
              "      <td>14.89</td>\n",
              "      <td>94500.0</td>\n",
              "      <td>14.74</td>\n",
              "      <td>2018-01-02</td>\n",
              "      <td>AALR3.SA</td>\n",
              "      <td>NaN</td>\n",
              "      <td>NaN</td>\n",
              "      <td>ALLIAR</td>\n",
              "      <td>Saúde</td>\n",
              "      <td>Análises e Diagnósticos</td>\n",
              "      <td>Ordinaria</td>\n",
              "      <td>Small Cap</td>\n",
              "    </tr>\n",
              "    <tr>\n",
              "      <th>1</th>\n",
              "      <td>14.89</td>\n",
              "      <td>15.32</td>\n",
              "      <td>14.79</td>\n",
              "      <td>14.96</td>\n",
              "      <td>584700.0</td>\n",
              "      <td>14.81</td>\n",
              "      <td>2018-01-03</td>\n",
              "      <td>AALR3.SA</td>\n",
              "      <td>0.004701</td>\n",
              "      <td>0.004701</td>\n",
              "      <td>ALLIAR</td>\n",
              "      <td>Saúde</td>\n",
              "      <td>Análises e Diagnósticos</td>\n",
              "      <td>Ordinaria</td>\n",
              "      <td>Small Cap</td>\n",
              "    </tr>\n",
              "    <tr>\n",
              "      <th>2</th>\n",
              "      <td>15.00</td>\n",
              "      <td>15.16</td>\n",
              "      <td>14.81</td>\n",
              "      <td>15.09</td>\n",
              "      <td>290100.0</td>\n",
              "      <td>14.94</td>\n",
              "      <td>2018-01-04</td>\n",
              "      <td>AALR3.SA</td>\n",
              "      <td>0.008690</td>\n",
              "      <td>0.008690</td>\n",
              "      <td>ALLIAR</td>\n",
              "      <td>Saúde</td>\n",
              "      <td>Análises e Diagnósticos</td>\n",
              "      <td>Ordinaria</td>\n",
              "      <td>Small Cap</td>\n",
              "    </tr>\n",
              "    <tr>\n",
              "      <th>3</th>\n",
              "      <td>15.05</td>\n",
              "      <td>15.17</td>\n",
              "      <td>14.95</td>\n",
              "      <td>15.05</td>\n",
              "      <td>131500.0</td>\n",
              "      <td>14.90</td>\n",
              "      <td>2018-01-05</td>\n",
              "      <td>AALR3.SA</td>\n",
              "      <td>-0.002651</td>\n",
              "      <td>-0.002651</td>\n",
              "      <td>ALLIAR</td>\n",
              "      <td>Saúde</td>\n",
              "      <td>Análises e Diagnósticos</td>\n",
              "      <td>Ordinaria</td>\n",
              "      <td>Small Cap</td>\n",
              "    </tr>\n",
              "    <tr>\n",
              "      <th>4</th>\n",
              "      <td>15.05</td>\n",
              "      <td>15.10</td>\n",
              "      <td>14.62</td>\n",
              "      <td>14.79</td>\n",
              "      <td>244500.0</td>\n",
              "      <td>14.64</td>\n",
              "      <td>2018-01-08</td>\n",
              "      <td>AALR3.SA</td>\n",
              "      <td>-0.017276</td>\n",
              "      <td>-0.017276</td>\n",
              "      <td>ALLIAR</td>\n",
              "      <td>Saúde</td>\n",
              "      <td>Análises e Diagnósticos</td>\n",
              "      <td>Ordinaria</td>\n",
              "      <td>Small Cap</td>\n",
              "    </tr>\n",
              "    <tr>\n",
              "      <th>...</th>\n",
              "      <td>...</td>\n",
              "      <td>...</td>\n",
              "      <td>...</td>\n",
              "      <td>...</td>\n",
              "      <td>...</td>\n",
              "      <td>...</td>\n",
              "      <td>...</td>\n",
              "      <td>...</td>\n",
              "      <td>...</td>\n",
              "      <td>...</td>\n",
              "      <td>...</td>\n",
              "      <td>...</td>\n",
              "      <td>...</td>\n",
              "      <td>...</td>\n",
              "      <td>...</td>\n",
              "    </tr>\n",
              "    <tr>\n",
              "      <th>298856</th>\n",
              "      <td>27.00</td>\n",
              "      <td>28.00</td>\n",
              "      <td>26.70</td>\n",
              "      <td>26.71</td>\n",
              "      <td>2806700.0</td>\n",
              "      <td>26.71</td>\n",
              "      <td>2021-03-24</td>\n",
              "      <td>YDUQ3.SA</td>\n",
              "      <td>-0.010741</td>\n",
              "      <td>-0.010741</td>\n",
              "      <td>YDUQS PART</td>\n",
              "      <td>Consumo Cíclico</td>\n",
              "      <td>Diversos</td>\n",
              "      <td>Ordinaria</td>\n",
              "      <td>Mid Cap</td>\n",
              "    </tr>\n",
              "    <tr>\n",
              "      <th>298857</th>\n",
              "      <td>26.81</td>\n",
              "      <td>27.73</td>\n",
              "      <td>26.26</td>\n",
              "      <td>27.73</td>\n",
              "      <td>2433000.0</td>\n",
              "      <td>27.73</td>\n",
              "      <td>2021-03-25</td>\n",
              "      <td>YDUQ3.SA</td>\n",
              "      <td>0.038188</td>\n",
              "      <td>0.038188</td>\n",
              "      <td>YDUQS PART</td>\n",
              "      <td>Consumo Cíclico</td>\n",
              "      <td>Diversos</td>\n",
              "      <td>Ordinaria</td>\n",
              "      <td>Mid Cap</td>\n",
              "    </tr>\n",
              "    <tr>\n",
              "      <th>298858</th>\n",
              "      <td>27.64</td>\n",
              "      <td>27.75</td>\n",
              "      <td>26.60</td>\n",
              "      <td>27.09</td>\n",
              "      <td>1801000.0</td>\n",
              "      <td>27.09</td>\n",
              "      <td>2021-03-26</td>\n",
              "      <td>YDUQ3.SA</td>\n",
              "      <td>-0.023080</td>\n",
              "      <td>-0.023080</td>\n",
              "      <td>YDUQS PART</td>\n",
              "      <td>Consumo Cíclico</td>\n",
              "      <td>Diversos</td>\n",
              "      <td>Ordinaria</td>\n",
              "      <td>Mid Cap</td>\n",
              "    </tr>\n",
              "    <tr>\n",
              "      <th>298859</th>\n",
              "      <td>26.89</td>\n",
              "      <td>27.24</td>\n",
              "      <td>26.43</td>\n",
              "      <td>26.71</td>\n",
              "      <td>1223600.0</td>\n",
              "      <td>26.71</td>\n",
              "      <td>2021-03-29</td>\n",
              "      <td>YDUQ3.SA</td>\n",
              "      <td>-0.014027</td>\n",
              "      <td>-0.014027</td>\n",
              "      <td>YDUQS PART</td>\n",
              "      <td>Consumo Cíclico</td>\n",
              "      <td>Diversos</td>\n",
              "      <td>Ordinaria</td>\n",
              "      <td>Mid Cap</td>\n",
              "    </tr>\n",
              "    <tr>\n",
              "      <th>298860</th>\n",
              "      <td>26.66</td>\n",
              "      <td>28.30</td>\n",
              "      <td>26.55</td>\n",
              "      <td>28.04</td>\n",
              "      <td>2396200.0</td>\n",
              "      <td>28.04</td>\n",
              "      <td>2021-03-30</td>\n",
              "      <td>YDUQ3.SA</td>\n",
              "      <td>0.049794</td>\n",
              "      <td>0.049794</td>\n",
              "      <td>YDUQS PART</td>\n",
              "      <td>Consumo Cíclico</td>\n",
              "      <td>Diversos</td>\n",
              "      <td>Ordinaria</td>\n",
              "      <td>Mid Cap</td>\n",
              "    </tr>\n",
              "  </tbody>\n",
              "</table>\n",
              "<p>298861 rows × 15 columns</p>\n",
              "</div>"
            ],
            "text/plain": [
              "        price.open  price.high  ...       Tipo  Classificação\n",
              "0            14.94       15.16  ...  Ordinaria      Small Cap\n",
              "1            14.89       15.32  ...  Ordinaria      Small Cap\n",
              "2            15.00       15.16  ...  Ordinaria      Small Cap\n",
              "3            15.05       15.17  ...  Ordinaria      Small Cap\n",
              "4            15.05       15.10  ...  Ordinaria      Small Cap\n",
              "...            ...         ...  ...        ...            ...\n",
              "298856       27.00       28.00  ...  Ordinaria        Mid Cap\n",
              "298857       26.81       27.73  ...  Ordinaria        Mid Cap\n",
              "298858       27.64       27.75  ...  Ordinaria        Mid Cap\n",
              "298859       26.89       27.24  ...  Ordinaria        Mid Cap\n",
              "298860       26.66       28.30  ...  Ordinaria        Mid Cap\n",
              "\n",
              "[298861 rows x 15 columns]"
            ]
          },
          "metadata": {},
          "execution_count": 11
        }
      ]
    },
    {
      "cell_type": "code",
      "metadata": {
        "colab": {
          "base_uri": "https://localhost:8080/",
          "height": 314
        },
        "id": "WIq8DJ_b6I1W",
        "outputId": "21646f6b-5ea6-4e9c-a8af-29583aebf392"
      },
      "source": [
        "#resumo estatístico do dataframe\n",
        "df_acoes.describe()"
      ],
      "execution_count": null,
      "outputs": [
        {
          "output_type": "execute_result",
          "data": {
            "text/html": [
              "<div>\n",
              "<style scoped>\n",
              "    .dataframe tbody tr th:only-of-type {\n",
              "        vertical-align: middle;\n",
              "    }\n",
              "\n",
              "    .dataframe tbody tr th {\n",
              "        vertical-align: top;\n",
              "    }\n",
              "\n",
              "    .dataframe thead th {\n",
              "        text-align: right;\n",
              "    }\n",
              "</style>\n",
              "<table border=\"1\" class=\"dataframe\">\n",
              "  <thead>\n",
              "    <tr style=\"text-align: right;\">\n",
              "      <th></th>\n",
              "      <th>price.open</th>\n",
              "      <th>price.high</th>\n",
              "      <th>price.low</th>\n",
              "      <th>price.close</th>\n",
              "      <th>volume</th>\n",
              "      <th>price.adjusted</th>\n",
              "      <th>ret.adjusted.prices</th>\n",
              "      <th>ret.closing.prices</th>\n",
              "    </tr>\n",
              "  </thead>\n",
              "  <tbody>\n",
              "    <tr>\n",
              "      <th>count</th>\n",
              "      <td>298861.000000</td>\n",
              "      <td>298861.000000</td>\n",
              "      <td>298861.000000</td>\n",
              "      <td>298861.000000</td>\n",
              "      <td>2.988610e+05</td>\n",
              "      <td>2.988610e+05</td>\n",
              "      <td>298486.000000</td>\n",
              "      <td>298486.000000</td>\n",
              "    </tr>\n",
              "    <tr>\n",
              "      <th>mean</th>\n",
              "      <td>24.864123</td>\n",
              "      <td>25.128140</td>\n",
              "      <td>24.593715</td>\n",
              "      <td>24.865624</td>\n",
              "      <td>2.459531e+06</td>\n",
              "      <td>-6.927078e+03</td>\n",
              "      <td>0.004401</td>\n",
              "      <td>0.003353</td>\n",
              "    </tr>\n",
              "    <tr>\n",
              "      <th>std</th>\n",
              "      <td>39.034601</td>\n",
              "      <td>39.191963</td>\n",
              "      <td>38.906102</td>\n",
              "      <td>39.065673</td>\n",
              "      <td>1.109202e+07</td>\n",
              "      <td>5.106503e+05</td>\n",
              "      <td>0.679534</td>\n",
              "      <td>0.451878</td>\n",
              "    </tr>\n",
              "    <tr>\n",
              "      <th>min</th>\n",
              "      <td>0.460000</td>\n",
              "      <td>0.480000</td>\n",
              "      <td>0.430000</td>\n",
              "      <td>0.440000</td>\n",
              "      <td>0.000000e+00</td>\n",
              "      <td>-3.087797e+07</td>\n",
              "      <td>-1.079758</td>\n",
              "      <td>-0.990477</td>\n",
              "    </tr>\n",
              "    <tr>\n",
              "      <th>25%</th>\n",
              "      <td>6.290000</td>\n",
              "      <td>6.380000</td>\n",
              "      <td>6.170000</td>\n",
              "      <td>6.280000</td>\n",
              "      <td>1.000000e+02</td>\n",
              "      <td>5.990000e+00</td>\n",
              "      <td>-0.009130</td>\n",
              "      <td>-0.009231</td>\n",
              "    </tr>\n",
              "    <tr>\n",
              "      <th>50%</th>\n",
              "      <td>14.350000</td>\n",
              "      <td>14.620000</td>\n",
              "      <td>14.050000</td>\n",
              "      <td>14.350000</td>\n",
              "      <td>3.260000e+04</td>\n",
              "      <td>1.367000e+01</td>\n",
              "      <td>0.000000</td>\n",
              "      <td>0.000000</td>\n",
              "    </tr>\n",
              "    <tr>\n",
              "      <th>75%</th>\n",
              "      <td>28.610000</td>\n",
              "      <td>29.000000</td>\n",
              "      <td>28.150000</td>\n",
              "      <td>28.610000</td>\n",
              "      <td>1.241855e+06</td>\n",
              "      <td>2.702000e+01</td>\n",
              "      <td>0.008746</td>\n",
              "      <td>0.008596</td>\n",
              "    </tr>\n",
              "    <tr>\n",
              "      <th>max</th>\n",
              "      <td>1290.000000</td>\n",
              "      <td>1344.000000</td>\n",
              "      <td>1234.000000</td>\n",
              "      <td>1341.000000</td>\n",
              "      <td>9.395928e+08</td>\n",
              "      <td>1.693193e+06</td>\n",
              "      <td>277.247600</td>\n",
              "      <td>109.555600</td>\n",
              "    </tr>\n",
              "  </tbody>\n",
              "</table>\n",
              "</div>"
            ],
            "text/plain": [
              "          price.open     price.high  ...  ret.adjusted.prices  ret.closing.prices\n",
              "count  298861.000000  298861.000000  ...        298486.000000       298486.000000\n",
              "mean       24.864123      25.128140  ...             0.004401            0.003353\n",
              "std        39.034601      39.191963  ...             0.679534            0.451878\n",
              "min         0.460000       0.480000  ...            -1.079758           -0.990477\n",
              "25%         6.290000       6.380000  ...            -0.009130           -0.009231\n",
              "50%        14.350000      14.620000  ...             0.000000            0.000000\n",
              "75%        28.610000      29.000000  ...             0.008746            0.008596\n",
              "max      1290.000000    1344.000000  ...           277.247600          109.555600\n",
              "\n",
              "[8 rows x 8 columns]"
            ]
          },
          "metadata": {},
          "execution_count": 12
        }
      ]
    },
    {
      "cell_type": "markdown",
      "metadata": {
        "id": "iiy7LMPMkE6D"
      },
      "source": [
        ""
      ]
    },
    {
      "cell_type": "code",
      "metadata": {
        "colab": {
          "base_uri": "https://localhost:8080/"
        },
        "id": "I9gh2QkO3106",
        "outputId": "1b4b67b1-b8e8-4581-b089-b632a4bc568a"
      },
      "source": [
        " #resumo qtde dados (298.861 linhas X 15 colunas)\n",
        "df_acoes.shape"
      ],
      "execution_count": null,
      "outputs": [
        {
          "output_type": "execute_result",
          "data": {
            "text/plain": [
              "(298861, 15)"
            ]
          },
          "metadata": {},
          "execution_count": 13
        }
      ]
    },
    {
      "cell_type": "code",
      "metadata": {
        "colab": {
          "base_uri": "https://localhost:8080/"
        },
        "id": "a98OOL2H4J9S",
        "outputId": "d6891ec6-f0c7-4517-f206-84097a363e56"
      },
      "source": [
        "#rótulo termina em 298.861 ao passo de 1\n",
        "df_acoes.index"
      ],
      "execution_count": null,
      "outputs": [
        {
          "output_type": "execute_result",
          "data": {
            "text/plain": [
              "RangeIndex(start=0, stop=298861, step=1)"
            ]
          },
          "metadata": {},
          "execution_count": 14
        }
      ]
    },
    {
      "cell_type": "code",
      "metadata": {
        "colab": {
          "base_uri": "https://localhost:8080/"
        },
        "id": "1_-gxQ-24dZs",
        "outputId": "1ca2674f-47e9-467f-d8c4-9baf61215912"
      },
      "source": [
        "#título de todas as colunas do data frame \n",
        "df_acoes.columns"
      ],
      "execution_count": null,
      "outputs": [
        {
          "output_type": "execute_result",
          "data": {
            "text/plain": [
              "Index(['price.open', 'price.high', 'price.low', 'price.close', 'volume',\n",
              "       'price.adjusted', 'ref.date', 'ticker', 'ret.adjusted.prices',\n",
              "       'ret.closing.prices', 'Empresa', 'Setor', 'Subsetor', 'Tipo',\n",
              "       'Classificação'],\n",
              "      dtype='object')"
            ]
          },
          "metadata": {},
          "execution_count": 15
        }
      ]
    },
    {
      "cell_type": "code",
      "metadata": {
        "colab": {
          "base_uri": "https://localhost:8080/"
        },
        "id": "o8wFS7nz4uHY",
        "outputId": "78e8dda7-2cec-429f-b92d-acd04a2e50f9"
      },
      "source": [
        "#contagem de dados válidos em cada coluna\n",
        "df_acoes.count()"
      ],
      "execution_count": null,
      "outputs": [
        {
          "output_type": "execute_result",
          "data": {
            "text/plain": [
              "price.open             298861\n",
              "price.high             298861\n",
              "price.low              298861\n",
              "price.close            298861\n",
              "volume                 298861\n",
              "price.adjusted         298861\n",
              "ref.date               298861\n",
              "ticker                 298861\n",
              "ret.adjusted.prices    298486\n",
              "ret.closing.prices     298486\n",
              "Empresa                298861\n",
              "Setor                  298861\n",
              "Subsetor               298861\n",
              "Tipo                   298861\n",
              "Classificação          298861\n",
              "dtype: int64"
            ]
          },
          "metadata": {},
          "execution_count": 16
        }
      ]
    },
    {
      "cell_type": "code",
      "metadata": {
        "colab": {
          "base_uri": "https://localhost:8080/"
        },
        "id": "LpLdbl0yHS1Q",
        "outputId": "b0eeaa91-47e9-40e3-d242-a0956058cdf4"
      },
      "source": [
        "#verificando se as coluna ref.date está com o tipo 'datetime'\n",
        "#verificando se as colunas de valores estão como o tipo 'float'\n",
        "df_acoes.dtypes"
      ],
      "execution_count": null,
      "outputs": [
        {
          "output_type": "execute_result",
          "data": {
            "text/plain": [
              "price.open                    float64\n",
              "price.high                    float64\n",
              "price.low                     float64\n",
              "price.close                   float64\n",
              "volume                        float64\n",
              "price.adjusted                float64\n",
              "ref.date               datetime64[ns]\n",
              "ticker                         object\n",
              "ret.adjusted.prices           float64\n",
              "ret.closing.prices            float64\n",
              "Empresa                        object\n",
              "Setor                          object\n",
              "Subsetor                       object\n",
              "Tipo                           object\n",
              "Classificação                  object\n",
              "dtype: object"
            ]
          },
          "metadata": {},
          "execution_count": 17
        }
      ]
    },
    {
      "cell_type": "code",
      "metadata": {
        "id": "KBh8DCd7kQSV"
      },
      "source": [
        "#comentario 02\n",
        "df_acoes[\"volume\"] = df_acoes[\"volume\"].astype(int)"
      ],
      "execution_count": null,
      "outputs": []
    },
    {
      "cell_type": "code",
      "metadata": {
        "colab": {
          "base_uri": "https://localhost:8080/"
        },
        "id": "iLDvz35EkmSQ",
        "outputId": "83e51ca5-0b25-4e2a-f7c9-305cd15d1bc3"
      },
      "source": [
        "#coluna 'volume' convertida para inteiro \n",
        "df_acoes.dtypes"
      ],
      "execution_count": null,
      "outputs": [
        {
          "output_type": "execute_result",
          "data": {
            "text/plain": [
              "price.open                    float64\n",
              "price.high                    float64\n",
              "price.low                     float64\n",
              "price.close                   float64\n",
              "volume                          int64\n",
              "price.adjusted                float64\n",
              "ref.date               datetime64[ns]\n",
              "ticker                         object\n",
              "ret.adjusted.prices           float64\n",
              "ret.closing.prices            float64\n",
              "Empresa                        object\n",
              "Setor                          object\n",
              "Subsetor                       object\n",
              "Tipo                           object\n",
              "Classificação                  object\n",
              "dtype: object"
            ]
          },
          "metadata": {},
          "execution_count": 19
        }
      ]
    },
    {
      "cell_type": "markdown",
      "metadata": {
        "id": "kTFol9hXPZwo"
      },
      "source": [
        "### limpeza dos dados:\n",
        "\n",
        "##### - verificando dados inconsistentes\n",
        "##### - colunas para renomear/traduzir"
      ]
    },
    {
      "cell_type": "code",
      "metadata": {
        "id": "jBoWru_8U9pF"
      },
      "source": [
        "#renomenado as colunas\n",
        "\n",
        "\n",
        "df_acoes.rename(columns={\"price.open\":\"Preco_Abertura\",\n",
        "                   \"price.high\":\"Maior_Preco\",\n",
        "                   \"price.low\":\"Menor_Preco\",\n",
        "                   \"price.close\":\"Preco_Fechamento\",\n",
        "                   \"volume\":\"Volume\",\n",
        "                   \"price.adjusted\":\"Preco_Ajustado\",\n",
        "                   \"ref.date\":\"Data_Referencia\",\n",
        "                   \"ticker\":\"Codigo_Acao\",\n",
        "                   \"ret.adjusted.prices\":\"Ret_Preco_Ajustado\",\n",
        "                   \"ret.closing.prices\":\"Ret_Preco_Fechamento\",\n",
        "                   \"Classificação\":\"Classificacao\"\n",
        "                   },inplace = True) \n"
      ],
      "execution_count": null,
      "outputs": []
    },
    {
      "cell_type": "code",
      "metadata": {
        "colab": {
          "base_uri": "https://localhost:8080/"
        },
        "id": "grM_oNUoNVSf",
        "outputId": "b862bd04-5111-488d-c6e6-cf62ab28d21a"
      },
      "source": [
        "#verificando tipos de dados existentes\n",
        "df_acoes.dtypes"
      ],
      "execution_count": null,
      "outputs": [
        {
          "output_type": "execute_result",
          "data": {
            "text/plain": [
              "Preco_Abertura                 float64\n",
              "Maior_Preco                    float64\n",
              "Menor_Preco                    float64\n",
              "Preco_Fechamento               float64\n",
              "Volume                           int64\n",
              "Preco_Ajustado                 float64\n",
              "Data_Referencia         datetime64[ns]\n",
              "Codigo_Acao                     object\n",
              "Ret_Preco_Ajustado             float64\n",
              "Ret_Preco_Fechamento           float64\n",
              "Empresa                         object\n",
              "Setor                           object\n",
              "Subsetor                        object\n",
              "Tipo                            object\n",
              "Classificacao                   object\n",
              "dtype: object"
            ]
          },
          "metadata": {},
          "execution_count": 21
        }
      ]
    },
    {
      "cell_type": "code",
      "metadata": {
        "id": "Y_rGuW3bNHkw"
      },
      "source": [
        "df_acoes"
      ],
      "execution_count": null,
      "outputs": []
    },
    {
      "cell_type": "code",
      "metadata": {
        "colab": {
          "base_uri": "https://localhost:8080/"
        },
        "id": "mhQ94DTJTAYZ",
        "outputId": "6215281a-5ce0-463d-e3c9-6b0f98ffd2ac"
      },
      "source": [
        "#verificando a existencia de algum dado 'NA' ou 'Null' no DataFrame\n",
        "df_acoes.isnull().sum()\n",
        "#375 registros nulos nas colunas 'Ret_Preco_Ajustado' e 'Ret_Preco_Fechamento'"
      ],
      "execution_count": null,
      "outputs": [
        {
          "output_type": "execute_result",
          "data": {
            "text/plain": [
              "Preco_Abertura            0\n",
              "Maior_Preco               0\n",
              "Menor_Preco               0\n",
              "Preco_Fechamento          0\n",
              "Volume                    0\n",
              "Preco_Ajustado            0\n",
              "Data_Referencia           0\n",
              "Codigo_Acao               0\n",
              "Ret_Preco_Ajustado      375\n",
              "Ret_Preco_Fechamento    375\n",
              "Empresa                   0\n",
              "Setor                     0\n",
              "Subsetor                  0\n",
              "Tipo                      0\n",
              "Classificacao             0\n",
              "dtype: int64"
            ]
          },
          "metadata": {},
          "execution_count": 23
        }
      ]
    },
    {
      "cell_type": "code",
      "metadata": {
        "colab": {
          "base_uri": "https://localhost:8080/"
        },
        "id": "ptnxeCQISZIo",
        "outputId": "9b252f9b-5e07-4daf-cf6a-853933478371"
      },
      "source": [
        "#mesmos 375 registros das colunas 'Ret_Preco_Ajustado' e 'Ret_Preco_Fechamento'\n",
        "df_acoes.isna().sum()"
      ],
      "execution_count": null,
      "outputs": [
        {
          "output_type": "execute_result",
          "data": {
            "text/plain": [
              "Preco_Abertura            0\n",
              "Maior_Preco               0\n",
              "Menor_Preco               0\n",
              "Preco_Fechamento          0\n",
              "Volume                    0\n",
              "Preco_Ajustado            0\n",
              "Data_Referencia           0\n",
              "Codigo_Acao               0\n",
              "Ret_Preco_Ajustado      375\n",
              "Ret_Preco_Fechamento    375\n",
              "Empresa                   0\n",
              "Setor                     0\n",
              "Subsetor                  0\n",
              "Tipo                      0\n",
              "Classificacao             0\n",
              "dtype: int64"
            ]
          },
          "metadata": {},
          "execution_count": 24
        }
      ]
    },
    {
      "cell_type": "code",
      "metadata": {
        "colab": {
          "base_uri": "https://localhost:8080/",
          "height": 634
        },
        "id": "UdhRmL_xhPd0",
        "outputId": "ccd5aacf-2342-45f7-aa2a-00029f5eaa3d"
      },
      "source": [
        "#filtrando os registros comvalor NA filter_Ajustado = df_acoes.Ret_Preco_Ajustado.isnull()\n",
        "filter_Fechamento = df_acoes.Ret_Preco_Fechamento.isnull()\n",
        "filter_Ajustado = df_acoes.Ret_Preco_Ajustado.isnull()\n",
        "df_acoes.loc[filter_Ajustado]\n",
        "df_acoes.loc[filter_Fechamento]"
      ],
      "execution_count": null,
      "outputs": [
        {
          "output_type": "execute_result",
          "data": {
            "text/html": [
              "<div>\n",
              "<style scoped>\n",
              "    .dataframe tbody tr th:only-of-type {\n",
              "        vertical-align: middle;\n",
              "    }\n",
              "\n",
              "    .dataframe tbody tr th {\n",
              "        vertical-align: top;\n",
              "    }\n",
              "\n",
              "    .dataframe thead th {\n",
              "        text-align: right;\n",
              "    }\n",
              "</style>\n",
              "<table border=\"1\" class=\"dataframe\">\n",
              "  <thead>\n",
              "    <tr style=\"text-align: right;\">\n",
              "      <th></th>\n",
              "      <th>Preco_Abertura</th>\n",
              "      <th>Maior_Preco</th>\n",
              "      <th>Menor_Preco</th>\n",
              "      <th>Preco_Fechamento</th>\n",
              "      <th>Volume</th>\n",
              "      <th>Preco_Ajustado</th>\n",
              "      <th>Data_Referencia</th>\n",
              "      <th>Codigo_Acao</th>\n",
              "      <th>Ret_Preco_Ajustado</th>\n",
              "      <th>Ret_Preco_Fechamento</th>\n",
              "      <th>Empresa</th>\n",
              "      <th>Setor</th>\n",
              "      <th>Subsetor</th>\n",
              "      <th>Tipo</th>\n",
              "      <th>Classificacao</th>\n",
              "    </tr>\n",
              "  </thead>\n",
              "  <tbody>\n",
              "    <tr>\n",
              "      <th>0</th>\n",
              "      <td>14.94</td>\n",
              "      <td>15.16</td>\n",
              "      <td>14.70</td>\n",
              "      <td>14.89</td>\n",
              "      <td>94500</td>\n",
              "      <td>14.74</td>\n",
              "      <td>2018-01-02</td>\n",
              "      <td>AALR3.SA</td>\n",
              "      <td>NaN</td>\n",
              "      <td>NaN</td>\n",
              "      <td>ALLIAR</td>\n",
              "      <td>Saúde</td>\n",
              "      <td>Análises e Diagnósticos</td>\n",
              "      <td>Ordinaria</td>\n",
              "      <td>Small Cap</td>\n",
              "    </tr>\n",
              "    <tr>\n",
              "      <th>797</th>\n",
              "      <td>16.71</td>\n",
              "      <td>16.73</td>\n",
              "      <td>16.44</td>\n",
              "      <td>16.46</td>\n",
              "      <td>328681</td>\n",
              "      <td>13.89</td>\n",
              "      <td>2018-01-02</td>\n",
              "      <td>ABCB4.SA</td>\n",
              "      <td>NaN</td>\n",
              "      <td>NaN</td>\n",
              "      <td>ABC BRASIL</td>\n",
              "      <td>Financeiro</td>\n",
              "      <td>Intermediários Financeiros</td>\n",
              "      <td>Preferencial</td>\n",
              "      <td>Small Cap</td>\n",
              "    </tr>\n",
              "    <tr>\n",
              "      <th>1594</th>\n",
              "      <td>21.33</td>\n",
              "      <td>21.75</td>\n",
              "      <td>21.17</td>\n",
              "      <td>21.69</td>\n",
              "      <td>12717900</td>\n",
              "      <td>19.84</td>\n",
              "      <td>2018-01-02</td>\n",
              "      <td>ABEV3.SA</td>\n",
              "      <td>NaN</td>\n",
              "      <td>NaN</td>\n",
              "      <td>AMBEV S/A</td>\n",
              "      <td>Consumo não Cíclico</td>\n",
              "      <td>Bebidas</td>\n",
              "      <td>Ordinaria</td>\n",
              "      <td>Mega Cap</td>\n",
              "    </tr>\n",
              "    <tr>\n",
              "      <th>2391</th>\n",
              "      <td>4.98</td>\n",
              "      <td>4.98</td>\n",
              "      <td>4.98</td>\n",
              "      <td>4.98</td>\n",
              "      <td>1000</td>\n",
              "      <td>4.39</td>\n",
              "      <td>2018-01-02</td>\n",
              "      <td>AFLT3.SA</td>\n",
              "      <td>NaN</td>\n",
              "      <td>NaN</td>\n",
              "      <td>AFLUENTE T</td>\n",
              "      <td>Utilidade Pública</td>\n",
              "      <td>Utilidade Pública</td>\n",
              "      <td>Ordinaria</td>\n",
              "      <td>Micro Cap</td>\n",
              "    </tr>\n",
              "    <tr>\n",
              "      <th>3188</th>\n",
              "      <td>12.45</td>\n",
              "      <td>12.80</td>\n",
              "      <td>12.40</td>\n",
              "      <td>12.67</td>\n",
              "      <td>39100</td>\n",
              "      <td>11.01</td>\n",
              "      <td>2018-01-02</td>\n",
              "      <td>AGRO3.SA</td>\n",
              "      <td>NaN</td>\n",
              "      <td>NaN</td>\n",
              "      <td>BRASILAGRO</td>\n",
              "      <td>Consumo não Cíclico</td>\n",
              "      <td>Agropecuária</td>\n",
              "      <td>Ordinaria</td>\n",
              "      <td>Small Cap</td>\n",
              "    </tr>\n",
              "    <tr>\n",
              "      <th>...</th>\n",
              "      <td>...</td>\n",
              "      <td>...</td>\n",
              "      <td>...</td>\n",
              "      <td>...</td>\n",
              "      <td>...</td>\n",
              "      <td>...</td>\n",
              "      <td>...</td>\n",
              "      <td>...</td>\n",
              "      <td>...</td>\n",
              "      <td>...</td>\n",
              "      <td>...</td>\n",
              "      <td>...</td>\n",
              "      <td>...</td>\n",
              "      <td>...</td>\n",
              "      <td>...</td>\n",
              "    </tr>\n",
              "    <tr>\n",
              "      <th>294876</th>\n",
              "      <td>11.79</td>\n",
              "      <td>12.46</td>\n",
              "      <td>11.79</td>\n",
              "      <td>12.15</td>\n",
              "      <td>566200</td>\n",
              "      <td>9.25</td>\n",
              "      <td>2018-01-02</td>\n",
              "      <td>WIZS3.SA</td>\n",
              "      <td>NaN</td>\n",
              "      <td>NaN</td>\n",
              "      <td>WIZ S.A.</td>\n",
              "      <td>Financeiro</td>\n",
              "      <td>Previdência e Seguros</td>\n",
              "      <td>Ordinaria</td>\n",
              "      <td>Small Cap</td>\n",
              "    </tr>\n",
              "    <tr>\n",
              "      <th>295673</th>\n",
              "      <td>7.40</td>\n",
              "      <td>7.40</td>\n",
              "      <td>7.40</td>\n",
              "      <td>7.40</td>\n",
              "      <td>0</td>\n",
              "      <td>6.94</td>\n",
              "      <td>2018-01-02</td>\n",
              "      <td>WLMM3.SA</td>\n",
              "      <td>NaN</td>\n",
              "      <td>NaN</td>\n",
              "      <td>WLM IND COM</td>\n",
              "      <td>Bens Industriais</td>\n",
              "      <td>Comércio</td>\n",
              "      <td>Ordinaria</td>\n",
              "      <td>Micro Cap</td>\n",
              "    </tr>\n",
              "    <tr>\n",
              "      <th>296470</th>\n",
              "      <td>5.25</td>\n",
              "      <td>5.25</td>\n",
              "      <td>5.00</td>\n",
              "      <td>5.01</td>\n",
              "      <td>3800</td>\n",
              "      <td>4.81</td>\n",
              "      <td>2018-01-02</td>\n",
              "      <td>WLMM4.SA</td>\n",
              "      <td>NaN</td>\n",
              "      <td>NaN</td>\n",
              "      <td>WLM IND COM</td>\n",
              "      <td>Bens Industriais</td>\n",
              "      <td>Comércio</td>\n",
              "      <td>Preferencial</td>\n",
              "      <td>Micro Cap</td>\n",
              "    </tr>\n",
              "    <tr>\n",
              "      <th>297267</th>\n",
              "      <td>40.00</td>\n",
              "      <td>40.00</td>\n",
              "      <td>40.00</td>\n",
              "      <td>40.00</td>\n",
              "      <td>0</td>\n",
              "      <td>31.84</td>\n",
              "      <td>2018-01-02</td>\n",
              "      <td>WSON33.SA</td>\n",
              "      <td>NaN</td>\n",
              "      <td>NaN</td>\n",
              "      <td>WILSON SONS</td>\n",
              "      <td>Bens Industriais</td>\n",
              "      <td>Transporte</td>\n",
              "      <td>Ordinaria</td>\n",
              "      <td>-</td>\n",
              "    </tr>\n",
              "    <tr>\n",
              "      <th>298064</th>\n",
              "      <td>32.65</td>\n",
              "      <td>34.09</td>\n",
              "      <td>32.65</td>\n",
              "      <td>33.87</td>\n",
              "      <td>2677200</td>\n",
              "      <td>30.47</td>\n",
              "      <td>2018-01-02</td>\n",
              "      <td>YDUQ3.SA</td>\n",
              "      <td>NaN</td>\n",
              "      <td>NaN</td>\n",
              "      <td>YDUQS PART</td>\n",
              "      <td>Consumo Cíclico</td>\n",
              "      <td>Diversos</td>\n",
              "      <td>Ordinaria</td>\n",
              "      <td>Mid Cap</td>\n",
              "    </tr>\n",
              "  </tbody>\n",
              "</table>\n",
              "<p>375 rows × 15 columns</p>\n",
              "</div>"
            ],
            "text/plain": [
              "        Preco_Abertura  Maior_Preco  ...          Tipo  Classificacao\n",
              "0                14.94        15.16  ...     Ordinaria      Small Cap\n",
              "797              16.71        16.73  ...  Preferencial      Small Cap\n",
              "1594             21.33        21.75  ...     Ordinaria       Mega Cap\n",
              "2391              4.98         4.98  ...     Ordinaria      Micro Cap\n",
              "3188             12.45        12.80  ...     Ordinaria      Small Cap\n",
              "...                ...          ...  ...           ...            ...\n",
              "294876           11.79        12.46  ...     Ordinaria      Small Cap\n",
              "295673            7.40         7.40  ...     Ordinaria      Micro Cap\n",
              "296470            5.25         5.25  ...  Preferencial      Micro Cap\n",
              "297267           40.00        40.00  ...     Ordinaria              -\n",
              "298064           32.65        34.09  ...     Ordinaria        Mid Cap\n",
              "\n",
              "[375 rows x 15 columns]"
            ]
          },
          "metadata": {},
          "execution_count": 25
        }
      ]
    },
    {
      "cell_type": "code",
      "metadata": {
        "colab": {
          "base_uri": "https://localhost:8080/",
          "height": 35
        },
        "id": "E9modqtsZMca",
        "outputId": "a71d5028-259c-45a4-bf2f-617349c30f9a"
      },
      "source": [
        "#verificando dados distintos nas colunas\n",
        "\n",
        "#verifica dados unicos em todas as colunas de uma vez\n",
        "'''for registro in df_acoes.columns:\n",
        "    print(registro)\n",
        "    print(df_acoes[registro].unique())\n",
        "    print()\n",
        "pd.unique(df_acoes['codigo_acao'])'''"
      ],
      "execution_count": null,
      "outputs": [
        {
          "output_type": "execute_result",
          "data": {
            "application/vnd.google.colaboratory.intrinsic+json": {
              "type": "string"
            },
            "text/plain": [
              "\"for registro in df_acoes.columns:\\n    print(registro)\\n    print(df_acoes[registro].unique())\\n    print()\\npd.unique(df_acoes['codigo_acao'])\""
            ]
          },
          "metadata": {},
          "execution_count": 32
        }
      ]
    },
    {
      "cell_type": "code",
      "metadata": {
        "id": "1wHAc6T5Zn3G"
      },
      "source": [
        "pd.unique(df_acoes['Empresa'])"
      ],
      "execution_count": null,
      "outputs": []
    },
    {
      "cell_type": "code",
      "metadata": {
        "colab": {
          "base_uri": "https://localhost:8080/"
        },
        "id": "eTtB99P_DY_c",
        "outputId": "70ccd43b-2868-419f-c609-b9d1f1509fe1"
      },
      "source": [
        "print('--'*35)\n",
        "cont = 0\n",
        "for nome in (df_acoes['Empresa'].unique()):\n",
        "    cont += 1\n",
        "print(f'Total de {cont} empresas distintas.')\n",
        "    "
      ],
      "execution_count": null,
      "outputs": [
        {
          "output_type": "stream",
          "name": "stdout",
          "text": [
            "----------------------------------------------------------------------\n",
            "Total de 283 empresas distintas.\n"
          ]
        }
      ]
    },
    {
      "cell_type": "code",
      "metadata": {
        "id": "paBPCGa3ZoLu",
        "colab": {
          "base_uri": "https://localhost:8080/"
        },
        "outputId": "e43e51d3-a89e-4074-e39f-f3633592927c"
      },
      "source": [
        "pd.unique(df_acoes['Setor'])"
      ],
      "execution_count": null,
      "outputs": [
        {
          "output_type": "execute_result",
          "data": {
            "text/plain": [
              "array(['Saúde', 'Financeiro', 'Consumo não Cíclico', 'Utilidade Pública',\n",
              "       'Consumo Cíclico', 'Outros', 'Bens Industriais',\n",
              "       'Materiais Básicos', 'Petróleo, Gás e Biocombustíveis',\n",
              "       'Tecnologia da Informação', 'Comunicações'], dtype=object)"
            ]
          },
          "metadata": {},
          "execution_count": 36
        }
      ]
    },
    {
      "cell_type": "code",
      "metadata": {
        "id": "7sAZ5x1fZoYk",
        "colab": {
          "base_uri": "https://localhost:8080/"
        },
        "outputId": "d85fee9f-2d09-4a49-9feb-739896c2187b"
      },
      "source": [
        "pd.unique(df_acoes['Subsetor'])"
      ],
      "execution_count": null,
      "outputs": [
        {
          "output_type": "execute_result",
          "data": {
            "text/plain": [
              "array(['Análises e Diagnósticos', 'Intermediários Financeiros', 'Bebidas',\n",
              "       'Utilidade Pública', 'Agropecuária', 'Viagens e Lazer',\n",
              "       'Tecidos, Vestuário e Calçados', 'Exploração de Imóveis',\n",
              "       'Energia Elétrica', 'Comércio', 'Diversos',\n",
              "       'Previdência e Seguros', 'Outros', 'Construção e Engenharia',\n",
              "       'Transporte', 'Serviços Financeiros Diversos', 'Equipamentos',\n",
              "       'Alimentos Processados', 'Máquinas e Equipamentos',\n",
              "       'Medicamentos e Outros Produtos', 'Hoteis e Restaurantes',\n",
              "       'Produtos de Uso Pessoal e de Limpeza', 'Comércio e Distribuição',\n",
              "       'Mineração', 'Petróleo, Gás e Biocombustíveis', 'Químicos',\n",
              "       'Construção Civil', 'Serviços Diversos', 'Água e Saneamento',\n",
              "       'Gás', 'Siderurgia e Metalurgia', 'Madeira e Papel',\n",
              "       'Material de Transporte', 'Utilidades Domésticas',\n",
              "       'Automóveis e Motocicletas', 'Programas e Serviços',\n",
              "       'Holdings Diversificadas', 'Embalagens', 'Telecomunicações',\n",
              "       'Computadores e Equipamentos', 'Materiais Diversos'], dtype=object)"
            ]
          },
          "metadata": {},
          "execution_count": 37
        }
      ]
    },
    {
      "cell_type": "code",
      "metadata": {
        "id": "UXX5xYlMZvOf",
        "colab": {
          "base_uri": "https://localhost:8080/"
        },
        "outputId": "1755bd9a-42e2-4143-b9b8-3431374b83f7"
      },
      "source": [
        "pd.unique(df_acoes['Tipo'])"
      ],
      "execution_count": null,
      "outputs": [
        {
          "output_type": "execute_result",
          "data": {
            "text/plain": [
              "array(['Ordinaria', 'Preferencial', 'BDR'], dtype=object)"
            ]
          },
          "metadata": {},
          "execution_count": 38
        }
      ]
    },
    {
      "cell_type": "code",
      "metadata": {
        "id": "qUEhV_rYZoko",
        "colab": {
          "base_uri": "https://localhost:8080/"
        },
        "outputId": "07322d89-9379-4da4-deea-a553fca4ddef"
      },
      "source": [
        "pd.unique(df_acoes['Classificacao'])"
      ],
      "execution_count": null,
      "outputs": [
        {
          "output_type": "execute_result",
          "data": {
            "text/plain": [
              "array(['Small Cap', 'Mega Cap', 'Micro Cap', 'Nano Cap', 'Mid Cap',\n",
              "       'Big Cap', '-'], dtype=object)"
            ]
          },
          "metadata": {},
          "execution_count": 39
        }
      ]
    },
    {
      "cell_type": "code",
      "metadata": {
        "id": "JUDHyZuVymfW"
      },
      "source": [
        ""
      ],
      "execution_count": null,
      "outputs": []
    },
    {
      "cell_type": "markdown",
      "metadata": {
        "id": "5HsLNf8xNCEP"
      },
      "source": [
        "### validação dos dados com Pandera"
      ]
    },
    {
      "cell_type": "code",
      "metadata": {
        "id": "c7uDEeYSZxuh"
      },
      "source": [
        "schema_df = {\n",
        "'Preco_Abertura':pa.Column(pa.Float),               \n",
        "'Maior_Preco':pa.Column(pa.Float),                     \n",
        "'Menor_Preco':pa.Column(pa.Float),                     \n",
        "'Preco_Fechamento':pa.Column(pa.Float),                \n",
        "'Volume':pa.Column(pa.Int),                          \n",
        "'Preco_Ajustado':pa.Column(pa.Float),                  \n",
        "'Data_Referencia':pa.Column(pa.DateTime),         \n",
        "'Codigo_Acao':pa.Column(pa.String),                     \n",
        "'Ret_Preco_Ajustado':pa.Column(pa.Float, nullable=True),              \n",
        "'Ret_Preco_Fechamento':pa.Column(pa.Float, nullable=True),           \n",
        "'Empresa':pa.Column(pa.String),                         \n",
        "'Setor':pa.Column(pa.String),                           \n",
        "'Subsetor':pa.Column(pa.String),                        \n",
        "'Tipo':pa.Column(pa.String),                            \n",
        "'Classificacao':pa.Column(pa.String)                  \n",
        "}\n",
        "\n"
      ],
      "execution_count": null,
      "outputs": []
    },
    {
      "cell_type": "code",
      "metadata": {
        "id": "ghOFB4dZqJBT",
        "colab": {
          "base_uri": "https://localhost:8080/",
          "height": 591
        },
        "outputId": "aa752519-2d0f-4948-ebe1-ccf45df23323"
      },
      "source": [
        "schema = pa.DataFrameSchema(columns=schema_df)\n",
        "schema.validate(df_acoes)"
      ],
      "execution_count": null,
      "outputs": [
        {
          "output_type": "execute_result",
          "data": {
            "text/html": [
              "<div>\n",
              "<style scoped>\n",
              "    .dataframe tbody tr th:only-of-type {\n",
              "        vertical-align: middle;\n",
              "    }\n",
              "\n",
              "    .dataframe tbody tr th {\n",
              "        vertical-align: top;\n",
              "    }\n",
              "\n",
              "    .dataframe thead th {\n",
              "        text-align: right;\n",
              "    }\n",
              "</style>\n",
              "<table border=\"1\" class=\"dataframe\">\n",
              "  <thead>\n",
              "    <tr style=\"text-align: right;\">\n",
              "      <th></th>\n",
              "      <th>Preco_Abertura</th>\n",
              "      <th>Maior_Preco</th>\n",
              "      <th>Menor_Preco</th>\n",
              "      <th>Preco_Fechamento</th>\n",
              "      <th>Volume</th>\n",
              "      <th>Preco_Ajustado</th>\n",
              "      <th>Data_Referencia</th>\n",
              "      <th>Codigo_Acao</th>\n",
              "      <th>Ret_Preco_Ajustado</th>\n",
              "      <th>Ret_Preco_Fechamento</th>\n",
              "      <th>Empresa</th>\n",
              "      <th>Setor</th>\n",
              "      <th>Subsetor</th>\n",
              "      <th>Tipo</th>\n",
              "      <th>Classificacao</th>\n",
              "    </tr>\n",
              "  </thead>\n",
              "  <tbody>\n",
              "    <tr>\n",
              "      <th>0</th>\n",
              "      <td>14.94</td>\n",
              "      <td>15.16</td>\n",
              "      <td>14.70</td>\n",
              "      <td>14.89</td>\n",
              "      <td>94500</td>\n",
              "      <td>14.74</td>\n",
              "      <td>2018-01-02</td>\n",
              "      <td>AALR3.SA</td>\n",
              "      <td>NaN</td>\n",
              "      <td>NaN</td>\n",
              "      <td>ALLIAR</td>\n",
              "      <td>Saúde</td>\n",
              "      <td>Análises e Diagnósticos</td>\n",
              "      <td>Ordinaria</td>\n",
              "      <td>Small Cap</td>\n",
              "    </tr>\n",
              "    <tr>\n",
              "      <th>1</th>\n",
              "      <td>14.89</td>\n",
              "      <td>15.32</td>\n",
              "      <td>14.79</td>\n",
              "      <td>14.96</td>\n",
              "      <td>584700</td>\n",
              "      <td>14.81</td>\n",
              "      <td>2018-01-03</td>\n",
              "      <td>AALR3.SA</td>\n",
              "      <td>0.004701</td>\n",
              "      <td>0.004701</td>\n",
              "      <td>ALLIAR</td>\n",
              "      <td>Saúde</td>\n",
              "      <td>Análises e Diagnósticos</td>\n",
              "      <td>Ordinaria</td>\n",
              "      <td>Small Cap</td>\n",
              "    </tr>\n",
              "    <tr>\n",
              "      <th>2</th>\n",
              "      <td>15.00</td>\n",
              "      <td>15.16</td>\n",
              "      <td>14.81</td>\n",
              "      <td>15.09</td>\n",
              "      <td>290100</td>\n",
              "      <td>14.94</td>\n",
              "      <td>2018-01-04</td>\n",
              "      <td>AALR3.SA</td>\n",
              "      <td>0.008690</td>\n",
              "      <td>0.008690</td>\n",
              "      <td>ALLIAR</td>\n",
              "      <td>Saúde</td>\n",
              "      <td>Análises e Diagnósticos</td>\n",
              "      <td>Ordinaria</td>\n",
              "      <td>Small Cap</td>\n",
              "    </tr>\n",
              "    <tr>\n",
              "      <th>3</th>\n",
              "      <td>15.05</td>\n",
              "      <td>15.17</td>\n",
              "      <td>14.95</td>\n",
              "      <td>15.05</td>\n",
              "      <td>131500</td>\n",
              "      <td>14.90</td>\n",
              "      <td>2018-01-05</td>\n",
              "      <td>AALR3.SA</td>\n",
              "      <td>-0.002651</td>\n",
              "      <td>-0.002651</td>\n",
              "      <td>ALLIAR</td>\n",
              "      <td>Saúde</td>\n",
              "      <td>Análises e Diagnósticos</td>\n",
              "      <td>Ordinaria</td>\n",
              "      <td>Small Cap</td>\n",
              "    </tr>\n",
              "    <tr>\n",
              "      <th>4</th>\n",
              "      <td>15.05</td>\n",
              "      <td>15.10</td>\n",
              "      <td>14.62</td>\n",
              "      <td>14.79</td>\n",
              "      <td>244500</td>\n",
              "      <td>14.64</td>\n",
              "      <td>2018-01-08</td>\n",
              "      <td>AALR3.SA</td>\n",
              "      <td>-0.017276</td>\n",
              "      <td>-0.017276</td>\n",
              "      <td>ALLIAR</td>\n",
              "      <td>Saúde</td>\n",
              "      <td>Análises e Diagnósticos</td>\n",
              "      <td>Ordinaria</td>\n",
              "      <td>Small Cap</td>\n",
              "    </tr>\n",
              "    <tr>\n",
              "      <th>...</th>\n",
              "      <td>...</td>\n",
              "      <td>...</td>\n",
              "      <td>...</td>\n",
              "      <td>...</td>\n",
              "      <td>...</td>\n",
              "      <td>...</td>\n",
              "      <td>...</td>\n",
              "      <td>...</td>\n",
              "      <td>...</td>\n",
              "      <td>...</td>\n",
              "      <td>...</td>\n",
              "      <td>...</td>\n",
              "      <td>...</td>\n",
              "      <td>...</td>\n",
              "      <td>...</td>\n",
              "    </tr>\n",
              "    <tr>\n",
              "      <th>298856</th>\n",
              "      <td>27.00</td>\n",
              "      <td>28.00</td>\n",
              "      <td>26.70</td>\n",
              "      <td>26.71</td>\n",
              "      <td>2806700</td>\n",
              "      <td>26.71</td>\n",
              "      <td>2021-03-24</td>\n",
              "      <td>YDUQ3.SA</td>\n",
              "      <td>-0.010741</td>\n",
              "      <td>-0.010741</td>\n",
              "      <td>YDUQS PART</td>\n",
              "      <td>Consumo Cíclico</td>\n",
              "      <td>Diversos</td>\n",
              "      <td>Ordinaria</td>\n",
              "      <td>Mid Cap</td>\n",
              "    </tr>\n",
              "    <tr>\n",
              "      <th>298857</th>\n",
              "      <td>26.81</td>\n",
              "      <td>27.73</td>\n",
              "      <td>26.26</td>\n",
              "      <td>27.73</td>\n",
              "      <td>2433000</td>\n",
              "      <td>27.73</td>\n",
              "      <td>2021-03-25</td>\n",
              "      <td>YDUQ3.SA</td>\n",
              "      <td>0.038188</td>\n",
              "      <td>0.038188</td>\n",
              "      <td>YDUQS PART</td>\n",
              "      <td>Consumo Cíclico</td>\n",
              "      <td>Diversos</td>\n",
              "      <td>Ordinaria</td>\n",
              "      <td>Mid Cap</td>\n",
              "    </tr>\n",
              "    <tr>\n",
              "      <th>298858</th>\n",
              "      <td>27.64</td>\n",
              "      <td>27.75</td>\n",
              "      <td>26.60</td>\n",
              "      <td>27.09</td>\n",
              "      <td>1801000</td>\n",
              "      <td>27.09</td>\n",
              "      <td>2021-03-26</td>\n",
              "      <td>YDUQ3.SA</td>\n",
              "      <td>-0.023080</td>\n",
              "      <td>-0.023080</td>\n",
              "      <td>YDUQS PART</td>\n",
              "      <td>Consumo Cíclico</td>\n",
              "      <td>Diversos</td>\n",
              "      <td>Ordinaria</td>\n",
              "      <td>Mid Cap</td>\n",
              "    </tr>\n",
              "    <tr>\n",
              "      <th>298859</th>\n",
              "      <td>26.89</td>\n",
              "      <td>27.24</td>\n",
              "      <td>26.43</td>\n",
              "      <td>26.71</td>\n",
              "      <td>1223600</td>\n",
              "      <td>26.71</td>\n",
              "      <td>2021-03-29</td>\n",
              "      <td>YDUQ3.SA</td>\n",
              "      <td>-0.014027</td>\n",
              "      <td>-0.014027</td>\n",
              "      <td>YDUQS PART</td>\n",
              "      <td>Consumo Cíclico</td>\n",
              "      <td>Diversos</td>\n",
              "      <td>Ordinaria</td>\n",
              "      <td>Mid Cap</td>\n",
              "    </tr>\n",
              "    <tr>\n",
              "      <th>298860</th>\n",
              "      <td>26.66</td>\n",
              "      <td>28.30</td>\n",
              "      <td>26.55</td>\n",
              "      <td>28.04</td>\n",
              "      <td>2396200</td>\n",
              "      <td>28.04</td>\n",
              "      <td>2021-03-30</td>\n",
              "      <td>YDUQ3.SA</td>\n",
              "      <td>0.049794</td>\n",
              "      <td>0.049794</td>\n",
              "      <td>YDUQS PART</td>\n",
              "      <td>Consumo Cíclico</td>\n",
              "      <td>Diversos</td>\n",
              "      <td>Ordinaria</td>\n",
              "      <td>Mid Cap</td>\n",
              "    </tr>\n",
              "  </tbody>\n",
              "</table>\n",
              "<p>298861 rows × 15 columns</p>\n",
              "</div>"
            ],
            "text/plain": [
              "        Preco_Abertura  Maior_Preco  ...       Tipo  Classificacao\n",
              "0                14.94        15.16  ...  Ordinaria      Small Cap\n",
              "1                14.89        15.32  ...  Ordinaria      Small Cap\n",
              "2                15.00        15.16  ...  Ordinaria      Small Cap\n",
              "3                15.05        15.17  ...  Ordinaria      Small Cap\n",
              "4                15.05        15.10  ...  Ordinaria      Small Cap\n",
              "...                ...          ...  ...        ...            ...\n",
              "298856           27.00        28.00  ...  Ordinaria        Mid Cap\n",
              "298857           26.81        27.73  ...  Ordinaria        Mid Cap\n",
              "298858           27.64        27.75  ...  Ordinaria        Mid Cap\n",
              "298859           26.89        27.24  ...  Ordinaria        Mid Cap\n",
              "298860           26.66        28.30  ...  Ordinaria        Mid Cap\n",
              "\n",
              "[298861 rows x 15 columns]"
            ]
          },
          "metadata": {},
          "execution_count": 41
        }
      ]
    },
    {
      "cell_type": "markdown",
      "metadata": {
        "id": "mkrM8YsBbcFb"
      },
      "source": [
        "#### Criando DataFrames adicionais"
      ]
    },
    {
      "cell_type": "code",
      "metadata": {
        "id": "BLypUiOdPfrK"
      },
      "source": [
        "#criando novo DataFrame com a coluna 'Data_Referencia' no formato BR\n",
        "#a coluna deixa de ser do tipo Datetime ao formatar para %d/%m/%Y e passa a ser Object \n",
        "\n",
        "df_acoes_pandas_dataBR = df_acoes.copy()\n"
      ],
      "execution_count": null,
      "outputs": []
    },
    {
      "cell_type": "code",
      "metadata": {
        "id": "TNEjirnhDqh-",
        "colab": {
          "base_uri": "https://localhost:8080/",
          "height": 591
        },
        "outputId": "da245bc8-6b1c-4812-f422-dea57bf46638"
      },
      "source": [
        "df_acoes_pandas_dataBR"
      ],
      "execution_count": null,
      "outputs": [
        {
          "output_type": "execute_result",
          "data": {
            "text/html": [
              "<div>\n",
              "<style scoped>\n",
              "    .dataframe tbody tr th:only-of-type {\n",
              "        vertical-align: middle;\n",
              "    }\n",
              "\n",
              "    .dataframe tbody tr th {\n",
              "        vertical-align: top;\n",
              "    }\n",
              "\n",
              "    .dataframe thead th {\n",
              "        text-align: right;\n",
              "    }\n",
              "</style>\n",
              "<table border=\"1\" class=\"dataframe\">\n",
              "  <thead>\n",
              "    <tr style=\"text-align: right;\">\n",
              "      <th></th>\n",
              "      <th>Preco_Abertura</th>\n",
              "      <th>Maior_Preco</th>\n",
              "      <th>Menor_Preco</th>\n",
              "      <th>Preco_Fechamento</th>\n",
              "      <th>Volume</th>\n",
              "      <th>Preco_Ajustado</th>\n",
              "      <th>Data_Referencia</th>\n",
              "      <th>Codigo_Acao</th>\n",
              "      <th>Ret_Preco_Ajustado</th>\n",
              "      <th>Ret_Preco_Fechamento</th>\n",
              "      <th>Empresa</th>\n",
              "      <th>Setor</th>\n",
              "      <th>Subsetor</th>\n",
              "      <th>Tipo</th>\n",
              "      <th>Classificacao</th>\n",
              "    </tr>\n",
              "  </thead>\n",
              "  <tbody>\n",
              "    <tr>\n",
              "      <th>0</th>\n",
              "      <td>14.94</td>\n",
              "      <td>15.16</td>\n",
              "      <td>14.70</td>\n",
              "      <td>14.89</td>\n",
              "      <td>94500</td>\n",
              "      <td>14.74</td>\n",
              "      <td>2018-01-02</td>\n",
              "      <td>AALR3.SA</td>\n",
              "      <td>NaN</td>\n",
              "      <td>NaN</td>\n",
              "      <td>ALLIAR</td>\n",
              "      <td>Saúde</td>\n",
              "      <td>Análises e Diagnósticos</td>\n",
              "      <td>Ordinaria</td>\n",
              "      <td>Small Cap</td>\n",
              "    </tr>\n",
              "    <tr>\n",
              "      <th>1</th>\n",
              "      <td>14.89</td>\n",
              "      <td>15.32</td>\n",
              "      <td>14.79</td>\n",
              "      <td>14.96</td>\n",
              "      <td>584700</td>\n",
              "      <td>14.81</td>\n",
              "      <td>2018-01-03</td>\n",
              "      <td>AALR3.SA</td>\n",
              "      <td>0.004701</td>\n",
              "      <td>0.004701</td>\n",
              "      <td>ALLIAR</td>\n",
              "      <td>Saúde</td>\n",
              "      <td>Análises e Diagnósticos</td>\n",
              "      <td>Ordinaria</td>\n",
              "      <td>Small Cap</td>\n",
              "    </tr>\n",
              "    <tr>\n",
              "      <th>2</th>\n",
              "      <td>15.00</td>\n",
              "      <td>15.16</td>\n",
              "      <td>14.81</td>\n",
              "      <td>15.09</td>\n",
              "      <td>290100</td>\n",
              "      <td>14.94</td>\n",
              "      <td>2018-01-04</td>\n",
              "      <td>AALR3.SA</td>\n",
              "      <td>0.008690</td>\n",
              "      <td>0.008690</td>\n",
              "      <td>ALLIAR</td>\n",
              "      <td>Saúde</td>\n",
              "      <td>Análises e Diagnósticos</td>\n",
              "      <td>Ordinaria</td>\n",
              "      <td>Small Cap</td>\n",
              "    </tr>\n",
              "    <tr>\n",
              "      <th>3</th>\n",
              "      <td>15.05</td>\n",
              "      <td>15.17</td>\n",
              "      <td>14.95</td>\n",
              "      <td>15.05</td>\n",
              "      <td>131500</td>\n",
              "      <td>14.90</td>\n",
              "      <td>2018-01-05</td>\n",
              "      <td>AALR3.SA</td>\n",
              "      <td>-0.002651</td>\n",
              "      <td>-0.002651</td>\n",
              "      <td>ALLIAR</td>\n",
              "      <td>Saúde</td>\n",
              "      <td>Análises e Diagnósticos</td>\n",
              "      <td>Ordinaria</td>\n",
              "      <td>Small Cap</td>\n",
              "    </tr>\n",
              "    <tr>\n",
              "      <th>4</th>\n",
              "      <td>15.05</td>\n",
              "      <td>15.10</td>\n",
              "      <td>14.62</td>\n",
              "      <td>14.79</td>\n",
              "      <td>244500</td>\n",
              "      <td>14.64</td>\n",
              "      <td>2018-01-08</td>\n",
              "      <td>AALR3.SA</td>\n",
              "      <td>-0.017276</td>\n",
              "      <td>-0.017276</td>\n",
              "      <td>ALLIAR</td>\n",
              "      <td>Saúde</td>\n",
              "      <td>Análises e Diagnósticos</td>\n",
              "      <td>Ordinaria</td>\n",
              "      <td>Small Cap</td>\n",
              "    </tr>\n",
              "    <tr>\n",
              "      <th>...</th>\n",
              "      <td>...</td>\n",
              "      <td>...</td>\n",
              "      <td>...</td>\n",
              "      <td>...</td>\n",
              "      <td>...</td>\n",
              "      <td>...</td>\n",
              "      <td>...</td>\n",
              "      <td>...</td>\n",
              "      <td>...</td>\n",
              "      <td>...</td>\n",
              "      <td>...</td>\n",
              "      <td>...</td>\n",
              "      <td>...</td>\n",
              "      <td>...</td>\n",
              "      <td>...</td>\n",
              "    </tr>\n",
              "    <tr>\n",
              "      <th>298856</th>\n",
              "      <td>27.00</td>\n",
              "      <td>28.00</td>\n",
              "      <td>26.70</td>\n",
              "      <td>26.71</td>\n",
              "      <td>2806700</td>\n",
              "      <td>26.71</td>\n",
              "      <td>2021-03-24</td>\n",
              "      <td>YDUQ3.SA</td>\n",
              "      <td>-0.010741</td>\n",
              "      <td>-0.010741</td>\n",
              "      <td>YDUQS PART</td>\n",
              "      <td>Consumo Cíclico</td>\n",
              "      <td>Diversos</td>\n",
              "      <td>Ordinaria</td>\n",
              "      <td>Mid Cap</td>\n",
              "    </tr>\n",
              "    <tr>\n",
              "      <th>298857</th>\n",
              "      <td>26.81</td>\n",
              "      <td>27.73</td>\n",
              "      <td>26.26</td>\n",
              "      <td>27.73</td>\n",
              "      <td>2433000</td>\n",
              "      <td>27.73</td>\n",
              "      <td>2021-03-25</td>\n",
              "      <td>YDUQ3.SA</td>\n",
              "      <td>0.038188</td>\n",
              "      <td>0.038188</td>\n",
              "      <td>YDUQS PART</td>\n",
              "      <td>Consumo Cíclico</td>\n",
              "      <td>Diversos</td>\n",
              "      <td>Ordinaria</td>\n",
              "      <td>Mid Cap</td>\n",
              "    </tr>\n",
              "    <tr>\n",
              "      <th>298858</th>\n",
              "      <td>27.64</td>\n",
              "      <td>27.75</td>\n",
              "      <td>26.60</td>\n",
              "      <td>27.09</td>\n",
              "      <td>1801000</td>\n",
              "      <td>27.09</td>\n",
              "      <td>2021-03-26</td>\n",
              "      <td>YDUQ3.SA</td>\n",
              "      <td>-0.023080</td>\n",
              "      <td>-0.023080</td>\n",
              "      <td>YDUQS PART</td>\n",
              "      <td>Consumo Cíclico</td>\n",
              "      <td>Diversos</td>\n",
              "      <td>Ordinaria</td>\n",
              "      <td>Mid Cap</td>\n",
              "    </tr>\n",
              "    <tr>\n",
              "      <th>298859</th>\n",
              "      <td>26.89</td>\n",
              "      <td>27.24</td>\n",
              "      <td>26.43</td>\n",
              "      <td>26.71</td>\n",
              "      <td>1223600</td>\n",
              "      <td>26.71</td>\n",
              "      <td>2021-03-29</td>\n",
              "      <td>YDUQ3.SA</td>\n",
              "      <td>-0.014027</td>\n",
              "      <td>-0.014027</td>\n",
              "      <td>YDUQS PART</td>\n",
              "      <td>Consumo Cíclico</td>\n",
              "      <td>Diversos</td>\n",
              "      <td>Ordinaria</td>\n",
              "      <td>Mid Cap</td>\n",
              "    </tr>\n",
              "    <tr>\n",
              "      <th>298860</th>\n",
              "      <td>26.66</td>\n",
              "      <td>28.30</td>\n",
              "      <td>26.55</td>\n",
              "      <td>28.04</td>\n",
              "      <td>2396200</td>\n",
              "      <td>28.04</td>\n",
              "      <td>2021-03-30</td>\n",
              "      <td>YDUQ3.SA</td>\n",
              "      <td>0.049794</td>\n",
              "      <td>0.049794</td>\n",
              "      <td>YDUQS PART</td>\n",
              "      <td>Consumo Cíclico</td>\n",
              "      <td>Diversos</td>\n",
              "      <td>Ordinaria</td>\n",
              "      <td>Mid Cap</td>\n",
              "    </tr>\n",
              "  </tbody>\n",
              "</table>\n",
              "<p>298861 rows × 15 columns</p>\n",
              "</div>"
            ],
            "text/plain": [
              "        Preco_Abertura  Maior_Preco  ...       Tipo  Classificacao\n",
              "0                14.94        15.16  ...  Ordinaria      Small Cap\n",
              "1                14.89        15.32  ...  Ordinaria      Small Cap\n",
              "2                15.00        15.16  ...  Ordinaria      Small Cap\n",
              "3                15.05        15.17  ...  Ordinaria      Small Cap\n",
              "4                15.05        15.10  ...  Ordinaria      Small Cap\n",
              "...                ...          ...  ...        ...            ...\n",
              "298856           27.00        28.00  ...  Ordinaria        Mid Cap\n",
              "298857           26.81        27.73  ...  Ordinaria        Mid Cap\n",
              "298858           27.64        27.75  ...  Ordinaria        Mid Cap\n",
              "298859           26.89        27.24  ...  Ordinaria        Mid Cap\n",
              "298860           26.66        28.30  ...  Ordinaria        Mid Cap\n",
              "\n",
              "[298861 rows x 15 columns]"
            ]
          },
          "metadata": {},
          "execution_count": 43
        }
      ]
    },
    {
      "cell_type": "code",
      "metadata": {
        "id": "LFjnsrejR6h0"
      },
      "source": [
        "#setando a coluna 'Data_Referencia' no formato %d/%m/%Y\n",
        "df_acoes_pandas_dataBR['Data_Referencia'] = df_acoes_pandas_dataBR['Data_Referencia'].dt.strftime('%d/%m/%Y')"
      ],
      "execution_count": null,
      "outputs": []
    },
    {
      "cell_type": "code",
      "metadata": {
        "id": "wvdi61kWVu1H",
        "colab": {
          "base_uri": "https://localhost:8080/",
          "height": 591
        },
        "outputId": "71b75c33-b93e-48e4-ce50-7fea4dbff001"
      },
      "source": [
        "df_acoes_pandas_dataBR"
      ],
      "execution_count": null,
      "outputs": [
        {
          "output_type": "execute_result",
          "data": {
            "text/html": [
              "<div>\n",
              "<style scoped>\n",
              "    .dataframe tbody tr th:only-of-type {\n",
              "        vertical-align: middle;\n",
              "    }\n",
              "\n",
              "    .dataframe tbody tr th {\n",
              "        vertical-align: top;\n",
              "    }\n",
              "\n",
              "    .dataframe thead th {\n",
              "        text-align: right;\n",
              "    }\n",
              "</style>\n",
              "<table border=\"1\" class=\"dataframe\">\n",
              "  <thead>\n",
              "    <tr style=\"text-align: right;\">\n",
              "      <th></th>\n",
              "      <th>Preco_Abertura</th>\n",
              "      <th>Maior_Preco</th>\n",
              "      <th>Menor_Preco</th>\n",
              "      <th>Preco_Fechamento</th>\n",
              "      <th>Volume</th>\n",
              "      <th>Preco_Ajustado</th>\n",
              "      <th>Data_Referencia</th>\n",
              "      <th>Codigo_Acao</th>\n",
              "      <th>Ret_Preco_Ajustado</th>\n",
              "      <th>Ret_Preco_Fechamento</th>\n",
              "      <th>Empresa</th>\n",
              "      <th>Setor</th>\n",
              "      <th>Subsetor</th>\n",
              "      <th>Tipo</th>\n",
              "      <th>Classificacao</th>\n",
              "    </tr>\n",
              "  </thead>\n",
              "  <tbody>\n",
              "    <tr>\n",
              "      <th>0</th>\n",
              "      <td>14.94</td>\n",
              "      <td>15.16</td>\n",
              "      <td>14.70</td>\n",
              "      <td>14.89</td>\n",
              "      <td>94500</td>\n",
              "      <td>14.74</td>\n",
              "      <td>02/01/2018</td>\n",
              "      <td>AALR3.SA</td>\n",
              "      <td>NaN</td>\n",
              "      <td>NaN</td>\n",
              "      <td>ALLIAR</td>\n",
              "      <td>Saúde</td>\n",
              "      <td>Análises e Diagnósticos</td>\n",
              "      <td>Ordinaria</td>\n",
              "      <td>Small Cap</td>\n",
              "    </tr>\n",
              "    <tr>\n",
              "      <th>1</th>\n",
              "      <td>14.89</td>\n",
              "      <td>15.32</td>\n",
              "      <td>14.79</td>\n",
              "      <td>14.96</td>\n",
              "      <td>584700</td>\n",
              "      <td>14.81</td>\n",
              "      <td>03/01/2018</td>\n",
              "      <td>AALR3.SA</td>\n",
              "      <td>0.004701</td>\n",
              "      <td>0.004701</td>\n",
              "      <td>ALLIAR</td>\n",
              "      <td>Saúde</td>\n",
              "      <td>Análises e Diagnósticos</td>\n",
              "      <td>Ordinaria</td>\n",
              "      <td>Small Cap</td>\n",
              "    </tr>\n",
              "    <tr>\n",
              "      <th>2</th>\n",
              "      <td>15.00</td>\n",
              "      <td>15.16</td>\n",
              "      <td>14.81</td>\n",
              "      <td>15.09</td>\n",
              "      <td>290100</td>\n",
              "      <td>14.94</td>\n",
              "      <td>04/01/2018</td>\n",
              "      <td>AALR3.SA</td>\n",
              "      <td>0.008690</td>\n",
              "      <td>0.008690</td>\n",
              "      <td>ALLIAR</td>\n",
              "      <td>Saúde</td>\n",
              "      <td>Análises e Diagnósticos</td>\n",
              "      <td>Ordinaria</td>\n",
              "      <td>Small Cap</td>\n",
              "    </tr>\n",
              "    <tr>\n",
              "      <th>3</th>\n",
              "      <td>15.05</td>\n",
              "      <td>15.17</td>\n",
              "      <td>14.95</td>\n",
              "      <td>15.05</td>\n",
              "      <td>131500</td>\n",
              "      <td>14.90</td>\n",
              "      <td>05/01/2018</td>\n",
              "      <td>AALR3.SA</td>\n",
              "      <td>-0.002651</td>\n",
              "      <td>-0.002651</td>\n",
              "      <td>ALLIAR</td>\n",
              "      <td>Saúde</td>\n",
              "      <td>Análises e Diagnósticos</td>\n",
              "      <td>Ordinaria</td>\n",
              "      <td>Small Cap</td>\n",
              "    </tr>\n",
              "    <tr>\n",
              "      <th>4</th>\n",
              "      <td>15.05</td>\n",
              "      <td>15.10</td>\n",
              "      <td>14.62</td>\n",
              "      <td>14.79</td>\n",
              "      <td>244500</td>\n",
              "      <td>14.64</td>\n",
              "      <td>08/01/2018</td>\n",
              "      <td>AALR3.SA</td>\n",
              "      <td>-0.017276</td>\n",
              "      <td>-0.017276</td>\n",
              "      <td>ALLIAR</td>\n",
              "      <td>Saúde</td>\n",
              "      <td>Análises e Diagnósticos</td>\n",
              "      <td>Ordinaria</td>\n",
              "      <td>Small Cap</td>\n",
              "    </tr>\n",
              "    <tr>\n",
              "      <th>...</th>\n",
              "      <td>...</td>\n",
              "      <td>...</td>\n",
              "      <td>...</td>\n",
              "      <td>...</td>\n",
              "      <td>...</td>\n",
              "      <td>...</td>\n",
              "      <td>...</td>\n",
              "      <td>...</td>\n",
              "      <td>...</td>\n",
              "      <td>...</td>\n",
              "      <td>...</td>\n",
              "      <td>...</td>\n",
              "      <td>...</td>\n",
              "      <td>...</td>\n",
              "      <td>...</td>\n",
              "    </tr>\n",
              "    <tr>\n",
              "      <th>298856</th>\n",
              "      <td>27.00</td>\n",
              "      <td>28.00</td>\n",
              "      <td>26.70</td>\n",
              "      <td>26.71</td>\n",
              "      <td>2806700</td>\n",
              "      <td>26.71</td>\n",
              "      <td>24/03/2021</td>\n",
              "      <td>YDUQ3.SA</td>\n",
              "      <td>-0.010741</td>\n",
              "      <td>-0.010741</td>\n",
              "      <td>YDUQS PART</td>\n",
              "      <td>Consumo Cíclico</td>\n",
              "      <td>Diversos</td>\n",
              "      <td>Ordinaria</td>\n",
              "      <td>Mid Cap</td>\n",
              "    </tr>\n",
              "    <tr>\n",
              "      <th>298857</th>\n",
              "      <td>26.81</td>\n",
              "      <td>27.73</td>\n",
              "      <td>26.26</td>\n",
              "      <td>27.73</td>\n",
              "      <td>2433000</td>\n",
              "      <td>27.73</td>\n",
              "      <td>25/03/2021</td>\n",
              "      <td>YDUQ3.SA</td>\n",
              "      <td>0.038188</td>\n",
              "      <td>0.038188</td>\n",
              "      <td>YDUQS PART</td>\n",
              "      <td>Consumo Cíclico</td>\n",
              "      <td>Diversos</td>\n",
              "      <td>Ordinaria</td>\n",
              "      <td>Mid Cap</td>\n",
              "    </tr>\n",
              "    <tr>\n",
              "      <th>298858</th>\n",
              "      <td>27.64</td>\n",
              "      <td>27.75</td>\n",
              "      <td>26.60</td>\n",
              "      <td>27.09</td>\n",
              "      <td>1801000</td>\n",
              "      <td>27.09</td>\n",
              "      <td>26/03/2021</td>\n",
              "      <td>YDUQ3.SA</td>\n",
              "      <td>-0.023080</td>\n",
              "      <td>-0.023080</td>\n",
              "      <td>YDUQS PART</td>\n",
              "      <td>Consumo Cíclico</td>\n",
              "      <td>Diversos</td>\n",
              "      <td>Ordinaria</td>\n",
              "      <td>Mid Cap</td>\n",
              "    </tr>\n",
              "    <tr>\n",
              "      <th>298859</th>\n",
              "      <td>26.89</td>\n",
              "      <td>27.24</td>\n",
              "      <td>26.43</td>\n",
              "      <td>26.71</td>\n",
              "      <td>1223600</td>\n",
              "      <td>26.71</td>\n",
              "      <td>29/03/2021</td>\n",
              "      <td>YDUQ3.SA</td>\n",
              "      <td>-0.014027</td>\n",
              "      <td>-0.014027</td>\n",
              "      <td>YDUQS PART</td>\n",
              "      <td>Consumo Cíclico</td>\n",
              "      <td>Diversos</td>\n",
              "      <td>Ordinaria</td>\n",
              "      <td>Mid Cap</td>\n",
              "    </tr>\n",
              "    <tr>\n",
              "      <th>298860</th>\n",
              "      <td>26.66</td>\n",
              "      <td>28.30</td>\n",
              "      <td>26.55</td>\n",
              "      <td>28.04</td>\n",
              "      <td>2396200</td>\n",
              "      <td>28.04</td>\n",
              "      <td>30/03/2021</td>\n",
              "      <td>YDUQ3.SA</td>\n",
              "      <td>0.049794</td>\n",
              "      <td>0.049794</td>\n",
              "      <td>YDUQS PART</td>\n",
              "      <td>Consumo Cíclico</td>\n",
              "      <td>Diversos</td>\n",
              "      <td>Ordinaria</td>\n",
              "      <td>Mid Cap</td>\n",
              "    </tr>\n",
              "  </tbody>\n",
              "</table>\n",
              "<p>298861 rows × 15 columns</p>\n",
              "</div>"
            ],
            "text/plain": [
              "        Preco_Abertura  Maior_Preco  ...       Tipo  Classificacao\n",
              "0                14.94        15.16  ...  Ordinaria      Small Cap\n",
              "1                14.89        15.32  ...  Ordinaria      Small Cap\n",
              "2                15.00        15.16  ...  Ordinaria      Small Cap\n",
              "3                15.05        15.17  ...  Ordinaria      Small Cap\n",
              "4                15.05        15.10  ...  Ordinaria      Small Cap\n",
              "...                ...          ...  ...        ...            ...\n",
              "298856           27.00        28.00  ...  Ordinaria        Mid Cap\n",
              "298857           26.81        27.73  ...  Ordinaria        Mid Cap\n",
              "298858           27.64        27.75  ...  Ordinaria        Mid Cap\n",
              "298859           26.89        27.24  ...  Ordinaria        Mid Cap\n",
              "298860           26.66        28.30  ...  Ordinaria        Mid Cap\n",
              "\n",
              "[298861 rows x 15 columns]"
            ]
          },
          "metadata": {},
          "execution_count": 45
        }
      ]
    },
    {
      "cell_type": "code",
      "metadata": {
        "colab": {
          "base_uri": "https://localhost:8080/"
        },
        "id": "hYAQPQdvXpQA",
        "outputId": "a84e028a-2e23-4ebe-aba6-18647543035e"
      },
      "source": [
        "#a coluna 'Data_Referencia' ao ser formatada recebe o tipo Object\n",
        "#comentario 02\n",
        "df_acoes_pandas_dataBR.dtypes"
      ],
      "execution_count": null,
      "outputs": [
        {
          "output_type": "execute_result",
          "data": {
            "text/plain": [
              "Preco_Abertura          float64\n",
              "Maior_Preco             float64\n",
              "Menor_Preco             float64\n",
              "Preco_Fechamento        float64\n",
              "Volume                    int64\n",
              "Preco_Ajustado          float64\n",
              "Data_Referencia          object\n",
              "Codigo_Acao              object\n",
              "Ret_Preco_Ajustado      float64\n",
              "Ret_Preco_Fechamento    float64\n",
              "Empresa                  object\n",
              "Setor                    object\n",
              "Subsetor                 object\n",
              "Tipo                     object\n",
              "Classificacao            object\n",
              "dtype: object"
            ]
          },
          "metadata": {},
          "execution_count": 46
        }
      ]
    },
    {
      "cell_type": "code",
      "metadata": {
        "id": "BB8KZ-MqX3G-"
      },
      "source": [
        "#filtrando DataSet por data (a coluna é do tipo OBJETO)\n",
        "df_acoes_pandas_dataBR.loc[df_acoes_pandas_dataBR.Data_Referencia == '24/03/2021']\n"
      ],
      "execution_count": null,
      "outputs": []
    },
    {
      "cell_type": "code",
      "metadata": {
        "id": "2rJNvACx7P72"
      },
      "source": [
        "#criando RECORTES mar18 / mar19 / mar20 / mar21\n",
        "\n",
        "df_mar18 = df_acoes.query('Data_Referencia>=\"2018-03-01\" & Data_Referencia <=\"2018-03-30\" ')\n",
        "df_mar21 = df_acoes.query('Data_Referencia>=\"2021-03-01\" & Data_Referencia <=\"2021-03-30\" ')\n",
        "df_mar20 = df_acoes.query('Data_Referencia>=\"2020-03-01\" & Data_Referencia <=\"2020-03-30\" ')\n",
        "df_mar19 = df_acoes.query('Data_Referencia>=\"2019-03-01\" & Data_Referencia <=\"2019-03-30\" ')\n"
      ],
      "execution_count": null,
      "outputs": []
    },
    {
      "cell_type": "code",
      "metadata": {
        "id": "1f3cEeBlBexI"
      },
      "source": [
        "#dropando as colunas desnecessárias nos dataframes de recorte\n",
        "\n",
        "lista = ['Preco_Abertura','Preco_Fechamento','Volume', 'Data_Referencia',\n",
        "         'Codigo_Acao','Empresa','Subsetor','Maior_Preco','Menor_Preco',\n",
        "         'Preco_Ajustado','Ret_Preco_Ajustado','Tipo','Classificacao']\n",
        "df_val_mar18 = df_mar18.drop(lista, axis=1)\n",
        "df_val_mar19 = df_mar19.drop(lista, axis=1)\n",
        "df_val_mar20 = df_mar20.drop(lista, axis=1)\n",
        "df_val_mar21 = df_mar21.drop(lista, axis=1) "
      ],
      "execution_count": null,
      "outputs": []
    },
    {
      "cell_type": "code",
      "metadata": {
        "id": "PJ2X68LVrP8g"
      },
      "source": [
        "#EM MARÇO/2018 a ação com maior Preço_Abertura foi BIC MONARKC (Setor Viagens e Lazer) a 358.98\n",
        "df_mar18.max()"
      ],
      "execution_count": null,
      "outputs": []
    },
    {
      "cell_type": "code",
      "metadata": {
        "colab": {
          "base_uri": "https://localhost:8080/",
          "height": 115
        },
        "id": "4P-1lTKhrc-G",
        "outputId": "b586b843-1077-4de7-db34-2a1e1ff72e20"
      },
      "source": [
        "df_mar18 = df_mar18.sort_values('Ret_Preco_Fechamento',ascending=False)\n",
        "df_mar18.head(1)"
      ],
      "execution_count": null,
      "outputs": [
        {
          "output_type": "execute_result",
          "data": {
            "text/html": [
              "<div>\n",
              "<style scoped>\n",
              "    .dataframe tbody tr th:only-of-type {\n",
              "        vertical-align: middle;\n",
              "    }\n",
              "\n",
              "    .dataframe tbody tr th {\n",
              "        vertical-align: top;\n",
              "    }\n",
              "\n",
              "    .dataframe thead th {\n",
              "        text-align: right;\n",
              "    }\n",
              "</style>\n",
              "<table border=\"1\" class=\"dataframe\">\n",
              "  <thead>\n",
              "    <tr style=\"text-align: right;\">\n",
              "      <th></th>\n",
              "      <th>Preco_Abertura</th>\n",
              "      <th>Maior_Preco</th>\n",
              "      <th>Menor_Preco</th>\n",
              "      <th>Preco_Fechamento</th>\n",
              "      <th>Volume</th>\n",
              "      <th>Preco_Ajustado</th>\n",
              "      <th>Data_Referencia</th>\n",
              "      <th>Codigo_Acao</th>\n",
              "      <th>Ret_Preco_Ajustado</th>\n",
              "      <th>Ret_Preco_Fechamento</th>\n",
              "      <th>Empresa</th>\n",
              "      <th>Setor</th>\n",
              "      <th>Subsetor</th>\n",
              "      <th>Tipo</th>\n",
              "      <th>Classificacao</th>\n",
              "    </tr>\n",
              "  </thead>\n",
              "  <tbody>\n",
              "    <tr>\n",
              "      <th>207193</th>\n",
              "      <td>7.4</td>\n",
              "      <td>13.14</td>\n",
              "      <td>7.4</td>\n",
              "      <td>12.14</td>\n",
              "      <td>108800</td>\n",
              "      <td>12.14</td>\n",
              "      <td>2018-03-12</td>\n",
              "      <td>OSXB3.SA</td>\n",
              "      <td>0.709859</td>\n",
              "      <td>0.709859</td>\n",
              "      <td>OSX BRASIL</td>\n",
              "      <td>Petróleo, Gás e Biocombustíveis</td>\n",
              "      <td>Petróleo, Gás e Biocombustíveis</td>\n",
              "      <td>Ordinaria</td>\n",
              "      <td>Nano Cap</td>\n",
              "    </tr>\n",
              "  </tbody>\n",
              "</table>\n",
              "</div>"
            ],
            "text/plain": [
              "        Preco_Abertura  Maior_Preco  ...       Tipo  Classificacao\n",
              "207193             7.4        13.14  ...  Ordinaria       Nano Cap\n",
              "\n",
              "[1 rows x 15 columns]"
            ]
          },
          "metadata": {},
          "execution_count": 75
        }
      ]
    },
    {
      "cell_type": "code",
      "metadata": {
        "id": "lKSr3oFYGd3m"
      },
      "source": [
        "#EM MARÇO/2019 a ação com maior Preço_Abertura foi BIC MONARKC (Setor Viagens e Lazer) a 305\n",
        "df_mar19.max()"
      ],
      "execution_count": null,
      "outputs": []
    },
    {
      "cell_type": "code",
      "metadata": {
        "colab": {
          "base_uri": "https://localhost:8080/",
          "height": 131
        },
        "id": "nuSDfQ8pIrbl",
        "outputId": "518cf737-dd74-400b-91ab-fe08d587099a"
      },
      "source": [
        "#esse valor de 305 foi atingido em 01/mar mas foi caindo ao longo do mesmo mês\n",
        "df_mar19 = df_mar19.sort_values('Ret_Preco_Fechamento',ascending=False)\n",
        "df_mar19.head(1)"
      ],
      "execution_count": null,
      "outputs": [
        {
          "output_type": "execute_result",
          "data": {
            "text/html": [
              "<div>\n",
              "<style scoped>\n",
              "    .dataframe tbody tr th:only-of-type {\n",
              "        vertical-align: middle;\n",
              "    }\n",
              "\n",
              "    .dataframe tbody tr th {\n",
              "        vertical-align: top;\n",
              "    }\n",
              "\n",
              "    .dataframe thead th {\n",
              "        text-align: right;\n",
              "    }\n",
              "</style>\n",
              "<table border=\"1\" class=\"dataframe\">\n",
              "  <thead>\n",
              "    <tr style=\"text-align: right;\">\n",
              "      <th></th>\n",
              "      <th>Preco_Abertura</th>\n",
              "      <th>Maior_Preco</th>\n",
              "      <th>Menor_Preco</th>\n",
              "      <th>Preco_Fechamento</th>\n",
              "      <th>Volume</th>\n",
              "      <th>Preco_Ajustado</th>\n",
              "      <th>Data_Referencia</th>\n",
              "      <th>Codigo_Acao</th>\n",
              "      <th>Ret_Preco_Ajustado</th>\n",
              "      <th>Ret_Preco_Fechamento</th>\n",
              "      <th>Empresa</th>\n",
              "      <th>Setor</th>\n",
              "      <th>Subsetor</th>\n",
              "      <th>Tipo</th>\n",
              "      <th>Classificacao</th>\n",
              "    </tr>\n",
              "  </thead>\n",
              "  <tbody>\n",
              "    <tr>\n",
              "      <th>13843</th>\n",
              "      <td>14.98</td>\n",
              "      <td>26.61</td>\n",
              "      <td>14.98</td>\n",
              "      <td>26.61</td>\n",
              "      <td>36443</td>\n",
              "      <td>26.61</td>\n",
              "      <td>2019-03-18</td>\n",
              "      <td>AZEV3.SA</td>\n",
              "      <td>0.67842</td>\n",
              "      <td>0.67842</td>\n",
              "      <td>AZEVEDO</td>\n",
              "      <td>Bens Industriais</td>\n",
              "      <td>Construção e Engenharia</td>\n",
              "      <td>Ordinaria</td>\n",
              "      <td>Nano Cap</td>\n",
              "    </tr>\n",
              "  </tbody>\n",
              "</table>\n",
              "</div>"
            ],
            "text/plain": [
              "       Preco_Abertura  Maior_Preco  ...       Tipo  Classificacao\n",
              "13843           14.98        26.61  ...  Ordinaria       Nano Cap\n",
              "\n",
              "[1 rows x 15 columns]"
            ]
          },
          "metadata": {},
          "execution_count": 74
        }
      ]
    },
    {
      "cell_type": "code",
      "metadata": {
        "id": "fjB2HdKRHhB-"
      },
      "source": [
        "#EM MARÇO/20 o cenário já era completamente diferente, o maior Preço_Abertura no periodo\n",
        "#foi 547.50 e pertence a uma empresa do setor Energia\n",
        "df_mar20.max()"
      ],
      "execution_count": null,
      "outputs": []
    },
    {
      "cell_type": "code",
      "metadata": {
        "id": "r1mnN4JpKwtM",
        "colab": {
          "base_uri": "https://localhost:8080/",
          "height": 115
        },
        "outputId": "ec21ebd7-966f-4616-c34b-c1170e3af87e"
      },
      "source": [
        "df_mar20.sort_values('Preco_Abertura',ascending=False).head(1)\n",
        "#df_mar20"
      ],
      "execution_count": null,
      "outputs": [
        {
          "output_type": "execute_result",
          "data": {
            "text/html": [
              "<div>\n",
              "<style scoped>\n",
              "    .dataframe tbody tr th:only-of-type {\n",
              "        vertical-align: middle;\n",
              "    }\n",
              "\n",
              "    .dataframe tbody tr th {\n",
              "        vertical-align: top;\n",
              "    }\n",
              "\n",
              "    .dataframe thead th {\n",
              "        text-align: right;\n",
              "    }\n",
              "</style>\n",
              "<table border=\"1\" class=\"dataframe\">\n",
              "  <thead>\n",
              "    <tr style=\"text-align: right;\">\n",
              "      <th></th>\n",
              "      <th>Preco_Abertura</th>\n",
              "      <th>Maior_Preco</th>\n",
              "      <th>Menor_Preco</th>\n",
              "      <th>Preco_Fechamento</th>\n",
              "      <th>Volume</th>\n",
              "      <th>Preco_Ajustado</th>\n",
              "      <th>Data_Referencia</th>\n",
              "      <th>Codigo_Acao</th>\n",
              "      <th>Ret_Preco_Ajustado</th>\n",
              "      <th>Ret_Preco_Fechamento</th>\n",
              "      <th>Empresa</th>\n",
              "      <th>Setor</th>\n",
              "      <th>Subsetor</th>\n",
              "      <th>Tipo</th>\n",
              "      <th>Classificacao</th>\n",
              "    </tr>\n",
              "  </thead>\n",
              "  <tbody>\n",
              "    <tr>\n",
              "      <th>108062</th>\n",
              "      <td>547.5</td>\n",
              "      <td>547.5</td>\n",
              "      <td>547.5</td>\n",
              "      <td>547.5</td>\n",
              "      <td>0</td>\n",
              "      <td>525.07</td>\n",
              "      <td>2020-03-12</td>\n",
              "      <td>EEEL4.SA</td>\n",
              "      <td>0.0</td>\n",
              "      <td>0.0</td>\n",
              "      <td>CEEE-GT</td>\n",
              "      <td>Utilidade Pública</td>\n",
              "      <td>Energia Elétrica</td>\n",
              "      <td>Preferencial</td>\n",
              "      <td>Mid Cap</td>\n",
              "    </tr>\n",
              "  </tbody>\n",
              "</table>\n",
              "</div>"
            ],
            "text/plain": [
              "        Preco_Abertura  Maior_Preco  ...          Tipo  Classificacao\n",
              "108062           547.5        547.5  ...  Preferencial        Mid Cap\n",
              "\n",
              "[1 rows x 15 columns]"
            ]
          },
          "metadata": {},
          "execution_count": 76
        }
      ]
    },
    {
      "cell_type": "code",
      "metadata": {
        "id": "bBm80D6OHqq_"
      },
      "source": [
        "#chegando em MARÇO/21 o maior Preço_Abertura já superava em 376% o valor de 2 anos atrás\n",
        "df_mar21.max()"
      ],
      "execution_count": null,
      "outputs": []
    },
    {
      "cell_type": "code",
      "metadata": {
        "id": "4KHyQlznK8CA",
        "colab": {
          "base_uri": "https://localhost:8080/",
          "height": 301
        },
        "outputId": "94ce64b5-7e55-4bcb-d4af-0591ea4b1959"
      },
      "source": [
        "#desta vez a ação pertence a uma Financeira\n",
        "df_mar21.sort_values('Ret_Preco_Fechamento',ascending=False).head(5)\n",
        "\n",
        "\n"
      ],
      "execution_count": null,
      "outputs": [
        {
          "output_type": "execute_result",
          "data": {
            "text/html": [
              "<div>\n",
              "<style scoped>\n",
              "    .dataframe tbody tr th:only-of-type {\n",
              "        vertical-align: middle;\n",
              "    }\n",
              "\n",
              "    .dataframe tbody tr th {\n",
              "        vertical-align: top;\n",
              "    }\n",
              "\n",
              "    .dataframe thead th {\n",
              "        text-align: right;\n",
              "    }\n",
              "</style>\n",
              "<table border=\"1\" class=\"dataframe\">\n",
              "  <thead>\n",
              "    <tr style=\"text-align: right;\">\n",
              "      <th></th>\n",
              "      <th>Preco_Abertura</th>\n",
              "      <th>Maior_Preco</th>\n",
              "      <th>Menor_Preco</th>\n",
              "      <th>Preco_Fechamento</th>\n",
              "      <th>Volume</th>\n",
              "      <th>Preco_Ajustado</th>\n",
              "      <th>Data_Referencia</th>\n",
              "      <th>Codigo_Acao</th>\n",
              "      <th>Ret_Preco_Ajustado</th>\n",
              "      <th>Ret_Preco_Fechamento</th>\n",
              "      <th>Empresa</th>\n",
              "      <th>Setor</th>\n",
              "      <th>Subsetor</th>\n",
              "      <th>Tipo</th>\n",
              "      <th>Classificacao</th>\n",
              "    </tr>\n",
              "  </thead>\n",
              "  <tbody>\n",
              "    <tr>\n",
              "      <th>41372</th>\n",
              "      <td>1082.00</td>\n",
              "      <td>1210.00</td>\n",
              "      <td>1081.00</td>\n",
              "      <td>1194.00</td>\n",
              "      <td>10120400</td>\n",
              "      <td>1194.00</td>\n",
              "      <td>2021-03-17</td>\n",
              "      <td>BPAN4.SA</td>\n",
              "      <td>109.555600</td>\n",
              "      <td>109.555600</td>\n",
              "      <td>BANCO PAN</td>\n",
              "      <td>Financeiro</td>\n",
              "      <td>Intermediários Financeiros</td>\n",
              "      <td>Preferencial</td>\n",
              "      <td>Mid Cap</td>\n",
              "    </tr>\n",
              "    <tr>\n",
              "      <th>41368</th>\n",
              "      <td>1147.00</td>\n",
              "      <td>1185.00</td>\n",
              "      <td>1092.00</td>\n",
              "      <td>1138.00</td>\n",
              "      <td>9900000</td>\n",
              "      <td>1138.00</td>\n",
              "      <td>2021-03-11</td>\n",
              "      <td>BPAN4.SA</td>\n",
              "      <td>99.886520</td>\n",
              "      <td>99.886520</td>\n",
              "      <td>BANCO PAN</td>\n",
              "      <td>Financeiro</td>\n",
              "      <td>Intermediários Financeiros</td>\n",
              "      <td>Preferencial</td>\n",
              "      <td>Mid Cap</td>\n",
              "    </tr>\n",
              "    <tr>\n",
              "      <th>211110</th>\n",
              "      <td>18.00</td>\n",
              "      <td>25.61</td>\n",
              "      <td>17.41</td>\n",
              "      <td>23.33</td>\n",
              "      <td>49361500</td>\n",
              "      <td>23.33</td>\n",
              "      <td>2021-03-01</td>\n",
              "      <td>PCAR3.SA</td>\n",
              "      <td>1.122839</td>\n",
              "      <td>1.122839</td>\n",
              "      <td>P.ACUCAR-CBD</td>\n",
              "      <td>Consumo não Cíclico</td>\n",
              "      <td>Comércio e Distribuição</td>\n",
              "      <td>Ordinaria</td>\n",
              "      <td>Mid Cap</td>\n",
              "    </tr>\n",
              "    <tr>\n",
              "      <th>176764</th>\n",
              "      <td>5.32</td>\n",
              "      <td>8.77</td>\n",
              "      <td>5.15</td>\n",
              "      <td>8.05</td>\n",
              "      <td>30777700</td>\n",
              "      <td>8.05</td>\n",
              "      <td>2021-03-29</td>\n",
              "      <td>LUPA3.SA</td>\n",
              "      <td>0.603586</td>\n",
              "      <td>0.603586</td>\n",
              "      <td>LUPATECH</td>\n",
              "      <td>Petróleo, Gás e Biocombustíveis</td>\n",
              "      <td>Petróleo, Gás e Biocombustíveis</td>\n",
              "      <td>Ordinaria</td>\n",
              "      <td>Nano Cap</td>\n",
              "    </tr>\n",
              "    <tr>\n",
              "      <th>176761</th>\n",
              "      <td>2.80</td>\n",
              "      <td>4.37</td>\n",
              "      <td>2.80</td>\n",
              "      <td>4.22</td>\n",
              "      <td>10685600</td>\n",
              "      <td>4.22</td>\n",
              "      <td>2021-03-24</td>\n",
              "      <td>LUPA3.SA</td>\n",
              "      <td>0.574627</td>\n",
              "      <td>0.574627</td>\n",
              "      <td>LUPATECH</td>\n",
              "      <td>Petróleo, Gás e Biocombustíveis</td>\n",
              "      <td>Petróleo, Gás e Biocombustíveis</td>\n",
              "      <td>Ordinaria</td>\n",
              "      <td>Nano Cap</td>\n",
              "    </tr>\n",
              "  </tbody>\n",
              "</table>\n",
              "</div>"
            ],
            "text/plain": [
              "        Preco_Abertura  Maior_Preco  ...          Tipo  Classificacao\n",
              "41372          1082.00      1210.00  ...  Preferencial        Mid Cap\n",
              "41368          1147.00      1185.00  ...  Preferencial        Mid Cap\n",
              "211110           18.00        25.61  ...     Ordinaria        Mid Cap\n",
              "176764            5.32         8.77  ...     Ordinaria       Nano Cap\n",
              "176761            2.80         4.37  ...     Ordinaria       Nano Cap\n",
              "\n",
              "[5 rows x 15 columns]"
            ]
          },
          "metadata": {},
          "execution_count": 77
        }
      ]
    },
    {
      "cell_type": "code",
      "metadata": {
        "id": "wpgKXDuQF5EP"
      },
      "source": [
        "#mini dataframe com resumo empresa com maior Preco de Abertura em MAR/2018,2019,2020,2021\n",
        "\n",
        "df_mar_anos = pd.DataFrame([\n",
        "                    ['BIC MONARK',358.98,305.00,262.00,255.99],\n",
        "                    ['CEEE-GT',150.00,227.22,547.50,600.00]],\n",
        "                  columns = ['empresas','mar2018','mar2019','mar2020','mar2021'])"
      ],
      "execution_count": null,
      "outputs": []
    },
    {
      "cell_type": "code",
      "metadata": {
        "id": "iwqRNAO-O-aD",
        "colab": {
          "base_uri": "https://localhost:8080/",
          "height": 108
        },
        "outputId": "dac30879-432e-4159-ea7e-10e265a0e9d9"
      },
      "source": [
        "df_mar_anos\n"
      ],
      "execution_count": null,
      "outputs": [
        {
          "output_type": "execute_result",
          "data": {
            "text/html": [
              "<div>\n",
              "<style scoped>\n",
              "    .dataframe tbody tr th:only-of-type {\n",
              "        vertical-align: middle;\n",
              "    }\n",
              "\n",
              "    .dataframe tbody tr th {\n",
              "        vertical-align: top;\n",
              "    }\n",
              "\n",
              "    .dataframe thead th {\n",
              "        text-align: right;\n",
              "    }\n",
              "</style>\n",
              "<table border=\"1\" class=\"dataframe\">\n",
              "  <thead>\n",
              "    <tr style=\"text-align: right;\">\n",
              "      <th></th>\n",
              "      <th>empresas</th>\n",
              "      <th>mar2018</th>\n",
              "      <th>mar2019</th>\n",
              "      <th>mar2020</th>\n",
              "      <th>mar2021</th>\n",
              "    </tr>\n",
              "  </thead>\n",
              "  <tbody>\n",
              "    <tr>\n",
              "      <th>0</th>\n",
              "      <td>BIC MONARK</td>\n",
              "      <td>358.98</td>\n",
              "      <td>305.00</td>\n",
              "      <td>262.0</td>\n",
              "      <td>255.99</td>\n",
              "    </tr>\n",
              "    <tr>\n",
              "      <th>1</th>\n",
              "      <td>CEEE-GT</td>\n",
              "      <td>150.00</td>\n",
              "      <td>227.22</td>\n",
              "      <td>547.5</td>\n",
              "      <td>600.00</td>\n",
              "    </tr>\n",
              "  </tbody>\n",
              "</table>\n",
              "</div>"
            ],
            "text/plain": [
              "     empresas  mar2018  mar2019  mar2020  mar2021\n",
              "0  BIC MONARK   358.98   305.00    262.0   255.99\n",
              "1     CEEE-GT   150.00   227.22    547.5   600.00"
            ]
          },
          "metadata": {},
          "execution_count": 48
        }
      ]
    },
    {
      "cell_type": "code",
      "metadata": {
        "id": "JbvhMsleJ8TI"
      },
      "source": [
        ""
      ],
      "execution_count": null,
      "outputs": []
    },
    {
      "cell_type": "markdown",
      "metadata": {
        "id": "atJELRrDhmag"
      },
      "source": [
        "### PLOTAGEM insights simples \n"
      ]
    },
    {
      "cell_type": "code",
      "metadata": {
        "id": "hBk2VNnwrfnY",
        "colab": {
          "base_uri": "https://localhost:8080/",
          "height": 392
        },
        "outputId": "1d20b59c-1ddb-4139-d64c-1724d0097696"
      },
      "source": [
        "df_val_mar18.groupby(['Setor']).size().plot.bar(figsize=(6,3),xlabel='Valorização Acumulado Ações Março/2018',ylabel='Acumulado Mês')"
      ],
      "execution_count": null,
      "outputs": [
        {
          "output_type": "execute_result",
          "data": {
            "text/plain": [
              "<matplotlib.axes._subplots.AxesSubplot at 0x7ff2170feb90>"
            ]
          },
          "metadata": {},
          "execution_count": 70
        },
        {
          "output_type": "display_data",
          "data": {
            "image/png": "[encoded data removed]",
            "text/plain": [
              "<Figure size 432x216 with 1 Axes>"
            ]
          },
          "metadata": {
            "needs_background": "light"
          }
        }
      ]
    },
    {
      "cell_type": "code",
      "metadata": {
        "id": "nZn3zkvEmAtU",
        "colab": {
          "base_uri": "https://localhost:8080/",
          "height": 391
        },
        "outputId": "c9958388-78e0-40ab-ce33-0f1758850d9d"
      },
      "source": [
        "df_val_mar19.groupby(['Setor']).size().plot.bar(figsize=(6,3),xlabel='Valorização Média Março/2019',ylabel='Valorizacao')"
      ],
      "execution_count": null,
      "outputs": [
        {
          "output_type": "execute_result",
          "data": {
            "text/plain": [
              "<matplotlib.axes._subplots.AxesSubplot at 0x7ff216b89b50>"
            ]
          },
          "metadata": {},
          "execution_count": 78
        },
        {
          "output_type": "display_data",
          "data": {
            "image/png": "[encoded data removed]",
            "text/plain": [
              "<Figure size 432x216 with 1 Axes>"
            ]
          },
          "metadata": {
            "needs_background": "light"
          }
        }
      ]
    },
    {
      "cell_type": "code",
      "metadata": {
        "colab": {
          "base_uri": "https://localhost:8080/",
          "height": 392
        },
        "id": "X7CzetpfIaBx",
        "outputId": "43e3c90e-5033-4647-ea9a-17830bed8725"
      },
      "source": [
        "df_val_mar20.groupby(['Setor']).size().plot.bar(figsize=(6,3),xlabel='Valorização Média Março/2020',ylabel='Valorizacao')"
      ],
      "execution_count": null,
      "outputs": [
        {
          "output_type": "execute_result",
          "data": {
            "text/plain": [
              "<matplotlib.axes._subplots.AxesSubplot at 0x7ff216c91650>"
            ]
          },
          "metadata": {},
          "execution_count": 69
        },
        {
          "output_type": "display_data",
          "data": {
            "image/png": "[encoded data removed]",
            "text/plain": [
              "<Figure size 432x216 with 1 Axes>"
            ]
          },
          "metadata": {
            "needs_background": "light"
          }
        }
      ]
    },
    {
      "cell_type": "code",
      "metadata": {
        "colab": {
          "base_uri": "https://localhost:8080/",
          "height": 391
        },
        "id": "9KGvHlhCIomI",
        "outputId": "77fa8f0d-d6c7-49d1-da4e-30b196debff7"
      },
      "source": [
        "\n",
        "df_val_mar21.groupby(['Setor']).size().plot.bar(figsize=(6,3),xlabel='Valorização Média Março/2021',ylabel='Valorizacao')"
      ],
      "execution_count": null,
      "outputs": [
        {
          "output_type": "execute_result",
          "data": {
            "text/plain": [
              "<matplotlib.axes._subplots.AxesSubplot at 0x7ff216d636d0>"
            ]
          },
          "metadata": {},
          "execution_count": 68
        },
        {
          "output_type": "display_data",
          "data": {
            "image/png": "[encoded data removed]",
            "text/plain": [
              "<Figure size 432x216 with 1 Axes>"
            ]
          },
          "metadata": {
            "needs_background": "light"
          }
        }
      ]
    },
    {
      "cell_type": "markdown",
      "metadata": {
        "id": "4syka4lYPfyr"
      },
      "source": [
        ""
      ]
    },
    {
      "cell_type": "markdown",
      "metadata": {
        "id": "CZMC8oupW_yL"
      },
      "source": [
        "### LOAD DataSet tratado Pandas para GCP\n",
        "\n",
        "\n",
        "*   acoes_pandas.csv\n",
        "*   acoes_dataBR_pandas.csv\n",
        "\n",
        "\n",
        "#####  "
      ]
    },
    {
      "cell_type": "code",
      "metadata": {
        "id": "AoN3ZfVhX5aZ"
      },
      "source": [
        "#conversão para CSV\n",
        "df_acoes.to_csv('/content/drive/MyDrive/dados/PROJETO_FINAL/acoes_pandas.csv', index = False)"
      ],
      "execution_count": null,
      "outputs": []
    },
    {
      "cell_type": "code",
      "metadata": {
        "id": "ur4u7m2ScDTB"
      },
      "source": [
        "df_acoes_pandas_dataBR.to_csv(r'/content/drive/MyDrive/dados/PROJETO_FINAL/acoes_dataBR_pandas.csv', index=False)"
      ],
      "execution_count": null,
      "outputs": []
    },
    {
      "cell_type": "code",
      "metadata": {
        "colab": {
          "base_uri": "https://localhost:8080/"
        },
        "id": "7dG9BY10OLdd",
        "outputId": "4590c066-31a8-4952-8ebd-e1d3ac40bfa5"
      },
      "source": [
        "#ENVIO PARA GCP\n",
        "\n",
        "!gsutil cp /content/drive/MyDrive/dados/PROJETO_FINAL/acoes_pandas.csv gs://{bucket_name}/saida/dados_pandas/acoes_pandas.csv"
      ],
      "execution_count": null,
      "outputs": [
        {
          "output_type": "stream",
          "name": "stdout",
          "text": [
            "Copying file:///content/drive/MyDrive/dados/PROJETO_FINAL/acoes_pandas.csv [Content-Type=text/csv]...\n",
            "-\n",
            "Operation completed over 1 objects/40.0 MiB.                                     \n"
          ]
        }
      ]
    },
    {
      "cell_type": "code",
      "metadata": {
        "colab": {
          "base_uri": "https://localhost:8080/"
        },
        "id": "0kRvbVKxcQns",
        "outputId": "16c9a218-1131-4e29-847f-72f4c5d99a2e"
      },
      "source": [
        "!gsutil cp /content/drive/MyDrive/dados/PROJETO_FINAL/acoes_dataBR_pandas.csv gs://{bucket_name}/saida/dados_pandas/acoes_dataBR_pandas.csv"
      ],
      "execution_count": null,
      "outputs": [
        {
          "output_type": "stream",
          "name": "stdout",
          "text": [
            "Copying file:///content/drive/MyDrive/dados/PROJETO_FINAL/acoes_dataBR_pandas.csv [Content-Type=text/csv]...\n",
            "-\n",
            "Operation completed over 1 objects/40.0 MiB.                                     \n"
          ]
        }
      ]
    },
    {
      "cell_type": "code",
      "metadata": {
        "id": "QOjuB3gVf66x"
      },
      "source": [
        ""
      ],
      "execution_count": null,
      "outputs": []
    },
    {
      "cell_type": "markdown",
      "metadata": {
        "id": "IvjW3CiRhG4q"
      },
      "source": [
        "# PySpark"
      ]
    },
    {
      "cell_type": "markdown",
      "metadata": {
        "id": "dhBoJUihQRnT"
      },
      "source": [
        "#### instalando Pyspark"
      ]
    },
    {
      "cell_type": "code",
      "metadata": {
        "colab": {
          "base_uri": "https://localhost:8080/"
        },
        "id": "4czzma8zhVtM",
        "outputId": "f45c1704-e183-4806-dfef-17d2b42c65ef"
      },
      "source": [
        "pip install pyspark"
      ],
      "execution_count": null,
      "outputs": [
        {
          "output_type": "stream",
          "name": "stdout",
          "text": [
            "Collecting pyspark\n",
            "  Downloading pyspark-3.2.0.tar.gz (281.3 MB)\n",
            "\u001b[K     |████████████████████████████████| 281.3 MB 38 kB/s \n",
            "\u001b[?25hCollecting py4j==0.10.9.2\n",
            "  Downloading py4j-0.10.9.2-py2.py3-none-any.whl (198 kB)\n",
            "\u001b[K     |████████████████████████████████| 198 kB 70.4 MB/s \n",
            "\u001b[?25hBuilding wheels for collected packages: pyspark\n",
            "  Building wheel for pyspark (setup.py) ... \u001b[?25l\u001b[?25hdone\n",
            "  Created wheel for pyspark: filename=pyspark-3.2.0-py2.py3-none-any.whl size=281805912 sha256=624defda403333a2a72e89d45301ff2dc13c9ea2c960dfe4543abda6401bc1bb\n",
            "  Stored in directory: /root/.cache/pip/wheels/0b/de/d2/9be5d59d7331c6c2a7c1b6d1a4f463ce107332b1ecd4e80718\n",
            "Successfully built pyspark\n",
            "Installing collected packages: py4j, pyspark\n",
            "Successfully installed py4j-0.10.9.2 pyspark-3.2.0\n"
          ]
        }
      ]
    },
    {
      "cell_type": "markdown",
      "metadata": {
        "id": "HPzldz3-QcUg"
      },
      "source": [
        "#### importando as bibliotecas necessárias"
      ]
    },
    {
      "cell_type": "code",
      "metadata": {
        "id": "IG7QR7CmiXvz"
      },
      "source": [
        "from pyspark.sql import SparkSession\n",
        "import pyspark.sql.functions as F\n",
        "from pyspark.sql.types import * \n",
        "import datetime\n",
        "from pyspark.sql.window import Window"
      ],
      "execution_count": null,
      "outputs": []
    },
    {
      "cell_type": "markdown",
      "metadata": {
        "id": "lO2kNFmkTz0j"
      },
      "source": [
        "#### dowload da dataframe tratado no Pandas direto da GCP"
      ]
    },
    {
      "cell_type": "code",
      "metadata": {
        "colab": {
          "base_uri": "https://localhost:8080/"
        },
        "id": "qbKcNL4yTy_f",
        "outputId": "15e64411-5a93-4421-b292-1a3a43c4ad8d"
      },
      "source": [
        "!gsutil cp gs://{bucket_name}/saida/dados_pandas/acoes_pandas.csv /content/drive/MyDrive/dados/PROJETO_FINAL/acoes_tratado_pandas.csv"
      ],
      "execution_count": null,
      "outputs": [
        {
          "output_type": "stream",
          "name": "stdout",
          "text": [
            "Copying gs://economia-dados-g2/saida/dados_pandas/acoes_pandas.csv...\n",
            "-\n",
            "Operation completed over 1 objects/40.0 MiB.                                     \n"
          ]
        }
      ]
    },
    {
      "cell_type": "markdown",
      "metadata": {
        "id": "SrdZf1g8Wbzl"
      },
      "source": [
        "#### configurando o dataframe sua estrutura"
      ]
    },
    {
      "cell_type": "code",
      "metadata": {
        "id": "MrKevPFeixHn"
      },
      "source": [
        "#configurando a SparkSession e para leitura do dataframe\n",
        "spark = (SparkSession.builder\n",
        "         .master(\"local\")\n",
        "         .appName(\"ProjetoFinalG2Economia\")\n",
        "         .config(\"spark.ui.port\",\"4050\")\n",
        "         .getOrCreate())\n"
      ],
      "execution_count": null,
      "outputs": []
    },
    {
      "cell_type": "code",
      "metadata": {
        "colab": {
          "base_uri": "https://localhost:8080/"
        },
        "id": "CzmHNhesQDum",
        "outputId": "ec15e3e1-eb0f-490b-d159-877b5e030a22"
      },
      "source": [
        "#lendo o dataframe usado seu proprio schema\n",
        "df = spark.read.csv(r\"/content/drive/MyDrive/dados/PROJETO_FINAL/acoes_tratado_pandas.csv\", header=True, inferSchema=True)\n",
        "df.show(10)"
      ],
      "execution_count": null,
      "outputs": [
        {
          "output_type": "stream",
          "name": "stdout",
          "text": [
            "+--------------+-----------+-----------+----------------+------+--------------+---------------+-----------+--------------------+--------------------+-------+-----+--------------------+---------+-------------+\n",
            "|Preco_Abertura|Maior_Preco|Menor_Preco|Preco_Fechamento|Volume|Preco_Ajustado|Data_Referencia|Codigo_Acao|  Ret_Preco_Ajustado|Ret_Preco_Fechamento|Empresa|Setor|            Subsetor|     Tipo|Classificacao|\n",
            "+--------------+-----------+-----------+----------------+------+--------------+---------------+-----------+--------------------+--------------------+-------+-----+--------------------+---------+-------------+\n",
            "|         14.94|      15.16|       14.7|           14.89| 94500|         14.74|     2018-01-02|   AALR3.SA|                null|                null| ALLIAR|Saúde|Análises e Diagnó...|Ordinaria|    Small Cap|\n",
            "|         14.89|      15.32|      14.79|           14.96|584700|         14.81|     2018-01-03|   AALR3.SA| 0.00470117769938838|  0.0047011417058429| ALLIAR|Saúde|Análises e Diagnó...|Ordinaria|    Small Cap|\n",
            "|          15.0|      15.16|      14.81|           15.09|290100|         14.94|     2018-01-04|   AALR3.SA| 0.00868974180746784| 0.00868983957219238| ALLIAR|Saúde|Análises e Diagnó...|Ordinaria|    Small Cap|\n",
            "|         15.05|      15.17|      14.95|           15.05|131500|          14.9|     2018-01-05|   AALR3.SA|-0.00265069648310...|-0.00265076209410198| ALLIAR|Saúde|Análises e Diagnó...|Ordinaria|    Small Cap|\n",
            "|         15.05|       15.1|      14.62|           14.79|244500|         14.64|     2018-01-08|   AALR3.SA|-0.01727568792557...| -0.0172757475083057| ALLIAR|Saúde|Análises e Diagnó...|Ordinaria|    Small Cap|\n",
            "|         14.87|      14.87|       14.5|           14.65| 64200|          14.5|     2018-01-09|   AALR3.SA|-0.00946599546285165|-0.00946585530764...| ALLIAR|Saúde|Análises e Diagnó...|Ordinaria|    Small Cap|\n",
            "|         14.65|       14.7|       14.4|            14.4|429300|         14.26|     2018-01-10|   AALR3.SA| -0.0170648207651509| -0.0170648464163823| ALLIAR|Saúde|Análises e Diagnó...|Ordinaria|    Small Cap|\n",
            "|         14.49|      14.59|      14.37|           14.59|122000|         14.44|     2018-01-11|   AALR3.SA|  0.0131944859982689|  0.0131944444444445| ALLIAR|Saúde|Análises e Diagnó...|Ordinaria|    Small Cap|\n",
            "|          14.7|       14.7|      14.21|            14.5|190800|         14.35|     2018-01-12|   AALR3.SA| -0.0061686460301078|-0.00616860863605206| ALLIAR|Saúde|Análises e Diagnó...|Ordinaria|    Small Cap|\n",
            "|         14.36|      14.69|      14.36|           14.62|951900|         14.47|     2018-01-15|   AALR3.SA| 0.00827593577046226| 0.00827586206896536| ALLIAR|Saúde|Análises e Diagnó...|Ordinaria|    Small Cap|\n",
            "+--------------+-----------+-----------+----------------+------+--------------+---------------+-----------+--------------------+--------------------+-------+-----+--------------------+---------+-------------+\n",
            "only showing top 10 rows\n",
            "\n"
          ]
        }
      ]
    },
    {
      "cell_type": "code",
      "metadata": {
        "colab": {
          "base_uri": "https://localhost:8080/"
        },
        "id": "IEbexgoFQyoo",
        "outputId": "419531ab-4395-4911-fb59-b61f008d80df"
      },
      "source": [
        "#o schema do dataframe\n",
        "#algumas colunas vieram com tipo diferente do desejado\n",
        "df.printSchema()"
      ],
      "execution_count": null,
      "outputs": [
        {
          "output_type": "stream",
          "name": "stdout",
          "text": [
            "root\n",
            " |-- Preco_Abertura: double (nullable = true)\n",
            " |-- Maior_Preco: double (nullable = true)\n",
            " |-- Menor_Preco: double (nullable = true)\n",
            " |-- Preco_Fechamento: double (nullable = true)\n",
            " |-- Volume: integer (nullable = true)\n",
            " |-- Preco_Ajustado: double (nullable = true)\n",
            " |-- Data_Referencia: string (nullable = true)\n",
            " |-- Codigo_Acao: string (nullable = true)\n",
            " |-- Ret_Preco_Ajustado: double (nullable = true)\n",
            " |-- Ret_Preco_Fechamento: double (nullable = true)\n",
            " |-- Empresa: string (nullable = true)\n",
            " |-- Setor: string (nullable = true)\n",
            " |-- Subsetor: string (nullable = true)\n",
            " |-- Tipo: string (nullable = true)\n",
            " |-- Classificacao: string (nullable = true)\n",
            "\n"
          ]
        }
      ]
    },
    {
      "cell_type": "code",
      "metadata": {
        "id": "AoIsCbbqjD6-"
      },
      "source": [
        "#redefinindo o tipo de dados das colunas \n",
        "schema = StructType([ \n",
        "      StructField(\"Preco_Abertura\",FloatType(),True),\n",
        "      StructField(\"Maior_Preco\",FloatType(),True),\n",
        "      StructField(\"Menor_Preco\",FloatType(),True),\n",
        "      StructField(\"Preco_Fechamento\",FloatType(),True),\n",
        "      StructField(\"Volume\",IntegerType(),True),\n",
        "      StructField(\"Preco_Ajustado\",FloatType(),True),\n",
        "      StructField(\"Data_Referencia\",DateType(),True),\n",
        "      StructField(\"Codigo_Acao\",StringType(),True),\n",
        "      StructField(\"Ret_Preco_Ajustado\",FloatType(),True),\n",
        "      StructField(\"Ret_Preco_Fechamento\",FloatType(),True),\n",
        "      StructField(\"Empresa\",StringType(),True),\n",
        "      StructField(\"Setor\",StringType(),True),\n",
        "      StructField(\"Subsetor\",StringType(),True),\n",
        "      StructField(\"Tipo\",StringType(),True),\n",
        "      StructField(\"Classificacao\",StringType(),True)])\n",
        "\n",
        "local=(\"/content/drive/MyDrive/dados/PROJETO_FINAL/acoes_tratado_pandas.csv\")\n",
        "df_acoes_struct = spark.read.load(local, format=\"csv\", header=\"true\", schema=schema)"
      ],
      "execution_count": null,
      "outputs": []
    },
    {
      "cell_type": "code",
      "metadata": {
        "colab": {
          "base_uri": "https://localhost:8080/"
        },
        "id": "WwItuk65mU8q",
        "outputId": "309e8473-690e-46ce-c7c6-bd8a1214563f"
      },
      "source": [
        "df_acoes_struct.show(10)"
      ],
      "execution_count": null,
      "outputs": [
        {
          "output_type": "stream",
          "name": "stdout",
          "text": [
            "+--------------+-----------+-----------+----------------+------+--------------+---------------+-----------+------------------+--------------------+-------+-----+--------------------+---------+-------------+\n",
            "|Preco_Abertura|Maior_Preco|Menor_Preco|Preco_Fechamento|Volume|Preco_Ajustado|Data_Referencia|Codigo_Acao|Ret_Preco_Ajustado|Ret_Preco_Fechamento|Empresa|Setor|            Subsetor|     Tipo|Classificacao|\n",
            "+--------------+-----------+-----------+----------------+------+--------------+---------------+-----------+------------------+--------------------+-------+-----+--------------------+---------+-------------+\n",
            "|         14.94|      15.16|       14.7|           14.89| 94500|         14.74|     2018-01-02|   AALR3.SA|              null|                null| ALLIAR|Saúde|Análises e Diagnó...|Ordinaria|    Small Cap|\n",
            "|         14.89|      15.32|      14.79|           14.96|584700|         14.81|     2018-01-03|   AALR3.SA|      0.0047011776|        0.0047011417| ALLIAR|Saúde|Análises e Diagnó...|Ordinaria|    Small Cap|\n",
            "|          15.0|      15.16|      14.81|           15.09|290100|         14.94|     2018-01-04|   AALR3.SA|       0.008689742|         0.008689839| ALLIAR|Saúde|Análises e Diagnó...|Ordinaria|    Small Cap|\n",
            "|         15.05|      15.17|      14.95|           15.05|131500|          14.9|     2018-01-05|   AALR3.SA|     -0.0026506966|       -0.0026507622| ALLIAR|Saúde|Análises e Diagnó...|Ordinaria|    Small Cap|\n",
            "|         15.05|       15.1|      14.62|           14.79|244500|         14.64|     2018-01-08|   AALR3.SA|      -0.017275687|        -0.017275747| ALLIAR|Saúde|Análises e Diagnó...|Ordinaria|    Small Cap|\n",
            "|         14.87|      14.87|       14.5|           14.65| 64200|          14.5|     2018-01-09|   AALR3.SA|      -0.009465995|        -0.009465856| ALLIAR|Saúde|Análises e Diagnó...|Ordinaria|    Small Cap|\n",
            "|         14.65|       14.7|       14.4|            14.4|429300|         14.26|     2018-01-10|   AALR3.SA|      -0.017064821|        -0.017064847| ALLIAR|Saúde|Análises e Diagnó...|Ordinaria|    Small Cap|\n",
            "|         14.49|      14.59|      14.37|           14.59|122000|         14.44|     2018-01-11|   AALR3.SA|       0.013194486|         0.013194445| ALLIAR|Saúde|Análises e Diagnó...|Ordinaria|    Small Cap|\n",
            "|          14.7|       14.7|      14.21|            14.5|190800|         14.35|     2018-01-12|   AALR3.SA|      -0.006168646|       -0.0061686086| ALLIAR|Saúde|Análises e Diagnó...|Ordinaria|    Small Cap|\n",
            "|         14.36|      14.69|      14.36|           14.62|951900|         14.47|     2018-01-15|   AALR3.SA|       0.008275935|         0.008275862| ALLIAR|Saúde|Análises e Diagnó...|Ordinaria|    Small Cap|\n",
            "+--------------+-----------+-----------+----------------+------+--------------+---------------+-----------+------------------+--------------------+-------+-----+--------------------+---------+-------------+\n",
            "only showing top 10 rows\n",
            "\n"
          ]
        }
      ]
    },
    {
      "cell_type": "code",
      "metadata": {
        "colab": {
          "base_uri": "https://localhost:8080/"
        },
        "id": "qZzjVl21ma6g",
        "outputId": "e86afc92-7970-4664-ad53-557bccb8c999"
      },
      "source": [
        "#conferindo se o tipo de dados das colunas está correto\n",
        "df_acoes_struct.printSchema()"
      ],
      "execution_count": null,
      "outputs": [
        {
          "output_type": "stream",
          "name": "stdout",
          "text": [
            "root\n",
            " |-- Preco_Abertura: float (nullable = true)\n",
            " |-- Maior_Preco: float (nullable = true)\n",
            " |-- Menor_Preco: float (nullable = true)\n",
            " |-- Preco_Fechamento: float (nullable = true)\n",
            " |-- Volume: integer (nullable = true)\n",
            " |-- Preco_Ajustado: float (nullable = true)\n",
            " |-- Data_Referencia: date (nullable = true)\n",
            " |-- Codigo_Acao: string (nullable = true)\n",
            " |-- Ret_Preco_Ajustado: float (nullable = true)\n",
            " |-- Ret_Preco_Fechamento: float (nullable = true)\n",
            " |-- Empresa: string (nullable = true)\n",
            " |-- Setor: string (nullable = true)\n",
            " |-- Subsetor: string (nullable = true)\n",
            " |-- Tipo: string (nullable = true)\n",
            " |-- Classificacao: string (nullable = true)\n",
            "\n"
          ]
        }
      ]
    },
    {
      "cell_type": "code",
      "metadata": {
        "colab": {
          "base_uri": "https://localhost:8080/"
        },
        "id": "caT9ziK7Dml_",
        "outputId": "8ead6e5b-1974-4c05-9f2f-51ba2703f1dc"
      },
      "source": [
        "#qtde de linhas do dataframe 298.861\n",
        "df_acoes_struct.count()"
      ],
      "execution_count": null,
      "outputs": [
        {
          "output_type": "execute_result",
          "data": {
            "text/plain": [
              "298861"
            ]
          },
          "metadata": {},
          "execution_count": 91
        }
      ]
    },
    {
      "cell_type": "code",
      "metadata": {
        "colab": {
          "base_uri": "https://localhost:8080/"
        },
        "id": "4wN4MAWBUHYr",
        "outputId": "ec5db6ee-4265-4476-c674-36f2134fd6bd"
      },
      "source": [
        "#descrição básica do dataframe\n",
        "df_acoes_struct.describe().show()"
      ],
      "execution_count": null,
      "outputs": [
        {
          "output_type": "stream",
          "name": "stdout",
          "text": [
            "+-------+------------------+------------------+------------------+------------------+--------------------+-----------------+-----------+--------------------+--------------------+----------+-----------------+-----------------+------------+-------------+\n",
            "|summary|    Preco_Abertura|       Maior_Preco|       Menor_Preco|  Preco_Fechamento|              Volume|   Preco_Ajustado|Codigo_Acao|  Ret_Preco_Ajustado|Ret_Preco_Fechamento|   Empresa|            Setor|         Subsetor|        Tipo|Classificacao|\n",
            "+-------+------------------+------------------+------------------+------------------+--------------------+-----------------+-----------+--------------------+--------------------+----------+-----------------+-----------------+------------+-------------+\n",
            "|  count|            298861|            298861|            298861|            298861|              298861|           298861|     298861|              298486|              298486|    298861|           298861|           298861|      298861|       298861|\n",
            "|   mean|24.864122862735858| 25.12814025110919|24.593714779282916|24.865624294238454|  2459530.8539454797|-6927.07772696549|       null|0.004401249262400372|0.003352780997204902|      null|             null|             null|        null|         null|\n",
            "| stddev|  39.0346011702898|39.191962751044514|38.906101827553194|39.065672743284125|1.1092017439578285E7|510650.2577531114|       null|  0.6795342026621805| 0.45187782245446867|      null|             null|             null|        null|         null|\n",
            "|    min|              0.46|              0.48|              0.43|              0.44|                   0|      -3.087797E7|   AALR3.SA|           -1.079758|          -0.9904774|ABC BRASIL| Bens Industriais|     Agropecuária|         BDR|            -|\n",
            "|    max|            1290.0|            1344.0|            1234.0|            1341.0|           939592800|        1693193.0|   YDUQ3.SA|            277.2476|            109.5556|YDUQS PART|Utilidade Pública|Água e Saneamento|Preferencial|    Small Cap|\n",
            "+-------+------------------+------------------+------------------+------------------+--------------------+-----------------+-----------+--------------------+--------------------+----------+-----------------+-----------------+------------+-------------+\n",
            "\n"
          ]
        }
      ]
    },
    {
      "cell_type": "code",
      "metadata": {
        "colab": {
          "base_uri": "https://localhost:8080/"
        },
        "id": "Gpj9MD3bWMqO",
        "outputId": "85721950-391b-4ba6-f724-c9dd8e99f2bd"
      },
      "source": [
        "#verificando a quantidade de registros nulos em cada coluna\n",
        "df_acoes_struct.select([F.count(F.when(F.isnull(c), c)).alias(c) for c in df_acoes_struct.columns]).show()"
      ],
      "execution_count": null,
      "outputs": [
        {
          "output_type": "stream",
          "name": "stdout",
          "text": [
            "+--------------+-----------+-----------+----------------+------+--------------+---------------+-----------+------------------+--------------------+-------+-----+--------+----+-------------+\n",
            "|Preco_Abertura|Maior_Preco|Menor_Preco|Preco_Fechamento|Volume|Preco_Ajustado|Data_Referencia|Codigo_Acao|Ret_Preco_Ajustado|Ret_Preco_Fechamento|Empresa|Setor|Subsetor|Tipo|Classificacao|\n",
            "+--------------+-----------+-----------+----------------+------+--------------+---------------+-----------+------------------+--------------------+-------+-----+--------+----+-------------+\n",
            "|             0|          0|          0|               0|     0|             0|              0|          0|               375|                 375|      0|    0|       0|   0|            0|\n",
            "+--------------+-----------+-----------+----------------+------+--------------+---------------+-----------+------------------+--------------------+-------+-----+--------+----+-------------+\n",
            "\n"
          ]
        }
      ]
    },
    {
      "cell_type": "code",
      "metadata": {
        "id": "F1KQ7vSqZ0Yy"
      },
      "source": [
        "#definindo como 0 (zero) os registros nulos das colunas Ret_Preco_Ajustado e Ret_Preco_Fechamento\n",
        "df_acoes_struct = df_acoes_struct.fillna({'Ret_Preco_Ajustado':0, 'Ret_Preco_Fechamento':0})"
      ],
      "execution_count": null,
      "outputs": []
    },
    {
      "cell_type": "code",
      "metadata": {
        "colab": {
          "base_uri": "https://localhost:8080/"
        },
        "id": "ab6j2xHCaRqG",
        "outputId": "5491cd37-8f3d-4b5e-e447-9791cb5caf62"
      },
      "source": [
        "df_acoes_struct.select([F.count(F.when(F.isnull(c), c)).alias(c) for c in df_acoes_struct.columns]).show()"
      ],
      "execution_count": null,
      "outputs": [
        {
          "output_type": "stream",
          "name": "stdout",
          "text": [
            "+--------------+-----------+-----------+----------------+------+--------------+---------------+-----------+------------------+--------------------+-------+-----+--------+----+-------------+\n",
            "|Preco_Abertura|Maior_Preco|Menor_Preco|Preco_Fechamento|Volume|Preco_Ajustado|Data_Referencia|Codigo_Acao|Ret_Preco_Ajustado|Ret_Preco_Fechamento|Empresa|Setor|Subsetor|Tipo|Classificacao|\n",
            "+--------------+-----------+-----------+----------------+------+--------------+---------------+-----------+------------------+--------------------+-------+-----+--------+----+-------------+\n",
            "|             0|          0|          0|               0|     0|             0|              0|          0|                 0|                   0|      0|    0|       0|   0|            0|\n",
            "+--------------+-----------+-----------+----------------+------+--------------+---------------+-----------+------------------+--------------------+-------+-----+--------+----+-------------+\n",
            "\n"
          ]
        }
      ]
    },
    {
      "cell_type": "markdown",
      "metadata": {
        "id": "u7OB6y3kbzhc"
      },
      "source": [
        "#### load do dataframe struturado no Drive e Bucket GCP"
      ]
    },
    {
      "cell_type": "code",
      "metadata": {
        "id": "So9VKtwpa7be"
      },
      "source": [
        "# convertendo Spark_df para Pandas_df\n",
        "df_acoes_struct_pd = df_acoes_struct.toPandas()"
      ],
      "execution_count": null,
      "outputs": []
    },
    {
      "cell_type": "code",
      "metadata": {
        "id": "jl14ZhuucN9a"
      },
      "source": [
        "#salvando Spark to Pandas no drive\n",
        "df_acoes_struct_pd.to_csv('/content/drive/MyDrive/dados/PROJETO_FINAL/acoes_pyspark.csv', index = False)"
      ],
      "execution_count": null,
      "outputs": []
    },
    {
      "cell_type": "code",
      "metadata": {
        "id": "XpqpQNjKc4QJ",
        "colab": {
          "base_uri": "https://localhost:8080/"
        },
        "outputId": "978a68fb-a16f-4730-919d-304d4aeaeba6"
      },
      "source": [
        "#load do dataframe 'df_acoes_struct' tratado direto no Bucket GCP \n",
        "!gsutil cp /content/drive/MyDrive/dados/PROJETO_FINAL/acoes_pyspark.csv gs://{bucket_name}/saida/dados_pyspark/\n"
      ],
      "execution_count": null,
      "outputs": [
        {
          "output_type": "stream",
          "name": "stdout",
          "text": [
            "Copying file:///content/drive/MyDrive/dados/PROJETO_FINAL/acoes_pyspark.csv [Content-Type=text/csv]...\n",
            "- [1 files][ 39.5 MiB/ 39.5 MiB]                                                \n",
            "Operation completed over 1 objects/39.5 MiB.                                     \n"
          ]
        }
      ]
    },
    {
      "cell_type": "code",
      "metadata": {
        "id": "ZPSFZ5-Rc4nV"
      },
      "source": [
        ""
      ],
      "execution_count": null,
      "outputs": []
    },
    {
      "cell_type": "markdown",
      "metadata": {
        "id": "cmpeobP_VC21"
      },
      "source": [
        "#### extraindo informações do dataframe com PySpark"
      ]
    },
    {
      "cell_type": "code",
      "metadata": {
        "id": "3949hyiXM0zw"
      },
      "source": [
        "#verificando as ações que valorizaram em todo periodo de resgistros (01/03/2018 a 30/03/21) \n",
        "df1=(df_acoes_struct.withColumn('Valorizou_No_Dia',\n",
        "                                F.when(F.col(\"Preco_Fechamento\")>=F.col(\"Preco_Abertura\"),\n",
        "                                       F.lit(\"SIM\")).otherwise(\"NÃO\")))"
      ],
      "execution_count": null,
      "outputs": []
    },
    {
      "cell_type": "code",
      "metadata": {
        "id": "AyMYuwA5q95V"
      },
      "source": [
        "df1=(df1.withColumn('Valorizacao',F.lit(F.col(\"Preco_Fechamento\")-(F.col(\"Preco_Abertura\")))))"
      ],
      "execution_count": null,
      "outputs": []
    },
    {
      "cell_type": "code",
      "metadata": {
        "colab": {
          "base_uri": "https://localhost:8080/"
        },
        "id": "f-daNK7IV-_1",
        "outputId": "78bb662e-83de-46b7-ed3f-1e8bb4023bbe"
      },
      "source": [
        "df1.select(\"Valorizou_No_Dia\",\n",
        "           \"Preco_Abertura\",\n",
        "           \"Preco_Fechamento\",\n",
        "           \"Valorizacao\",\"Data_Referencia\",\n",
        "           \"Codigo_Acao\",\"Empresa\",\"Setor\").orderBy(\"Valorizacao\",ascending=False).show(10)"
      ],
      "execution_count": null,
      "outputs": [
        {
          "output_type": "stream",
          "name": "stdout",
          "text": [
            "+----------------+--------------+----------------+-----------+---------------+-----------+------------+-----------------+\n",
            "|Valorizou_No_Dia|Preco_Abertura|Preco_Fechamento|Valorizacao|Data_Referencia|Codigo_Acao|     Empresa|            Setor|\n",
            "+----------------+--------------+----------------+-----------+---------------+-----------+------------+-----------------+\n",
            "|             SIM|        162.74|           294.1|     131.36|     2019-08-26|   TELB3.SA|    TELEBRAS|     Comunicações|\n",
            "|             SIM|         80.01|           200.0|     119.99|     2019-08-16|   MAPT4.SA|      CEMEPE|           Outros|\n",
            "|             SIM|        1082.0|          1194.0|      112.0|     2021-03-17|   BPAN4.SA|   BANCO PAN|       Financeiro|\n",
            "|             SIM|        182.88|          258.48|  75.600006|     2018-12-27|   GSHP3.SA|GENERALSHOPP|       Financeiro|\n",
            "|             SIM|        1267.0|          1341.0|       74.0|     2021-02-23|   BPAN4.SA|   BANCO PAN|       Financeiro|\n",
            "|             SIM|           7.0|           68.64|      61.64|     2019-09-19|   GPAR3.SA|     CELGPAR|Utilidade Pública|\n",
            "|             SIM|          50.1|          111.01|  60.910004|     2019-08-13|   MAPT4.SA|      CEMEPE|           Outros|\n",
            "|             SIM|          68.0|           125.0|       57.0|     2020-08-24|   SNSY3.SA|      SANSUY|Materiais Básicos|\n",
            "|             SIM|         40.01|           95.01|  55.000004|     2019-08-13|   MAPT3.SA|      CEMEPE|           Outros|\n",
            "|             SIM|         173.0|           228.0|       55.0|     2020-01-10|   CGAS3.SA|      COMGAS|Utilidade Pública|\n",
            "+----------------+--------------+----------------+-----------+---------------+-----------+------------+-----------------+\n",
            "only showing top 10 rows\n",
            "\n"
          ]
        }
      ]
    },
    {
      "cell_type": "code",
      "metadata": {
        "colab": {
          "base_uri": "https://localhost:8080/"
        },
        "id": "L9G7VsGHN2SM",
        "outputId": "34ac60dc-1437-454e-d8f5-a74dfccbc89c"
      },
      "source": [
        "# !!!inserir o RANK !!! \n",
        "#exibindo as 10 ações com maior volume de movimentação em uma data especifica\n",
        "data = input('Digite a data no formato aaaa-mm-dd: ')\n",
        "w0 = Window.orderBy(F.col('Volume').desc())\n",
        "df1_rank_volume = df1.withColumn('rank',F.rank().over(w0))\n",
        "df1_rank_volume.select(\"Volume\",\"Codigo_Acao\", \"Valorizou_No_Dia\").filter(F.col(\"Data_Referencia\")==data).show(10)\n"
      ],
      "execution_count": null,
      "outputs": [
        {
          "output_type": "stream",
          "name": "stdout",
          "text": [
            "Digite a data no formato aaaa-mm-dd: 2019-05-20\n",
            "+--------+-----------+----------------+\n",
            "|  Volume|Codigo_Acao|Valorizou_No_Dia|\n",
            "+--------+-----------+----------------+\n",
            "|   96300|   AALR3.SA|             SIM|\n",
            "|  324500|   ABCB4.SA|             SIM|\n",
            "|43284300|   ABEV3.SA|             NÃO|\n",
            "|       0|   AFLT3.SA|             SIM|\n",
            "|   19400|   AGRO3.SA|             NÃO|\n",
            "|       0|   AHEB3.SA|             SIM|\n",
            "|    7100|   ALPA3.SA|             NÃO|\n",
            "|  943400|   ALPA4.SA|             SIM|\n",
            "|   12700|   ALSO3.SA|             NÃO|\n",
            "|    1100|   ALUP3.SA|             SIM|\n",
            "+--------+-----------+----------------+\n",
            "only showing top 10 rows\n",
            "\n"
          ]
        }
      ]
    },
    {
      "cell_type": "code",
      "metadata": {
        "colab": {
          "base_uri": "https://localhost:8080/"
        },
        "id": "D37SSO46Srd3",
        "outputId": "ec9eda94-2553-4be0-d423-685ab56c31ba"
      },
      "source": [
        "#exibindo as 10 ações com maior variação (para MAIS ou para MENOS) em uma data especifica\n",
        "\n",
        "data = input('Digite data no formato aaaa-mm-dd: ')\n",
        "movimento = int(input('''Digite: \n",
        "[ 1 ] para VALORIZAÇÂO \n",
        "[ 2 ] para DESVALORIZAÇÂO \n",
        ": '''))\n",
        "if movimento == 1:\n",
        "    valorizacao = \"SIM\"\n",
        "    \n",
        "elif movimento == 2:\n",
        "    valorizacao = \"NÃO\"\n",
        "\n",
        "(df1.select(\"Codigo_Acao\", \"Preco_Abertura\", \"Preco_Fechamento\", \"Valorizou_No_Dia\", \"Valorizacao\")\n",
        "    .where((F.col(\"Data_Referencia\")==data) & (F.col(\"Valorizou_No_Dia\")==valorizacao))\n",
        "    .orderBy(\"Valorizacao\",ascending=False).show(10))\n",
        "\n"
      ],
      "execution_count": null,
      "outputs": [
        {
          "output_type": "stream",
          "name": "stdout",
          "text": [
            "Digite data no formato aaaa-mm-dd: 2019-05-20\n",
            "Digite: \n",
            "[ 1 ] para VALORIZAÇÂO \n",
            "[ 2 ] para DESVALORIZAÇÂO \n",
            ": 1\n",
            "+-----------+--------------+----------------+----------------+-----------+\n",
            "|Codigo_Acao|Preco_Abertura|Preco_Fechamento|Valorizou_No_Dia|Valorizacao|\n",
            "+-----------+--------------+----------------+----------------+-----------+\n",
            "|   BRKM3.SA|         36.99|            39.7|             SIM|   2.709999|\n",
            "|   CSAN3.SA|         42.46|           44.35|             SIM|  1.8899994|\n",
            "|   BAHI3.SA|        102.68|          104.56|             SIM|  1.8799973|\n",
            "|   LREN3.SA|         39.16|           40.88|             SIM|  1.7200012|\n",
            "|   IGTA3.SA|          35.5|           37.13|             SIM|  1.6300011|\n",
            "|   SMLS3.SA|         39.01|           40.62|             SIM|  1.6100006|\n",
            "|   RENT3.SA|         33.19|           34.67|             SIM|  1.4799995|\n",
            "|   IRBR3.SA|         30.66|            32.1|             SIM|  1.4399986|\n",
            "|   EGIE3.SA|         40.47|            41.9|             SIM|  1.4300003|\n",
            "|   BBAS3.SA|         45.15|           46.57|             SIM|  1.4199982|\n",
            "+-----------+--------------+----------------+----------------+-----------+\n",
            "only showing top 10 rows\n",
            "\n"
          ]
        }
      ]
    },
    {
      "cell_type": "code",
      "metadata": {
        "colab": {
          "base_uri": "https://localhost:8080/"
        },
        "id": "PTS8p1eFVHtL",
        "outputId": "f9ae60b1-d695-470b-f81b-79d885cec577"
      },
      "source": [
        "#verificar comportamento de uma ação especifica em um dia ou periodo\n",
        "ticker = str(input('Digite Codigo_Acao: ')).upper().strip()\n",
        "tempo = int(input('''Digite \n",
        "[ 1 ] pesquisar UNICO DIa ou \n",
        "[ 0 ] pesquisar por PERIODO '''))\n",
        "if tempo == 1:\n",
        "    dia = int(input('Digite Dia com 2 digitos (dd): '))\n",
        "    mes = int(input('Digite mês com 2 digitos (mm): '))\n",
        "    ano = int(input('Digite ano com 4 digitos (aaaa): '))\n",
        "    data = f'{ano}-{mes}-{dia}'\n",
        "    print()\n",
        "    print('--'*20)\n",
        "\n",
        "    df1.select(\n",
        "    F.col(\"Data_Referencia\"),\n",
        "    F.col(\"Codigo_Acao\"),\n",
        "    F.col(\"Preco_Abertura\"),\n",
        "    F.col(\"Preco_Fechamento\"),\n",
        "    F.col(\"Valorizou_No_Dia\")).filter(F.col(\"Codigo_Acao\")==ticker).filter(F.col(\"Data_Referencia\")==data).show(10)\n",
        "\n",
        "else: \n",
        "    data_inicio = input('Digite data inicial no formato aaaa-mm-dd: ')\n",
        "    data_fim = input('Digite data final dp periodo no formato aaaa-mm-dd: ')\n",
        "    print()\n",
        "\n",
        "    df1.select(\n",
        "    F.col(\"Data_Referencia\"),\n",
        "    F.col(\"Codigo_Acao\"),\n",
        "    F.col(\"Preco_Abertura\"),\n",
        "    F.col(\"Preco_Fechamento\"),\n",
        "    F.col(\"Valorizou_No_Dia\")).filter(F.col(\"Codigo_Acao\")==ticker).where((F.col(\"Data_Referencia\")>=data_inicio) & (F.col(\"Data_Referencia\")<=data_fim )).show()\n",
        "\n"
      ],
      "execution_count": null,
      "outputs": [
        {
          "output_type": "stream",
          "name": "stdout",
          "text": [
            "Digite Codigo_Acao: itub4.sa\n",
            "Digite \n",
            "[ 1 ] pesquisar UNICO DIa ou \n",
            "[ 0 ] pesquisar por PERIODO 0\n",
            "Digite data inicial no formato aaaa-mm-dd: 2018-03-15\n",
            "Digite data final dp periodo no formato aaaa-mm-dd: 2018-03-30\n",
            "\n",
            "+---------------+-----------+--------------+----------------+----------------+\n",
            "|Data_Referencia|Codigo_Acao|Preco_Abertura|Preco_Fechamento|Valorizou_No_Dia|\n",
            "+---------------+-----------+--------------+----------------+----------------+\n",
            "|     2018-03-15|   ITUB4.SA|          34.0|           34.29|             SIM|\n",
            "|     2018-03-16|   ITUB4.SA|         34.39|           34.15|             NÃO|\n",
            "|     2018-03-19|   ITUB4.SA|         33.88|           33.41|             NÃO|\n",
            "|     2018-03-20|   ITUB4.SA|         33.57|           33.52|             NÃO|\n",
            "|     2018-03-21|   ITUB4.SA|         33.54|           33.39|             NÃO|\n",
            "|     2018-03-22|   ITUB4.SA|         33.33|           33.28|             NÃO|\n",
            "|     2018-03-23|   ITUB4.SA|         33.07|           33.44|             SIM|\n",
            "|     2018-03-26|   ITUB4.SA|         33.83|           33.85|             SIM|\n",
            "|     2018-03-27|   ITUB4.SA|          34.0|           33.45|             NÃO|\n",
            "|     2018-03-28|   ITUB4.SA|         33.09|           33.75|             SIM|\n",
            "|     2018-03-29|   ITUB4.SA|         33.94|           34.21|             SIM|\n",
            "+---------------+-----------+--------------+----------------+----------------+\n",
            "\n"
          ]
        }
      ]
    },
    {
      "cell_type": "code",
      "metadata": {
        "colab": {
          "base_uri": "https://localhost:8080/"
        },
        "id": "ruOYSfhRYFKS",
        "outputId": "188d8839-60c6-4a7a-ed97-34e93fce8b00"
      },
      "source": [
        "#Exibindo quantidade de Codigo_Acao distintos por Setor\n",
        "\n",
        "df1.groupBy(\"Setor\").agg(F.count_distinct(\"Codigo_Acao\").alias(\"Qtde_Acoes\")).orderBy(\"Qtde_Acoes\",ascending=False).show()\n"
      ],
      "execution_count": null,
      "outputs": [
        {
          "output_type": "stream",
          "name": "stdout",
          "text": [
            "+--------------------+----------+\n",
            "|               Setor|Qtde_Acoes|\n",
            "+--------------------+----------+\n",
            "|     Consumo Cíclico|        81|\n",
            "|          Financeiro|        70|\n",
            "|    Bens Industriais|        59|\n",
            "|   Utilidade Pública|        59|\n",
            "|   Materiais Básicos|        37|\n",
            "| Consumo não Cíclico|        22|\n",
            "|               Saúde|        18|\n",
            "|Petróleo, Gás e B...|        11|\n",
            "|              Outros|         8|\n",
            "|        Comunicações|         6|\n",
            "|Tecnologia da Inf...|         4|\n",
            "+--------------------+----------+\n",
            "\n"
          ]
        }
      ]
    },
    {
      "cell_type": "code",
      "metadata": {
        "id": "m-MWXTqe0eWG"
      },
      "source": [
        ""
      ],
      "execution_count": null,
      "outputs": []
    },
    {
      "cell_type": "markdown",
      "metadata": {
        "id": "iLFGGHRc70J4"
      },
      "source": [
        "# SparkSQL"
      ]
    },
    {
      "cell_type": "markdown",
      "metadata": {
        "id": "Mog94nGXzr9D"
      },
      "source": [
        "#### ingestão do Dataframe tratado com Pyspark do Bucket"
      ]
    },
    {
      "cell_type": "code",
      "metadata": {
        "colab": {
          "base_uri": "https://localhost:8080/"
        },
        "id": "CX05h7dOzo0k",
        "outputId": "ec6c5b16-cf00-4d0e-bf08-57370c372b3d"
      },
      "source": [
        "!gsutil cp gs://{bucket_name}/saida/dados_pyspark/acoes_pyspark.csv /content/drive/MyDrive/dados/PROJETO_FINAL/acoes_pyspark.csv "
      ],
      "execution_count": null,
      "outputs": [
        {
          "output_type": "stream",
          "name": "stdout",
          "text": [
            "Copying gs://economia-dados-g2/saida/dados_pyspark/acoes_pyspark.csv...\n",
            "/ [1 files][ 39.5 MiB/ 39.5 MiB]                                                \n",
            "Operation completed over 1 objects/39.5 MiB.                                     \n"
          ]
        }
      ]
    },
    {
      "cell_type": "code",
      "metadata": {
        "id": "h8xQfec373RU"
      },
      "source": [
        "df_acoes_sql = (spark\n",
        "                .read\n",
        "                .format(\"csv\")\n",
        "                .option(\"header\",\"true\")\n",
        "                .option(\"inferschema\", \"true\")\n",
        "                .option(\"delimiter\", \",\")\n",
        "                .load(\"/content/drive/MyDrive/dados/PROJETO_FINAL/acoes_pyspark.csv\")\n",
        "                .createOrReplaceTempView(\"tabela_acoes\"))"
      ],
      "execution_count": null,
      "outputs": []
    },
    {
      "cell_type": "code",
      "metadata": {
        "colab": {
          "base_uri": "https://localhost:8080/"
        },
        "id": "A8f-LlHytLxu",
        "outputId": "f50d7de4-c94a-4101-a5be-42037513729f"
      },
      "source": [
        "spark.sql(\n",
        "'''\n",
        "describe tabela_acoes\n",
        "'''\n",
        ").show()"
      ],
      "execution_count": null,
      "outputs": [
        {
          "output_type": "stream",
          "name": "stdout",
          "text": [
            "+--------------------+---------+-------+\n",
            "|            col_name|data_type|comment|\n",
            "+--------------------+---------+-------+\n",
            "|      Preco_Abertura|   double|   null|\n",
            "|         Maior_Preco|   double|   null|\n",
            "|         Menor_Preco|   double|   null|\n",
            "|    Preco_Fechamento|   double|   null|\n",
            "|              Volume|      int|   null|\n",
            "|      Preco_Ajustado|   double|   null|\n",
            "|     Data_Referencia|   string|   null|\n",
            "|         Codigo_Acao|   string|   null|\n",
            "|  Ret_Preco_Ajustado|   double|   null|\n",
            "|Ret_Preco_Fechamento|   double|   null|\n",
            "|             Empresa|   string|   null|\n",
            "|               Setor|   string|   null|\n",
            "|            Subsetor|   string|   null|\n",
            "|                Tipo|   string|   null|\n",
            "|       Classificacao|   string|   null|\n",
            "+--------------------+---------+-------+\n",
            "\n"
          ]
        }
      ]
    },
    {
      "cell_type": "code",
      "metadata": {
        "colab": {
          "base_uri": "https://localhost:8080/"
        },
        "id": "lUlfynmx5Ysk",
        "outputId": "c7fca7f8-a0a3-438c-d9d0-8b5c62722e3c"
      },
      "source": [
        "#verificando a data inicial dos registros e data final\n",
        "spark.sql('''SELECT MIN(Data_Referencia) AS Data_Inicial,\n",
        "MAX(Data_Referencia) AS Data_Final\n",
        "FROM tabela_acoes\n",
        "''').show()"
      ],
      "execution_count": null,
      "outputs": [
        {
          "output_type": "stream",
          "name": "stdout",
          "text": [
            "+------------+----------+\n",
            "|Data_Inicial|Data_Final|\n",
            "+------------+----------+\n",
            "|  2018-01-02|2021-03-30|\n",
            "+------------+----------+\n",
            "\n"
          ]
        }
      ]
    },
    {
      "cell_type": "code",
      "metadata": {
        "colab": {
          "base_uri": "https://localhost:8080/"
        },
        "id": "8jnH9autzcZS",
        "outputId": "e66a86bb-136f-44da-cba9-8592a95f6f0b"
      },
      "source": [
        "#10 acoes que tiveram maior media de VALORIZAÇÃO entre 02/jan/2018 e 30/03/2021\n",
        "spark.sql('''SELECT DISTINCT Codigo_Acao,\n",
        "MEAN(Ret_Preco_Fechamento) AS Media_Valorizacao\n",
        "FROM tabela_acoes\n",
        "GROUP BY Codigo_Acao\n",
        "ORDER BY Media_Valorizacao DESC\n",
        "''').show(10)"
      ],
      "execution_count": null,
      "outputs": [
        {
          "output_type": "stream",
          "name": "stdout",
          "text": [
            "+-----------+--------------------+\n",
            "|Codigo_Acao|   Media_Valorizacao|\n",
            "+-----------+--------------------+\n",
            "|   BPAN4.SA| 0.37760877316135505|\n",
            "|   PFRM3.SA|  0.3700864396097865|\n",
            "|  PPLA11.SA| 0.01819454997214554|\n",
            "|   GPAR3.SA|0.014244492693099117|\n",
            "|   SNSY3.SA|0.012566410547929742|\n",
            "|   MAPT4.SA| 0.00907143868770389|\n",
            "|   NORD3.SA| 0.00869473979385194|\n",
            "|   IGBR3.SA|0.007730840931994...|\n",
            "|   MMXM3.SA|0.007329312337013802|\n",
            "|   MERC3.SA|0.007206785348682558|\n",
            "+-----------+--------------------+\n",
            "only showing top 10 rows\n",
            "\n"
          ]
        }
      ]
    },
    {
      "cell_type": "code",
      "metadata": {
        "colab": {
          "base_uri": "https://localhost:8080/"
        },
        "id": "eteGSZu9DMcR",
        "outputId": "43e3d613-ec67-4610-8d07-b4a4c0866995"
      },
      "source": [
        "#10 acoes que tiveram maior media de DESVALORIZAÇÃO entre 02/jan/2018 e 30/03/2021\n",
        "spark.sql('''SELECT DISTINCT Codigo_Acao, \n",
        "MEAN(Ret_Preco_Fechamento) AS Media_Desvalorizacao\n",
        "FROM tabela_acoes\n",
        "GROUP BY Codigo_Acao\n",
        "ORDER BY Media_Desvalorizacao\n",
        "''').show(10)"
      ],
      "execution_count": null,
      "outputs": [
        {
          "output_type": "stream",
          "name": "stdout",
          "text": [
            "+-----------+--------------------+\n",
            "|Codigo_Acao|Media_Desvalorizacao|\n",
            "+-----------+--------------------+\n",
            "|   BDLL3.SA|-0.00205103147791719|\n",
            "|   CIEL3.SA|-0.00176718887565...|\n",
            "|   BPHA3.SA|-0.00162101381053...|\n",
            "|   SLED4.SA|-0.00146668667126...|\n",
            "|   COGN3.SA|-0.00124123654542...|\n",
            "|   JBDU4.SA|-0.00120848628193...|\n",
            "|   BBRK3.SA|-0.00104089222459...|\n",
            "|   JBDU3.SA|-9.36546947302383...|\n",
            "|   RNEW3.SA|-8.42819104893348...|\n",
            "|   GFSA3.SA|-8.30587054705144...|\n",
            "+-----------+--------------------+\n",
            "only showing top 10 rows\n",
            "\n"
          ]
        }
      ]
    },
    {
      "cell_type": "code",
      "metadata": {
        "colab": {
          "base_uri": "https://localhost:8080/"
        },
        "id": "XtFBS33nGI1-",
        "outputId": "d9242300-f8e5-4561-f169-e878c5107d79"
      },
      "source": [
        "#Análise média de fechamento das Ações de 01 a 30/mar/2019\n",
        "spark.sql('''SELECT Data_Referencia, MEAN(Ret_Preco_Fechamento)\n",
        "FROM tabela_acoes\n",
        "WHERE (Data_Referencia >= '2019-03-01' AND Data_Referencia <= '2019-03-30')\n",
        "GROUP BY Data_Referencia\n",
        "ORDER BY Data_Referencia\n",
        "''').show()"
      ],
      "execution_count": null,
      "outputs": [
        {
          "output_type": "stream",
          "name": "stdout",
          "text": [
            "+---------------+--------------------------+\n",
            "|Data_Referencia|mean(Ret_Preco_Fechamento)|\n",
            "+---------------+--------------------------+\n",
            "|     2019-03-01|      -0.00334903054799...|\n",
            "|     2019-03-04|                       0.0|\n",
            "|     2019-03-05|                       0.0|\n",
            "|     2019-03-06|                       0.0|\n",
            "|     2019-03-07|      -0.00471158876133333|\n",
            "|     2019-03-08|      0.005693498069866664|\n",
            "|     2019-03-11|      0.007823408223733336|\n",
            "|     2019-03-12|      6.483792698666668E-4|\n",
            "|     2019-03-13|      0.002005324732799999|\n",
            "|     2019-03-14|      0.001167123254133...|\n",
            "|     2019-03-15|      0.005169732322506667|\n",
            "|     2019-03-18|           0.0062430539288|\n",
            "|     2019-03-19|      -8.53773535999999...|\n",
            "|     2019-03-20|      -0.00137325998586...|\n",
            "|     2019-03-21|      -0.00796891678106...|\n",
            "|     2019-03-22|      -0.01032503691199...|\n",
            "|     2019-03-25|      -0.00165564428399...|\n",
            "|     2019-03-26|      0.005911535798666661|\n",
            "|     2019-03-27|      -0.02122064322016...|\n",
            "|     2019-03-28|      0.010349898013066667|\n",
            "+---------------+--------------------------+\n",
            "only showing top 20 rows\n",
            "\n"
          ]
        }
      ]
    },
    {
      "cell_type": "code",
      "metadata": {
        "colab": {
          "base_uri": "https://localhost:8080/"
        },
        "id": "Kd5UAAHl665U",
        "outputId": "0de21145-f7e4-4dc1-85b1-1e06ef3800ec"
      },
      "source": [
        "#Análise média de fechamento das Ações de 01 a 30/mar/2020\n",
        "spark.sql('''SELECT Data_Referencia, MEAN(Ret_Preco_Fechamento)\n",
        "FROM tabela_acoes\n",
        "WHERE (Data_Referencia >= '2020-03-01' AND Data_Referencia <= '2020-03-30')\n",
        "GROUP BY Data_Referencia\n",
        "ORDER BY Data_Referencia\n",
        "''').show()"
      ],
      "execution_count": null,
      "outputs": [
        {
          "output_type": "stream",
          "name": "stdout",
          "text": [
            "+---------------+--------------------------+\n",
            "|Data_Referencia|mean(Ret_Preco_Fechamento)|\n",
            "+---------------+--------------------------+\n",
            "|     2020-03-02|      0.024836280333599987|\n",
            "|     2020-03-03|      -0.00445821360346...|\n",
            "|     2020-03-04|          0.00759844385712|\n",
            "|     2020-03-05|      -0.03586061367013332|\n",
            "|     2020-03-06|      -0.03012584688594666|\n",
            "|     2020-03-09|      -0.08570029700533337|\n",
            "|     2020-03-10|       0.04549420326933334|\n",
            "|     2020-03-11|      -0.04351318606266668|\n",
            "|     2020-03-12|      -0.10320864221973333|\n",
            "|     2020-03-13|      0.059518492781866675|\n",
            "|     2020-03-16|          -0.0893158755072|\n",
            "|     2020-03-17|      0.007738628940266674|\n",
            "|     2020-03-18|      -0.06313440892521678|\n",
            "|     2020-03-19|      0.018104871441839997|\n",
            "|     2020-03-20|      -0.00483178056383...|\n",
            "|     2020-03-23|      -0.04311139114639...|\n",
            "|     2020-03-24|       0.05044575783866666|\n",
            "|     2020-03-25|       0.05912728126106667|\n",
            "|     2020-03-26|       0.04204567402346666|\n",
            "|     2020-03-27|      -0.01542235223093...|\n",
            "+---------------+--------------------------+\n",
            "only showing top 20 rows\n",
            "\n"
          ]
        }
      ]
    },
    {
      "cell_type": "code",
      "metadata": {
        "colab": {
          "base_uri": "https://localhost:8080/"
        },
        "id": "jHJtbZ137Mnh",
        "outputId": "74604d96-c68b-4b1f-8c68-9a1f6e846e8b"
      },
      "source": [
        "#Análise média de fechamento das Ações de 01 a 30/mar/2019\n",
        "spark.sql('''SELECT Data_Referencia, MEAN(Ret_Preco_Fechamento)\n",
        "FROM tabela_acoes\n",
        "WHERE (Data_Referencia >= '2021-03-01' AND Data_Referencia <= '2021-03-30')\n",
        "GROUP BY Data_Referencia\n",
        "ORDER BY Data_Referencia\n",
        "''').show()"
      ],
      "execution_count": null,
      "outputs": [
        {
          "output_type": "stream",
          "name": "stdout",
          "text": [
            "+---------------+--------------------------+\n",
            "|Data_Referencia|mean(Ret_Preco_Fechamento)|\n",
            "+---------------+--------------------------+\n",
            "|     2021-03-01|          -0.0046581771384|\n",
            "|     2021-03-02|      0.002117104724533...|\n",
            "|     2021-03-03|      -0.00689583538186...|\n",
            "|     2021-03-04|       0.00957288542720001|\n",
            "|     2021-03-05|      0.011856016549333333|\n",
            "|     2021-03-08|      -0.02978237294946...|\n",
            "|     2021-03-09|      -7.31200970053476...|\n",
            "|     2021-03-10|      0.014013432576737959|\n",
            "|     2021-03-11|       0.28554751575721943|\n",
            "|     2021-03-12|      0.001398785544197861|\n",
            "|     2021-03-15|      0.008968997130668451|\n",
            "|     2021-03-16|      -0.00343161720133...|\n",
            "|     2021-03-17|        0.3066883201796795|\n",
            "|     2021-03-18|      -0.01161212343395...|\n",
            "|     2021-03-19|      0.014345262942540104|\n",
            "|     2021-03-22|      -0.00321203566256...|\n",
            "|     2021-03-23|      -0.00450061807700...|\n",
            "|     2021-03-24|      -0.00444899385213...|\n",
            "|     2021-03-25|       0.01269563039572192|\n",
            "|     2021-03-26|      0.001451452733422...|\n",
            "+---------------+--------------------------+\n",
            "only showing top 20 rows\n",
            "\n"
          ]
        }
      ]
    },
    {
      "cell_type": "code",
      "metadata": {
        "colab": {
          "base_uri": "https://localhost:8080/"
        },
        "id": "SUONYcJd-tp-",
        "outputId": "a7d2bc54-caa7-4a8e-ce01-8c2eace7276d"
      },
      "source": [
        "#10 ACOES com MELHOR FECHAMENTO EM 10/MAR/2020 (1 DIA ANTES DA PANDEMIA SER DECRETADA)\n",
        "\n",
        "spark.sql(''' SELECT Preco_Abertura, Preco_Fechamento, Ret_Preco_Fechamento, \n",
        "Codigo_Acao, Empresa, Subsetor\n",
        "FROM tabela_acoes\n",
        "WHERE Data_Referencia = \"2020-03-10\"\n",
        "ORDER BY Ret_Preco_Fechamento DESC\n",
        "''').show(10)"
      ],
      "execution_count": null,
      "outputs": [
        {
          "output_type": "stream",
          "name": "stdout",
          "text": [
            "+--------------+----------------+--------------------+-----------+------------+--------------------+\n",
            "|Preco_Abertura|Preco_Fechamento|Ret_Preco_Fechamento|Codigo_Acao|     Empresa|            Subsetor|\n",
            "+--------------+----------------+--------------------+-----------+------------+--------------------+\n",
            "|           3.8|             4.5|           0.3636364|   BSEV3.SA|      BIOSEV|Alimentos Process...|\n",
            "|          1.33|            1.61|            0.248062|   TPIS3.SA|TRIUNFO PART|          Transporte|\n",
            "|          4.14|            4.59|           0.2249999|   ETER3.SA|     ETERNIT|Construção e Enge...|\n",
            "|         10.95|           11.62|           0.2129436|   VVAR3.SA|   VIAVAREJO|            Comércio|\n",
            "|          41.9|           44.81|           0.1845096|   VALE3.SA|        VALE|           Mineração|\n",
            "|         13.17|            14.9|           0.1732283|   CCRO3.SA|      CCR SA|          Transporte|\n",
            "|         11.25|           11.75|           0.1642716|   MGLU3.SA| MAGAZ LUIZA|            Comércio|\n",
            "|          5.55|            5.82|               0.164|   LPSB3.SA|LOPES BRASIL|Exploração de Imó...|\n",
            "|          6.25|            6.71|           0.1608997|   EUCA4.SA|     EUCATEX|     Madeira e Papel|\n",
            "|         16.13|           17.88|           0.1602855|   UGPA3.SA|    ULTRAPAR|Petróleo, Gás e B...|\n",
            "+--------------+----------------+--------------------+-----------+------------+--------------------+\n",
            "only showing top 10 rows\n",
            "\n"
          ]
        }
      ]
    },
    {
      "cell_type": "code",
      "metadata": {
        "colab": {
          "base_uri": "https://localhost:8080/"
        },
        "id": "1-zvCbMYZdzS",
        "outputId": "7b957ce4-0473-4f0f-e783-af404e9519b2"
      },
      "source": [
        "spark.sql(''' SELECT Preco_Abertura, Preco_Fechamento, Ret_Preco_Fechamento,\n",
        "Codigo_Acao, Empresa, Subsetor\n",
        "FROM tabela_acoes\n",
        "WHERE Data_Referencia = \"2020-03-11\"\n",
        "ORDER BY Ret_Preco_Fechamento DESC\n",
        "''').show(10)"
      ],
      "execution_count": null,
      "outputs": [
        {
          "output_type": "stream",
          "name": "stdout",
          "text": [
            "+--------------+----------------+--------------------+-----------+-----------+--------------------+\n",
            "|Preco_Abertura|Preco_Fechamento|Ret_Preco_Fechamento|Codigo_Acao|    Empresa|            Subsetor|\n",
            "+--------------+----------------+--------------------+-----------+-----------+--------------------+\n",
            "|           6.0|             6.7|           0.2407407|   BTTL3.SA|BATTISTELLA|            Comércio|\n",
            "|         30.24|           32.75|           0.1909091|   JOPA3.SA|    JOSAPAR|Alimentos Process...|\n",
            "|          1.38|            1.31|          0.07377049|   OIBR4.SA|         OI|    Telecomunicações|\n",
            "|          1.04|            0.93|          0.04494382|   OIBR3.SA|         OI|    Telecomunicações|\n",
            "|           6.4|             7.3|          0.04285714|   GPCP3.SA|   GPC PART|            Químicos|\n",
            "|           2.9|            2.88|          0.02857143|   JBDU3.SA| J B DUARTE|              Outros|\n",
            "|         13.64|           14.37|          0.02642857|   BMEB3.SA|MERC BRASIL|Intermediários Fi...|\n",
            "|           3.6|             3.6|          0.01983003|   NORD3.SA| NORDON MET|Máquinas e Equipa...|\n",
            "|         12.58|            12.8|          0.01748814|   BIOM3.SA|      BIOMM|Medicamentos e Ou...|\n",
            "|         29.38|           28.89|          0.01340209|   BPAC3.SA| BTGP BANCO|Intermediários Fi...|\n",
            "+--------------+----------------+--------------------+-----------+-----------+--------------------+\n",
            "only showing top 10 rows\n",
            "\n"
          ]
        }
      ]
    },
    {
      "cell_type": "code",
      "metadata": {
        "colab": {
          "base_uri": "https://localhost:8080/"
        },
        "id": "3EpuHg4SaXhB",
        "outputId": "5541c4f3-fb30-4511-b5e6-270b8ada50d6"
      },
      "source": [
        "spark.sql(''' SELECT Preco_Abertura, Preco_Fechamento, Ret_Preco_Fechamento,\n",
        "Codigo_Acao, Empresa, Subsetor\n",
        "FROM tabela_acoes\n",
        "WHERE Data_Referencia = \"2020-03-12\"\n",
        "ORDER BY Ret_Preco_Fechamento DESC\n",
        "''').show(10)"
      ],
      "execution_count": null,
      "outputs": [
        {
          "output_type": "stream",
          "name": "stdout",
          "text": [
            "+--------------+----------------+--------------------+-----------+------------+--------------------+\n",
            "|Preco_Abertura|Preco_Fechamento|Ret_Preco_Fechamento|Codigo_Acao|     Empresa|            Subsetor|\n",
            "+--------------+----------------+--------------------+-----------+------------+--------------------+\n",
            "|          1.97|            2.23|           0.1238739|   AZEV3.SA|     AZEVEDO|Construção e Enge...|\n",
            "|          50.0|            50.0|           0.1111111|   MTIG4.SA|METAL IGUACU|          Embalagens|\n",
            "|          10.0|           11.49|          0.09428571|   MERC4.SA| MERC FINANC|Intermediários Fi...|\n",
            "|          11.2|           11.77|          0.05089286|   ENGI3.SA|    ENERGISA|    Energia Elétrica|\n",
            "|          14.5|           14.26|          0.04852941|   EUCA3.SA|     EUCATEX|     Madeira e Papel|\n",
            "|          2.51|            2.79|          0.02573529|   RNEW4.SA|      RENOVA|    Energia Elétrica|\n",
            "|          4.57|            4.31|          0.01891253|   RNEW3.SA|      RENOVA|    Energia Elétrica|\n",
            "|          4.85|            5.06|         0.007968127|   EALT4.SA|  ACO ALTONA|Máquinas e Equipa...|\n",
            "|           5.0|             5.0|                 0.0|   BAUH3.SA|   EXCELSIOR|Alimentos Process...|\n",
            "|         29.86|           29.86|                 0.0|   AHEB3.SA|     SPTURIS|     Viagens e Lazer|\n",
            "+--------------+----------------+--------------------+-----------+------------+--------------------+\n",
            "only showing top 10 rows\n",
            "\n"
          ]
        }
      ]
    },
    {
      "cell_type": "code",
      "metadata": {
        "id": "Qx42pKbZ_24Q"
      },
      "source": [
        "#### Apresentação\n",
        "\n",
        "#Informações de Março 2020\n",
        "\n",
        "\n",
        "spark.sql('''\n",
        "SELECT Data_Referencia, Codigo_Acao, Setor, Preco_Abertura, Preco_Fechamento\n",
        "FROM tabela_acoes\n",
        "WHERE Data_Referencia LIKE \"2020-03%\"\n",
        "''').show(22)\n"
      ],
      "execution_count": null,
      "outputs": []
    },
    {
      "cell_type": "code",
      "metadata": {
        "id": "QIwTv-jbCEeM"
      },
      "source": [
        ""
      ],
      "execution_count": null,
      "outputs": []
    },
    {
      "cell_type": "markdown",
      "metadata": {
        "id": "I_LvoAEgIGJC"
      },
      "source": [
        "# ApacheBeam"
      ]
    },
    {
      "cell_type": "code",
      "metadata": {
        "id": "1V4iMwTxIeg-"
      },
      "source": [
        "pip install apache-beam[interactive]"
      ],
      "execution_count": null,
      "outputs": []
    },
    {
      "cell_type": "code",
      "metadata": {
        "id": "LK2wqpjqKHrk"
      },
      "source": [
        "import apache_beam as beam"
      ],
      "execution_count": null,
      "outputs": []
    },
    {
      "cell_type": "code",
      "metadata": {
        "id": "pZzr9bVIKaH0",
        "colab": {
          "base_uri": "https://localhost:8080/",
          "height": 50
        },
        "outputId": "add63e7c-ed6d-43ca-99ff-a8a5e452e31b"
      },
      "source": [
        "p1 = beam.Pipeline ()\n",
        "\n",
        "acoes = (\n",
        "    p1\n",
        "    |'Extrair os dados' >> beam.io.ReadFromText('/content/drive/MyDrive/dados/PROJETO_FINAL/acoes_pyspark.csv',\n",
        "                                                skip_header_lines= 0)\n",
        "    |'Separador' >> beam.Map(lambda record: record.split(','))\n",
        "    #|'Saida de dados' >> beam.Map(print)\n",
        "    #|'Gravar resultados'>> beam.io.WriterToText('resultado_acoes.txt')\n",
        ")\n",
        "p1.run()"
      ],
      "execution_count": null,
      "outputs": [
        {
          "output_type": "display_data",
          "data": {
            "application/javascript": [
              "\n",
              "        if (typeof window.interactive_beam_jquery == 'undefined') {\n",
              "          var jqueryScript = document.createElement('script');\n",
              "          jqueryScript.src = 'https://code.jquery.com/jquery-3.4.1.slim.min.js';\n",
              "          jqueryScript.type = 'text/javascript';\n",
              "          jqueryScript.onload = function() {\n",
              "            var datatableScript = document.createElement('script');\n",
              "            datatableScript.src = 'https://cdn.datatables.net/1.10.20/js/jquery.dataTables.min.js';\n",
              "            datatableScript.type = 'text/javascript';\n",
              "            datatableScript.onload = function() {\n",
              "              window.interactive_beam_jquery = jQuery.noConflict(true);\n",
              "              window.interactive_beam_jquery(document).ready(function($){\n",
              "                \n",
              "              });\n",
              "            }\n",
              "            document.head.appendChild(datatableScript);\n",
              "          };\n",
              "          document.head.appendChild(jqueryScript);\n",
              "        } else {\n",
              "          window.interactive_beam_jquery(document).ready(function($){\n",
              "            \n",
              "          });\n",
              "        }"
            ]
          },
          "metadata": {}
        },
        {
          "output_type": "stream",
          "name": "stderr",
          "text": [
            "WARNING:root:Make sure that locally built Python SDK docker image has Python 3.7 interpreter.\n"
          ]
        },
        {
          "output_type": "execute_result",
          "data": {
            "text/plain": [
              "<apache_beam.runners.portability.fn_api_runner.fn_runner.RunnerResult at 0x7ff2060a7250>"
            ]
          },
          "metadata": {},
          "execution_count": 130
        }
      ]
    },
    {
      "cell_type": "code",
      "metadata": {
        "colab": {
          "base_uri": "https://localhost:8080/"
        },
        "id": "rhFOGFo6NrBF",
        "outputId": "f0b194f0-0566-4a52-ead2-9ae3f582c786"
      },
      "source": [
        "#input do código da ação espcifica para acompanhar sua movimentação\n",
        "\n",
        "cod_acao = input('Digite Código da Ação: ').upper().strip()\n",
        "data = input('Digite a data de interesse no formato aaaa-mm-dd: ')\n",
        "\n",
        "p2 = beam.Pipeline()\n",
        "\n",
        "filtrar_acoes = (\n",
        "    p2\n",
        "    |'Extrair os dados' >> beam.io.ReadFromText('/content/drive/MyDrive/dados/PROJETO_FINAL/acoes_pyspark.csv'\n",
        "    ,skip_header_lines= 0)\n",
        "    |'Separador' >> beam.Map(lambda record: record.split(','))\n",
        "    |'Data de interesse' >> beam.Filter(lambda record : (record[6]) == data)\n",
        "    |'Filtrar por Codigo_Acao' >> beam.Filter(lambda record : record[7] == cod_acao)\n",
        "    |'Saída de Dados' >> beam.Map(print)\n",
        "    #|'Gravar resultado' >> beam.io.WriteToText('resultado_acoes.txt')\n",
        ")\n",
        "p2.run()"
      ],
      "execution_count": null,
      "outputs": [
        {
          "name": "stdout",
          "output_type": "stream",
          "text": [
            "Digite Código da Ação: itub4.sa\n",
            "Digite a data de interesse no formato aaaa-mm-dd: 2019-03-11\n"
          ]
        },
        {
          "output_type": "stream",
          "name": "stderr",
          "text": [
            "WARNING:root:Make sure that locally built Python SDK docker image has Python 3.7 interpreter.\n"
          ]
        },
        {
          "output_type": "stream",
          "name": "stdout",
          "text": [
            "['35.85', '37.02', '35.83', '36.92', '19995500', '34.86', '2019-03-11', 'ITUB4.SA', '0.03272715', '0.03272722', 'ITAUUNIBANCO', 'Financeiro', 'Intermediários Financeiros', 'Preferencial', 'Mega Cap']\n"
          ]
        },
        {
          "output_type": "execute_result",
          "data": {
            "text/plain": [
              "<apache_beam.runners.portability.fn_api_runner.fn_runner.RunnerResult at 0x7ff20623fe90>"
            ]
          },
          "metadata": {},
          "execution_count": 134
        }
      ]
    },
    {
      "cell_type": "code",
      "metadata": {
        "colab": {
          "base_uri": "https://localhost:8080/"
        },
        "id": "cxeGUn3nQ9qk",
        "outputId": "032d1e40-ea16-4977-e5ad-a6b766748694"
      },
      "source": [
        "p3 = beam.Pipeline()\n",
        "\n",
        "acoes_subsetor = (\n",
        "    p3\n",
        "    |'Extrair os dados' >> beam.io.ReadFromText('/content/drive/MyDrive/dados/PROJETO_FINAL/acoes_pyspark.csv',\n",
        "                                                skip_header_lines= 0)\n",
        "    |'Separador' >> beam.Map(lambda record: record.split(','))\n",
        "    |'Data de interesse' >> beam.Filter(lambda record : (record[6]) == '2019-03-01') #select na coluna Data_Referencia = 01mar2019\n",
        "    |'Agregação de colunas' >> beam.Map(lambda record: (record[7],float(record[0]),float(record[9]),(record[12]))) #select Codigo_Acao + Preco_Fechametno + Ret_Preco_Fechamento + Subsetor\n",
        "    #|'Combinar os dados' >> beam.CombinePerKey(sum)    #tipo sum Ret_Preco_Fechamento + groupBy Subsetor\n",
        "    |'Saída de Dados' >> beam.Map(print)\n",
        "    #|'Gravar resultado' >> beam.io.WriteToText('resultado_acoes.txt')\n",
        ")\n",
        "p3.run()"
      ],
      "execution_count": null,
      "outputs": [
        {
          "output_type": "stream",
          "name": "stderr",
          "text": [
            "WARNING:root:Make sure that locally built Python SDK docker image has Python 3.7 interpreter.\n"
          ]
        },
        {
          "output_type": "stream",
          "name": "stdout",
          "text": [
            "('AALR3.SA', 15.77, -0.0012658228, 'Análises e Diagnósticos')\n",
            "('ABCB4.SA', 18.3, -0.0005471006, 'Intermediários Financeiros')\n",
            "('ABEV3.SA', 17.14, -0.027278004, 'Bebidas')\n",
            "('AFLT3.SA', 5.0, 0.030927835, 'Utilidade Pública')\n",
            "('AGRO3.SA', 15.87, 0.008832808, 'Agropecuária')\n",
            "('AHEB3.SA', 59.7, 0.0, 'Viagens e Lazer')\n",
            "('ALPA3.SA', 15.94, 0.00511509, '\"Tecidos')\n",
            "('ALPA4.SA', 15.36, 0.03962461, '\"Tecidos')\n",
            "('ALSO3.SA', 30.68, -0.002913564, 'Exploração de Imóveis')\n",
            "('ALUP3.SA', 8.0, 0.06666667, 'Energia Elétrica')\n",
            "('ALUP4.SA', 7.34, -0.02536716, 'Energia Elétrica')\n",
            "('ALUP11.SA', 22.95, -0.02183406, 'Energia Elétrica')\n",
            "('AMAR3.SA', 6.19, 0.03896104, 'Comércio')\n",
            "('ANIM3.SA', 6.26, -0.02457276, 'Diversos')\n",
            "('APER3.SA', 23.46, -0.0102041, 'Previdência e Seguros')\n",
            "('ARZZ3.SA', 53.97, -0.01982581, 'Comércio')\n",
            "('ATOM3.SA', 2.34, -0.02542373, 'Outros')\n",
            "('AZEV3.SA', 8.95, 0.0, 'Construção e Engenharia')\n",
            "('AZEV4.SA', 4.28, -0.009090918, 'Construção e Engenharia')\n",
            "('AZUL4.SA', 37.52, -0.02390443, 'Transporte')\n",
            "('B3SA3.SA', 32.66, -0.02775242, 'Serviços Financeiros Diversos')\n",
            "('BAHI3.SA', 118.29, 0.0, 'Diversos')\n",
            "('BALM3.SA', 11.0, 0.0, 'Equipamentos')\n",
            "('BALM4.SA', 11.06, -0.1485758, 'Equipamentos')\n",
            "('BAUH3.SA', 5.0, 0.0, 'Alimentos Processados')\n",
            "('BAUH4.SA', 25.0, 0.0, 'Alimentos Processados')\n",
            "('BAZA3.SA', 26.2, 0.0, 'Intermediários Financeiros')\n",
            "('BBAS3.SA', 50.76, 0.01403168, 'Intermediários Financeiros')\n",
            "('BBDC3.SA', 29.44, -0.02932778, 'Intermediários Financeiros')\n",
            "('BBDC4.SA', 32.98, -0.01663975, 'Intermediários Financeiros')\n",
            "('BBRK3.SA', 7.06, 0.00143472, 'Exploração de Imóveis')\n",
            "('BBSE3.SA', 27.3, -0.01611714, 'Previdência e Seguros')\n",
            "('BDLL3.SA', 51.0, 0.0, 'Máquinas e Equipamentos')\n",
            "('BDLL4.SA', 14.47, -0.006298111, 'Máquinas e Equipamentos')\n",
            "('BEEF3.SA', 6.25, 0.001567407, 'Alimentos Processados')\n",
            "('BEES3.SA', 4.94, -0.008179959, 'Intermediários Financeiros')\n",
            "('BEES4.SA', 5.0, 0.03298969, 'Intermediários Financeiros')\n",
            "('BGIP3.SA', 36.46, 0.0, 'Intermediários Financeiros')\n",
            "('BGIP4.SA', 36.5, 0.006587922, 'Intermediários Financeiros')\n",
            "('BIDI4.SA', 6.3, 0.0489528, 'Intermediários Financeiros')\n",
            "('BIOM3.SA', 6.73, -0.01049463, 'Medicamentos e Outros Produtos')\n",
            "('BKBR3.SA', 22.17, 0.04736125, 'Hoteis e Restaurantes')\n",
            "('BMEB3.SA', 7.61, -0.00516129, 'Intermediários Financeiros')\n",
            "('BMEB4.SA', 7.43, 0.02968961, 'Intermediários Financeiros')\n",
            "('BMIN3.SA', 15.95, 0.0, 'Intermediários Financeiros')\n",
            "('BMIN4.SA', 17.99, 0.09030303, 'Intermediários Financeiros')\n",
            "('BMKS3.SA', 305.0, 0.0, 'Viagens e Lazer')\n",
            "('BNBR3.SA', 41.31, -0.09888891, 'Intermediários Financeiros')\n",
            "('BOBR4.SA', 2.66, 0.007490637, 'Produtos de Uso Pessoal e de Limpeza')\n",
            "('BPAC3.SA', 20.36, 0.0, 'Intermediários Financeiros')\n",
            "('BPAC11.SA', 34.24, 0.001772585, 'Intermediários Financeiros')\n",
            "('BPAN4.SA', 3.01, 0.03333333, 'Intermediários Financeiros')\n",
            "('BPHA3.SA', 1.46, 0.006756757, 'Comércio e Distribuição')\n",
            "('BRAP3.SA', 25.08, -0.007575797, 'Mineração')\n",
            "('BRAP4.SA', 28.99, -0.0055517, 'Mineração')\n",
            "('BRDT3.SA', 24.41, -0.01431497, ' Gás e Biocombustíveis\"')\n",
            "('BRFS3.SA', 20.74, -0.002430724, 'Alimentos Processados')\n",
            "('BRGE3.SA', 4.4, 0.0, 'Previdência e Seguros')\n",
            "('BRGE12.SA', 3.22, 0.0, 'Previdência e Seguros')\n",
            "('BRGE11.SA', 5.5, 0.0, 'Previdência e Seguros')\n",
            "('BRIV3.SA', 5.7, -0.01166667, 'Intermediários Financeiros')\n",
            "('BRIV4.SA', 6.65, 0.0, 'Intermediários Financeiros')\n",
            "('BRKM3.SA', 54.09, 0.02021888, 'Químicos')\n",
            "('BRML3.SA', 13.33, -0.02091113, 'Exploração de Imóveis')\n",
            "('BRPR3.SA', 8.76, -0.007990868, 'Exploração de Imóveis')\n",
            "('BRSR3.SA', 24.5, 0.0, 'Intermediários Financeiros')\n",
            "('BSEV3.SA', 2.93, -0.0239726, 'Alimentos Processados')\n",
            "('BSLI3.SA', 3.78, 0.0, 'Intermediários Financeiros')\n",
            "('BSLI4.SA', 4.67, 0.0, 'Intermediários Financeiros')\n",
            "('BTOW3.SA', 47.9, 0.01985528, 'Comércio')\n",
            "('BTTL3.SA', 4.16, 0.05392157, 'Comércio')\n",
            "('CALI3.SA', 98.18, 0.0, 'Construção Civil')\n",
            "('CALI4.SA', 75.0, 0.0, 'Construção Civil')\n",
            "('CAML3.SA', 7.21, -0.006954103, 'Alimentos Processados')\n",
            "('CARD3.SA', 7.34, 0.03030303, 'Serviços Diversos')\n",
            "('CASN3.SA', 8.0, 0.0, 'Água e Saneamento')\n",
            "('CASN4.SA', 12.02, 0.0, 'Água e Saneamento')\n",
            "('CBEE3.SA', 24.01, 0.0, 'Energia Elétrica')\n",
            "('CCPR3.SA', 12.14, 0.01214575, 'Exploração de Imóveis')\n",
            "('CCRO3.SA', 14.28, -0.01967674, 'Transporte')\n",
            "('CEBR3.SA', 28.0, 0.0, 'Energia Elétrica')\n",
            "('CEDO3.SA', 6.08, 0.01333333, '\"Tecidos')\n",
            "('CEDO4.SA', 6.2, -0.05799373, '\"Tecidos')\n",
            "('CEEB3.SA', 30.07, 0.0, 'Energia Elétrica')\n",
            "('CEED3.SA', 45.01, 0.0, 'Energia Elétrica')\n",
            "('CEED4.SA', 49.0, 0.0, 'Energia Elétrica')\n",
            "('CEGR3.SA', 48.0, 0.0, 'Gás')\n",
            "('CEPE3.SA', 24.53, 0.0, 'Energia Elétrica')\n",
            "('CESP3.SA', 21.64, 0.0, 'Energia Elétrica')\n",
            "('CGAS3.SA', 76.21, 0.0001307862, 'Gás')\n",
            "('CGRA3.SA', 25.6, -0.01434105, 'Comércio')\n",
            "('CGRA4.SA', 25.96, -0.01035677, 'Comércio')\n",
            "('CIEL3.SA', 10.98, -0.006439742, 'Serviços Financeiros Diversos')\n",
            "('CLSC3.SA', 57.0, 0.0, 'Energia Elétrica')\n",
            "('CLSC4.SA', 54.8, 0.0, 'Energia Elétrica')\n",
            "('CMIG3.SA', 15.97, -0.005970125, 'Energia Elétrica')\n",
            "('CMIG4.SA', 13.92, -0.02361112, 'Energia Elétrica')\n",
            "('COCE3.SA', 44.0, 0.0, 'Energia Elétrica')\n",
            "('COGN3.SA', 11.0, -0.00911577, 'Diversos')\n",
            "('CORR3.SA', 12.0, 0.0, 'Exploração de Imóveis')\n",
            "('CORR4.SA', 89.99, 0.0, 'Exploração de Imóveis')\n",
            "('CPFE3.SA', 30.89, -0.002932584, 'Energia Elétrica')\n",
            "('CPLE3.SA', 3.26, -0.01599016, 'Energia Elétrica')\n",
            "('CRDE3.SA', 20.19, 0.001488145, 'Construção Civil')\n",
            "('CRFB3.SA', 19.52, -0.01331967, 'Comércio e Distribuição')\n",
            "('CRIV3.SA', 5.0, 0.0, 'Intermediários Financeiros')\n",
            "('CRIV4.SA', 5.67, 0.0, 'Intermediários Financeiros')\n",
            "('CRPG3.SA', 30.41, 0.0303606, 'Químicos')\n",
            "('CSAB3.SA', 48.5, 0.0, 'Previdência e Seguros')\n",
            "('CSAB4.SA', 46.0, 0.0, 'Previdência e Seguros')\n",
            "('CSAN3.SA', 43.49, -0.02379865, ' Gás e Biocombustíveis\"')\n",
            "('CSMG3.SA', 20.55, -0.003228475, 'Água e Saneamento')\n",
            "('CSNA3.SA', 13.23, 0.0588685, 'Siderurgia e Metalurgia')\n",
            "('CSRN3.SA', 17.16, 0.0, 'Energia Elétrica')\n",
            "('CTKA3.SA', 5.0, 0.0, '\"Tecidos')\n",
            "('CTKA4.SA', 4.0, -0.005, '\"Tecidos')\n",
            "('CTNM3.SA', 10.9, 0.0, '\"Tecidos')\n",
            "('CTNM4.SA', 10.01, 0.01798202, '\"Tecidos')\n",
            "('CTSA3.SA', 5.1, -0.01941748, '\"Tecidos')\n",
            "('CTSA4.SA', 2.13, 0.0, '\"Tecidos')\n",
            "('CVCB3.SA', 58.4, -0.008561644, 'Viagens e Lazer')\n",
            "('CYRE3.SA', 17.2, -0.008771871, 'Construção Civil')\n",
            "('DASA3.SA', 29.8, 0.0, 'Análises e Diagnósticos')\n",
            "('DIRR3.SA', 8.77, 0.02296211, 'Construção Civil')\n",
            "('DMMO3.SA', 8.7, -0.04494378, ' Gás e Biocombustíveis\"')\n",
            "('DOHL3.SA', 6.4, 0.0, '\"Tecidos')\n",
            "('DOHL4.SA', 5.52, 0.0, '\"Tecidos')\n",
            "('DTCY3.SA', 2.2, 0.0, 'Serviços Diversos')\n",
            "('DTEX3.SA', 11.89, -0.02881356, 'Madeira e Papel')\n",
            "('EALT3.SA', 5.52, 0.0, 'Máquinas e Equipamentos')\n",
            "('EALT4.SA', 5.14, -0.01941748, 'Máquinas e Equipamentos')\n",
            "('ECOR3.SA', 11.32, -0.01943463, 'Transporte')\n",
            "('ECPR3.SA', 79.99, 0.0, '\"Tecidos')\n",
            "('ECPR4.SA', 100.0, 0.0, '\"Tecidos')\n",
            "('EEEL3.SA', 210.0, -0.02325581, 'Energia Elétrica')\n",
            "('EEEL4.SA', 250.0, 0.0, 'Energia Elétrica')\n",
            "('EGIE3.SA', 41.16, -0.01943632, 'Energia Elétrica')\n",
            "('EKTR3.SA', 18.21, -0.08950005, 'Energia Elétrica')\n",
            "('EKTR4.SA', 19.0, 0.0, 'Energia Elétrica')\n",
            "('ELET3.SA', 37.14, -0.03623586, 'Energia Elétrica')\n",
            "('EMAE4.SA', 22.46, 0.0, 'Energia Elétrica')\n",
            "('EMBR3.SA', 19.21, -0.006289361, 'Material de Transporte')\n",
            "('ENAT3.SA', 13.3, 0.05446293, ' Gás e Biocombustíveis\"')\n",
            "('ENBR3.SA', 17.5, 0.009248555, 'Energia Elétrica')\n",
            "('ENEV3.SA', 4.66, -0.01016586, 'Energia Elétrica')\n",
            "('ENGI3.SA', 14.6, 0.0, 'Energia Elétrica')\n",
            "('ENGI4.SA', 6.53, 0.0, 'Energia Elétrica')\n",
            "('ENGI11.SA', 40.55, -0.01044781, 'Energia Elétrica')\n",
            "('ENMT3.SA', 20.0, -0.06976744, 'Energia Elétrica')\n",
            "('ENMT4.SA', 20.99, -0.06669631, 'Energia Elétrica')\n",
            "('EQPA3.SA', 2.48, 0.004115226, 'Energia Elétrica')\n",
            "('EQTL3.SA', 16.43, 0.004139656, 'Energia Elétrica')\n",
            "('ESTR4.SA', 12.5, 0.0, 'Viagens e Lazer')\n",
            "('ETER3.SA', 2.57, 0.003649363, 'Construção e Engenharia')\n",
            "('EUCA3.SA', 8.2, 0.0, 'Madeira e Papel')\n",
            "('EUCA4.SA', 4.32, -0.002375297, 'Madeira e Papel')\n",
            "('EVEN3.SA', 6.0, 0.008375209, 'Construção Civil')\n",
            "('EZTC3.SA', 21.93, -0.007124123, 'Construção Civil')\n",
            "('FESA3.SA', 30.3, 0.0, 'Siderurgia e Metalurgia')\n",
            "('FESA4.SA', 27.4, -0.01423358, 'Siderurgia e Metalurgia')\n",
            "('FHER3.SA', 2.29, -0.004405286, 'Químicos')\n",
            "('FIGE3.SA', 43.0, 0.0, 'Outros')\n",
            "('FIGE4.SA', 38.01, 0.0, 'Outros')\n",
            "('FLRY3.SA', 20.14, 0.0, 'Análises e Diagnósticos')\n",
            "('FRAS3.SA', 5.01, 0.007984032, 'Material de Transporte')\n",
            "('FRIO3.SA', 59.0, 0.0, 'Máquinas e Equipamentos')\n",
            "('FRTA3.SA', 5.7, 0.02105268, 'Agropecuária')\n",
            "('GEPA3.SA', 35.5, -0.01408451, 'Energia Elétrica')\n",
            "('GEPA4.SA', 39.99, 0.0, 'Energia Elétrica')\n",
            "('GFSA3.SA', 8.93, -0.004073341, 'Construção Civil')\n",
            "('GGBR3.SA', 12.6, 0.00400641, 'Siderurgia e Metalurgia')\n",
            "('GGBR4.SA', 15.23, -0.007265522, 'Siderurgia e Metalurgia')\n",
            "('GNDI3.SA', 33.02, -0.02077068, 'Análises e Diagnósticos')\n",
            "('GOAU3.SA', 7.39, -0.02419355, 'Siderurgia e Metalurgia')\n",
            "('GOAU4.SA', 7.24, -0.01114206, 'Siderurgia e Metalurgia')\n",
            "('GOLL4.SA', 26.96, -0.009002251, 'Transporte')\n",
            "('GPAR3.SA', 9.0, 0.0, 'Energia Elétrica')\n",
            "('GPCP3.SA', 1.98, 0.005050505, 'Químicos')\n",
            "('GPIV33.SA', 4.7, 0.004273504, 'Serviços Financeiros Diversos')\n",
            "('GRND3.SA', 8.67, 0.003460208, '\"Tecidos')\n",
            "('GSHP3.SA', 222.48, 0.006611563, 'Exploração de Imóveis')\n",
            "('GUAR3.SA', 18.27, 0.008485069, 'Comércio')\n",
            "('HAGA3.SA', 2.47, 0.0, 'Construção e Engenharia')\n",
            "('HAGA4.SA', 1.54, 0.03896104, 'Construção e Engenharia')\n",
            "('HAPV3.SA', 6.47, -0.006443694, 'Análises e Diagnósticos')\n",
            "('HBOR3.SA', 7.15, -0.0212766, 'Construção Civil')\n",
            "('HETA4.SA', 7.0, 0.0, 'Utilidades Domésticas')\n",
            "('HGTX3.SA', 30.19, 0.01490553, '\"Tecidos')\n",
            "('HOOT3.SA', 3.3, 0.0, 'Hoteis e Restaurantes')\n",
            "('HOOT4.SA', 1.85, -0.04639175, 'Hoteis e Restaurantes')\n",
            "('HYPE3.SA', 27.05, -0.004089182, 'Comércio e Distribuição')\n",
            "('IGBR3.SA', 2.37, -0.008583691, 'Exploração de Imóveis')\n",
            "('IGTA3.SA', 41.93, -0.01357143, 'Exploração de Imóveis')\n",
            "('INEP4.SA', 15.2, -0.08219178, 'Máquinas e Equipamentos')\n",
            "('IRBR3.SA', 27.44, 0.01202248, 'Previdência e Seguros')\n",
            "('ITSA3.SA', 15.15, -0.002, 'Intermediários Financeiros')\n",
            "('ITSA4.SA', 12.4, -0.008892482, 'Intermediários Financeiros')\n",
            "('ITUB3.SA', 31.5, -0.01157187, 'Intermediários Financeiros')\n",
            "('ITUB4.SA', 35.49, -0.01107011, 'Intermediários Financeiros')\n",
            "('JBDU3.SA', 7.01, 0.0, 'Outros')\n",
            "('JBDU4.SA', 7.45, 0.07816712, 'Outros')\n",
            "('JBSS3.SA', 13.47, 0.05137751, 'Alimentos Processados')\n",
            "('JFEN3.SA', 3.52, -0.06052632, 'Construção Civil')\n",
            "('JHSF3.SA', 2.31, -0.02183406, 'Construção Civil')\n",
            "('JOPA3.SA', 24.5, 0.0, 'Alimentos Processados')\n",
            "('JOPA4.SA', 22.01, 0.0, 'Alimentos Processados')\n",
            "('JPSA3.SA', 25.5, 0.002745098, 'Exploração de Imóveis')\n",
            "('KEPL3.SA', 17.25, -0.005797101, 'Máquinas e Equipamentos')\n",
            "('KLBN3.SA', 5.53, -0.01615799, 'Madeira e Papel')\n",
            "('KLBN4.SA', 3.18, -0.009615385, 'Madeira e Papel')\n",
            "('KLBN11.SA', 18.08, -0.009955752, 'Madeira e Papel')\n",
            "('LAME3.SA', 14.95, -0.01, 'Comércio')\n",
            "('LAME4.SA', 19.83, -0.01205424, 'Comércio')\n",
            "('LCAM3.SA', 13.12, -0.01827411, 'Diversos')\n",
            "('LEVE3.SA', 26.35, 0.04063806, 'Automóveis e Motocicletas')\n",
            "('LIGT3.SA', 19.94, 0.007052897, 'Energia Elétrica')\n",
            "('LINX3.SA', 28.69, 0.009467076, 'Programas e Serviços')\n",
            "('LIPR3.SA', 60.0, 0.0, 'Energia Elétrica')\n",
            "('LOGN3.SA', 8.93, -0.003359462, 'Transporte')\n",
            "('LPSB3.SA', 5.7, -0.003478242, 'Exploração de Imóveis')\n",
            "('LREN3.SA', 39.62, 0.001155203, 'Comércio')\n",
            "('LUPA3.SA', 1.78, 0.0, ' Gás e Biocombustíveis\"')\n",
            "('LUXM3.SA', 6.67, 0.0, 'Transporte')\n",
            "('LUXM4.SA', 20.6, 0.0, 'Transporte')\n",
            "('MAPT3.SA', 6.3, 0.0, 'Outros')\n",
            "('MAPT4.SA', 2.98, 0.0, 'Outros')\n",
            "('MDIA3.SA', 46.97, -0.003405705, 'Alimentos Processados')\n",
            "('MEAL3.SA', 6.18, -0.01294498, 'Hoteis e Restaurantes')\n",
            "('MERC3.SA', 10.0, 0.0, 'Intermediários Financeiros')\n",
            "('MERC4.SA', 7.0, 0.0, 'Intermediários Financeiros')\n",
            "('MGEL3.SA', 75.0, 0.0, 'Siderurgia e Metalurgia')\n",
            "('MGEL4.SA', 7.01, -0.03042877, 'Siderurgia e Metalurgia')\n",
            "('MGLU3.SA', 5.47, 0.01014643, 'Comércio')\n",
            "('MILS3.SA', 5.43, -0.02578269, 'Construção e Engenharia')\n",
            "('MMAQ3.SA', 3.0, 0.0, 'Comércio')\n",
            "('MMAQ4.SA', 163.86, 0.0, 'Comércio')\n",
            "('MMXM3.SA', 2.15, 0.004739336, 'Mineração')\n",
            "('MNDL3.SA', 29.5, -0.01154895, '\"Tecidos')\n",
            "('MNPR3.SA', 2.25, 0.0, 'Alimentos Processados')\n",
            "('MOAR3.SA', 177.0, 0.0, 'Holdings Diversificadas')\n",
            "('MOVI3.SA', 11.65, 0.01724145, 'Diversos')\n",
            "('MRFG3.SA', 5.56, 0.01636364, 'Alimentos Processados')\n",
            "('MRVE3.SA', 13.69, 0.02133922, 'Construção Civil')\n",
            "('MSPA3.SA', 48.14, -0.02943546, 'Madeira e Papel')\n",
            "('MSPA4.SA', 48.01, 0.0, 'Madeira e Papel')\n",
            "('MTIG3.SA', 156.3, 0.0, 'Embalagens')\n",
            "('MTIG4.SA', 79.1, 0.0, 'Embalagens')\n",
            "('MTSA3.SA', 26.0, 0.0, 'Máquinas e Equipamentos')\n",
            "('MTSA4.SA', 18.0, -0.02833333, 'Máquinas e Equipamentos')\n",
            "('MULT3.SA', 25.12, -0.02105685, 'Exploração de Imóveis')\n",
            "('MWET3.SA', 6.34, 0.0, 'Material de Transporte')\n",
            "('MWET4.SA', 4.09, 0.0, 'Material de Transporte')\n",
            "('MYPK3.SA', 21.74, 0.02209954, 'Automóveis e Motocicletas')\n",
            "('NORD3.SA', 1.6, 0.0, 'Máquinas e Equipamentos')\n",
            "('ODER4.SA', 11.27, 0.0, 'Alimentos Processados')\n",
            "('ODPV3.SA', 16.57, -0.01807235, 'Análises e Diagnósticos')\n",
            "('OFSA3.SA', 32.15, 0.00370596, 'Medicamentos e Outros Produtos')\n",
            "('OIBR3.SA', 1.81, -0.01675978, 'Telecomunicações')\n",
            "('OIBR4.SA', 1.83, -0.02777778, 'Telecomunicações')\n",
            "('OMGE3.SA', 19.84, -0.005530317, 'Energia Elétrica')\n",
            "('OSXB3.SA', 4.42, -0.02173913, ' Gás e Biocombustíveis\"')\n",
            "('PARD3.SA', 19.26, 0.007828758, 'Análises e Diagnósticos')\n",
            "('PATI3.SA', 21.51, 0.0009306654, 'Siderurgia e Metalurgia')\n",
            "('PATI4.SA', 33.3, 0.0, 'Siderurgia e Metalurgia')\n",
            "('PCAR3.SA', 93.5, 0.0, 'Comércio e Distribuição')\n",
            "('PDGR3.SA', 7.4, -0.01232877, 'Construção Civil')\n",
            "('PEAB3.SA', 41.0, 0.0, 'Holdings Diversificadas')\n",
            "('PEAB4.SA', 43.0, 0.0, 'Holdings Diversificadas')\n",
            "('PETR3.SA', 29.92, -0.02210315, ' Gás e Biocombustíveis\"')\n",
            "('PETR4.SA', 27.14, -0.0133037, ' Gás e Biocombustíveis\"')\n",
            "('PFRM3.SA', 4.28, -0.02336449, 'Comércio e Distribuição')\n",
            "('PINE4.SA', 2.55, -0.07272727, 'Intermediários Financeiros')\n",
            "('PLAS3.SA', 9.0, -0.0228013, 'Automóveis e Motocicletas')\n",
            "('PMAM3.SA', 24.82, -0.01369866, 'Siderurgia e Metalurgia')\n",
            "('PNVL3.SA', 12.47, 0.0, 'Comércio e Distribuição')\n",
            "('PNVL4.SA', 8.0, 0.0, 'Comércio e Distribuição')\n",
            "('POMO3.SA', 3.37, 0.03560831, 'Material de Transporte')\n",
            "('POMO4.SA', 4.04, 0.02469136, 'Material de Transporte')\n",
            "('POSI3.SA', 2.36, 0.0, 'Computadores e Equipamentos')\n",
            "('PPAR3.SA', 250.02, 0.0, 'Outros')\n",
            "('PPLA11.SA', 2.15, -0.01415094, 'Serviços Financeiros Diversos')\n",
            "('PRIO3.SA', 15.22, 0.1127301, ' Gás e Biocombustíveis\"')\n",
            "('PSSA3.SA', 56.6, -0.006245574, 'Previdência e Seguros')\n",
            "('PTBL3.SA', 5.2, -0.01923077, 'Construção e Engenharia')\n",
            "('PTNT3.SA', 6.99, 0.0, '\"Tecidos')\n",
            "('PTNT4.SA', 3.08, 0.03642384, '\"Tecidos')\n",
            "('QUAL3.SA', 15.42, -0.01549387, 'Análises e Diagnósticos')\n",
            "('RADL3.SA', 13.08, -0.02384956, 'Comércio e Distribuição')\n",
            "('RAIL3.SA', 19.4, -0.01849944, 'Transporte')\n",
            "('RANI3.SA', 2.82, 0.0106383, 'Madeira e Papel')\n",
            "('RAPT3.SA', 7.69, -0.03133159, 'Material de Transporte')\n",
            "('RAPT4.SA', 9.66, 0.004145078, 'Material de Transporte')\n",
            "('RCSL3.SA', 2.34, 0.0, 'Material de Transporte')\n",
            "('RCSL4.SA', 1.61, -0.006329114, 'Material de Transporte')\n",
            "('RDNI3.SA', 5.9, 0.005128205, 'Construção Civil')\n",
            "('REDE3.SA', 7.26, 0.01928375, 'Energia Elétrica')\n",
            "('RENT3.SA', 32.86, -0.02749638, 'Diversos')\n",
            "('RLOG3.SA', 15.07, -0.01526211, 'Transporte')\n",
            "('RNEW3.SA', 6.55, 0.0, 'Energia Elétrica')\n",
            "('RNEW4.SA', 5.63, 0.01420959, 'Energia Elétrica')\n",
            "('RNEW11.SA', 17.44, -0.0005589715, 'Energia Elétrica')\n",
            "('ROMI3.SA', 9.34, 0.0, 'Máquinas e Equipamentos')\n",
            "('RPAD3.SA', 4.5, 0.0, 'Intermediários Financeiros')\n",
            "('RPMG3.SA', 2.98, -0.003401361, ' Gás e Biocombustíveis\"')\n",
            "('RSID3.SA', 5.04, -0.01606426, 'Construção Civil')\n",
            "('RSUL4.SA', 60.8, 0.0, 'Material de Transporte')\n",
            "('SANB3.SA', 23.06, -0.03512572, 'Intermediários Financeiros')\n",
            "('SANB4.SA', 22.13, 0.003598695, 'Intermediários Financeiros')\n",
            "('SANB11.SA', 45.2, -0.01350155, 'Intermediários Financeiros')\n",
            "('SAPR3.SA', 7.22, 0.04929577, 'Água e Saneamento')\n",
            "('SAPR4.SA', 4.57, -0.00877193, 'Água e Saneamento')\n",
            "('SAPR11.SA', 25.77, -0.0128255, 'Água e Saneamento')\n",
            "('SBSP3.SA', 39.28, 0.00127075, 'Água e Saneamento')\n",
            "('SCAR3.SA', 33.9, -0.03790085, 'Exploração de Imóveis')\n",
            "('SEER3.SA', 19.0, 0.003161275, 'Diversos')\n",
            "('SGPS3.SA', 8.31, -0.02615933, '\"Tecidos')\n",
            "('SHOW3.SA', 7.23, 0.006896552, 'Viagens e Lazer')\n",
            "('SHUL3.SA', 8.57, 0.0, 'Máquinas e Equipamentos')\n",
            "('SHUL4.SA', 7.12, 0.0, 'Máquinas e Equipamentos')\n",
            "('SLCE3.SA', 20.54, 0.02876646, 'Agropecuária')\n",
            "('SLED3.SA', 2.11, 0.0, 'Comércio')\n",
            "('SLED4.SA', 2.11, -0.02325581, 'Comércio')\n",
            "('SMLS3.SA', 48.34, -0.01229167, 'Diversos')\n",
            "('SMTO3.SA', 19.0, -0.004792332, 'Alimentos Processados')\n",
            "('SNSY3.SA', 1.12, 0.0, 'Materiais Diversos')\n",
            "('SQIA3.SA', 7.48, 0.0006706908, 'Programas e Serviços')\n",
            "('STBP3.SA', 3.8, 0.0, 'Transporte')\n",
            "('SULA3.SA', 12.5, 0.03846153, 'Previdência e Seguros')\n",
            "('SULA4.SA', 8.08, 0.0, 'Previdência e Seguros')\n",
            "('SULA11.SA', 28.18, 0.006907885, 'Previdência e Seguros')\n",
            "('SUZB3.SA', 47.88, 0.01888378, 'Madeira e Papel')\n",
            "('TAEE3.SA', 9.59, -0.02192067, 'Energia Elétrica')\n",
            "('TAEE4.SA', 7.75, -0.005148005, 'Energia Elétrica')\n",
            "('TAEE11.SA', 24.98, -0.008009572, 'Energia Elétrica')\n",
            "('TASA3.SA', 4.25, -0.0255814, 'Máquinas e Equipamentos')\n",
            "('TASA4.SA', 4.2, -0.007142857, 'Máquinas e Equipamentos')\n",
            "('TCNO3.SA', 1.63, 0.0, 'Construção e Engenharia')\n",
            "('TCNO4.SA', 1.61, -0.00617284, 'Construção e Engenharia')\n",
            "('TCSA3.SA', 12.8, 0.0078125, 'Construção Civil')\n",
            "('TECN3.SA', 2.46, -0.05241935, '\"Tecidos')\n",
            "('TEKA3.SA', 9.88, 0.0, '\"Tecidos')\n",
            "('TEKA4.SA', 8.75, 0.04452055, '\"Tecidos')\n",
            "('TELB3.SA', 36.27, 0.0, 'Telecomunicações')\n",
            "('TELB4.SA', 28.0, 0.02904408, 'Telecomunicações')\n",
            "('TEND3.SA', 16.68, 0.01194036, 'Construção Civil')\n",
            "('TESA3.SA', 13.54, 0.01526718, 'Agropecuária')\n",
            "('TGMA3.SA', 27.37, -0.001452997, 'Transporte')\n",
            "('TIMS3.SA', 11.9, -0.0177665, 'Telecomunicações')\n",
            "('TKNO3.SA', 83.21, 0.0, 'Siderurgia e Metalurgia')\n",
            "('TKNO4.SA', 35.18, 0.0, 'Siderurgia e Metalurgia')\n",
            "('TOTS3.SA', 12.16, 0.01152268, 'Programas e Serviços')\n",
            "('TPIS3.SA', 1.83, 0.04972376, 'Transporte')\n",
            "('TRIS3.SA', 4.79, 0.02320675, 'Construção Civil')\n",
            "('TRPL3.SA', 20.36, -0.03486123, 'Energia Elétrica')\n",
            "('TRPL4.SA', 19.75, 0.0297928, 'Energia Elétrica')\n",
            "('TUPY3.SA', 18.39, 0.03097821, 'Material de Transporte')\n",
            "('UCAS3.SA', 2.86, -0.02097902, 'Utilidades Domésticas')\n",
            "('UGPA3.SA', 26.3, -0.03763336, ' Gás e Biocombustíveis\"')\n",
            "('UNIP3.SA', 33.77, -0.007343562, 'Químicos')\n",
            "('USIM3.SA', 11.3, -0.001784121, 'Siderurgia e Metalurgia')\n",
            "('VALE3.SA', 47.29, -0.007643228, 'Mineração')\n",
            "('VIVR3.SA', 3.12, 0.0, 'Construção Civil')\n",
            "('VIVT3.SA', 42.69, -0.01507074, 'Telecomunicações')\n",
            "('VLID3.SA', 19.77, -0.02691727, 'Serviços Diversos')\n",
            "('VSPT3.SA', 1.5, 0.0, 'Transporte')\n",
            "('VULC3.SA', 7.94, 0.003768844, '\"Tecidos')\n",
            "('VVAR3.SA', 4.64, -0.008733624, 'Comércio')\n",
            "('WEGE3.SA', 18.56, -0.004343105, 'Máquinas e Equipamentos')\n",
            "('WHRL3.SA', 4.13, -0.09482759, 'Utilidades Domésticas')\n",
            "('WHRL4.SA', 4.9, -0.1393443, 'Utilidades Domésticas')\n",
            "('WIZS3.SA', 9.0, -0.007786429, 'Previdência e Seguros')\n",
            "('WLMM3.SA', 6.5, 0.0, 'Comércio')\n",
            "('WLMM4.SA', 6.55, 0.00312989, 'Comércio')\n",
            "('WSON33.SA', 42.59, -0.01408777, 'Transporte')\n",
            "('YDUQ3.SA', 27.75, -0.004718657, 'Diversos')\n"
          ]
        },
        {
          "output_type": "execute_result",
          "data": {
            "text/plain": [
              "<apache_beam.runners.portability.fn_api_runner.fn_runner.RunnerResult at 0x7ff205484690>"
            ]
          },
          "metadata": {},
          "execution_count": 135
        }
      ]
    },
    {
      "cell_type": "code",
      "metadata": {
        "colab": {
          "base_uri": "https://localhost:8080/"
        },
        "id": "7N6HGuFemlCi",
        "outputId": "5698fb5f-1a3a-472d-b198-c987a8da9b1a"
      },
      "source": [
        "#sum ações com fechamento negativo por Subsetor\n",
        "\n",
        "p4 = beam.Pipeline()\n",
        "\n",
        "acoes_negat_subsetor = (\n",
        "    p4\n",
        "    |'Extrair os dados' >> beam.io.ReadFromText('/content/drive/MyDrive/dados/PROJETO_FINAL/acoes_pyspark.csv',\n",
        "                                                skip_header_lines= 0)\n",
        "    |'Separador' >> beam.Map(lambda record: record.split(','))\n",
        "    |'Data de interesse' >> beam.Filter(lambda record : (record[6]) == '2019-03-01') #select na coluna Data_Referencia = 01mar2019\n",
        "    |'Acoes com desepenho negativo' >> beam.Filter(lambda record: float(record[9]) < 0)\n",
        "    |'Agregação de colunas' >> beam.Map(lambda record: (record[12],float(record[9]))) #select Ret_Preco_Fechamento + Subsetor\n",
        "    |'Combinar os dados' >> beam.CombinePerKey(sum)    #tipo sum Ret_Preco_Fechamento + groupBy Subsetor\n",
        "    |'Saída de Dados' >> beam.Map(print)\n",
        "    #|'Gravar resultado' >> beam.io.WriteToText('resultado_acoes.txt')\n",
        ")\n",
        "p4.run()\n"
      ],
      "execution_count": null,
      "outputs": [
        {
          "output_type": "stream",
          "name": "stderr",
          "text": [
            "WARNING:root:Make sure that locally built Python SDK docker image has Python 3.7 interpreter.\n"
          ]
        },
        {
          "output_type": "stream",
          "name": "stdout",
          "text": [
            "('Análises e Diagnósticos', -0.0620464168)\n",
            "('Intermediários Financeiros', -0.3253004615999999)\n",
            "('Bebidas', -0.027278004)\n",
            "('Exploração de Imóveis', -0.116406625)\n",
            "('Energia Elétrica', -0.5113239445000001)\n",
            "('Diversos', -0.09646934700000001)\n",
            "('Previdência e Seguros', -0.040353243)\n",
            "('Comércio', -0.09856730400000001)\n",
            "('Outros', -0.02542373)\n",
            "('Construção e Engenharia', -0.060277218)\n",
            "('Transporte', -0.12467983)\n",
            "('Serviços Financeiros Diversos', -0.048343102)\n",
            "('Equipamentos', -0.1485758)\n",
            "('Máquinas e Equipamentos', -0.17910516399999998)\n",
            "('Medicamentos e Outros Produtos', -0.01049463)\n",
            "('Mineração', -0.020770725)\n",
            "(' Gás e Biocombustíveis\"', -0.18123810099999998)\n",
            "('Alimentos Processados', -0.041555464)\n",
            "('\"Tecidos', -0.17253884)\n",
            "('Comércio e Distribuição', -0.06462290200000001)\n",
            "('Água e Saneamento', -0.024825905000000002)\n",
            "('Viagens e Lazer', -0.008561644)\n",
            "('Construção Civil', -0.151999345)\n",
            "('Madeira e Papel', -0.096353444)\n",
            "('Material de Transporte', -0.043950064999999996)\n",
            "('Siderurgia e Metalurgia', -0.102746263)\n",
            "('Químicos', -0.011748848)\n",
            "('Hoteis e Restaurantes', -0.059336730000000004)\n",
            "('Telecomunicações', -0.0773748)\n",
            "('Automóveis e Motocicletas', -0.0228013)\n",
            "('Utilidades Domésticas', -0.25515091)\n",
            "('Serviços Diversos', -0.02691727)\n"
          ]
        },
        {
          "output_type": "execute_result",
          "data": {
            "text/plain": [
              "<apache_beam.runners.portability.fn_api_runner.fn_runner.RunnerResult at 0x7ff2054e3f10>"
            ]
          },
          "metadata": {},
          "execution_count": 136
        }
      ]
    },
    {
      "cell_type": "code",
      "metadata": {
        "colab": {
          "base_uri": "https://localhost:8080/"
        },
        "id": "GV13INtCoM_n",
        "outputId": "551f4e5d-4f80-45d8-cdea-90d7aa034de8"
      },
      "source": [
        "#QTDE de acoes por Subsetor que fecharam negativo no dia 01/mar/2019\n",
        "\n",
        "p5 = beam.Pipeline()\n",
        "\n",
        "ocorrencias_negat_subsetor = (\n",
        "    p5\n",
        "    |'Extrair os dados' >> beam.io.ReadFromText('/content/drive/MyDrive/dados/PROJETO_FINAL/acoes_pyspark.csv',\n",
        "                                                skip_header_lines= 0)\n",
        "    |'Separador' >> beam.Map(lambda record: record.split(','))\n",
        "    |'Data de interesse' >> beam.Filter(lambda record : (record[6]) == '2019-03-01') #select na coluna Data_Referencia = 01mar2019\n",
        "    |'Acoes com desepenho negativo' >> beam.Filter(lambda record: float(record[9]) < 0)\n",
        "    |'Agregação de colunas' >> beam.Map(lambda record: (record[12],float(record[9]))) #select Ret_Preco_Fechamento + Subsetor\n",
        "    #|'Combinar os dados' >> beam.CombinePerKey(sum)    #tipo sum Ret_Preco_Fechamento + groupBy Subsetor\n",
        "    |'Ocorrencias de valor negativo por Subsetor' >> beam.combiners.Count.PerKey()\n",
        "    |'Saída de Dados' >> beam.Map(print)\n",
        "    #|'Gravar resultado' >> beam.io.WriteToText('resultado_acoes.txt')\n",
        ")\n",
        "p5.run()\n"
      ],
      "execution_count": null,
      "outputs": [
        {
          "output_type": "stream",
          "name": "stderr",
          "text": [
            "WARNING:root:Make sure that locally built Python SDK docker image has Python 3.7 interpreter.\n"
          ]
        },
        {
          "output_type": "stream",
          "name": "stdout",
          "text": [
            "('Análises e Diagnósticos', 5)\n",
            "('Intermediários Financeiros', 14)\n",
            "('Bebidas', 1)\n",
            "('Exploração de Imóveis', 8)\n",
            "('Energia Elétrica', 21)\n",
            "('Diversos', 6)\n",
            "('Previdência e Seguros', 4)\n",
            "('Comércio', 7)\n",
            "('Outros', 1)\n",
            "('Construção e Engenharia', 4)\n",
            "('Transporte', 9)\n",
            "('Serviços Financeiros Diversos', 3)\n",
            "('Equipamentos', 1)\n",
            "('Máquinas e Equipamentos', 8)\n",
            "('Medicamentos e Outros Produtos', 1)\n",
            "('Mineração', 3)\n",
            "(' Gás e Biocombustíveis\"', 8)\n",
            "('Alimentos Processados', 5)\n",
            "('\"Tecidos', 6)\n",
            "('Comércio e Distribuição', 4)\n",
            "('Água e Saneamento', 3)\n",
            "('Viagens e Lazer', 1)\n",
            "('Construção Civil', 8)\n",
            "('Madeira e Papel', 6)\n",
            "('Material de Transporte', 3)\n",
            "('Siderurgia e Metalurgia', 7)\n",
            "('Químicos', 2)\n",
            "('Hoteis e Restaurantes', 2)\n",
            "('Telecomunicações', 4)\n",
            "('Automóveis e Motocicletas', 1)\n",
            "('Utilidades Domésticas', 3)\n",
            "('Serviços Diversos', 1)\n"
          ]
        },
        {
          "output_type": "execute_result",
          "data": {
            "text/plain": [
              "<apache_beam.runners.portability.fn_api_runner.fn_runner.RunnerResult at 0x7ff205598390>"
            ]
          },
          "metadata": {},
          "execution_count": 137
        }
      ]
    },
    {
      "cell_type": "markdown",
      "metadata": {
        "id": "CzOtyAgcQYhr"
      },
      "source": [
        "# CONCATENANDO OS Datasets"
      ]
    },
    {
      "cell_type": "markdown",
      "metadata": {
        "id": "E8xPzzx2QeLy"
      },
      "source": [
        "#### 'acoes', 'bitcoin', 'ethereum'"
      ]
    },
    {
      "cell_type": "markdown",
      "metadata": {
        "id": "asTx6WJyrVyE"
      },
      "source": [
        "#### ingestão dos Datasets"
      ]
    },
    {
      "cell_type": "code",
      "metadata": {
        "colab": {
          "base_uri": "https://localhost:8080/"
        },
        "id": "t-E50WexpqsA",
        "outputId": "a00967b0-76bd-4e40-b2d1-f3a3ec851c70"
      },
      "source": [
        "#Dataset Acoes \n",
        "\n",
        "!gsutil cp gs://{bucket_name}/saida/dados_pyspark/acoes_pyspark.csv /content/drive/MyDrive/dados/JOIN/acoes_join.csv"
      ],
      "execution_count": null,
      "outputs": [
        {
          "output_type": "stream",
          "name": "stdout",
          "text": [
            "Copying gs://economia-dados-g2/saida/dados_pyspark/acoes_pyspark.csv...\n",
            "- [1 files][ 39.5 MiB/ 39.5 MiB]                                                \n",
            "Operation completed over 1 objects/39.5 MiB.                                     \n"
          ]
        }
      ]
    },
    {
      "cell_type": "code",
      "metadata": {
        "colab": {
          "base_uri": "https://localhost:8080/"
        },
        "id": "38C2fDTureY5",
        "outputId": "68c3dc48-25bb-4873-ab78-0c3a801e6cba"
      },
      "source": [
        "#Dataset Ethereum\n",
        "\n",
        "!gsutil cp gs://{bucket_name}/saida/dados_pyspark/bitcoin_pyspark.csv /content/drive/MyDrive/dados/JOIN/bitcoin_join.csv"
      ],
      "execution_count": null,
      "outputs": [
        {
          "output_type": "stream",
          "name": "stdout",
          "text": [
            "Copying gs://economia-dados-g2/saida/dados_pyspark/bitcoin_pyspark.csv...\n",
            "/ [1 files][409.8 KiB/409.8 KiB]                                                \n",
            "Operation completed over 1 objects/409.8 KiB.                                    \n"
          ]
        }
      ]
    },
    {
      "cell_type": "code",
      "metadata": {
        "colab": {
          "base_uri": "https://localhost:8080/"
        },
        "id": "kkRQqghYrhm0",
        "outputId": "29bb355d-1a34-4ffe-850d-f0a41fad7852"
      },
      "source": [
        "#Dataset Bitcoin\n",
        "\n",
        "!gsutil cp gs://{bucket_name}/saida/dados_pyspark/ethereum_pyspark.csv /content/drive/MyDrive/dados/JOIN/ethereum_join.csv"
      ],
      "execution_count": null,
      "outputs": [
        {
          "output_type": "stream",
          "name": "stdout",
          "text": [
            "Copying gs://economia-dados-g2/saida/dados_pyspark/ethereum_pyspark.csv...\n",
            "/ [1 files][254.2 KiB/254.2 KiB]                                                \n",
            "Operation completed over 1 objects/254.2 KiB.                                    \n"
          ]
        }
      ]
    },
    {
      "cell_type": "markdown",
      "metadata": {
        "id": "39SbHvmjr5u4"
      },
      "source": [
        "#### abrindo os Datasets"
      ]
    },
    {
      "cell_type": "code",
      "metadata": {
        "id": "Abn-GEMtr28D"
      },
      "source": [
        "df_acoes_join = pd.read_csv(r\"/content/drive/MyDrive/dados/JOIN/acoes_join.csv\", \n",
        "                       sep=',', \n",
        "                       parse_dates=['Data_Referencia'],\n",
        "                       dayfirst=True)"
      ],
      "execution_count": null,
      "outputs": []
    },
    {
      "cell_type": "code",
      "metadata": {
        "id": "Y646LTTUvPFY"
      },
      "source": [
        "#dropando colunas extras dataset acoes_join\n",
        "\n",
        "lista_drop_acoes=['Volume', 'Preco_Ajustado', 'Ret_Preco_Ajustado', 'Ret_Preco_Fechamento', \n",
        "                  'Setor', 'Tipo','Classificacao']\n",
        "df_acoes_join = df_acoes_join.drop(lista_drop_acoes,axis = 1)\n",
        "df_acoes_join.rename(columns={\"Data_Referencia\":\"Data\"},inplace = True)\n"
      ],
      "execution_count": null,
      "outputs": []
    },
    {
      "cell_type": "code",
      "metadata": {
        "id": "6TvqjSb29Bvx"
      },
      "source": [
        "#reorganizando a ordem das colunas\n",
        "\n",
        "cols = list(df_acoes_join.columns.values)\n",
        "df_acoes_join = df_acoes_join[['Empresa','Codigo_Acao','Data','Maior_Preco','Menor_Preco', \n",
        "                               'Preco_Abertura','Preco_Fechamento','Subsetor']]\n",
        "df_acoes_join.head(3)\n"
      ],
      "execution_count": null,
      "outputs": []
    },
    {
      "cell_type": "code",
      "metadata": {
        "id": "2wBFZCidsqxP"
      },
      "source": [
        "df_bitcoin_join = pd.read_csv(r\"/content/drive/MyDrive/dados/JOIN/bitcoin_join.csv\", \n",
        "                       sep=',', \n",
        "                       parse_dates=['Data'],\n",
        "                       dayfirst=True)"
      ],
      "execution_count": null,
      "outputs": []
    },
    {
      "cell_type": "code",
      "metadata": {
        "id": "au8elZV_tRmn"
      },
      "source": [
        "#dropando colunas extras dataset bitcoin_join\n",
        "\n",
        "lista_drop_bitcoin=['Id', 'Volume', 'Capitalizacao_Mercado', 'Valorizou_No_Dia', 'Variacao_Preco']\n",
        "df_bitcoin_join = df_bitcoin_join.drop(lista_drop_bitcoin,axis = 1)\n",
        "\n",
        "df_bitcoin_join.rename(columns={\"Sigla\":\"Codigo_Acao\",\n",
        "                              \"Moeda\":\"Empresa\",\n",
        "                              },inplace = True)\n",
        "   \n",
        "df_bitcoin_join['Subsetor'] = 'Criptomoeda'\n"
      ],
      "execution_count": null,
      "outputs": []
    },
    {
      "cell_type": "code",
      "metadata": {
        "id": "THtxLd0dtBn1"
      },
      "source": [
        "\n",
        "df_ethereum_join = pd.read_csv(r\"/content/drive/MyDrive/dados/JOIN/ethereum_join.csv\", \n",
        "                       sep=',', \n",
        "                       parse_dates=['Data'],\n",
        "                       dayfirst=True)\n"
      ],
      "execution_count": null,
      "outputs": []
    },
    {
      "cell_type": "code",
      "metadata": {
        "id": "-YQudNJGyyCF"
      },
      "source": [
        "#dropando colunas extras dataset ethereum\n",
        "\n",
        "lista_drop_ethereum = ['Id','Volume','Capitalizacao_Mercado']\n",
        "df_ethereum_join = df_ethereum_join.drop(lista_drop_ethereum, axis = 1)\n"
      ],
      "execution_count": null,
      "outputs": []
    },
    {
      "cell_type": "code",
      "metadata": {
        "id": "aEJokh-Wy1ut"
      },
      "source": [
        "df_ethereum_join.rename(columns={\"Sigla\":\"Codigo_Acao\",\n",
        "                              \"Moeda\":\"Empresa\",\n",
        "                              },inplace = True)\n",
        "\n",
        "df_ethereum_join['Subsetor'] = 'Criptomoeda'"
      ],
      "execution_count": null,
      "outputs": []
    },
    {
      "cell_type": "code",
      "metadata": {
        "id": "ws4FnNBi0ZrD",
        "colab": {
          "base_uri": "https://localhost:8080/",
          "height": 202
        },
        "outputId": "8410ad4c-3bca-40ad-c8da-1a4b213b89d1"
      },
      "source": [
        "df_acoes_join.head(5)"
      ],
      "execution_count": null,
      "outputs": [
        {
          "output_type": "execute_result",
          "data": {
            "text/html": [
              "<div>\n",
              "<style scoped>\n",
              "    .dataframe tbody tr th:only-of-type {\n",
              "        vertical-align: middle;\n",
              "    }\n",
              "\n",
              "    .dataframe tbody tr th {\n",
              "        vertical-align: top;\n",
              "    }\n",
              "\n",
              "    .dataframe thead th {\n",
              "        text-align: right;\n",
              "    }\n",
              "</style>\n",
              "<table border=\"1\" class=\"dataframe\">\n",
              "  <thead>\n",
              "    <tr style=\"text-align: right;\">\n",
              "      <th></th>\n",
              "      <th>Empresa</th>\n",
              "      <th>Codigo_Acao</th>\n",
              "      <th>Data</th>\n",
              "      <th>Maior_Preco</th>\n",
              "      <th>Menor_Preco</th>\n",
              "      <th>Preco_Abertura</th>\n",
              "      <th>Preco_Fechamento</th>\n",
              "      <th>Subsetor</th>\n",
              "    </tr>\n",
              "  </thead>\n",
              "  <tbody>\n",
              "    <tr>\n",
              "      <th>0</th>\n",
              "      <td>ALLIAR</td>\n",
              "      <td>AALR3.SA</td>\n",
              "      <td>2018-01-02</td>\n",
              "      <td>15.16</td>\n",
              "      <td>14.70</td>\n",
              "      <td>14.94</td>\n",
              "      <td>14.89</td>\n",
              "      <td>Análises e Diagnósticos</td>\n",
              "    </tr>\n",
              "    <tr>\n",
              "      <th>1</th>\n",
              "      <td>ALLIAR</td>\n",
              "      <td>AALR3.SA</td>\n",
              "      <td>2018-01-03</td>\n",
              "      <td>15.32</td>\n",
              "      <td>14.79</td>\n",
              "      <td>14.89</td>\n",
              "      <td>14.96</td>\n",
              "      <td>Análises e Diagnósticos</td>\n",
              "    </tr>\n",
              "    <tr>\n",
              "      <th>2</th>\n",
              "      <td>ALLIAR</td>\n",
              "      <td>AALR3.SA</td>\n",
              "      <td>2018-01-04</td>\n",
              "      <td>15.16</td>\n",
              "      <td>14.81</td>\n",
              "      <td>15.00</td>\n",
              "      <td>15.09</td>\n",
              "      <td>Análises e Diagnósticos</td>\n",
              "    </tr>\n",
              "    <tr>\n",
              "      <th>3</th>\n",
              "      <td>ALLIAR</td>\n",
              "      <td>AALR3.SA</td>\n",
              "      <td>2018-01-05</td>\n",
              "      <td>15.17</td>\n",
              "      <td>14.95</td>\n",
              "      <td>15.05</td>\n",
              "      <td>15.05</td>\n",
              "      <td>Análises e Diagnósticos</td>\n",
              "    </tr>\n",
              "    <tr>\n",
              "      <th>4</th>\n",
              "      <td>ALLIAR</td>\n",
              "      <td>AALR3.SA</td>\n",
              "      <td>2018-01-08</td>\n",
              "      <td>15.10</td>\n",
              "      <td>14.62</td>\n",
              "      <td>15.05</td>\n",
              "      <td>14.79</td>\n",
              "      <td>Análises e Diagnósticos</td>\n",
              "    </tr>\n",
              "  </tbody>\n",
              "</table>\n",
              "</div>"
            ],
            "text/plain": [
              "  Empresa Codigo_Acao  ... Preco_Fechamento                 Subsetor\n",
              "0  ALLIAR    AALR3.SA  ...            14.89  Análises e Diagnósticos\n",
              "1  ALLIAR    AALR3.SA  ...            14.96  Análises e Diagnósticos\n",
              "2  ALLIAR    AALR3.SA  ...            15.09  Análises e Diagnósticos\n",
              "3  ALLIAR    AALR3.SA  ...            15.05  Análises e Diagnósticos\n",
              "4  ALLIAR    AALR3.SA  ...            14.79  Análises e Diagnósticos\n",
              "\n",
              "[5 rows x 8 columns]"
            ]
          },
          "metadata": {},
          "execution_count": 190
        }
      ]
    },
    {
      "cell_type": "code",
      "metadata": {
        "colab": {
          "base_uri": "https://localhost:8080/",
          "height": 202
        },
        "id": "rlYc5zPk29fC",
        "outputId": "8fc9ebfa-0b8d-4bc3-c011-8ae3a38ebbba"
      },
      "source": [
        "\n",
        "df_bitcoin_join.head(5)"
      ],
      "execution_count": null,
      "outputs": [
        {
          "output_type": "execute_result",
          "data": {
            "text/html": [
              "<div>\n",
              "<style scoped>\n",
              "    .dataframe tbody tr th:only-of-type {\n",
              "        vertical-align: middle;\n",
              "    }\n",
              "\n",
              "    .dataframe tbody tr th {\n",
              "        vertical-align: top;\n",
              "    }\n",
              "\n",
              "    .dataframe thead th {\n",
              "        text-align: right;\n",
              "    }\n",
              "</style>\n",
              "<table border=\"1\" class=\"dataframe\">\n",
              "  <thead>\n",
              "    <tr style=\"text-align: right;\">\n",
              "      <th></th>\n",
              "      <th>Empresa</th>\n",
              "      <th>Codigo_Acao</th>\n",
              "      <th>Data</th>\n",
              "      <th>Maior_Preco</th>\n",
              "      <th>Menor_Preco</th>\n",
              "      <th>Preco_Abertura</th>\n",
              "      <th>Preco_Fechamento</th>\n",
              "      <th>Subsetor</th>\n",
              "    </tr>\n",
              "  </thead>\n",
              "  <tbody>\n",
              "    <tr>\n",
              "      <th>0</th>\n",
              "      <td>Bitcoin</td>\n",
              "      <td>BTC</td>\n",
              "      <td>2013-04-29</td>\n",
              "      <td>147.488007</td>\n",
              "      <td>134.000000</td>\n",
              "      <td>134.444000</td>\n",
              "      <td>144.539993</td>\n",
              "      <td>Criptomoeda</td>\n",
              "    </tr>\n",
              "    <tr>\n",
              "      <th>1</th>\n",
              "      <td>Bitcoin</td>\n",
              "      <td>BTC</td>\n",
              "      <td>2013-04-30</td>\n",
              "      <td>146.929993</td>\n",
              "      <td>134.050003</td>\n",
              "      <td>144.000000</td>\n",
              "      <td>139.000000</td>\n",
              "      <td>Criptomoeda</td>\n",
              "    </tr>\n",
              "    <tr>\n",
              "      <th>2</th>\n",
              "      <td>Bitcoin</td>\n",
              "      <td>BTC</td>\n",
              "      <td>2013-05-01</td>\n",
              "      <td>139.889999</td>\n",
              "      <td>107.720001</td>\n",
              "      <td>139.000000</td>\n",
              "      <td>116.989998</td>\n",
              "      <td>Criptomoeda</td>\n",
              "    </tr>\n",
              "    <tr>\n",
              "      <th>3</th>\n",
              "      <td>Bitcoin</td>\n",
              "      <td>BTC</td>\n",
              "      <td>2013-05-02</td>\n",
              "      <td>125.599998</td>\n",
              "      <td>92.281898</td>\n",
              "      <td>116.379997</td>\n",
              "      <td>105.209999</td>\n",
              "      <td>Criptomoeda</td>\n",
              "    </tr>\n",
              "    <tr>\n",
              "      <th>4</th>\n",
              "      <td>Bitcoin</td>\n",
              "      <td>BTC</td>\n",
              "      <td>2013-05-03</td>\n",
              "      <td>108.127998</td>\n",
              "      <td>79.099998</td>\n",
              "      <td>106.250000</td>\n",
              "      <td>97.750000</td>\n",
              "      <td>Criptomoeda</td>\n",
              "    </tr>\n",
              "  </tbody>\n",
              "</table>\n",
              "</div>"
            ],
            "text/plain": [
              "   Empresa Codigo_Acao  ... Preco_Fechamento     Subsetor\n",
              "0  Bitcoin         BTC  ...       144.539993  Criptomoeda\n",
              "1  Bitcoin         BTC  ...       139.000000  Criptomoeda\n",
              "2  Bitcoin         BTC  ...       116.989998  Criptomoeda\n",
              "3  Bitcoin         BTC  ...       105.209999  Criptomoeda\n",
              "4  Bitcoin         BTC  ...        97.750000  Criptomoeda\n",
              "\n",
              "[5 rows x 8 columns]"
            ]
          },
          "metadata": {},
          "execution_count": 191
        }
      ]
    },
    {
      "cell_type": "code",
      "metadata": {
        "colab": {
          "base_uri": "https://localhost:8080/",
          "height": 202
        },
        "id": "WwaZnEkz3Vm1",
        "outputId": "4f2ff949-5722-4e95-a771-e14e51717b75"
      },
      "source": [
        "df_ethereum_join.head(5)"
      ],
      "execution_count": null,
      "outputs": [
        {
          "output_type": "execute_result",
          "data": {
            "text/html": [
              "<div>\n",
              "<style scoped>\n",
              "    .dataframe tbody tr th:only-of-type {\n",
              "        vertical-align: middle;\n",
              "    }\n",
              "\n",
              "    .dataframe tbody tr th {\n",
              "        vertical-align: top;\n",
              "    }\n",
              "\n",
              "    .dataframe thead th {\n",
              "        text-align: right;\n",
              "    }\n",
              "</style>\n",
              "<table border=\"1\" class=\"dataframe\">\n",
              "  <thead>\n",
              "    <tr style=\"text-align: right;\">\n",
              "      <th></th>\n",
              "      <th>Empresa</th>\n",
              "      <th>Codigo_Acao</th>\n",
              "      <th>Data</th>\n",
              "      <th>Maior_Preco</th>\n",
              "      <th>Menor_Preco</th>\n",
              "      <th>Preco_Abertura</th>\n",
              "      <th>Preco_Fechamento</th>\n",
              "      <th>Subsetor</th>\n",
              "    </tr>\n",
              "  </thead>\n",
              "  <tbody>\n",
              "    <tr>\n",
              "      <th>0</th>\n",
              "      <td>Ethereum</td>\n",
              "      <td>ETH</td>\n",
              "      <td>2015-08-08</td>\n",
              "      <td>2.798810</td>\n",
              "      <td>0.714725</td>\n",
              "      <td>2.793760</td>\n",
              "      <td>0.753325</td>\n",
              "      <td>Criptomoeda</td>\n",
              "    </tr>\n",
              "    <tr>\n",
              "      <th>1</th>\n",
              "      <td>Ethereum</td>\n",
              "      <td>ETH</td>\n",
              "      <td>2015-08-09</td>\n",
              "      <td>0.879810</td>\n",
              "      <td>0.629191</td>\n",
              "      <td>0.706136</td>\n",
              "      <td>0.701897</td>\n",
              "      <td>Criptomoeda</td>\n",
              "    </tr>\n",
              "    <tr>\n",
              "      <th>2</th>\n",
              "      <td>Ethereum</td>\n",
              "      <td>ETH</td>\n",
              "      <td>2015-08-10</td>\n",
              "      <td>0.729854</td>\n",
              "      <td>0.636546</td>\n",
              "      <td>0.713989</td>\n",
              "      <td>0.708448</td>\n",
              "      <td>Criptomoeda</td>\n",
              "    </tr>\n",
              "    <tr>\n",
              "      <th>3</th>\n",
              "      <td>Ethereum</td>\n",
              "      <td>ETH</td>\n",
              "      <td>2015-08-11</td>\n",
              "      <td>1.131410</td>\n",
              "      <td>0.663235</td>\n",
              "      <td>0.708087</td>\n",
              "      <td>1.067860</td>\n",
              "      <td>Criptomoeda</td>\n",
              "    </tr>\n",
              "    <tr>\n",
              "      <th>4</th>\n",
              "      <td>Ethereum</td>\n",
              "      <td>ETH</td>\n",
              "      <td>2015-08-12</td>\n",
              "      <td>1.289940</td>\n",
              "      <td>0.883608</td>\n",
              "      <td>1.058750</td>\n",
              "      <td>1.217440</td>\n",
              "      <td>Criptomoeda</td>\n",
              "    </tr>\n",
              "  </tbody>\n",
              "</table>\n",
              "</div>"
            ],
            "text/plain": [
              "    Empresa Codigo_Acao  ... Preco_Fechamento     Subsetor\n",
              "0  Ethereum         ETH  ...         0.753325  Criptomoeda\n",
              "1  Ethereum         ETH  ...         0.701897  Criptomoeda\n",
              "2  Ethereum         ETH  ...         0.708448  Criptomoeda\n",
              "3  Ethereum         ETH  ...         1.067860  Criptomoeda\n",
              "4  Ethereum         ETH  ...         1.217440  Criptomoeda\n",
              "\n",
              "[5 rows x 8 columns]"
            ]
          },
          "metadata": {},
          "execution_count": 192
        }
      ]
    },
    {
      "cell_type": "code",
      "metadata": {
        "id": "s3DRgyvS3aFY"
      },
      "source": [
        ""
      ],
      "execution_count": null,
      "outputs": []
    },
    {
      "cell_type": "markdown",
      "metadata": {
        "id": "wV3bN8V2AgGt"
      },
      "source": [
        "### DATASET FINAL "
      ]
    },
    {
      "cell_type": "code",
      "metadata": {
        "id": "IFysluAlAizg"
      },
      "source": [
        "\n",
        "frames = [df_acoes_join, df_bitcoin_join, df_ethereum_join]\n",
        "df_economia = pd.concat(frames)\n"
      ],
      "execution_count": null,
      "outputs": []
    },
    {
      "cell_type": "code",
      "metadata": {
        "colab": {
          "base_uri": "https://localhost:8080/"
        },
        "id": "k5Jt0napCINc",
        "outputId": "29c8eb8f-fdab-40df-8145-cdeb5914f672"
      },
      "source": [
        "df_economia.dtypes"
      ],
      "execution_count": null,
      "outputs": [
        {
          "output_type": "execute_result",
          "data": {
            "text/plain": [
              "Empresa                     object\n",
              "Codigo_Acao                 object\n",
              "Data                datetime64[ns]\n",
              "Maior_Preco                float64\n",
              "Menor_Preco                float64\n",
              "Preco_Abertura             float64\n",
              "Preco_Fechamento           float64\n",
              "Subsetor                    object\n",
              "dtype: object"
            ]
          },
          "metadata": {},
          "execution_count": 201
        }
      ]
    },
    {
      "cell_type": "code",
      "metadata": {
        "colab": {
          "base_uri": "https://localhost:8080/"
        },
        "id": "LPipuMWWEghb",
        "outputId": "61ee9ba0-55be-46ed-daf0-1dd877b10548"
      },
      "source": [
        "df_economia.count()"
      ],
      "execution_count": null,
      "outputs": [
        {
          "output_type": "execute_result",
          "data": {
            "text/plain": [
              "Empresa             304012\n",
              "Codigo_Acao         304012\n",
              "Data                304012\n",
              "Maior_Preco         304012\n",
              "Menor_Preco         304012\n",
              "Preco_Abertura      304012\n",
              "Preco_Fechamento    304012\n",
              "Subsetor            304012\n",
              "dtype: int64"
            ]
          },
          "metadata": {},
          "execution_count": 204
        }
      ]
    },
    {
      "cell_type": "code",
      "metadata": {
        "id": "AV4oz8hCEnWY"
      },
      "source": [
        "#VALIDAÇÃO COM PANDERA \n",
        "\n",
        "schema_df = {\n",
        "'Empresa':pa.Column(pa.String),\n",
        "'Codigo_Acao':pa.Column(pa.String),\n",
        "'Data':pa.Column(pa.DateTime),\n",
        "'Maior_Preco':pa.Column(pa.Float),                     \n",
        "'Menor_Preco':pa.Column(pa.Float),\n",
        "'Preco_Abertura':pa.Column(pa.Float),                                  \n",
        "'Preco_Fechamento':pa.Column(pa.Float),                \n",
        "'Subsetor':pa.Column(pa.String)                                          \n",
        "}\n"
      ],
      "execution_count": null,
      "outputs": []
    },
    {
      "cell_type": "code",
      "metadata": {
        "colab": {
          "base_uri": "https://localhost:8080/",
          "height": 414
        },
        "id": "fKxoS1zkFWR5",
        "outputId": "a4e39d9f-e97a-4df8-a49c-9cd410150821"
      },
      "source": [
        "schema = pa.DataFrameSchema(columns=schema_df)\n",
        "schema.validate(df_economia)"
      ],
      "execution_count": null,
      "outputs": [
        {
          "output_type": "execute_result",
          "data": {
            "text/html": [
              "<div>\n",
              "<style scoped>\n",
              "    .dataframe tbody tr th:only-of-type {\n",
              "        vertical-align: middle;\n",
              "    }\n",
              "\n",
              "    .dataframe tbody tr th {\n",
              "        vertical-align: top;\n",
              "    }\n",
              "\n",
              "    .dataframe thead th {\n",
              "        text-align: right;\n",
              "    }\n",
              "</style>\n",
              "<table border=\"1\" class=\"dataframe\">\n",
              "  <thead>\n",
              "    <tr style=\"text-align: right;\">\n",
              "      <th></th>\n",
              "      <th>Empresa</th>\n",
              "      <th>Codigo_Acao</th>\n",
              "      <th>Data</th>\n",
              "      <th>Maior_Preco</th>\n",
              "      <th>Menor_Preco</th>\n",
              "      <th>Preco_Abertura</th>\n",
              "      <th>Preco_Fechamento</th>\n",
              "      <th>Subsetor</th>\n",
              "    </tr>\n",
              "  </thead>\n",
              "  <tbody>\n",
              "    <tr>\n",
              "      <th>0</th>\n",
              "      <td>ALLIAR</td>\n",
              "      <td>AALR3.SA</td>\n",
              "      <td>2018-01-02</td>\n",
              "      <td>15.160000</td>\n",
              "      <td>14.700000</td>\n",
              "      <td>14.940000</td>\n",
              "      <td>14.890000</td>\n",
              "      <td>Análises e Diagnósticos</td>\n",
              "    </tr>\n",
              "    <tr>\n",
              "      <th>1</th>\n",
              "      <td>ALLIAR</td>\n",
              "      <td>AALR3.SA</td>\n",
              "      <td>2018-01-03</td>\n",
              "      <td>15.320000</td>\n",
              "      <td>14.790000</td>\n",
              "      <td>14.890000</td>\n",
              "      <td>14.960000</td>\n",
              "      <td>Análises e Diagnósticos</td>\n",
              "    </tr>\n",
              "    <tr>\n",
              "      <th>2</th>\n",
              "      <td>ALLIAR</td>\n",
              "      <td>AALR3.SA</td>\n",
              "      <td>2018-01-04</td>\n",
              "      <td>15.160000</td>\n",
              "      <td>14.810000</td>\n",
              "      <td>15.000000</td>\n",
              "      <td>15.090000</td>\n",
              "      <td>Análises e Diagnósticos</td>\n",
              "    </tr>\n",
              "    <tr>\n",
              "      <th>3</th>\n",
              "      <td>ALLIAR</td>\n",
              "      <td>AALR3.SA</td>\n",
              "      <td>2018-01-05</td>\n",
              "      <td>15.170000</td>\n",
              "      <td>14.950000</td>\n",
              "      <td>15.050000</td>\n",
              "      <td>15.050000</td>\n",
              "      <td>Análises e Diagnósticos</td>\n",
              "    </tr>\n",
              "    <tr>\n",
              "      <th>4</th>\n",
              "      <td>ALLIAR</td>\n",
              "      <td>AALR3.SA</td>\n",
              "      <td>2018-01-08</td>\n",
              "      <td>15.100000</td>\n",
              "      <td>14.620000</td>\n",
              "      <td>15.050000</td>\n",
              "      <td>14.790000</td>\n",
              "      <td>Análises e Diagnósticos</td>\n",
              "    </tr>\n",
              "    <tr>\n",
              "      <th>...</th>\n",
              "      <td>...</td>\n",
              "      <td>...</td>\n",
              "      <td>...</td>\n",
              "      <td>...</td>\n",
              "      <td>...</td>\n",
              "      <td>...</td>\n",
              "      <td>...</td>\n",
              "      <td>...</td>\n",
              "    </tr>\n",
              "    <tr>\n",
              "      <th>2155</th>\n",
              "      <td>Ethereum</td>\n",
              "      <td>ETH</td>\n",
              "      <td>2021-07-02</td>\n",
              "      <td>2155.596496</td>\n",
              "      <td>2021.824808</td>\n",
              "      <td>2109.892677</td>\n",
              "      <td>2150.040364</td>\n",
              "      <td>Criptomoeda</td>\n",
              "    </tr>\n",
              "    <tr>\n",
              "      <th>2156</th>\n",
              "      <td>Ethereum</td>\n",
              "      <td>ETH</td>\n",
              "      <td>2021-07-03</td>\n",
              "      <td>2237.567155</td>\n",
              "      <td>2117.590013</td>\n",
              "      <td>2150.835025</td>\n",
              "      <td>2226.114282</td>\n",
              "      <td>Criptomoeda</td>\n",
              "    </tr>\n",
              "    <tr>\n",
              "      <th>2157</th>\n",
              "      <td>Ethereum</td>\n",
              "      <td>ETH</td>\n",
              "      <td>2021-07-04</td>\n",
              "      <td>2384.286857</td>\n",
              "      <td>2190.837703</td>\n",
              "      <td>2226.550382</td>\n",
              "      <td>2321.724112</td>\n",
              "      <td>Criptomoeda</td>\n",
              "    </tr>\n",
              "    <tr>\n",
              "      <th>2158</th>\n",
              "      <td>Ethereum</td>\n",
              "      <td>ETH</td>\n",
              "      <td>2021-07-05</td>\n",
              "      <td>2321.922836</td>\n",
              "      <td>2163.041394</td>\n",
              "      <td>2321.922836</td>\n",
              "      <td>2198.582464</td>\n",
              "      <td>Criptomoeda</td>\n",
              "    </tr>\n",
              "    <tr>\n",
              "      <th>2159</th>\n",
              "      <td>Ethereum</td>\n",
              "      <td>ETH</td>\n",
              "      <td>2021-07-06</td>\n",
              "      <td>2346.294874</td>\n",
              "      <td>2197.919385</td>\n",
              "      <td>2197.919385</td>\n",
              "      <td>2324.679449</td>\n",
              "      <td>Criptomoeda</td>\n",
              "    </tr>\n",
              "  </tbody>\n",
              "</table>\n",
              "<p>304012 rows × 8 columns</p>\n",
              "</div>"
            ],
            "text/plain": [
              "       Empresa Codigo_Acao  ... Preco_Fechamento                 Subsetor\n",
              "0       ALLIAR    AALR3.SA  ...        14.890000  Análises e Diagnósticos\n",
              "1       ALLIAR    AALR3.SA  ...        14.960000  Análises e Diagnósticos\n",
              "2       ALLIAR    AALR3.SA  ...        15.090000  Análises e Diagnósticos\n",
              "3       ALLIAR    AALR3.SA  ...        15.050000  Análises e Diagnósticos\n",
              "4       ALLIAR    AALR3.SA  ...        14.790000  Análises e Diagnósticos\n",
              "...        ...         ...  ...              ...                      ...\n",
              "2155  Ethereum         ETH  ...      2150.040364              Criptomoeda\n",
              "2156  Ethereum         ETH  ...      2226.114282              Criptomoeda\n",
              "2157  Ethereum         ETH  ...      2321.724112              Criptomoeda\n",
              "2158  Ethereum         ETH  ...      2198.582464              Criptomoeda\n",
              "2159  Ethereum         ETH  ...      2324.679449              Criptomoeda\n",
              "\n",
              "[304012 rows x 8 columns]"
            ]
          },
          "metadata": {},
          "execution_count": 206
        }
      ]
    },
    {
      "cell_type": "code",
      "metadata": {
        "colab": {
          "base_uri": "https://localhost:8080/"
        },
        "id": "v7gNM992CKxB",
        "outputId": "9b37692a-4741-4073-e051-5949ceff807f"
      },
      "source": [
        "df_economia.isna().sum()"
      ],
      "execution_count": null,
      "outputs": [
        {
          "output_type": "execute_result",
          "data": {
            "text/plain": [
              "Empresa             0\n",
              "Codigo_Acao         0\n",
              "Data                0\n",
              "Maior_Preco         0\n",
              "Menor_Preco         0\n",
              "Preco_Abertura      0\n",
              "Preco_Fechamento    0\n",
              "Subsetor            0\n",
              "dtype: int64"
            ]
          },
          "metadata": {},
          "execution_count": 203
        }
      ]
    },
    {
      "cell_type": "markdown",
      "metadata": {
        "id": "xF3zyE5bCxGZ"
      },
      "source": [
        "#### LOAD DATA FINAL PARA GCP"
      ]
    },
    {
      "cell_type": "code",
      "metadata": {
        "id": "Ao4B8ydXDT34"
      },
      "source": [
        "df_economia.to_csv('/content/drive/MyDrive/dados/PROJETO_FINAL/df_final_economia.csv', index = False)"
      ],
      "execution_count": null,
      "outputs": []
    },
    {
      "cell_type": "code",
      "metadata": {
        "colab": {
          "base_uri": "https://localhost:8080/"
        },
        "id": "t7dCQjQFCQAo",
        "outputId": "72a07f12-80d0-4153-89b6-e5aac862667a"
      },
      "source": [
        "#load para a pasta SAIDA \n",
        "\n",
        "!gsutil cp /content/drive/MyDrive/dados/PROJETO_FINAL/df_final_economia.csv \n",
        "gs://{bucket_name}/saida/dados_final/df_final_economia.csv\n"
      ],
      "execution_count": null,
      "outputs": [
        {
          "output_type": "stream",
          "name": "stdout",
          "text": [
            "Copying file:///content/drive/MyDrive/dados/PROJETO_FINAL/df_final_economia.csv [Content-Type=text/csv]...\n",
            "-\n",
            "Operation completed over 1 objects/21.1 MiB.                                     \n"
          ]
        }
      ]
    },
    {
      "cell_type": "code",
      "metadata": {
        "id": "yNY5DMgzx3ro"
      },
      "source": [
        "#LOAD para a pasta SAIDA para ser ingerido na PIPELINE com DATAFLOW\n",
        "\n",
        "!gsutil cp /content/drive/MyDrive/dados/PROJETO_FINAL/df_final_economia.csv \n",
        "gs://{bucket_name}/entrada/df_economia.csv\n",
        "\n"
      ],
      "execution_count": null,
      "outputs": []
    },
    {
      "cell_type": "code",
      "metadata": {
        "id": "i92itkz80d69"
      },
      "source": [
        ""
      ],
      "execution_count": null,
      "outputs": []
    },
    {
      "cell_type": "code",
      "metadata": {
        "id": "Qz_yC2050eMS"
      },
      "source": [
        ""
      ],
      "execution_count": null,
      "outputs": []
    }
  ]
}